{
 "cells": [
  {
   "cell_type": "code",
   "execution_count": 1,
   "metadata": {
    "colab": {
     "base_uri": "https://localhost:8080/"
    },
    "collapsed": true,
    "id": "kS_rQw9Uhgtv",
    "outputId": "6e6363d2-d299-4e2f-a529-89684dac6d50"
   },
   "outputs": [
    {
     "name": "stdout",
     "output_type": "stream",
     "text": [
      "Collecting deepface\n",
      "  Downloading deepface-0.0.93-py3-none-any.whl.metadata (30 kB)\n",
      "Requirement already satisfied: pandas in /usr/local/lib/python3.10/dist-packages (2.2.2)\n",
      "Requirement already satisfied: opencv-python-headless in /usr/local/lib/python3.10/dist-packages (4.10.0.84)\n",
      "Requirement already satisfied: requests>=2.27.1 in /usr/local/lib/python3.10/dist-packages (from deepface) (2.32.3)\n",
      "Requirement already satisfied: numpy>=1.14.0 in /usr/local/lib/python3.10/dist-packages (from deepface) (1.26.4)\n",
      "Requirement already satisfied: gdown>=3.10.1 in /usr/local/lib/python3.10/dist-packages (from deepface) (5.2.0)\n",
      "Requirement already satisfied: tqdm>=4.30.0 in /usr/local/lib/python3.10/dist-packages (from deepface) (4.66.6)\n",
      "Requirement already satisfied: Pillow>=5.2.0 in /usr/local/lib/python3.10/dist-packages (from deepface) (11.0.0)\n",
      "Requirement already satisfied: opencv-python>=4.5.5.64 in /usr/local/lib/python3.10/dist-packages (from deepface) (4.10.0.84)\n",
      "Requirement already satisfied: tensorflow>=1.9.0 in /usr/local/lib/python3.10/dist-packages (from deepface) (2.17.1)\n",
      "Requirement already satisfied: keras>=2.2.0 in /usr/local/lib/python3.10/dist-packages (from deepface) (3.5.0)\n",
      "Requirement already satisfied: Flask>=1.1.2 in /usr/local/lib/python3.10/dist-packages (from deepface) (3.0.3)\n",
      "Collecting flask-cors>=4.0.1 (from deepface)\n",
      "  Downloading Flask_Cors-5.0.0-py2.py3-none-any.whl.metadata (5.5 kB)\n",
      "Collecting mtcnn>=0.1.0 (from deepface)\n",
      "  Downloading mtcnn-1.0.0-py3-none-any.whl.metadata (5.8 kB)\n",
      "Collecting retina-face>=0.0.1 (from deepface)\n",
      "  Downloading retina_face-0.0.17-py3-none-any.whl.metadata (10 kB)\n",
      "Collecting fire>=0.4.0 (from deepface)\n",
      "  Downloading fire-0.7.0.tar.gz (87 kB)\n",
      "\u001b[2K     \u001b[90m━━━━━━━━━━━━━━━━━━━━━━━━━━━━━━━━━━━━━━━━\u001b[0m \u001b[32m87.2/87.2 kB\u001b[0m \u001b[31m5.5 MB/s\u001b[0m eta \u001b[36m0:00:00\u001b[0m\n",
      "\u001b[?25h  Preparing metadata (setup.py) ... \u001b[?25l\u001b[?25hdone\n",
      "Collecting gunicorn>=20.1.0 (from deepface)\n",
      "  Downloading gunicorn-23.0.0-py3-none-any.whl.metadata (4.4 kB)\n",
      "Requirement already satisfied: python-dateutil>=2.8.2 in /usr/local/lib/python3.10/dist-packages (from pandas) (2.8.2)\n",
      "Requirement already satisfied: pytz>=2020.1 in /usr/local/lib/python3.10/dist-packages (from pandas) (2024.2)\n",
      "Requirement already satisfied: tzdata>=2022.7 in /usr/local/lib/python3.10/dist-packages (from pandas) (2024.2)\n",
      "Requirement already satisfied: termcolor in /usr/local/lib/python3.10/dist-packages (from fire>=0.4.0->deepface) (2.5.0)\n",
      "Requirement already satisfied: Werkzeug>=3.0.0 in /usr/local/lib/python3.10/dist-packages (from Flask>=1.1.2->deepface) (3.1.3)\n",
      "Requirement already satisfied: Jinja2>=3.1.2 in /usr/local/lib/python3.10/dist-packages (from Flask>=1.1.2->deepface) (3.1.4)\n",
      "Requirement already satisfied: itsdangerous>=2.1.2 in /usr/local/lib/python3.10/dist-packages (from Flask>=1.1.2->deepface) (2.2.0)\n",
      "Requirement already satisfied: click>=8.1.3 in /usr/local/lib/python3.10/dist-packages (from Flask>=1.1.2->deepface) (8.1.7)\n",
      "Requirement already satisfied: blinker>=1.6.2 in /usr/local/lib/python3.10/dist-packages (from Flask>=1.1.2->deepface) (1.9.0)\n",
      "Requirement already satisfied: beautifulsoup4 in /usr/local/lib/python3.10/dist-packages (from gdown>=3.10.1->deepface) (4.12.3)\n",
      "Requirement already satisfied: filelock in /usr/local/lib/python3.10/dist-packages (from gdown>=3.10.1->deepface) (3.16.1)\n",
      "Requirement already satisfied: packaging in /usr/local/lib/python3.10/dist-packages (from gunicorn>=20.1.0->deepface) (24.2)\n",
      "Requirement already satisfied: absl-py in /usr/local/lib/python3.10/dist-packages (from keras>=2.2.0->deepface) (1.4.0)\n",
      "Requirement already satisfied: rich in /usr/local/lib/python3.10/dist-packages (from keras>=2.2.0->deepface) (13.9.4)\n",
      "Requirement already satisfied: namex in /usr/local/lib/python3.10/dist-packages (from keras>=2.2.0->deepface) (0.0.8)\n",
      "Requirement already satisfied: h5py in /usr/local/lib/python3.10/dist-packages (from keras>=2.2.0->deepface) (3.12.1)\n",
      "Requirement already satisfied: optree in /usr/local/lib/python3.10/dist-packages (from keras>=2.2.0->deepface) (0.13.1)\n",
      "Requirement already satisfied: ml-dtypes in /usr/local/lib/python3.10/dist-packages (from keras>=2.2.0->deepface) (0.4.1)\n",
      "Requirement already satisfied: joblib>=1.4.2 in /usr/local/lib/python3.10/dist-packages (from mtcnn>=0.1.0->deepface) (1.4.2)\n",
      "Collecting lz4>=4.3.3 (from mtcnn>=0.1.0->deepface)\n",
      "  Downloading lz4-4.3.3-cp310-cp310-manylinux_2_17_x86_64.manylinux2014_x86_64.whl.metadata (3.7 kB)\n",
      "Requirement already satisfied: six>=1.5 in /usr/local/lib/python3.10/dist-packages (from python-dateutil>=2.8.2->pandas) (1.16.0)\n",
      "Requirement already satisfied: charset-normalizer<4,>=2 in /usr/local/lib/python3.10/dist-packages (from requests>=2.27.1->deepface) (3.4.0)\n",
      "Requirement already satisfied: idna<4,>=2.5 in /usr/local/lib/python3.10/dist-packages (from requests>=2.27.1->deepface) (3.10)\n",
      "Requirement already satisfied: urllib3<3,>=1.21.1 in /usr/local/lib/python3.10/dist-packages (from requests>=2.27.1->deepface) (2.2.3)\n",
      "Requirement already satisfied: certifi>=2017.4.17 in /usr/local/lib/python3.10/dist-packages (from requests>=2.27.1->deepface) (2024.8.30)\n",
      "Requirement already satisfied: astunparse>=1.6.0 in /usr/local/lib/python3.10/dist-packages (from tensorflow>=1.9.0->deepface) (1.6.3)\n",
      "Requirement already satisfied: flatbuffers>=24.3.25 in /usr/local/lib/python3.10/dist-packages (from tensorflow>=1.9.0->deepface) (24.3.25)\n",
      "Requirement already satisfied: gast!=0.5.0,!=0.5.1,!=0.5.2,>=0.2.1 in /usr/local/lib/python3.10/dist-packages (from tensorflow>=1.9.0->deepface) (0.6.0)\n",
      "Requirement already satisfied: google-pasta>=0.1.1 in /usr/local/lib/python3.10/dist-packages (from tensorflow>=1.9.0->deepface) (0.2.0)\n",
      "Requirement already satisfied: libclang>=13.0.0 in /usr/local/lib/python3.10/dist-packages (from tensorflow>=1.9.0->deepface) (18.1.1)\n",
      "Requirement already satisfied: opt-einsum>=2.3.2 in /usr/local/lib/python3.10/dist-packages (from tensorflow>=1.9.0->deepface) (3.4.0)\n",
      "Requirement already satisfied: protobuf!=4.21.0,!=4.21.1,!=4.21.2,!=4.21.3,!=4.21.4,!=4.21.5,<5.0.0dev,>=3.20.3 in /usr/local/lib/python3.10/dist-packages (from tensorflow>=1.9.0->deepface) (4.25.5)\n",
      "Requirement already satisfied: setuptools in /usr/local/lib/python3.10/dist-packages (from tensorflow>=1.9.0->deepface) (75.1.0)\n",
      "Requirement already satisfied: typing-extensions>=3.6.6 in /usr/local/lib/python3.10/dist-packages (from tensorflow>=1.9.0->deepface) (4.12.2)\n",
      "Requirement already satisfied: wrapt>=1.11.0 in /usr/local/lib/python3.10/dist-packages (from tensorflow>=1.9.0->deepface) (1.16.0)\n",
      "Requirement already satisfied: grpcio<2.0,>=1.24.3 in /usr/local/lib/python3.10/dist-packages (from tensorflow>=1.9.0->deepface) (1.68.0)\n",
      "Requirement already satisfied: tensorboard<2.18,>=2.17 in /usr/local/lib/python3.10/dist-packages (from tensorflow>=1.9.0->deepface) (2.17.1)\n",
      "Requirement already satisfied: tensorflow-io-gcs-filesystem>=0.23.1 in /usr/local/lib/python3.10/dist-packages (from tensorflow>=1.9.0->deepface) (0.37.1)\n",
      "Requirement already satisfied: wheel<1.0,>=0.23.0 in /usr/local/lib/python3.10/dist-packages (from astunparse>=1.6.0->tensorflow>=1.9.0->deepface) (0.45.0)\n",
      "Requirement already satisfied: MarkupSafe>=2.0 in /usr/local/lib/python3.10/dist-packages (from Jinja2>=3.1.2->Flask>=1.1.2->deepface) (3.0.2)\n",
      "Requirement already satisfied: markdown>=2.6.8 in /usr/local/lib/python3.10/dist-packages (from tensorboard<2.18,>=2.17->tensorflow>=1.9.0->deepface) (3.7)\n",
      "Requirement already satisfied: tensorboard-data-server<0.8.0,>=0.7.0 in /usr/local/lib/python3.10/dist-packages (from tensorboard<2.18,>=2.17->tensorflow>=1.9.0->deepface) (0.7.2)\n",
      "Requirement already satisfied: soupsieve>1.2 in /usr/local/lib/python3.10/dist-packages (from beautifulsoup4->gdown>=3.10.1->deepface) (2.6)\n",
      "Requirement already satisfied: PySocks!=1.5.7,>=1.5.6 in /usr/local/lib/python3.10/dist-packages (from requests[socks]->gdown>=3.10.1->deepface) (1.7.1)\n",
      "Requirement already satisfied: markdown-it-py>=2.2.0 in /usr/local/lib/python3.10/dist-packages (from rich->keras>=2.2.0->deepface) (3.0.0)\n",
      "Requirement already satisfied: pygments<3.0.0,>=2.13.0 in /usr/local/lib/python3.10/dist-packages (from rich->keras>=2.2.0->deepface) (2.18.0)\n",
      "Requirement already satisfied: mdurl~=0.1 in /usr/local/lib/python3.10/dist-packages (from markdown-it-py>=2.2.0->rich->keras>=2.2.0->deepface) (0.1.2)\n",
      "Downloading deepface-0.0.93-py3-none-any.whl (108 kB)\n",
      "\u001b[2K   \u001b[90m━━━━━━━━━━━━━━━━━━━━━━━━━━━━━━━━━━━━━━━━\u001b[0m \u001b[32m108.6/108.6 kB\u001b[0m \u001b[31m10.8 MB/s\u001b[0m eta \u001b[36m0:00:00\u001b[0m\n",
      "\u001b[?25hDownloading Flask_Cors-5.0.0-py2.py3-none-any.whl (14 kB)\n",
      "Downloading gunicorn-23.0.0-py3-none-any.whl (85 kB)\n",
      "\u001b[2K   \u001b[90m━━━━━━━━━━━━━━━━━━━━━━━━━━━━━━━━━━━━━━━━\u001b[0m \u001b[32m85.0/85.0 kB\u001b[0m \u001b[31m8.2 MB/s\u001b[0m eta \u001b[36m0:00:00\u001b[0m\n",
      "\u001b[?25hDownloading mtcnn-1.0.0-py3-none-any.whl (1.9 MB)\n",
      "\u001b[2K   \u001b[90m━━━━━━━━━━━━━━━━━━━━━━━━━━━━━━━━━━━━━━━━\u001b[0m \u001b[32m1.9/1.9 MB\u001b[0m \u001b[31m48.1 MB/s\u001b[0m eta \u001b[36m0:00:00\u001b[0m\n",
      "\u001b[?25hDownloading retina_face-0.0.17-py3-none-any.whl (25 kB)\n",
      "Downloading lz4-4.3.3-cp310-cp310-manylinux_2_17_x86_64.manylinux2014_x86_64.whl (1.3 MB)\n",
      "\u001b[2K   \u001b[90m━━━━━━━━━━━━━━━━━━━━━━━━━━━━━━━━━━━━━━━━\u001b[0m \u001b[32m1.3/1.3 MB\u001b[0m \u001b[31m66.3 MB/s\u001b[0m eta \u001b[36m0:00:00\u001b[0m\n",
      "\u001b[?25hBuilding wheels for collected packages: fire\n",
      "  Building wheel for fire (setup.py) ... \u001b[?25l\u001b[?25hdone\n",
      "  Created wheel for fire: filename=fire-0.7.0-py3-none-any.whl size=114249 sha256=629057e548589d8b7687f358fff0dfc3f380b887cbfd906960f79ae2e0d8843d\n",
      "  Stored in directory: /root/.cache/pip/wheels/19/39/2f/2d3cadc408a8804103f1c34ddd4b9f6a93497b11fa96fe738e\n",
      "Successfully built fire\n",
      "Installing collected packages: lz4, gunicorn, fire, mtcnn, flask-cors, retina-face, deepface\n",
      "Successfully installed deepface-0.0.93 fire-0.7.0 flask-cors-5.0.0 gunicorn-23.0.0 lz4-4.3.3 mtcnn-1.0.0 retina-face-0.0.17\n"
     ]
    }
   ],
   "source": [
    "!pip install deepface pandas opencv-python-headless"
   ]
  },
  {
   "cell_type": "code",
   "execution_count": 2,
   "metadata": {
    "colab": {
     "base_uri": "https://localhost:8080/"
    },
    "id": "U4vkpjveiDUQ",
    "outputId": "139e342c-52db-4ecc-a680-24004f8a7853"
   },
   "outputs": [
    {
     "name": "stdout",
     "output_type": "stream",
     "text": [
      "24-11-29 17:36:29 - Directory /root/.deepface has been created\n",
      "24-11-29 17:36:29 - Directory /root/.deepface/weights has been created\n"
     ]
    }
   ],
   "source": [
    "import pandas as pd\n",
    "import cv2\n",
    "import os\n",
    "import numpy as np\n",
    "from deepface import DeepFace\n",
    "from sklearn.metrics.pairwise import cosine_similarity\n",
    "from PIL import Image\n",
    "from tqdm import tqdm"
   ]
  },
  {
   "cell_type": "code",
   "execution_count": 3,
   "metadata": {
    "id": "2tYyufJTiECw"
   },
   "outputs": [],
   "source": [
    "file_path = '/content/Data.csv'  # Update this with your file path in Colab\n",
    "data = pd.read_csv(file_path)"
   ]
  },
  {
   "cell_type": "code",
   "execution_count": 4,
   "metadata": {
    "colab": {
     "base_uri": "https://localhost:8080/"
    },
    "id": "ahRpjMWLiEMb",
    "outputId": "7704862c-d6e1-4562-9bce-83f01f3ea6bb"
   },
   "outputs": [
    {
     "name": "stdout",
     "output_type": "stream",
     "text": [
      "   Performance                                          Video URL\n",
      "0       1.1060  https://fgimagestorage.blob.core.windows.net/f...\n",
      "1       2.2447  https://fgimagestorage.blob.core.windows.net/f...\n",
      "2       2.0126  https://fgimagestorage.blob.core.windows.net/f...\n",
      "3       1.7708  https://fgimagestorage.blob.core.windows.net/f...\n",
      "4       0.6293  https://fgimagestorage.blob.core.windows.net/f...\n"
     ]
    }
   ],
   "source": [
    "print(data.head())"
   ]
  },
  {
   "cell_type": "code",
   "execution_count": 5,
   "metadata": {
    "id": "Aui_UvCDiEVH"
   },
   "outputs": [],
   "source": [
    "def extract_faces_from_video(video_path, output_folder=\"faces\"):\n",
    "    \"\"\"\n",
    "    Extracts faces from video frames and saves them.\n",
    "    Args:\n",
    "        video_path (str): Path to the video file.\n",
    "        output_folder (str): Folder to save the extracted face images.\n",
    "    Returns:\n",
    "        List of file paths to extracted faces.\n",
    "    \"\"\"\n",
    "    if not os.path.exists(output_folder):\n",
    "        os.makedirs(output_folder)\n",
    "\n",
    "    cap = cv2.VideoCapture(video_path)\n",
    "    face_cascade = cv2.CascadeClassifier(cv2.data.haarcascades + \"haarcascade_frontalface_default.xml\")\n",
    "    frame_count = 0\n",
    "    face_paths = []\n",
    "\n",
    "    while cap.isOpened():\n",
    "        ret, frame = cap.read()\n",
    "        if not ret:\n",
    "            break\n",
    "\n",
    "        gray_frame = cv2.cvtColor(frame, cv2.COLOR_BGR2GRAY)\n",
    "        faces = face_cascade.detectMultiScale(gray_frame, scaleFactor=1.1, minNeighbors=5, minSize=(50, 50))\n",
    "\n",
    "        for i, (x, y, w, h) in enumerate(faces):\n",
    "            face = frame[y:y+h, x:x+w]\n",
    "            face_path = os.path.join(output_folder, f\"frame_{frame_count}_face_{i}.jpg\")\n",
    "            cv2.imwrite(face_path, face)\n",
    "            face_paths.append(face_path)\n",
    "\n",
    "        frame_count += 1\n",
    "        if frame_count > 50:  # Limit to first 50 frames for efficiency\n",
    "            break\n",
    "\n",
    "    cap.release()\n",
    "    return face_paths"
   ]
  },
  {
   "cell_type": "code",
   "execution_count": 6,
   "metadata": {
    "id": "J-PYJ4WLiEd3"
   },
   "outputs": [],
   "source": [
    "# Function to generate embeddings for faces\n",
    "def generate_embeddings(face_paths):\n",
    "    embeddings = {}\n",
    "    for face_path in tqdm(face_paths):\n",
    "        try:\n",
    "            embedding = DeepFace.represent(img_path=face_path, model_name='Facenet')[0]['embedding']\n",
    "            embeddings[face_path] = embedding\n",
    "        except Exception as e:\n",
    "            print(f\"Error processing {face_path}: {e}\")\n",
    "    return embeddings"
   ]
  },
  {
   "cell_type": "code",
   "execution_count": 7,
   "metadata": {
    "colab": {
     "base_uri": "https://localhost:8080/"
    },
    "collapsed": true,
    "id": "fmXP8L3aiEm0",
    "outputId": "5bb813f1-86e0-49ca-e270-97ade1d3cd4e"
   },
   "outputs": [
    {
     "name": "stderr",
     "output_type": "stream",
     "text": [
      "0it [00:00, ?it/s]\n",
      "0it [00:00, ?it/s]\n",
      "  0%|          | 0/2 [00:00<?, ?it/s]"
     ]
    },
    {
     "name": "stdout",
     "output_type": "stream",
     "text": [
      "24-11-29 17:38:14 - facenet_weights.h5 will be downloaded...\n"
     ]
    },
    {
     "name": "stderr",
     "output_type": "stream",
     "text": [
      "Downloading...\n",
      "From: https://github.com/serengil/deepface_models/releases/download/v1.0/facenet_weights.h5\n",
      "To: /root/.deepface/weights/facenet_weights.h5\n",
      "\n",
      "  0%|          | 0.00/92.2M [00:00<?, ?B/s]\u001b[A\n",
      " 12%|█▏        | 11.0M/92.2M [00:00<00:00, 82.6MB/s]\u001b[A\n",
      " 23%|██▎       | 21.5M/92.2M [00:00<00:00, 77.7MB/s]\u001b[A\n",
      " 39%|███▉      | 36.2M/92.2M [00:00<00:00, 104MB/s] \u001b[A\n",
      " 57%|█████▋    | 53.0M/92.2M [00:00<00:00, 103MB/s]\u001b[A\n",
      " 71%|███████   | 65.5M/92.2M [00:00<00:00, 109MB/s]\u001b[A\n",
      "100%|██████████| 92.2M/92.2M [00:00<00:00, 112MB/s]\n",
      "100%|██████████| 2/2 [00:06<00:00,  3.02s/it]"
     ]
    },
    {
     "name": "stdout",
     "output_type": "stream",
     "text": [
      "Error processing faces/frame_39_face_0.jpg: Face could not be detected in faces/frame_39_face_0.jpg.Please confirm that the picture is a face photo or consider to set enforce_detection param to False.\n",
      "Error processing faces/frame_43_face_0.jpg: Face could not be detected in faces/frame_43_face_0.jpg.Please confirm that the picture is a face photo or consider to set enforce_detection param to False.\n"
     ]
    },
    {
     "name": "stderr",
     "output_type": "stream",
     "text": [
      "\n",
      " 88%|████████▊ | 43/49 [00:16<00:01,  3.23it/s]"
     ]
    },
    {
     "name": "stdout",
     "output_type": "stream",
     "text": [
      "Error processing faces/frame_45_face_1.jpg: Face could not be detected in faces/frame_45_face_1.jpg.Please confirm that the picture is a face photo or consider to set enforce_detection param to False.\n"
     ]
    },
    {
     "name": "stderr",
     "output_type": "stream",
     "text": [
      "100%|██████████| 49/49 [00:18<00:00,  2.63it/s]\n",
      "0it [00:00, ?it/s]\n",
      "  0%|          | 0/14 [00:00<?, ?it/s]"
     ]
    },
    {
     "name": "stdout",
     "output_type": "stream",
     "text": [
      "Error processing faces/frame_8_face_0.jpg: Face could not be detected in faces/frame_8_face_0.jpg.Please confirm that the picture is a face photo or consider to set enforce_detection param to False.\n",
      "Error processing faces/frame_9_face_0.jpg: Face could not be detected in faces/frame_9_face_0.jpg.Please confirm that the picture is a face photo or consider to set enforce_detection param to False.\n",
      "Error processing faces/frame_10_face_0.jpg: Face could not be detected in faces/frame_10_face_0.jpg.Please confirm that the picture is a face photo or consider to set enforce_detection param to False.\n",
      "Error processing faces/frame_23_face_0.jpg: Face could not be detected in faces/frame_23_face_0.jpg.Please confirm that the picture is a face photo or consider to set enforce_detection param to False.\n",
      "Error processing faces/frame_24_face_0.jpg: Face could not be detected in faces/frame_24_face_0.jpg.Please confirm that the picture is a face photo or consider to set enforce_detection param to False.\n",
      "Error processing faces/frame_25_face_0.jpg: Face could not be detected in faces/frame_25_face_0.jpg.Please confirm that the picture is a face photo or consider to set enforce_detection param to False.\n"
     ]
    },
    {
     "name": "stderr",
     "output_type": "stream",
     "text": [
      "\r 50%|█████     | 7/14 [00:00<00:00, 22.90it/s]"
     ]
    },
    {
     "name": "stdout",
     "output_type": "stream",
     "text": [
      "Error processing faces/frame_32_face_0.jpg: Face could not be detected in faces/frame_32_face_0.jpg.Please confirm that the picture is a face photo or consider to set enforce_detection param to False.\n",
      "Error processing faces/frame_32_face_1.jpg: Face could not be detected in faces/frame_32_face_1.jpg.Please confirm that the picture is a face photo or consider to set enforce_detection param to False.\n",
      "Error processing faces/frame_38_face_0.jpg: Face could not be detected in faces/frame_38_face_0.jpg.Please confirm that the picture is a face photo or consider to set enforce_detection param to False.\n"
     ]
    },
    {
     "name": "stderr",
     "output_type": "stream",
     "text": [
      "100%|██████████| 14/14 [00:00<00:00, 23.69it/s]\n"
     ]
    },
    {
     "name": "stdout",
     "output_type": "stream",
     "text": [
      "Error processing faces/frame_45_face_0.jpg: Face could not be detected in faces/frame_45_face_0.jpg.Please confirm that the picture is a face photo or consider to set enforce_detection param to False.\n",
      "Error processing faces/frame_46_face_0.jpg: Face could not be detected in faces/frame_46_face_0.jpg.Please confirm that the picture is a face photo or consider to set enforce_detection param to False.\n",
      "Error processing faces/frame_50_face_0.jpg: Face could not be detected in faces/frame_50_face_0.jpg.Please confirm that the picture is a face photo or consider to set enforce_detection param to False.\n"
     ]
    },
    {
     "name": "stderr",
     "output_type": "stream",
     "text": [
      "\r  0%|          | 0/13 [00:00<?, ?it/s]"
     ]
    },
    {
     "name": "stdout",
     "output_type": "stream",
     "text": [
      "Error processing faces/frame_16_face_0.jpg: Face could not be detected in faces/frame_16_face_0.jpg.Please confirm that the picture is a face photo or consider to set enforce_detection param to False.\n"
     ]
    },
    {
     "name": "stderr",
     "output_type": "stream",
     "text": [
      "100%|██████████| 13/13 [00:03<00:00,  4.26it/s]\n",
      "  0%|          | 0/90 [00:00<?, ?it/s]"
     ]
    },
    {
     "name": "stdout",
     "output_type": "stream",
     "text": [
      "Error processing faces/frame_0_face_0.jpg: Face could not be detected in faces/frame_0_face_0.jpg.Please confirm that the picture is a face photo or consider to set enforce_detection param to False.\n"
     ]
    },
    {
     "name": "stderr",
     "output_type": "stream",
     "text": [
      "  6%|▌         | 5/90 [00:01<00:22,  3.70it/s]"
     ]
    },
    {
     "name": "stdout",
     "output_type": "stream",
     "text": [
      "Error processing faces/frame_4_face_0.jpg: Face could not be detected in faces/frame_4_face_0.jpg.Please confirm that the picture is a face photo or consider to set enforce_detection param to False.\n"
     ]
    },
    {
     "name": "stderr",
     "output_type": "stream",
     "text": [
      " 10%|█         | 9/90 [00:02<00:25,  3.24it/s]"
     ]
    },
    {
     "name": "stdout",
     "output_type": "stream",
     "text": [
      "Error processing faces/frame_7_face_0.jpg: Face could not be detected in faces/frame_7_face_0.jpg.Please confirm that the picture is a face photo or consider to set enforce_detection param to False.\n"
     ]
    },
    {
     "name": "stderr",
     "output_type": "stream",
     "text": [
      " 16%|█▌        | 14/90 [00:03<00:17,  4.39it/s]"
     ]
    },
    {
     "name": "stdout",
     "output_type": "stream",
     "text": [
      "Error processing faces/frame_10_face_1.jpg: Face could not be detected in faces/frame_10_face_1.jpg.Please confirm that the picture is a face photo or consider to set enforce_detection param to False.\n",
      "Error processing faces/frame_11_face_0.jpg: Face could not be detected in faces/frame_11_face_0.jpg.Please confirm that the picture is a face photo or consider to set enforce_detection param to False.\n"
     ]
    },
    {
     "name": "stderr",
     "output_type": "stream",
     "text": [
      " 20%|██        | 18/90 [00:03<00:11,  6.06it/s]"
     ]
    },
    {
     "name": "stdout",
     "output_type": "stream",
     "text": [
      "Error processing faces/frame_13_face_0.jpg: Face could not be detected in faces/frame_13_face_0.jpg.Please confirm that the picture is a face photo or consider to set enforce_detection param to False.\n"
     ]
    },
    {
     "name": "stderr",
     "output_type": "stream",
     "text": [
      " 23%|██▎       | 21/90 [00:04<00:11,  6.07it/s]"
     ]
    },
    {
     "name": "stdout",
     "output_type": "stream",
     "text": [
      "Error processing faces/frame_14_face_2.jpg: Face could not be detected in faces/frame_14_face_2.jpg.Please confirm that the picture is a face photo or consider to set enforce_detection param to False.\n"
     ]
    },
    {
     "name": "stderr",
     "output_type": "stream",
     "text": [
      " 27%|██▋       | 24/90 [00:04<00:11,  5.96it/s]"
     ]
    },
    {
     "name": "stdout",
     "output_type": "stream",
     "text": [
      "Error processing faces/frame_16_face_1.jpg: Face could not be detected in faces/frame_16_face_1.jpg.Please confirm that the picture is a face photo or consider to set enforce_detection param to False.\n",
      "Error processing faces/frame_17_face_0.jpg: Face could not be detected in faces/frame_17_face_0.jpg.Please confirm that the picture is a face photo or consider to set enforce_detection param to False.\n",
      "Error processing faces/frame_18_face_0.jpg: Face could not be detected in faces/frame_18_face_0.jpg.Please confirm that the picture is a face photo or consider to set enforce_detection param to False.\n",
      "Error processing faces/frame_19_face_0.jpg: Face could not be detected in faces/frame_19_face_0.jpg.Please confirm that the picture is a face photo or consider to set enforce_detection param to False.\n",
      "Error processing faces/frame_19_face_1.jpg: Face could not be detected in faces/frame_19_face_1.jpg.Please confirm that the picture is a face photo or consider to set enforce_detection param to False.\n",
      "Error processing faces/frame_19_face_2.jpg: Face could not be detected in faces/frame_19_face_2.jpg.Please confirm that the picture is a face photo or consider to set enforce_detection param to False.\n",
      "Error processing faces/frame_19_face_3.jpg: Face could not be detected in faces/frame_19_face_3.jpg.Please confirm that the picture is a face photo or consider to set enforce_detection param to False.\n",
      "Error processing faces/frame_19_face_4.jpg: Face could not be detected in faces/frame_19_face_4.jpg.Please confirm that the picture is a face photo or consider to set enforce_detection param to False.\n",
      "Error processing faces/frame_20_face_0.jpg: Face could not be detected in faces/frame_20_face_0.jpg.Please confirm that the picture is a face photo or consider to set enforce_detection param to False.\n",
      "Error processing faces/frame_20_face_1.jpg: Face could not be detected in faces/frame_20_face_1.jpg.Please confirm that the picture is a face photo or consider to set enforce_detection param to False.\n",
      "Error processing faces/frame_20_face_2.jpg: Face could not be detected in faces/frame_20_face_2.jpg.Please confirm that the picture is a face photo or consider to set enforce_detection param to False.\n"
     ]
    },
    {
     "name": "stderr",
     "output_type": "stream",
     "text": [
      " 42%|████▏     | 38/90 [00:05<00:04, 11.87it/s]"
     ]
    },
    {
     "name": "stdout",
     "output_type": "stream",
     "text": [
      "Error processing faces/frame_21_face_2.jpg: Face could not be detected in faces/frame_21_face_2.jpg.Please confirm that the picture is a face photo or consider to set enforce_detection param to False.\n",
      "Error processing faces/frame_21_face_3.jpg: Face could not be detected in faces/frame_21_face_3.jpg.Please confirm that the picture is a face photo or consider to set enforce_detection param to False.\n"
     ]
    },
    {
     "name": "stderr",
     "output_type": "stream",
     "text": [
      " 48%|████▊     | 43/90 [00:06<00:04, 11.13it/s]"
     ]
    },
    {
     "name": "stdout",
     "output_type": "stream",
     "text": [
      "Error processing faces/frame_22_face_2.jpg: Face could not be detected in faces/frame_22_face_2.jpg.Please confirm that the picture is a face photo or consider to set enforce_detection param to False.\n",
      "Error processing faces/frame_22_face_3.jpg: Face could not be detected in faces/frame_22_face_3.jpg.Please confirm that the picture is a face photo or consider to set enforce_detection param to False.\n"
     ]
    },
    {
     "name": "stderr",
     "output_type": "stream",
     "text": [
      " 52%|█████▏    | 47/90 [00:06<00:04,  9.95it/s]"
     ]
    },
    {
     "name": "stdout",
     "output_type": "stream",
     "text": [
      "Error processing faces/frame_23_face_2.jpg: Face could not be detected in faces/frame_23_face_2.jpg.Please confirm that the picture is a face photo or consider to set enforce_detection param to False.\n",
      "Error processing faces/frame_24_face_0.jpg: Face could not be detected in faces/frame_24_face_0.jpg.Please confirm that the picture is a face photo or consider to set enforce_detection param to False.\n"
     ]
    },
    {
     "name": "stderr",
     "output_type": "stream",
     "text": [
      "\r 54%|█████▍    | 49/90 [00:06<00:04,  9.34it/s]"
     ]
    },
    {
     "name": "stdout",
     "output_type": "stream",
     "text": [
      "Error processing faces/frame_24_face_2.jpg: Face could not be detected in faces/frame_24_face_2.jpg.Please confirm that the picture is a face photo or consider to set enforce_detection param to False.\n",
      "Error processing faces/frame_25_face_0.jpg: Face could not be detected in faces/frame_25_face_0.jpg.Please confirm that the picture is a face photo or consider to set enforce_detection param to False.\n",
      "Error processing faces/frame_25_face_1.jpg: Face could not be detected in faces/frame_25_face_1.jpg.Please confirm that the picture is a face photo or consider to set enforce_detection param to False.\n",
      "Error processing faces/frame_26_face_0.jpg: Face could not be detected in faces/frame_26_face_0.jpg.Please confirm that the picture is a face photo or consider to set enforce_detection param to False.\n",
      "Error processing faces/frame_26_face_1.jpg: Face could not be detected in faces/frame_26_face_1.jpg.Please confirm that the picture is a face photo or consider to set enforce_detection param to False.\n"
     ]
    },
    {
     "name": "stderr",
     "output_type": "stream",
     "text": [
      "\r 61%|██████    | 55/90 [00:07<00:02, 13.23it/s]"
     ]
    },
    {
     "name": "stdout",
     "output_type": "stream",
     "text": [
      "Error processing faces/frame_27_face_1.jpg: Face could not be detected in faces/frame_27_face_1.jpg.Please confirm that the picture is a face photo or consider to set enforce_detection param to False.\n"
     ]
    },
    {
     "name": "stderr",
     "output_type": "stream",
     "text": [
      " 66%|██████▌   | 59/90 [00:07<00:02, 10.88it/s]"
     ]
    },
    {
     "name": "stdout",
     "output_type": "stream",
     "text": [
      "Error processing faces/frame_28_face_2.jpg: Face could not be detected in faces/frame_28_face_2.jpg.Please confirm that the picture is a face photo or consider to set enforce_detection param to False.\n",
      "Error processing faces/frame_29_face_0.jpg: Face could not be detected in faces/frame_29_face_0.jpg.Please confirm that the picture is a face photo or consider to set enforce_detection param to False.\n"
     ]
    },
    {
     "name": "stderr",
     "output_type": "stream",
     "text": [
      " 71%|███████   | 64/90 [00:08<00:04,  6.45it/s]"
     ]
    },
    {
     "name": "stdout",
     "output_type": "stream",
     "text": [
      "Error processing faces/frame_32_face_1.jpg: Face could not be detected in faces/frame_32_face_1.jpg.Please confirm that the picture is a face photo or consider to set enforce_detection param to False.\n",
      "Error processing faces/frame_34_face_0.jpg: Face could not be detected in faces/frame_34_face_0.jpg.Please confirm that the picture is a face photo or consider to set enforce_detection param to False.\n",
      "Error processing faces/frame_34_face_1.jpg: Face could not be detected in faces/frame_34_face_1.jpg.Please confirm that the picture is a face photo or consider to set enforce_detection param to False.\n"
     ]
    },
    {
     "name": "stderr",
     "output_type": "stream",
     "text": [
      "\r 76%|███████▌  | 68/90 [00:08<00:02,  9.23it/s]"
     ]
    },
    {
     "name": "stdout",
     "output_type": "stream",
     "text": [
      "Error processing faces/frame_35_face_0.jpg: Face could not be detected in faces/frame_35_face_0.jpg.Please confirm that the picture is a face photo or consider to set enforce_detection param to False.\n",
      "Error processing faces/frame_36_face_0.jpg: Face could not be detected in faces/frame_36_face_0.jpg.Please confirm that the picture is a face photo or consider to set enforce_detection param to False.\n"
     ]
    },
    {
     "name": "stderr",
     "output_type": "stream",
     "text": [
      "\r 79%|███████▉  | 71/90 [00:09<00:01,  9.97it/s]"
     ]
    },
    {
     "name": "stdout",
     "output_type": "stream",
     "text": [
      "Error processing faces/frame_37_face_0.jpg: Face could not be detected in faces/frame_37_face_0.jpg.Please confirm that the picture is a face photo or consider to set enforce_detection param to False.\n"
     ]
    },
    {
     "name": "stderr",
     "output_type": "stream",
     "text": [
      "\r 81%|████████  | 73/90 [00:09<00:01,  9.44it/s]"
     ]
    },
    {
     "name": "stdout",
     "output_type": "stream",
     "text": [
      "Error processing faces/frame_38_face_0.jpg: Face could not be detected in faces/frame_38_face_0.jpg.Please confirm that the picture is a face photo or consider to set enforce_detection param to False.\n"
     ]
    },
    {
     "name": "stderr",
     "output_type": "stream",
     "text": [
      "\r 83%|████████▎ | 75/90 [00:09<00:01,  8.94it/s]"
     ]
    },
    {
     "name": "stdout",
     "output_type": "stream",
     "text": [
      "Error processing faces/frame_39_face_0.jpg: Face could not be detected in faces/frame_39_face_0.jpg.Please confirm that the picture is a face photo or consider to set enforce_detection param to False.\n"
     ]
    },
    {
     "name": "stderr",
     "output_type": "stream",
     "text": [
      "\r 86%|████████▌ | 77/90 [00:09<00:01,  8.69it/s]"
     ]
    },
    {
     "name": "stdout",
     "output_type": "stream",
     "text": [
      "Error processing faces/frame_40_face_0.jpg: Face could not be detected in faces/frame_40_face_0.jpg.Please confirm that the picture is a face photo or consider to set enforce_detection param to False.\n",
      "Error processing faces/frame_40_face_1.jpg: Face could not be detected in faces/frame_40_face_1.jpg.Please confirm that the picture is a face photo or consider to set enforce_detection param to False.\n",
      "Error processing faces/frame_41_face_0.jpg: Face could not be detected in faces/frame_41_face_0.jpg.Please confirm that the picture is a face photo or consider to set enforce_detection param to False.\n",
      "Error processing faces/frame_43_face_0.jpg: Face could not be detected in faces/frame_43_face_0.jpg.Please confirm that the picture is a face photo or consider to set enforce_detection param to False.\n"
     ]
    },
    {
     "name": "stderr",
     "output_type": "stream",
     "text": [
      " 93%|█████████▎| 84/90 [00:10<00:00, 10.90it/s]"
     ]
    },
    {
     "name": "stdout",
     "output_type": "stream",
     "text": [
      "Error processing faces/frame_45_face_1.jpg: Face could not be detected in faces/frame_45_face_1.jpg.Please confirm that the picture is a face photo or consider to set enforce_detection param to False.\n",
      "Error processing faces/frame_47_face_0.jpg: Face could not be detected in faces/frame_47_face_0.jpg.Please confirm that the picture is a face photo or consider to set enforce_detection param to False.\n",
      "Error processing faces/frame_48_face_0.jpg: Face could not be detected in faces/frame_48_face_0.jpg.Please confirm that the picture is a face photo or consider to set enforce_detection param to False.\n",
      "Error processing faces/frame_48_face_1.jpg: Face could not be detected in faces/frame_48_face_1.jpg.Please confirm that the picture is a face photo or consider to set enforce_detection param to False.\n"
     ]
    },
    {
     "name": "stderr",
     "output_type": "stream",
     "text": [
      "100%|██████████| 90/90 [00:10<00:00,  8.54it/s]\n"
     ]
    },
    {
     "name": "stdout",
     "output_type": "stream",
     "text": [
      "Error processing faces/frame_49_face_1.jpg: Face could not be detected in faces/frame_49_face_1.jpg.Please confirm that the picture is a face photo or consider to set enforce_detection param to False.\n",
      "Error processing faces/frame_50_face_0.jpg: Face could not be detected in faces/frame_50_face_0.jpg.Please confirm that the picture is a face photo or consider to set enforce_detection param to False.\n"
     ]
    },
    {
     "name": "stderr",
     "output_type": "stream",
     "text": [
      "0it [00:00, ?it/s]\n",
      "0it [00:00, ?it/s]\n",
      "0it [00:00, ?it/s]\n",
      "  0%|          | 0/43 [00:00<?, ?it/s]"
     ]
    },
    {
     "name": "stdout",
     "output_type": "stream",
     "text": [
      "Error processing faces/frame_0_face_0.jpg: Face could not be detected in faces/frame_0_face_0.jpg.Please confirm that the picture is a face photo or consider to set enforce_detection param to False.\n"
     ]
    },
    {
     "name": "stderr",
     "output_type": "stream",
     "text": [
      "\r  5%|▍         | 2/43 [00:00<00:05,  7.82it/s]"
     ]
    },
    {
     "name": "stdout",
     "output_type": "stream",
     "text": [
      "Error processing faces/frame_1_face_1.jpg: Face could not be detected in faces/frame_1_face_1.jpg.Please confirm that the picture is a face photo or consider to set enforce_detection param to False.\n"
     ]
    },
    {
     "name": "stderr",
     "output_type": "stream",
     "text": [
      "\r  9%|▉         | 4/43 [00:00<00:04,  7.83it/s]"
     ]
    },
    {
     "name": "stdout",
     "output_type": "stream",
     "text": [
      "Error processing faces/frame_2_face_1.jpg: Face could not be detected in faces/frame_2_face_1.jpg.Please confirm that the picture is a face photo or consider to set enforce_detection param to False.\n",
      "Error processing faces/frame_3_face_0.jpg: Face could not be detected in faces/frame_3_face_0.jpg.Please confirm that the picture is a face photo or consider to set enforce_detection param to False.\n"
     ]
    },
    {
     "name": "stderr",
     "output_type": "stream",
     "text": [
      "\r 16%|█▋        | 7/43 [00:00<00:03,  9.42it/s]"
     ]
    },
    {
     "name": "stdout",
     "output_type": "stream",
     "text": [
      "Error processing faces/frame_4_face_1.jpg: Face could not be detected in faces/frame_4_face_1.jpg.Please confirm that the picture is a face photo or consider to set enforce_detection param to False.\n",
      "Error processing faces/frame_5_face_0.jpg: Face could not be detected in faces/frame_5_face_0.jpg.Please confirm that the picture is a face photo or consider to set enforce_detection param to False.\n"
     ]
    },
    {
     "name": "stderr",
     "output_type": "stream",
     "text": [
      " 33%|███▎      | 14/43 [00:01<00:01, 15.13it/s]"
     ]
    },
    {
     "name": "stdout",
     "output_type": "stream",
     "text": [
      "Error processing faces/frame_6_face_1.jpg: Face could not be detected in faces/frame_6_face_1.jpg.Please confirm that the picture is a face photo or consider to set enforce_detection param to False.\n",
      "Error processing faces/frame_7_face_0.jpg: Face could not be detected in faces/frame_7_face_0.jpg.Please confirm that the picture is a face photo or consider to set enforce_detection param to False.\n",
      "Error processing faces/frame_8_face_0.jpg: Face could not be detected in faces/frame_8_face_0.jpg.Please confirm that the picture is a face photo or consider to set enforce_detection param to False.\n",
      "Error processing faces/frame_9_face_0.jpg: Face could not be detected in faces/frame_9_face_0.jpg.Please confirm that the picture is a face photo or consider to set enforce_detection param to False.\n"
     ]
    },
    {
     "name": "stderr",
     "output_type": "stream",
     "text": [
      "\r 37%|███▋      | 16/43 [00:01<00:02, 12.25it/s]"
     ]
    },
    {
     "name": "stdout",
     "output_type": "stream",
     "text": [
      "Error processing faces/frame_10_face_1.jpg: Face could not be detected in faces/frame_10_face_1.jpg.Please confirm that the picture is a face photo or consider to set enforce_detection param to False.\n"
     ]
    },
    {
     "name": "stderr",
     "output_type": "stream",
     "text": [
      "\r 42%|████▏     | 18/43 [00:01<00:02,  9.95it/s]"
     ]
    },
    {
     "name": "stdout",
     "output_type": "stream",
     "text": [
      "Error processing faces/frame_12_face_0.jpg: Face could not be detected in faces/frame_12_face_0.jpg.Please confirm that the picture is a face photo or consider to set enforce_detection param to False.\n",
      "Error processing faces/frame_13_face_0.jpg: Face could not be detected in faces/frame_13_face_0.jpg.Please confirm that the picture is a face photo or consider to set enforce_detection param to False.\n",
      "Error processing faces/frame_14_face_0.jpg: Face could not be detected in faces/frame_14_face_0.jpg.Please confirm that the picture is a face photo or consider to set enforce_detection param to False.\n"
     ]
    },
    {
     "name": "stderr",
     "output_type": "stream",
     "text": [
      "\r 49%|████▉     | 21/43 [00:02<00:02,  8.87it/s]"
     ]
    },
    {
     "name": "stdout",
     "output_type": "stream",
     "text": [
      "Error processing faces/frame_15_face_1.jpg: Face could not be detected in faces/frame_15_face_1.jpg.Please confirm that the picture is a face photo or consider to set enforce_detection param to False.\n"
     ]
    },
    {
     "name": "stderr",
     "output_type": "stream",
     "text": [
      " 65%|██████▌   | 28/43 [00:03<00:01,  8.30it/s]"
     ]
    },
    {
     "name": "stdout",
     "output_type": "stream",
     "text": [
      "Error processing faces/frame_20_face_1.jpg: Face could not be detected in faces/frame_20_face_1.jpg.Please confirm that the picture is a face photo or consider to set enforce_detection param to False.\n",
      "Error processing faces/frame_22_face_0.jpg: Face could not be detected in faces/frame_22_face_0.jpg.Please confirm that the picture is a face photo or consider to set enforce_detection param to False.\n",
      "Error processing faces/frame_23_face_0.jpg: Face could not be detected in faces/frame_23_face_0.jpg.Please confirm that the picture is a face photo or consider to set enforce_detection param to False.\n",
      "Error processing faces/frame_24_face_0.jpg: Face could not be detected in faces/frame_24_face_0.jpg.Please confirm that the picture is a face photo or consider to set enforce_detection param to False.\n"
     ]
    },
    {
     "name": "stderr",
     "output_type": "stream",
     "text": [
      "100%|██████████| 43/43 [00:06<00:00,  6.33it/s]\n",
      "0it [00:00, ?it/s]\n",
      "0it [00:00, ?it/s]\n",
      "0it [00:00, ?it/s]\n",
      "  0%|          | 0/55 [00:00<?, ?it/s]"
     ]
    },
    {
     "name": "stdout",
     "output_type": "stream",
     "text": [
      "Error processing faces/frame_1_face_0.jpg: Face could not be detected in faces/frame_1_face_0.jpg.Please confirm that the picture is a face photo or consider to set enforce_detection param to False.\n"
     ]
    },
    {
     "name": "stderr",
     "output_type": "stream",
     "text": [
      "\r  4%|▎         | 2/55 [00:00<00:07,  6.63it/s]"
     ]
    },
    {
     "name": "stdout",
     "output_type": "stream",
     "text": [
      "Error processing faces/frame_2_face_0.jpg: Face could not be detected in faces/frame_2_face_0.jpg.Please confirm that the picture is a face photo or consider to set enforce_detection param to False.\n",
      "Error processing faces/frame_3_face_0.jpg: Face could not be detected in faces/frame_3_face_0.jpg.Please confirm that the picture is a face photo or consider to set enforce_detection param to False.\n",
      "Error processing faces/frame_3_face_1.jpg: Face could not be detected in faces/frame_3_face_1.jpg.Please confirm that the picture is a face photo or consider to set enforce_detection param to False.\n",
      "Error processing faces/frame_4_face_0.jpg: Face could not be detected in faces/frame_4_face_0.jpg.Please confirm that the picture is a face photo or consider to set enforce_detection param to False.\n",
      "Error processing faces/frame_5_face_0.jpg: Face could not be detected in faces/frame_5_face_0.jpg.Please confirm that the picture is a face photo or consider to set enforce_detection param to False.\n",
      "Error processing faces/frame_5_face_1.jpg: Face could not be detected in faces/frame_5_face_1.jpg.Please confirm that the picture is a face photo or consider to set enforce_detection param to False.\n"
     ]
    },
    {
     "name": "stderr",
     "output_type": "stream",
     "text": [
      " 20%|██        | 11/55 [00:00<00:04, 10.87it/s]"
     ]
    },
    {
     "name": "stdout",
     "output_type": "stream",
     "text": [
      "Error processing faces/frame_11_face_0.jpg: Face could not be detected in faces/frame_11_face_0.jpg.Please confirm that the picture is a face photo or consider to set enforce_detection param to False.\n"
     ]
    },
    {
     "name": "stderr",
     "output_type": "stream",
     "text": [
      "\r 24%|██▎       | 13/55 [00:01<00:04,  9.01it/s]"
     ]
    },
    {
     "name": "stdout",
     "output_type": "stream",
     "text": [
      "Error processing faces/frame_12_face_0.jpg: Face could not be detected in faces/frame_12_face_0.jpg.Please confirm that the picture is a face photo or consider to set enforce_detection param to False.\n",
      "Error processing faces/frame_13_face_0.jpg: Face could not be detected in faces/frame_13_face_0.jpg.Please confirm that the picture is a face photo or consider to set enforce_detection param to False.\n",
      "Error processing faces/frame_14_face_0.jpg: Face could not be detected in faces/frame_14_face_0.jpg.Please confirm that the picture is a face photo or consider to set enforce_detection param to False.\n",
      "Error processing faces/frame_15_face_0.jpg: Face could not be detected in faces/frame_15_face_0.jpg.Please confirm that the picture is a face photo or consider to set enforce_detection param to False.\n",
      "Error processing faces/frame_16_face_0.jpg: Face could not be detected in faces/frame_16_face_0.jpg.Please confirm that the picture is a face photo or consider to set enforce_detection param to False.\n",
      "Error processing faces/frame_16_face_1.jpg: Face could not be detected in faces/frame_16_face_1.jpg.Please confirm that the picture is a face photo or consider to set enforce_detection param to False.\n",
      "Error processing faces/frame_17_face_0.jpg: Face could not be detected in faces/frame_17_face_0.jpg.Please confirm that the picture is a face photo or consider to set enforce_detection param to False.\n",
      "Error processing faces/frame_17_face_1.jpg: Face could not be detected in faces/frame_17_face_1.jpg.Please confirm that the picture is a face photo or consider to set enforce_detection param to False.\n",
      "Error processing faces/frame_18_face_0.jpg: Face could not be detected in faces/frame_18_face_0.jpg.Please confirm that the picture is a face photo or consider to set enforce_detection param to False.\n"
     ]
    },
    {
     "name": "stderr",
     "output_type": "stream",
     "text": [
      "\r 40%|████      | 22/55 [00:01<00:02, 14.56it/s]"
     ]
    },
    {
     "name": "stdout",
     "output_type": "stream",
     "text": [
      "Error processing faces/frame_19_face_0.jpg: Face could not be detected in faces/frame_19_face_0.jpg.Please confirm that the picture is a face photo or consider to set enforce_detection param to False.\n"
     ]
    },
    {
     "name": "stderr",
     "output_type": "stream",
     "text": [
      "\r 44%|████▎     | 24/55 [00:02<00:02, 11.28it/s]"
     ]
    },
    {
     "name": "stdout",
     "output_type": "stream",
     "text": [
      "Error processing faces/frame_20_face_0.jpg: Face could not be detected in faces/frame_20_face_0.jpg.Please confirm that the picture is a face photo or consider to set enforce_detection param to False.\n"
     ]
    },
    {
     "name": "stderr",
     "output_type": "stream",
     "text": [
      " 51%|█████     | 28/55 [00:02<00:02,  9.86it/s]"
     ]
    },
    {
     "name": "stdout",
     "output_type": "stream",
     "text": [
      "Error processing faces/frame_21_face_0.jpg: Face could not be detected in faces/frame_21_face_0.jpg.Please confirm that the picture is a face photo or consider to set enforce_detection param to False.\n"
     ]
    },
    {
     "name": "stderr",
     "output_type": "stream",
     "text": [
      "\r 53%|█████▎    | 29/55 [00:02<00:03,  8.25it/s]"
     ]
    },
    {
     "name": "stdout",
     "output_type": "stream",
     "text": [
      "Error processing faces/frame_22_face_0.jpg: Face could not be detected in faces/frame_22_face_0.jpg.Please confirm that the picture is a face photo or consider to set enforce_detection param to False.\n"
     ]
    },
    {
     "name": "stderr",
     "output_type": "stream",
     "text": [
      "\r 56%|█████▋    | 31/55 [00:03<00:02,  8.10it/s]"
     ]
    },
    {
     "name": "stdout",
     "output_type": "stream",
     "text": [
      "Error processing faces/frame_23_face_0.jpg: Face could not be detected in faces/frame_23_face_0.jpg.Please confirm that the picture is a face photo or consider to set enforce_detection param to False.\n",
      "Error processing faces/frame_23_face_1.jpg: Face could not be detected in faces/frame_23_face_1.jpg.Please confirm that the picture is a face photo or consider to set enforce_detection param to False.\n"
     ]
    },
    {
     "name": "stderr",
     "output_type": "stream",
     "text": [
      "\r 62%|██████▏   | 34/55 [00:03<00:02,  9.03it/s]"
     ]
    },
    {
     "name": "stdout",
     "output_type": "stream",
     "text": [
      "Error processing faces/frame_24_face_0.jpg: Face could not be detected in faces/frame_24_face_0.jpg.Please confirm that the picture is a face photo or consider to set enforce_detection param to False.\n",
      "Error processing faces/frame_25_face_0.jpg: Face could not be detected in faces/frame_25_face_0.jpg.Please confirm that the picture is a face photo or consider to set enforce_detection param to False.\n",
      "Error processing faces/frame_25_face_1.jpg: Face could not be detected in faces/frame_25_face_1.jpg.Please confirm that the picture is a face photo or consider to set enforce_detection param to False.\n",
      "Error processing faces/frame_26_face_0.jpg: Face could not be detected in faces/frame_26_face_0.jpg.Please confirm that the picture is a face photo or consider to set enforce_detection param to False.\n",
      "Error processing faces/frame_26_face_1.jpg: Face could not be detected in faces/frame_26_face_1.jpg.Please confirm that the picture is a face photo or consider to set enforce_detection param to False.\n",
      "Error processing faces/frame_26_face_2.jpg: Face could not be detected in faces/frame_26_face_2.jpg.Please confirm that the picture is a face photo or consider to set enforce_detection param to False.\n",
      "Error processing faces/frame_27_face_0.jpg: Face could not be detected in faces/frame_27_face_0.jpg.Please confirm that the picture is a face photo or consider to set enforce_detection param to False.\n"
     ]
    },
    {
     "name": "stderr",
     "output_type": "stream",
     "text": [
      "\r 76%|███████▋  | 42/55 [00:03<00:00, 14.54it/s]"
     ]
    },
    {
     "name": "stdout",
     "output_type": "stream",
     "text": [
      "Error processing faces/frame_28_face_0.jpg: Face could not be detected in faces/frame_28_face_0.jpg.Please confirm that the picture is a face photo or consider to set enforce_detection param to False.\n",
      "Error processing faces/frame_29_face_0.jpg: Face could not be detected in faces/frame_29_face_0.jpg.Please confirm that the picture is a face photo or consider to set enforce_detection param to False.\n"
     ]
    },
    {
     "name": "stderr",
     "output_type": "stream",
     "text": [
      "100%|██████████| 55/55 [00:04<00:00, 13.68it/s]\n"
     ]
    },
    {
     "name": "stdout",
     "output_type": "stream",
     "text": [
      "Error processing faces/frame_30_face_0.jpg: Face could not be detected in faces/frame_30_face_0.jpg.Please confirm that the picture is a face photo or consider to set enforce_detection param to False.\n",
      "Error processing faces/frame_30_face_1.jpg: Face could not be detected in faces/frame_30_face_1.jpg.Please confirm that the picture is a face photo or consider to set enforce_detection param to False.\n",
      "Error processing faces/frame_31_face_0.jpg: Face could not be detected in faces/frame_31_face_0.jpg.Please confirm that the picture is a face photo or consider to set enforce_detection param to False.\n",
      "Error processing faces/frame_32_face_0.jpg: Face could not be detected in faces/frame_32_face_0.jpg.Please confirm that the picture is a face photo or consider to set enforce_detection param to False.\n",
      "Error processing faces/frame_32_face_1.jpg: Face could not be detected in faces/frame_32_face_1.jpg.Please confirm that the picture is a face photo or consider to set enforce_detection param to False.\n",
      "Error processing faces/frame_42_face_0.jpg: Face could not be detected in faces/frame_42_face_0.jpg.Please confirm that the picture is a face photo or consider to set enforce_detection param to False.\n",
      "Error processing faces/frame_43_face_0.jpg: Face could not be detected in faces/frame_43_face_0.jpg.Please confirm that the picture is a face photo or consider to set enforce_detection param to False.\n",
      "Error processing faces/frame_44_face_0.jpg: Face could not be detected in faces/frame_44_face_0.jpg.Please confirm that the picture is a face photo or consider to set enforce_detection param to False.\n",
      "Error processing faces/frame_48_face_0.jpg: Face could not be detected in faces/frame_48_face_0.jpg.Please confirm that the picture is a face photo or consider to set enforce_detection param to False.\n",
      "Error processing faces/frame_49_face_0.jpg: Face could not be detected in faces/frame_49_face_0.jpg.Please confirm that the picture is a face photo or consider to set enforce_detection param to False.\n"
     ]
    },
    {
     "name": "stderr",
     "output_type": "stream",
     "text": [
      "0it [00:00, ?it/s]\n",
      "0it [00:00, ?it/s]\n",
      " 20%|██        | 1/5 [00:00<00:00,  4.46it/s]"
     ]
    },
    {
     "name": "stdout",
     "output_type": "stream",
     "text": [
      "Error processing faces/frame_37_face_0.jpg: Face could not be detected in faces/frame_37_face_0.jpg.Please confirm that the picture is a face photo or consider to set enforce_detection param to False.\n"
     ]
    },
    {
     "name": "stderr",
     "output_type": "stream",
     "text": [
      "\r 60%|██████    | 3/5 [00:00<00:00,  5.07it/s]"
     ]
    },
    {
     "name": "stdout",
     "output_type": "stream",
     "text": [
      "Error processing faces/frame_39_face_0.jpg: Face could not be detected in faces/frame_39_face_0.jpg.Please confirm that the picture is a face photo or consider to set enforce_detection param to False.\n"
     ]
    },
    {
     "name": "stderr",
     "output_type": "stream",
     "text": [
      "100%|██████████| 5/5 [00:00<00:00,  5.63it/s]\n",
      "0it [00:00, ?it/s]\n",
      "0it [00:00, ?it/s]\n",
      "0it [00:00, ?it/s]\n",
      "0it [00:00, ?it/s]\n",
      "  0%|          | 0/28 [00:00<?, ?it/s]"
     ]
    },
    {
     "name": "stdout",
     "output_type": "stream",
     "text": [
      "Error processing faces/frame_9_face_0.jpg: Face could not be detected in faces/frame_9_face_0.jpg.Please confirm that the picture is a face photo or consider to set enforce_detection param to False.\n",
      "Error processing faces/frame_9_face_1.jpg: Face could not be detected in faces/frame_9_face_1.jpg.Please confirm that the picture is a face photo or consider to set enforce_detection param to False.\n",
      "Error processing faces/frame_12_face_0.jpg: Face could not be detected in faces/frame_12_face_0.jpg.Please confirm that the picture is a face photo or consider to set enforce_detection param to False.\n",
      "Error processing faces/frame_13_face_0.jpg: Face could not be detected in faces/frame_13_face_0.jpg.Please confirm that the picture is a face photo or consider to set enforce_detection param to False.\n",
      "Error processing faces/frame_13_face_1.jpg: Face could not be detected in faces/frame_13_face_1.jpg.Please confirm that the picture is a face photo or consider to set enforce_detection param to False.\n"
     ]
    },
    {
     "name": "stderr",
     "output_type": "stream",
     "text": [
      "\r 21%|██▏       | 6/28 [00:00<00:00, 23.36it/s]"
     ]
    },
    {
     "name": "stdout",
     "output_type": "stream",
     "text": [
      "Error processing faces/frame_15_face_0.jpg: Face could not be detected in faces/frame_15_face_0.jpg.Please confirm that the picture is a face photo or consider to set enforce_detection param to False.\n",
      "Error processing faces/frame_22_face_0.jpg: Face could not be detected in faces/frame_22_face_0.jpg.Please confirm that the picture is a face photo or consider to set enforce_detection param to False.\n"
     ]
    },
    {
     "name": "stderr",
     "output_type": "stream",
     "text": [
      "\r 32%|███▏      | 9/28 [00:00<00:01, 16.35it/s]"
     ]
    },
    {
     "name": "stdout",
     "output_type": "stream",
     "text": [
      "Error processing faces/frame_24_face_1.jpg: Face could not be detected in faces/frame_24_face_1.jpg.Please confirm that the picture is a face photo or consider to set enforce_detection param to False.\n",
      "Error processing faces/frame_25_face_0.jpg: Face could not be detected in faces/frame_25_face_0.jpg.Please confirm that the picture is a face photo or consider to set enforce_detection param to False.\n",
      "Error processing faces/frame_25_face_1.jpg: Face could not be detected in faces/frame_25_face_1.jpg.Please confirm that the picture is a face photo or consider to set enforce_detection param to False.\n"
     ]
    },
    {
     "name": "stderr",
     "output_type": "stream",
     "text": [
      "\r 46%|████▋     | 13/28 [00:00<00:00, 15.71it/s]"
     ]
    },
    {
     "name": "stdout",
     "output_type": "stream",
     "text": [
      "Error processing faces/frame_27_face_0.jpg: Face could not be detected in faces/frame_27_face_0.jpg.Please confirm that the picture is a face photo or consider to set enforce_detection param to False.\n",
      "Error processing faces/frame_28_face_0.jpg: Face could not be detected in faces/frame_28_face_0.jpg.Please confirm that the picture is a face photo or consider to set enforce_detection param to False.\n",
      "Error processing faces/frame_29_face_0.jpg: Face could not be detected in faces/frame_29_face_0.jpg.Please confirm that the picture is a face photo or consider to set enforce_detection param to False.\n",
      "Error processing faces/frame_30_face_0.jpg: Face could not be detected in faces/frame_30_face_0.jpg.Please confirm that the picture is a face photo or consider to set enforce_detection param to False.\n",
      "Error processing faces/frame_35_face_0.jpg: Face could not be detected in faces/frame_35_face_0.jpg.Please confirm that the picture is a face photo or consider to set enforce_detection param to False.\n",
      "Error processing faces/frame_40_face_0.jpg: Face could not be detected in faces/frame_40_face_0.jpg.Please confirm that the picture is a face photo or consider to set enforce_detection param to False.\n",
      "Error processing faces/frame_41_face_0.jpg: Face could not be detected in faces/frame_41_face_0.jpg.Please confirm that the picture is a face photo or consider to set enforce_detection param to False.\n"
     ]
    },
    {
     "name": "stderr",
     "output_type": "stream",
     "text": [
      "100%|██████████| 28/28 [00:01<00:00, 24.70it/s]\n"
     ]
    },
    {
     "name": "stdout",
     "output_type": "stream",
     "text": [
      "Error processing faces/frame_41_face_2.jpg: Face could not be detected in faces/frame_41_face_2.jpg.Please confirm that the picture is a face photo or consider to set enforce_detection param to False.\n",
      "Error processing faces/frame_42_face_0.jpg: Face could not be detected in faces/frame_42_face_0.jpg.Please confirm that the picture is a face photo or consider to set enforce_detection param to False.\n",
      "Error processing faces/frame_42_face_1.jpg: Face could not be detected in faces/frame_42_face_1.jpg.Please confirm that the picture is a face photo or consider to set enforce_detection param to False.\n",
      "Error processing faces/frame_42_face_2.jpg: Face could not be detected in faces/frame_42_face_2.jpg.Please confirm that the picture is a face photo or consider to set enforce_detection param to False.\n",
      "Error processing faces/frame_43_face_0.jpg: Face could not be detected in faces/frame_43_face_0.jpg.Please confirm that the picture is a face photo or consider to set enforce_detection param to False.\n",
      "Error processing faces/frame_44_face_0.jpg: Face could not be detected in faces/frame_44_face_0.jpg.Please confirm that the picture is a face photo or consider to set enforce_detection param to False.\n",
      "Error processing faces/frame_45_face_0.jpg: Face could not be detected in faces/frame_45_face_0.jpg.Please confirm that the picture is a face photo or consider to set enforce_detection param to False.\n"
     ]
    },
    {
     "name": "stderr",
     "output_type": "stream",
     "text": [
      "100%|██████████| 21/21 [00:00<00:00, 174.04it/s]\n"
     ]
    },
    {
     "name": "stdout",
     "output_type": "stream",
     "text": [
      "Error processing faces/frame_8_face_0.jpg: Face could not be detected in faces/frame_8_face_0.jpg.Please confirm that the picture is a face photo or consider to set enforce_detection param to False.\n",
      "Error processing faces/frame_10_face_0.jpg: Face could not be detected in faces/frame_10_face_0.jpg.Please confirm that the picture is a face photo or consider to set enforce_detection param to False.\n",
      "Error processing faces/frame_12_face_0.jpg: Face could not be detected in faces/frame_12_face_0.jpg.Please confirm that the picture is a face photo or consider to set enforce_detection param to False.\n",
      "Error processing faces/frame_13_face_0.jpg: Face could not be detected in faces/frame_13_face_0.jpg.Please confirm that the picture is a face photo or consider to set enforce_detection param to False.\n",
      "Error processing faces/frame_20_face_0.jpg: Face could not be detected in faces/frame_20_face_0.jpg.Please confirm that the picture is a face photo or consider to set enforce_detection param to False.\n",
      "Error processing faces/frame_34_face_0.jpg: Face could not be detected in faces/frame_34_face_0.jpg.Please confirm that the picture is a face photo or consider to set enforce_detection param to False.\n",
      "Error processing faces/frame_35_face_0.jpg: Face could not be detected in faces/frame_35_face_0.jpg.Please confirm that the picture is a face photo or consider to set enforce_detection param to False.\n",
      "Error processing faces/frame_36_face_0.jpg: Face could not be detected in faces/frame_36_face_0.jpg.Please confirm that the picture is a face photo or consider to set enforce_detection param to False.\n",
      "Error processing faces/frame_37_face_0.jpg: Face could not be detected in faces/frame_37_face_0.jpg.Please confirm that the picture is a face photo or consider to set enforce_detection param to False.\n",
      "Error processing faces/frame_38_face_0.jpg: Face could not be detected in faces/frame_38_face_0.jpg.Please confirm that the picture is a face photo or consider to set enforce_detection param to False.\n",
      "Error processing faces/frame_39_face_0.jpg: Face could not be detected in faces/frame_39_face_0.jpg.Please confirm that the picture is a face photo or consider to set enforce_detection param to False.\n",
      "Error processing faces/frame_40_face_0.jpg: Face could not be detected in faces/frame_40_face_0.jpg.Please confirm that the picture is a face photo or consider to set enforce_detection param to False.\n",
      "Error processing faces/frame_41_face_0.jpg: Face could not be detected in faces/frame_41_face_0.jpg.Please confirm that the picture is a face photo or consider to set enforce_detection param to False.\n",
      "Error processing faces/frame_42_face_0.jpg: Face could not be detected in faces/frame_42_face_0.jpg.Please confirm that the picture is a face photo or consider to set enforce_detection param to False.\n",
      "Error processing faces/frame_44_face_0.jpg: Face could not be detected in faces/frame_44_face_0.jpg.Please confirm that the picture is a face photo or consider to set enforce_detection param to False.\n",
      "Error processing faces/frame_45_face_0.jpg: Face could not be detected in faces/frame_45_face_0.jpg.Please confirm that the picture is a face photo or consider to set enforce_detection param to False.\n",
      "Error processing faces/frame_46_face_0.jpg: Face could not be detected in faces/frame_46_face_0.jpg.Please confirm that the picture is a face photo or consider to set enforce_detection param to False.\n",
      "Error processing faces/frame_47_face_0.jpg: Face could not be detected in faces/frame_47_face_0.jpg.Please confirm that the picture is a face photo or consider to set enforce_detection param to False.\n",
      "Error processing faces/frame_48_face_0.jpg: Face could not be detected in faces/frame_48_face_0.jpg.Please confirm that the picture is a face photo or consider to set enforce_detection param to False.\n",
      "Error processing faces/frame_49_face_0.jpg: Face could not be detected in faces/frame_49_face_0.jpg.Please confirm that the picture is a face photo or consider to set enforce_detection param to False.\n",
      "Error processing faces/frame_50_face_0.jpg: Face could not be detected in faces/frame_50_face_0.jpg.Please confirm that the picture is a face photo or consider to set enforce_detection param to False.\n"
     ]
    },
    {
     "name": "stderr",
     "output_type": "stream",
     "text": [
      "  9%|▉         | 3/33 [00:00<00:06,  4.45it/s]"
     ]
    },
    {
     "name": "stdout",
     "output_type": "stream",
     "text": [
      "Error processing faces/frame_2_face_1.jpg: Face could not be detected in faces/frame_2_face_1.jpg.Please confirm that the picture is a face photo or consider to set enforce_detection param to False.\n"
     ]
    },
    {
     "name": "stderr",
     "output_type": "stream",
     "text": [
      " 18%|█▊        | 6/33 [00:01<00:04,  5.47it/s]"
     ]
    },
    {
     "name": "stdout",
     "output_type": "stream",
     "text": [
      "Error processing faces/frame_6_face_1.jpg: Face could not be detected in faces/frame_6_face_1.jpg.Please confirm that the picture is a face photo or consider to set enforce_detection param to False.\n",
      "Error processing faces/frame_7_face_0.jpg: Face could not be detected in faces/frame_7_face_0.jpg.Please confirm that the picture is a face photo or consider to set enforce_detection param to False.\n",
      "Error processing faces/frame_7_face_1.jpg: Face could not be detected in faces/frame_7_face_1.jpg.Please confirm that the picture is a face photo or consider to set enforce_detection param to False.\n"
     ]
    },
    {
     "name": "stderr",
     "output_type": "stream",
     "text": [
      " 33%|███▎      | 11/33 [00:01<00:02,  7.67it/s]"
     ]
    },
    {
     "name": "stdout",
     "output_type": "stream",
     "text": [
      "Error processing faces/frame_10_face_0.jpg: Face could not be detected in faces/frame_10_face_0.jpg.Please confirm that the picture is a face photo or consider to set enforce_detection param to False.\n",
      "Error processing faces/frame_13_face_0.jpg: Face could not be detected in faces/frame_13_face_0.jpg.Please confirm that the picture is a face photo or consider to set enforce_detection param to False.\n"
     ]
    },
    {
     "name": "stderr",
     "output_type": "stream",
     "text": [
      " 48%|████▊     | 16/33 [00:02<00:02,  6.88it/s]"
     ]
    },
    {
     "name": "stdout",
     "output_type": "stream",
     "text": [
      "Error processing faces/frame_18_face_0.jpg: Face could not be detected in faces/frame_18_face_0.jpg.Please confirm that the picture is a face photo or consider to set enforce_detection param to False.\n"
     ]
    },
    {
     "name": "stderr",
     "output_type": "stream",
     "text": [
      "\r 55%|█████▍    | 18/33 [00:02<00:02,  7.30it/s]"
     ]
    },
    {
     "name": "stdout",
     "output_type": "stream",
     "text": [
      "Error processing faces/frame_24_face_0.jpg: Face could not be detected in faces/frame_24_face_0.jpg.Please confirm that the picture is a face photo or consider to set enforce_detection param to False.\n",
      "Error processing faces/frame_25_face_0.jpg: Face could not be detected in faces/frame_25_face_0.jpg.Please confirm that the picture is a face photo or consider to set enforce_detection param to False.\n",
      "Error processing faces/frame_26_face_0.jpg: Face could not be detected in faces/frame_26_face_0.jpg.Please confirm that the picture is a face photo or consider to set enforce_detection param to False.\n"
     ]
    },
    {
     "name": "stderr",
     "output_type": "stream",
     "text": [
      "\r 67%|██████▋   | 22/33 [00:02<00:01,  9.60it/s]"
     ]
    },
    {
     "name": "stdout",
     "output_type": "stream",
     "text": [
      "Error processing faces/frame_31_face_0.jpg: Face could not be detected in faces/frame_31_face_0.jpg.Please confirm that the picture is a face photo or consider to set enforce_detection param to False.\n"
     ]
    },
    {
     "name": "stderr",
     "output_type": "stream",
     "text": [
      " 82%|████████▏ | 27/33 [00:04<00:01,  4.95it/s]"
     ]
    },
    {
     "name": "stdout",
     "output_type": "stream",
     "text": [
      "Error processing faces/frame_35_face_1.jpg: Face could not be detected in faces/frame_35_face_1.jpg.Please confirm that the picture is a face photo or consider to set enforce_detection param to False.\n"
     ]
    },
    {
     "name": "stderr",
     "output_type": "stream",
     "text": [
      " 91%|█████████ | 30/33 [00:04<00:00,  4.52it/s]"
     ]
    },
    {
     "name": "stdout",
     "output_type": "stream",
     "text": [
      "Error processing faces/frame_38_face_0.jpg: Face could not be detected in faces/frame_38_face_0.jpg.Please confirm that the picture is a face photo or consider to set enforce_detection param to False.\n",
      "Error processing faces/frame_39_face_0.jpg: Face could not be detected in faces/frame_39_face_0.jpg.Please confirm that the picture is a face photo or consider to set enforce_detection param to False.\n"
     ]
    },
    {
     "name": "stderr",
     "output_type": "stream",
     "text": [
      "100%|██████████| 33/33 [00:05<00:00,  6.47it/s]\n",
      "100%|██████████| 40/40 [00:09<00:00,  4.20it/s]\n",
      " 69%|██████▉   | 33/48 [00:11<00:04,  3.39it/s]"
     ]
    },
    {
     "name": "stdout",
     "output_type": "stream",
     "text": [
      "Error processing faces/frame_36_face_0.jpg: Face could not be detected in faces/frame_36_face_0.jpg.Please confirm that the picture is a face photo or consider to set enforce_detection param to False.\n"
     ]
    },
    {
     "name": "stderr",
     "output_type": "stream",
     "text": [
      "100%|██████████| 48/48 [00:15<00:00,  3.20it/s]\n"
     ]
    },
    {
     "name": "stdout",
     "output_type": "stream",
     "text": [
      "Error processing faces/frame_50_face_0.jpg: Face could not be detected in faces/frame_50_face_0.jpg.Please confirm that the picture is a face photo or consider to set enforce_detection param to False.\n"
     ]
    },
    {
     "name": "stderr",
     "output_type": "stream",
     "text": [
      "0it [00:00, ?it/s]\n",
      "0it [00:00, ?it/s]\n",
      "  3%|▎         | 4/157 [00:00<00:37,  4.03it/s]"
     ]
    },
    {
     "name": "stdout",
     "output_type": "stream",
     "text": [
      "Error processing faces/frame_0_face_4.jpg: Face could not be detected in faces/frame_0_face_4.jpg.Please confirm that the picture is a face photo or consider to set enforce_detection param to False.\n"
     ]
    },
    {
     "name": "stderr",
     "output_type": "stream",
     "text": [
      "  4%|▍         | 7/157 [00:01<00:30,  4.97it/s]"
     ]
    },
    {
     "name": "stdout",
     "output_type": "stream",
     "text": [
      "Error processing faces/frame_1_face_2.jpg: Face could not be detected in faces/frame_1_face_2.jpg.Please confirm that the picture is a face photo or consider to set enforce_detection param to False.\n"
     ]
    },
    {
     "name": "stderr",
     "output_type": "stream",
     "text": [
      "\r  6%|▌         | 9/157 [00:01<00:24,  5.97it/s]"
     ]
    },
    {
     "name": "stdout",
     "output_type": "stream",
     "text": [
      "Error processing faces/frame_1_face_4.jpg: Face could not be detected in faces/frame_1_face_4.jpg.Please confirm that the picture is a face photo or consider to set enforce_detection param to False.\n"
     ]
    },
    {
     "name": "stderr",
     "output_type": "stream",
     "text": [
      "  8%|▊         | 13/157 [00:02<00:28,  5.06it/s]"
     ]
    },
    {
     "name": "stdout",
     "output_type": "stream",
     "text": [
      "Error processing faces/frame_2_face_3.jpg: Face could not be detected in faces/frame_2_face_3.jpg.Please confirm that the picture is a face photo or consider to set enforce_detection param to False.\n"
     ]
    },
    {
     "name": "stderr",
     "output_type": "stream",
     "text": [
      " 11%|█         | 17/157 [00:03<00:27,  5.06it/s]"
     ]
    },
    {
     "name": "stdout",
     "output_type": "stream",
     "text": [
      "Error processing faces/frame_3_face_3.jpg: Face could not be detected in faces/frame_3_face_3.jpg.Please confirm that the picture is a face photo or consider to set enforce_detection param to False.\n"
     ]
    },
    {
     "name": "stderr",
     "output_type": "stream",
     "text": [
      " 17%|█▋        | 27/157 [00:05<00:29,  4.42it/s]"
     ]
    },
    {
     "name": "stdout",
     "output_type": "stream",
     "text": [
      "Error processing faces/frame_6_face_2.jpg: Face could not be detected in faces/frame_6_face_2.jpg.Please confirm that the picture is a face photo or consider to set enforce_detection param to False.\n"
     ]
    },
    {
     "name": "stderr",
     "output_type": "stream",
     "text": [
      " 19%|█▉        | 30/157 [00:05<00:24,  5.10it/s]"
     ]
    },
    {
     "name": "stdout",
     "output_type": "stream",
     "text": [
      "Error processing faces/frame_7_face_2.jpg: Face could not be detected in faces/frame_7_face_2.jpg.Please confirm that the picture is a face photo or consider to set enforce_detection param to False.\n"
     ]
    },
    {
     "name": "stderr",
     "output_type": "stream",
     "text": [
      " 21%|██        | 33/157 [00:06<00:25,  4.90it/s]"
     ]
    },
    {
     "name": "stdout",
     "output_type": "stream",
     "text": [
      "Error processing faces/frame_8_face_2.jpg: Face could not be detected in faces/frame_8_face_2.jpg.Please confirm that the picture is a face photo or consider to set enforce_detection param to False.\n"
     ]
    },
    {
     "name": "stderr",
     "output_type": "stream",
     "text": [
      " 24%|██▎       | 37/157 [00:07<00:29,  4.12it/s]"
     ]
    },
    {
     "name": "stdout",
     "output_type": "stream",
     "text": [
      "Error processing faces/frame_9_face_3.jpg: Face could not be detected in faces/frame_9_face_3.jpg.Please confirm that the picture is a face photo or consider to set enforce_detection param to False.\n"
     ]
    },
    {
     "name": "stderr",
     "output_type": "stream",
     "text": [
      " 36%|███▋      | 57/157 [00:12<00:23,  4.28it/s]"
     ]
    },
    {
     "name": "stdout",
     "output_type": "stream",
     "text": [
      "Error processing faces/frame_18_face_2.jpg: Face could not be detected in faces/frame_18_face_2.jpg.Please confirm that the picture is a face photo or consider to set enforce_detection param to False.\n"
     ]
    },
    {
     "name": "stderr",
     "output_type": "stream",
     "text": [
      " 38%|███▊      | 60/157 [00:12<00:19,  5.08it/s]"
     ]
    },
    {
     "name": "stdout",
     "output_type": "stream",
     "text": [
      "Error processing faces/frame_19_face_2.jpg: Face could not be detected in faces/frame_19_face_2.jpg.Please confirm that the picture is a face photo or consider to set enforce_detection param to False.\n"
     ]
    },
    {
     "name": "stderr",
     "output_type": "stream",
     "text": [
      " 40%|████      | 63/157 [00:13<00:16,  5.54it/s]"
     ]
    },
    {
     "name": "stdout",
     "output_type": "stream",
     "text": [
      "Error processing faces/frame_20_face_2.jpg: Face could not be detected in faces/frame_20_face_2.jpg.Please confirm that the picture is a face photo or consider to set enforce_detection param to False.\n"
     ]
    },
    {
     "name": "stderr",
     "output_type": "stream",
     "text": [
      " 43%|████▎     | 68/157 [00:14<00:17,  5.07it/s]"
     ]
    },
    {
     "name": "stdout",
     "output_type": "stream",
     "text": [
      "Error processing faces/frame_22_face_2.jpg: Face could not be detected in faces/frame_22_face_2.jpg.Please confirm that the picture is a face photo or consider to set enforce_detection param to False.\n",
      "Error processing faces/frame_22_face_3.jpg: Face could not be detected in faces/frame_22_face_3.jpg.Please confirm that the picture is a face photo or consider to set enforce_detection param to False.\n"
     ]
    },
    {
     "name": "stderr",
     "output_type": "stream",
     "text": [
      " 46%|████▌     | 72/157 [00:14<00:13,  6.18it/s]"
     ]
    },
    {
     "name": "stdout",
     "output_type": "stream",
     "text": [
      "Error processing faces/frame_23_face_2.jpg: Face could not be detected in faces/frame_23_face_2.jpg.Please confirm that the picture is a face photo or consider to set enforce_detection param to False.\n"
     ]
    },
    {
     "name": "stderr",
     "output_type": "stream",
     "text": [
      " 51%|█████     | 80/157 [00:16<00:16,  4.64it/s]"
     ]
    },
    {
     "name": "stdout",
     "output_type": "stream",
     "text": [
      "Error processing faces/frame_26_face_2.jpg: Face could not be detected in faces/frame_26_face_2.jpg.Please confirm that the picture is a face photo or consider to set enforce_detection param to False.\n",
      "Error processing faces/frame_26_face_3.jpg: Face could not be detected in faces/frame_26_face_3.jpg.Please confirm that the picture is a face photo or consider to set enforce_detection param to False.\n"
     ]
    },
    {
     "name": "stderr",
     "output_type": "stream",
     "text": [
      " 55%|█████▌    | 87/157 [00:17<00:14,  4.93it/s]"
     ]
    },
    {
     "name": "stdout",
     "output_type": "stream",
     "text": [
      "Error processing faces/frame_28_face_2.jpg: Face could not be detected in faces/frame_28_face_2.jpg.Please confirm that the picture is a face photo or consider to set enforce_detection param to False.\n"
     ]
    },
    {
     "name": "stderr",
     "output_type": "stream",
     "text": [
      " 59%|█████▉    | 93/157 [00:18<00:14,  4.56it/s]"
     ]
    },
    {
     "name": "stdout",
     "output_type": "stream",
     "text": [
      "Error processing faces/frame_30_face_2.jpg: Face could not be detected in faces/frame_30_face_2.jpg.Please confirm that the picture is a face photo or consider to set enforce_detection param to False.\n"
     ]
    },
    {
     "name": "stderr",
     "output_type": "stream",
     "text": [
      "\r 61%|██████    | 95/157 [00:19<00:11,  5.47it/s]"
     ]
    },
    {
     "name": "stdout",
     "output_type": "stream",
     "text": [
      "Error processing faces/frame_30_face_4.jpg: Face could not be detected in faces/frame_30_face_4.jpg.Please confirm that the picture is a face photo or consider to set enforce_detection param to False.\n"
     ]
    },
    {
     "name": "stderr",
     "output_type": "stream",
     "text": [
      " 65%|██████▍   | 102/157 [00:21<00:16,  3.38it/s]"
     ]
    },
    {
     "name": "stdout",
     "output_type": "stream",
     "text": [
      "Error processing faces/frame_32_face_2.jpg: Face could not be detected in faces/frame_32_face_2.jpg.Please confirm that the picture is a face photo or consider to set enforce_detection param to False.\n"
     ]
    },
    {
     "name": "stderr",
     "output_type": "stream",
     "text": [
      " 68%|██████▊   | 106/157 [00:21<00:13,  3.82it/s]"
     ]
    },
    {
     "name": "stdout",
     "output_type": "stream",
     "text": [
      "Error processing faces/frame_33_face_2.jpg: Face could not be detected in faces/frame_33_face_2.jpg.Please confirm that the picture is a face photo or consider to set enforce_detection param to False.\n"
     ]
    },
    {
     "name": "stderr",
     "output_type": "stream",
     "text": [
      " 70%|███████   | 110/157 [00:22<00:10,  4.62it/s]"
     ]
    },
    {
     "name": "stdout",
     "output_type": "stream",
     "text": [
      "Error processing faces/frame_34_face_3.jpg: Face could not be detected in faces/frame_34_face_3.jpg.Please confirm that the picture is a face photo or consider to set enforce_detection param to False.\n"
     ]
    },
    {
     "name": "stderr",
     "output_type": "stream",
     "text": [
      " 72%|███████▏  | 113/157 [00:23<00:08,  5.27it/s]"
     ]
    },
    {
     "name": "stdout",
     "output_type": "stream",
     "text": [
      "Error processing faces/frame_35_face_2.jpg: Face could not be detected in faces/frame_35_face_2.jpg.Please confirm that the picture is a face photo or consider to set enforce_detection param to False.\n"
     ]
    },
    {
     "name": "stderr",
     "output_type": "stream",
     "text": [
      " 75%|███████▌  | 118/157 [00:24<00:07,  4.98it/s]"
     ]
    },
    {
     "name": "stdout",
     "output_type": "stream",
     "text": [
      "Error processing faces/frame_36_face_3.jpg: Face could not be detected in faces/frame_36_face_3.jpg.Please confirm that the picture is a face photo or consider to set enforce_detection param to False.\n"
     ]
    },
    {
     "name": "stderr",
     "output_type": "stream",
     "text": [
      " 82%|████████▏ | 129/157 [00:26<00:06,  4.37it/s]"
     ]
    },
    {
     "name": "stdout",
     "output_type": "stream",
     "text": [
      "Error processing faces/frame_41_face_2.jpg: Face could not be detected in faces/frame_41_face_2.jpg.Please confirm that the picture is a face photo or consider to set enforce_detection param to False.\n"
     ]
    },
    {
     "name": "stderr",
     "output_type": "stream",
     "text": [
      " 84%|████████▍ | 132/157 [00:26<00:04,  5.16it/s]"
     ]
    },
    {
     "name": "stdout",
     "output_type": "stream",
     "text": [
      "Error processing faces/frame_42_face_2.jpg: Face could not be detected in faces/frame_42_face_2.jpg.Please confirm that the picture is a face photo or consider to set enforce_detection param to False.\n"
     ]
    },
    {
     "name": "stderr",
     "output_type": "stream",
     "text": [
      " 96%|█████████▌| 151/157 [00:31<00:01,  4.24it/s]"
     ]
    },
    {
     "name": "stdout",
     "output_type": "stream",
     "text": [
      "Error processing faces/frame_49_face_2.jpg: Face could not be detected in faces/frame_49_face_2.jpg.Please confirm that the picture is a face photo or consider to set enforce_detection param to False.\n"
     ]
    },
    {
     "name": "stderr",
     "output_type": "stream",
     "text": [
      " 99%|█████████▊| 155/157 [00:31<00:00,  4.53it/s]"
     ]
    },
    {
     "name": "stdout",
     "output_type": "stream",
     "text": [
      "Error processing faces/frame_50_face_2.jpg: Face could not be detected in faces/frame_50_face_2.jpg.Please confirm that the picture is a face photo or consider to set enforce_detection param to False.\n"
     ]
    },
    {
     "name": "stderr",
     "output_type": "stream",
     "text": [
      "100%|██████████| 157/157 [00:32<00:00,  4.87it/s]\n",
      "0it [00:00, ?it/s]\n",
      "0it [00:00, ?it/s]\n",
      "0it [00:00, ?it/s]\n",
      "0it [00:00, ?it/s]\n",
      "  0%|          | 0/15 [00:00<?, ?it/s]"
     ]
    },
    {
     "name": "stdout",
     "output_type": "stream",
     "text": [
      "Error processing faces/frame_8_face_0.jpg: Face could not be detected in faces/frame_8_face_0.jpg.Please confirm that the picture is a face photo or consider to set enforce_detection param to False.\n"
     ]
    },
    {
     "name": "stderr",
     "output_type": "stream",
     "text": [
      " 27%|██▋       | 4/15 [00:00<00:02,  5.26it/s]"
     ]
    },
    {
     "name": "stdout",
     "output_type": "stream",
     "text": [
      "Error processing faces/frame_13_face_0.jpg: Face could not be detected in faces/frame_13_face_0.jpg.Please confirm that the picture is a face photo or consider to set enforce_detection param to False.\n"
     ]
    },
    {
     "name": "stderr",
     "output_type": "stream",
     "text": [
      " 47%|████▋     | 7/15 [00:01<00:01,  5.74it/s]"
     ]
    },
    {
     "name": "stdout",
     "output_type": "stream",
     "text": [
      "Error processing faces/frame_18_face_0.jpg: Face could not be detected in faces/frame_18_face_0.jpg.Please confirm that the picture is a face photo or consider to set enforce_detection param to False.\n",
      "Error processing faces/frame_20_face_0.jpg: Face could not be detected in faces/frame_20_face_0.jpg.Please confirm that the picture is a face photo or consider to set enforce_detection param to False.\n",
      "Error processing faces/frame_21_face_0.jpg: Face could not be detected in faces/frame_21_face_0.jpg.Please confirm that the picture is a face photo or consider to set enforce_detection param to False.\n",
      "Error processing faces/frame_22_face_0.jpg: Face could not be detected in faces/frame_22_face_0.jpg.Please confirm that the picture is a face photo or consider to set enforce_detection param to False.\n"
     ]
    },
    {
     "name": "stderr",
     "output_type": "stream",
     "text": [
      "100%|██████████| 15/15 [00:01<00:00,  8.30it/s]\n"
     ]
    },
    {
     "name": "stdout",
     "output_type": "stream",
     "text": [
      "Error processing faces/frame_26_face_0.jpg: Face could not be detected in faces/frame_26_face_0.jpg.Please confirm that the picture is a face photo or consider to set enforce_detection param to False.\n",
      "Error processing faces/frame_27_face_0.jpg: Face could not be detected in faces/frame_27_face_0.jpg.Please confirm that the picture is a face photo or consider to set enforce_detection param to False.\n"
     ]
    },
    {
     "name": "stderr",
     "output_type": "stream",
     "text": [
      "0it [00:00, ?it/s]\n",
      "0it [00:00, ?it/s]\n",
      "  6%|▌         | 10/173 [00:02<00:43,  3.71it/s]"
     ]
    },
    {
     "name": "stdout",
     "output_type": "stream",
     "text": [
      "Error processing faces/frame_2_face_2.jpg: Face could not be detected in faces/frame_2_face_2.jpg.Please confirm that the picture is a face photo or consider to set enforce_detection param to False.\n"
     ]
    },
    {
     "name": "stderr",
     "output_type": "stream",
     "text": [
      " 12%|█▏        | 20/173 [00:05<00:41,  3.67it/s]"
     ]
    },
    {
     "name": "stdout",
     "output_type": "stream",
     "text": [
      "Error processing faces/frame_4_face_3.jpg: Face could not be detected in faces/frame_4_face_3.jpg.Please confirm that the picture is a face photo or consider to set enforce_detection param to False.\n"
     ]
    },
    {
     "name": "stderr",
     "output_type": "stream",
     "text": [
      " 14%|█▍        | 25/173 [00:06<00:32,  4.51it/s]"
     ]
    },
    {
     "name": "stdout",
     "output_type": "stream",
     "text": [
      "Error processing faces/frame_5_face_3.jpg: Face could not be detected in faces/frame_5_face_3.jpg.Please confirm that the picture is a face photo or consider to set enforce_detection param to False.\n"
     ]
    },
    {
     "name": "stderr",
     "output_type": "stream",
     "text": [
      " 16%|█▌        | 28/173 [00:06<00:27,  5.31it/s]"
     ]
    },
    {
     "name": "stdout",
     "output_type": "stream",
     "text": [
      "Error processing faces/frame_6_face_2.jpg: Face could not be detected in faces/frame_6_face_2.jpg.Please confirm that the picture is a face photo or consider to set enforce_detection param to False.\n"
     ]
    },
    {
     "name": "stderr",
     "output_type": "stream",
     "text": [
      " 18%|█▊        | 32/173 [00:07<00:26,  5.30it/s]"
     ]
    },
    {
     "name": "stdout",
     "output_type": "stream",
     "text": [
      "Error processing faces/frame_7_face_3.jpg: Face could not be detected in faces/frame_7_face_3.jpg.Please confirm that the picture is a face photo or consider to set enforce_detection param to False.\n",
      "Error processing faces/frame_7_face_4.jpg: Face could not be detected in faces/frame_7_face_4.jpg.Please confirm that the picture is a face photo or consider to set enforce_detection param to False.\n"
     ]
    },
    {
     "name": "stderr",
     "output_type": "stream",
     "text": [
      " 21%|██▏       | 37/173 [00:08<00:23,  5.86it/s]"
     ]
    },
    {
     "name": "stdout",
     "output_type": "stream",
     "text": [
      "Error processing faces/frame_8_face_2.jpg: Face could not be detected in faces/frame_8_face_2.jpg.Please confirm that the picture is a face photo or consider to set enforce_detection param to False.\n"
     ]
    },
    {
     "name": "stderr",
     "output_type": "stream",
     "text": [
      "\r 23%|██▎       | 39/173 [00:08<00:20,  6.52it/s]"
     ]
    },
    {
     "name": "stdout",
     "output_type": "stream",
     "text": [
      "Error processing faces/frame_8_face_4.jpg: Face could not be detected in faces/frame_8_face_4.jpg.Please confirm that the picture is a face photo or consider to set enforce_detection param to False.\n"
     ]
    },
    {
     "name": "stderr",
     "output_type": "stream",
     "text": [
      " 24%|██▍       | 42/173 [00:08<00:20,  6.32it/s]"
     ]
    },
    {
     "name": "stdout",
     "output_type": "stream",
     "text": [
      "Error processing faces/frame_9_face_2.jpg: Face could not be detected in faces/frame_9_face_2.jpg.Please confirm that the picture is a face photo or consider to set enforce_detection param to False.\n",
      "Error processing faces/frame_9_face_3.jpg: Face could not be detected in faces/frame_9_face_3.jpg.Please confirm that the picture is a face photo or consider to set enforce_detection param to False.\n"
     ]
    },
    {
     "name": "stderr",
     "output_type": "stream",
     "text": [
      " 27%|██▋       | 46/173 [00:09<00:18,  6.89it/s]"
     ]
    },
    {
     "name": "stdout",
     "output_type": "stream",
     "text": [
      "Error processing faces/frame_10_face_2.jpg: Face could not be detected in faces/frame_10_face_2.jpg.Please confirm that the picture is a face photo or consider to set enforce_detection param to False.\n",
      "Error processing faces/frame_10_face_3.jpg: Face could not be detected in faces/frame_10_face_3.jpg.Please confirm that the picture is a face photo or consider to set enforce_detection param to False.\n",
      "Error processing faces/frame_10_face_4.jpg: Face could not be detected in faces/frame_10_face_4.jpg.Please confirm that the picture is a face photo or consider to set enforce_detection param to False.\n"
     ]
    },
    {
     "name": "stderr",
     "output_type": "stream",
     "text": [
      " 29%|██▉       | 51/173 [00:09<00:15,  8.10it/s]"
     ]
    },
    {
     "name": "stdout",
     "output_type": "stream",
     "text": [
      "Error processing faces/frame_11_face_2.jpg: Face could not be detected in faces/frame_11_face_2.jpg.Please confirm that the picture is a face photo or consider to set enforce_detection param to False.\n",
      "Error processing faces/frame_11_face_3.jpg: Face could not be detected in faces/frame_11_face_3.jpg.Please confirm that the picture is a face photo or consider to set enforce_detection param to False.\n"
     ]
    },
    {
     "name": "stderr",
     "output_type": "stream",
     "text": [
      " 38%|███▊      | 65/173 [00:12<00:25,  4.31it/s]"
     ]
    },
    {
     "name": "stdout",
     "output_type": "stream",
     "text": [
      "Error processing faces/frame_16_face_2.jpg: Face could not be detected in faces/frame_16_face_2.jpg.Please confirm that the picture is a face photo or consider to set enforce_detection param to False.\n",
      "Error processing faces/frame_16_face_3.jpg: Face could not be detected in faces/frame_16_face_3.jpg.Please confirm that the picture is a face photo or consider to set enforce_detection param to False.\n"
     ]
    },
    {
     "name": "stderr",
     "output_type": "stream",
     "text": [
      " 40%|███▉      | 69/173 [00:13<00:17,  5.98it/s]"
     ]
    },
    {
     "name": "stdout",
     "output_type": "stream",
     "text": [
      "Error processing faces/frame_17_face_2.jpg: Face could not be detected in faces/frame_17_face_2.jpg.Please confirm that the picture is a face photo or consider to set enforce_detection param to False.\n",
      "Error processing faces/frame_17_face_3.jpg: Face could not be detected in faces/frame_17_face_3.jpg.Please confirm that the picture is a face photo or consider to set enforce_detection param to False.\n"
     ]
    },
    {
     "name": "stderr",
     "output_type": "stream",
     "text": [
      " 42%|████▏     | 73/173 [00:13<00:15,  6.64it/s]"
     ]
    },
    {
     "name": "stdout",
     "output_type": "stream",
     "text": [
      "Error processing faces/frame_18_face_2.jpg: Face could not be detected in faces/frame_18_face_2.jpg.Please confirm that the picture is a face photo or consider to set enforce_detection param to False.\n"
     ]
    },
    {
     "name": "stderr",
     "output_type": "stream",
     "text": [
      " 46%|████▌     | 80/173 [00:15<00:21,  4.42it/s]"
     ]
    },
    {
     "name": "stdout",
     "output_type": "stream",
     "text": [
      "Error processing faces/frame_21_face_2.jpg: Face could not be detected in faces/frame_21_face_2.jpg.Please confirm that the picture is a face photo or consider to set enforce_detection param to False.\n"
     ]
    },
    {
     "name": "stderr",
     "output_type": "stream",
     "text": [
      " 49%|████▉     | 85/173 [00:16<00:23,  3.70it/s]"
     ]
    },
    {
     "name": "stdout",
     "output_type": "stream",
     "text": [
      "Error processing faces/frame_23_face_2.jpg: Face could not be detected in faces/frame_23_face_2.jpg.Please confirm that the picture is a face photo or consider to set enforce_detection param to False.\n",
      "Error processing faces/frame_23_face_3.jpg: Face could not be detected in faces/frame_23_face_3.jpg.Please confirm that the picture is a face photo or consider to set enforce_detection param to False.\n"
     ]
    },
    {
     "name": "stderr",
     "output_type": "stream",
     "text": [
      " 51%|█████▏    | 89/173 [00:17<00:18,  4.46it/s]"
     ]
    },
    {
     "name": "stdout",
     "output_type": "stream",
     "text": [
      "Error processing faces/frame_24_face_2.jpg: Face could not be detected in faces/frame_24_face_2.jpg.Please confirm that the picture is a face photo or consider to set enforce_detection param to False.\n",
      "Error processing faces/frame_24_face_3.jpg: Face could not be detected in faces/frame_24_face_3.jpg.Please confirm that the picture is a face photo or consider to set enforce_detection param to False.\n"
     ]
    },
    {
     "name": "stderr",
     "output_type": "stream",
     "text": [
      " 54%|█████▍    | 93/173 [00:17<00:15,  5.24it/s]"
     ]
    },
    {
     "name": "stdout",
     "output_type": "stream",
     "text": [
      "Error processing faces/frame_25_face_2.jpg: Face could not be detected in faces/frame_25_face_2.jpg.Please confirm that the picture is a face photo or consider to set enforce_detection param to False.\n",
      "Error processing faces/frame_25_face_3.jpg: Face could not be detected in faces/frame_25_face_3.jpg.Please confirm that the picture is a face photo or consider to set enforce_detection param to False.\n"
     ]
    },
    {
     "name": "stderr",
     "output_type": "stream",
     "text": [
      " 56%|█████▌    | 97/173 [00:18<00:12,  5.87it/s]"
     ]
    },
    {
     "name": "stdout",
     "output_type": "stream",
     "text": [
      "Error processing faces/frame_26_face_2.jpg: Face could not be detected in faces/frame_26_face_2.jpg.Please confirm that the picture is a face photo or consider to set enforce_detection param to False.\n",
      "Error processing faces/frame_26_face_3.jpg: Face could not be detected in faces/frame_26_face_3.jpg.Please confirm that the picture is a face photo or consider to set enforce_detection param to False.\n"
     ]
    },
    {
     "name": "stderr",
     "output_type": "stream",
     "text": [
      " 58%|█████▊    | 101/173 [00:18<00:12,  5.62it/s]"
     ]
    },
    {
     "name": "stdout",
     "output_type": "stream",
     "text": [
      "Error processing faces/frame_27_face_2.jpg: Face could not be detected in faces/frame_27_face_2.jpg.Please confirm that the picture is a face photo or consider to set enforce_detection param to False.\n"
     ]
    },
    {
     "name": "stderr",
     "output_type": "stream",
     "text": [
      " 61%|██████    | 105/173 [00:19<00:15,  4.30it/s]"
     ]
    },
    {
     "name": "stdout",
     "output_type": "stream",
     "text": [
      "Error processing faces/frame_28_face_2.jpg: Face could not be detected in faces/frame_28_face_2.jpg.Please confirm that the picture is a face photo or consider to set enforce_detection param to False.\n"
     ]
    },
    {
     "name": "stderr",
     "output_type": "stream",
     "text": [
      " 72%|███████▏  | 124/173 [00:24<00:10,  4.53it/s]"
     ]
    },
    {
     "name": "stdout",
     "output_type": "stream",
     "text": [
      "Error processing faces/frame_33_face_3.jpg: Face could not be detected in faces/frame_33_face_3.jpg.Please confirm that the picture is a face photo or consider to set enforce_detection param to False.\n"
     ]
    },
    {
     "name": "stderr",
     "output_type": "stream",
     "text": [
      " 76%|███████▌  | 131/173 [00:25<00:09,  4.61it/s]"
     ]
    },
    {
     "name": "stdout",
     "output_type": "stream",
     "text": [
      "Error processing faces/frame_35_face_2.jpg: Face could not be detected in faces/frame_35_face_2.jpg.Please confirm that the picture is a face photo or consider to set enforce_detection param to False.\n"
     ]
    },
    {
     "name": "stderr",
     "output_type": "stream",
     "text": [
      " 81%|████████  | 140/173 [00:27<00:08,  3.86it/s]"
     ]
    },
    {
     "name": "stdout",
     "output_type": "stream",
     "text": [
      "Error processing faces/frame_38_face_2.jpg: Face could not be detected in faces/frame_38_face_2.jpg.Please confirm that the picture is a face photo or consider to set enforce_detection param to False.\n"
     ]
    },
    {
     "name": "stderr",
     "output_type": "stream",
     "text": [
      " 84%|████████▍ | 145/173 [00:29<00:07,  3.63it/s]"
     ]
    },
    {
     "name": "stdout",
     "output_type": "stream",
     "text": [
      "Error processing faces/frame_40_face_2.jpg: Face could not be detected in faces/frame_40_face_2.jpg.Please confirm that the picture is a face photo or consider to set enforce_detection param to False.\n"
     ]
    },
    {
     "name": "stderr",
     "output_type": "stream",
     "text": [
      "100%|██████████| 173/173 [00:35<00:00,  4.85it/s]\n",
      "0it [00:00, ?it/s]\n",
      "0it [00:00, ?it/s]\n",
      "  0%|          | 0/40 [00:00<?, ?it/s]"
     ]
    },
    {
     "name": "stdout",
     "output_type": "stream",
     "text": [
      "Error processing faces/frame_13_face_0.jpg: Face could not be detected in faces/frame_13_face_0.jpg.Please confirm that the picture is a face photo or consider to set enforce_detection param to False.\n"
     ]
    },
    {
     "name": "stderr",
     "output_type": "stream",
     "text": [
      " 18%|█▊        | 7/40 [00:01<00:08,  3.96it/s]"
     ]
    },
    {
     "name": "stdout",
     "output_type": "stream",
     "text": [
      "Error processing faces/frame_25_face_0.jpg: Face could not be detected in faces/frame_25_face_0.jpg.Please confirm that the picture is a face photo or consider to set enforce_detection param to False.\n"
     ]
    },
    {
     "name": "stderr",
     "output_type": "stream",
     "text": [
      " 25%|██▌       | 10/40 [00:02<00:06,  4.35it/s]"
     ]
    },
    {
     "name": "stdout",
     "output_type": "stream",
     "text": [
      "Error processing faces/frame_27_face_1.jpg: Face could not be detected in faces/frame_27_face_1.jpg.Please confirm that the picture is a face photo or consider to set enforce_detection param to False.\n"
     ]
    },
    {
     "name": "stderr",
     "output_type": "stream",
     "text": [
      " 38%|███▊      | 15/40 [00:03<00:06,  3.78it/s]"
     ]
    },
    {
     "name": "stdout",
     "output_type": "stream",
     "text": [
      "Error processing faces/frame_32_face_0.jpg: Face could not be detected in faces/frame_32_face_0.jpg.Please confirm that the picture is a face photo or consider to set enforce_detection param to False.\n"
     ]
    },
    {
     "name": "stderr",
     "output_type": "stream",
     "text": [
      "\r 42%|████▎     | 17/40 [00:03<00:05,  4.32it/s]"
     ]
    },
    {
     "name": "stdout",
     "output_type": "stream",
     "text": [
      "Error processing faces/frame_33_face_0.jpg: Face could not be detected in faces/frame_33_face_0.jpg.Please confirm that the picture is a face photo or consider to set enforce_detection param to False.\n"
     ]
    },
    {
     "name": "stderr",
     "output_type": "stream",
     "text": [
      " 50%|█████     | 20/40 [00:04<00:03,  5.02it/s]"
     ]
    },
    {
     "name": "stdout",
     "output_type": "stream",
     "text": [
      "Error processing faces/frame_35_face_0.jpg: Face could not be detected in faces/frame_35_face_0.jpg.Please confirm that the picture is a face photo or consider to set enforce_detection param to False.\n"
     ]
    },
    {
     "name": "stderr",
     "output_type": "stream",
     "text": [
      "\r 55%|█████▌    | 22/40 [00:04<00:03,  5.95it/s]"
     ]
    },
    {
     "name": "stdout",
     "output_type": "stream",
     "text": [
      "Error processing faces/frame_36_face_0.jpg: Face could not be detected in faces/frame_36_face_0.jpg.Please confirm that the picture is a face photo or consider to set enforce_detection param to False.\n"
     ]
    },
    {
     "name": "stderr",
     "output_type": "stream",
     "text": [
      " 62%|██████▎   | 25/40 [00:04<00:02,  6.07it/s]"
     ]
    },
    {
     "name": "stdout",
     "output_type": "stream",
     "text": [
      "Error processing faces/frame_38_face_0.jpg: Face could not be detected in faces/frame_38_face_0.jpg.Please confirm that the picture is a face photo or consider to set enforce_detection param to False.\n"
     ]
    },
    {
     "name": "stderr",
     "output_type": "stream",
     "text": [
      "\r 68%|██████▊   | 27/40 [00:05<00:01,  6.78it/s]"
     ]
    },
    {
     "name": "stdout",
     "output_type": "stream",
     "text": [
      "Error processing faces/frame_39_face_0.jpg: Face could not be detected in faces/frame_39_face_0.jpg.Please confirm that the picture is a face photo or consider to set enforce_detection param to False.\n"
     ]
    },
    {
     "name": "stderr",
     "output_type": "stream",
     "text": [
      "\r 72%|███████▎  | 29/40 [00:05<00:01,  7.28it/s]"
     ]
    },
    {
     "name": "stdout",
     "output_type": "stream",
     "text": [
      "Error processing faces/frame_40_face_0.jpg: Face could not be detected in faces/frame_40_face_0.jpg.Please confirm that the picture is a face photo or consider to set enforce_detection param to False.\n"
     ]
    },
    {
     "name": "stderr",
     "output_type": "stream",
     "text": [
      "\r 78%|███████▊  | 31/40 [00:05<00:01,  7.53it/s]"
     ]
    },
    {
     "name": "stdout",
     "output_type": "stream",
     "text": [
      "Error processing faces/frame_41_face_0.jpg: Face could not be detected in faces/frame_41_face_0.jpg.Please confirm that the picture is a face photo or consider to set enforce_detection param to False.\n"
     ]
    },
    {
     "name": "stderr",
     "output_type": "stream",
     "text": [
      "\r 82%|████████▎ | 33/40 [00:05<00:00,  7.81it/s]"
     ]
    },
    {
     "name": "stdout",
     "output_type": "stream",
     "text": [
      "Error processing faces/frame_42_face_0.jpg: Face could not be detected in faces/frame_42_face_0.jpg.Please confirm that the picture is a face photo or consider to set enforce_detection param to False.\n"
     ]
    },
    {
     "name": "stderr",
     "output_type": "stream",
     "text": [
      " 90%|█████████ | 36/40 [00:06<00:00,  6.99it/s]"
     ]
    },
    {
     "name": "stdout",
     "output_type": "stream",
     "text": [
      "Error processing faces/frame_43_face_1.jpg: Face could not be detected in faces/frame_43_face_1.jpg.Please confirm that the picture is a face photo or consider to set enforce_detection param to False.\n"
     ]
    },
    {
     "name": "stderr",
     "output_type": "stream",
     "text": [
      "100%|██████████| 40/40 [00:07<00:00,  5.64it/s]\n",
      "0it [00:00, ?it/s]\n",
      "0it [00:00, ?it/s]\n",
      " 88%|████████▊ | 43/49 [00:14<00:01,  3.51it/s]"
     ]
    },
    {
     "name": "stdout",
     "output_type": "stream",
     "text": [
      "Error processing faces/frame_45_face_1.jpg: Face could not be detected in faces/frame_45_face_1.jpg.Please confirm that the picture is a face photo or consider to set enforce_detection param to False.\n"
     ]
    },
    {
     "name": "stderr",
     "output_type": "stream",
     "text": [
      "100%|██████████| 49/49 [00:15<00:00,  3.13it/s]\n",
      "0it [00:00, ?it/s]\n",
      "0it [00:00, ?it/s]\n",
      "0it [00:00, ?it/s]\n",
      " 88%|████████▊ | 43/49 [00:14<00:01,  3.38it/s]"
     ]
    },
    {
     "name": "stdout",
     "output_type": "stream",
     "text": [
      "Error processing faces/frame_45_face_1.jpg: Face could not be detected in faces/frame_45_face_1.jpg.Please confirm that the picture is a face photo or consider to set enforce_detection param to False.\n"
     ]
    },
    {
     "name": "stderr",
     "output_type": "stream",
     "text": [
      "100%|██████████| 49/49 [00:16<00:00,  3.06it/s]\n",
      " 88%|████████▊ | 43/49 [00:14<00:02,  2.64it/s]"
     ]
    },
    {
     "name": "stdout",
     "output_type": "stream",
     "text": [
      "Error processing faces/frame_45_face_1.jpg: Face could not be detected in faces/frame_45_face_1.jpg.Please confirm that the picture is a face photo or consider to set enforce_detection param to False.\n"
     ]
    },
    {
     "name": "stderr",
     "output_type": "stream",
     "text": [
      "100%|██████████| 49/49 [00:16<00:00,  2.95it/s]\n",
      "  0%|          | 0/20 [00:00<?, ?it/s]"
     ]
    },
    {
     "name": "stdout",
     "output_type": "stream",
     "text": [
      "Error processing faces/frame_0_face_0.jpg: Face could not be detected in faces/frame_0_face_0.jpg.Please confirm that the picture is a face photo or consider to set enforce_detection param to False.\n",
      "Error processing faces/frame_9_face_0.jpg: Face could not be detected in faces/frame_9_face_0.jpg.Please confirm that the picture is a face photo or consider to set enforce_detection param to False.\n",
      "Error processing faces/frame_12_face_0.jpg: Face could not be detected in faces/frame_12_face_0.jpg.Please confirm that the picture is a face photo or consider to set enforce_detection param to False.\n",
      "Error processing faces/frame_13_face_0.jpg: Face could not be detected in faces/frame_13_face_0.jpg.Please confirm that the picture is a face photo or consider to set enforce_detection param to False.\n",
      "Error processing faces/frame_14_face_0.jpg: Face could not be detected in faces/frame_14_face_0.jpg.Please confirm that the picture is a face photo or consider to set enforce_detection param to False.\n"
     ]
    },
    {
     "name": "stderr",
     "output_type": "stream",
     "text": [
      "\r 30%|███       | 6/20 [00:00<00:00, 22.87it/s]"
     ]
    },
    {
     "name": "stdout",
     "output_type": "stream",
     "text": [
      "Error processing faces/frame_16_face_0.jpg: Face could not be detected in faces/frame_16_face_0.jpg.Please confirm that the picture is a face photo or consider to set enforce_detection param to False.\n",
      "Error processing faces/frame_23_face_0.jpg: Face could not be detected in faces/frame_23_face_0.jpg.Please confirm that the picture is a face photo or consider to set enforce_detection param to False.\n"
     ]
    },
    {
     "name": "stderr",
     "output_type": "stream",
     "text": [
      " 55%|█████▌    | 11/20 [00:00<00:00, 12.95it/s]"
     ]
    },
    {
     "name": "stdout",
     "output_type": "stream",
     "text": [
      "Error processing faces/frame_25_face_0.jpg: Face could not be detected in faces/frame_25_face_0.jpg.Please confirm that the picture is a face photo or consider to set enforce_detection param to False.\n"
     ]
    },
    {
     "name": "stderr",
     "output_type": "stream",
     "text": [
      "100%|██████████| 20/20 [00:01<00:00, 16.07it/s]\n"
     ]
    },
    {
     "name": "stdout",
     "output_type": "stream",
     "text": [
      "Error processing faces/frame_37_face_0.jpg: Face could not be detected in faces/frame_37_face_0.jpg.Please confirm that the picture is a face photo or consider to set enforce_detection param to False.\n",
      "Error processing faces/frame_40_face_0.jpg: Face could not be detected in faces/frame_40_face_0.jpg.Please confirm that the picture is a face photo or consider to set enforce_detection param to False.\n",
      "Error processing faces/frame_41_face_0.jpg: Face could not be detected in faces/frame_41_face_0.jpg.Please confirm that the picture is a face photo or consider to set enforce_detection param to False.\n",
      "Error processing faces/frame_42_face_0.jpg: Face could not be detected in faces/frame_42_face_0.jpg.Please confirm that the picture is a face photo or consider to set enforce_detection param to False.\n",
      "Error processing faces/frame_42_face_1.jpg: Face could not be detected in faces/frame_42_face_1.jpg.Please confirm that the picture is a face photo or consider to set enforce_detection param to False.\n",
      "Error processing faces/frame_44_face_0.jpg: Face could not be detected in faces/frame_44_face_0.jpg.Please confirm that the picture is a face photo or consider to set enforce_detection param to False.\n",
      "Error processing faces/frame_49_face_0.jpg: Face could not be detected in faces/frame_49_face_0.jpg.Please confirm that the picture is a face photo or consider to set enforce_detection param to False.\n"
     ]
    },
    {
     "name": "stderr",
     "output_type": "stream",
     "text": [
      " 20%|██        | 1/5 [00:00<00:00,  4.66it/s]"
     ]
    },
    {
     "name": "stdout",
     "output_type": "stream",
     "text": [
      "Error processing faces/frame_37_face_0.jpg: Face could not be detected in faces/frame_37_face_0.jpg.Please confirm that the picture is a face photo or consider to set enforce_detection param to False.\n"
     ]
    },
    {
     "name": "stderr",
     "output_type": "stream",
     "text": [
      "\r 60%|██████    | 3/5 [00:00<00:00,  5.12it/s]"
     ]
    },
    {
     "name": "stdout",
     "output_type": "stream",
     "text": [
      "Error processing faces/frame_39_face_0.jpg: Face could not be detected in faces/frame_39_face_0.jpg.Please confirm that the picture is a face photo or consider to set enforce_detection param to False.\n"
     ]
    },
    {
     "name": "stderr",
     "output_type": "stream",
     "text": [
      "100%|██████████| 5/5 [00:00<00:00,  5.75it/s]\n",
      "0it [00:00, ?it/s]\n",
      "0it [00:00, ?it/s]\n",
      " 88%|████████▊ | 43/49 [00:14<00:02,  2.76it/s]"
     ]
    },
    {
     "name": "stdout",
     "output_type": "stream",
     "text": [
      "Error processing faces/frame_45_face_1.jpg: Face could not be detected in faces/frame_45_face_1.jpg.Please confirm that the picture is a face photo or consider to set enforce_detection param to False.\n"
     ]
    },
    {
     "name": "stderr",
     "output_type": "stream",
     "text": [
      "100%|██████████| 49/49 [00:16<00:00,  2.95it/s]\n",
      "0it [00:00, ?it/s]\n",
      "100%|██████████| 13/13 [00:00<00:00, 81.79it/s]\n"
     ]
    },
    {
     "name": "stdout",
     "output_type": "stream",
     "text": [
      "Error processing faces/frame_8_face_0.jpg: Face could not be detected in faces/frame_8_face_0.jpg.Please confirm that the picture is a face photo or consider to set enforce_detection param to False.\n",
      "Error processing faces/frame_9_face_0.jpg: Face could not be detected in faces/frame_9_face_0.jpg.Please confirm that the picture is a face photo or consider to set enforce_detection param to False.\n",
      "Error processing faces/frame_13_face_0.jpg: Face could not be detected in faces/frame_13_face_0.jpg.Please confirm that the picture is a face photo or consider to set enforce_detection param to False.\n",
      "Error processing faces/frame_23_face_0.jpg: Face could not be detected in faces/frame_23_face_0.jpg.Please confirm that the picture is a face photo or consider to set enforce_detection param to False.\n",
      "Error processing faces/frame_24_face_0.jpg: Face could not be detected in faces/frame_24_face_0.jpg.Please confirm that the picture is a face photo or consider to set enforce_detection param to False.\n",
      "Error processing faces/frame_25_face_0.jpg: Face could not be detected in faces/frame_25_face_0.jpg.Please confirm that the picture is a face photo or consider to set enforce_detection param to False.\n",
      "Error processing faces/frame_26_face_0.jpg: Face could not be detected in faces/frame_26_face_0.jpg.Please confirm that the picture is a face photo or consider to set enforce_detection param to False.\n",
      "Error processing faces/frame_27_face_0.jpg: Face could not be detected in faces/frame_27_face_0.jpg.Please confirm that the picture is a face photo or consider to set enforce_detection param to False.\n",
      "Error processing faces/frame_35_face_0.jpg: Face could not be detected in faces/frame_35_face_0.jpg.Please confirm that the picture is a face photo or consider to set enforce_detection param to False.\n",
      "Error processing faces/frame_38_face_0.jpg: Face could not be detected in faces/frame_38_face_0.jpg.Please confirm that the picture is a face photo or consider to set enforce_detection param to False.\n",
      "Error processing faces/frame_45_face_0.jpg: Face could not be detected in faces/frame_45_face_0.jpg.Please confirm that the picture is a face photo or consider to set enforce_detection param to False.\n",
      "Error processing faces/frame_46_face_0.jpg: Face could not be detected in faces/frame_46_face_0.jpg.Please confirm that the picture is a face photo or consider to set enforce_detection param to False.\n",
      "Error processing faces/frame_50_face_0.jpg: Face could not be detected in faces/frame_50_face_0.jpg.Please confirm that the picture is a face photo or consider to set enforce_detection param to False.\n"
     ]
    },
    {
     "name": "stderr",
     "output_type": "stream",
     "text": [
      "100%|██████████| 2/2 [00:00<00:00, 151.38it/s]\n"
     ]
    },
    {
     "name": "stdout",
     "output_type": "stream",
     "text": [
      "Error processing faces/frame_13_face_0.jpg: Face could not be detected in faces/frame_13_face_0.jpg.Please confirm that the picture is a face photo or consider to set enforce_detection param to False.\n",
      "Error processing faces/frame_18_face_0.jpg: Face could not be detected in faces/frame_18_face_0.jpg.Please confirm that the picture is a face photo or consider to set enforce_detection param to False.\n"
     ]
    },
    {
     "name": "stderr",
     "output_type": "stream",
     "text": [
      "0it [00:00, ?it/s]\n",
      "0it [00:00, ?it/s]\n",
      "0it [00:00, ?it/s]\n",
      "0it [00:00, ?it/s]\n",
      " 20%|██        | 1/5 [00:00<00:00,  4.75it/s]"
     ]
    },
    {
     "name": "stdout",
     "output_type": "stream",
     "text": [
      "Error processing faces/frame_37_face_0.jpg: Face could not be detected in faces/frame_37_face_0.jpg.Please confirm that the picture is a face photo or consider to set enforce_detection param to False.\n"
     ]
    },
    {
     "name": "stderr",
     "output_type": "stream",
     "text": [
      "\r 60%|██████    | 3/5 [00:00<00:00,  5.23it/s]"
     ]
    },
    {
     "name": "stdout",
     "output_type": "stream",
     "text": [
      "Error processing faces/frame_39_face_0.jpg: Face could not be detected in faces/frame_39_face_0.jpg.Please confirm that the picture is a face photo or consider to set enforce_detection param to False.\n"
     ]
    },
    {
     "name": "stderr",
     "output_type": "stream",
     "text": [
      "100%|██████████| 5/5 [00:00<00:00,  5.88it/s]\n",
      " 88%|████████▊ | 43/49 [00:14<00:01,  3.45it/s]"
     ]
    },
    {
     "name": "stdout",
     "output_type": "stream",
     "text": [
      "Error processing faces/frame_45_face_1.jpg: Face could not be detected in faces/frame_45_face_1.jpg.Please confirm that the picture is a face photo or consider to set enforce_detection param to False.\n"
     ]
    },
    {
     "name": "stderr",
     "output_type": "stream",
     "text": [
      "100%|██████████| 49/49 [00:15<00:00,  3.18it/s]\n",
      "0it [00:00, ?it/s]\n",
      " 88%|████████▊ | 43/49 [00:14<00:02,  2.55it/s]"
     ]
    },
    {
     "name": "stdout",
     "output_type": "stream",
     "text": [
      "Error processing faces/frame_45_face_1.jpg: Face could not be detected in faces/frame_45_face_1.jpg.Please confirm that the picture is a face photo or consider to set enforce_detection param to False.\n"
     ]
    },
    {
     "name": "stderr",
     "output_type": "stream",
     "text": [
      "100%|██████████| 49/49 [00:16<00:00,  2.98it/s]\n",
      " 69%|██████▉   | 33/48 [00:10<00:04,  3.35it/s]"
     ]
    },
    {
     "name": "stdout",
     "output_type": "stream",
     "text": [
      "Error processing faces/frame_36_face_0.jpg: Face could not be detected in faces/frame_36_face_0.jpg.Please confirm that the picture is a face photo or consider to set enforce_detection param to False.\n"
     ]
    },
    {
     "name": "stderr",
     "output_type": "stream",
     "text": [
      "100%|██████████| 48/48 [00:14<00:00,  3.20it/s]\n"
     ]
    },
    {
     "name": "stdout",
     "output_type": "stream",
     "text": [
      "Error processing faces/frame_50_face_0.jpg: Face could not be detected in faces/frame_50_face_0.jpg.Please confirm that the picture is a face photo or consider to set enforce_detection param to False.\n"
     ]
    },
    {
     "name": "stderr",
     "output_type": "stream",
     "text": [
      "0it [00:00, ?it/s]\n",
      "0it [00:00, ?it/s]\n",
      " 88%|████████▊ | 43/49 [00:13<00:01,  3.44it/s]"
     ]
    },
    {
     "name": "stdout",
     "output_type": "stream",
     "text": [
      "Error processing faces/frame_45_face_1.jpg: Face could not be detected in faces/frame_45_face_1.jpg.Please confirm that the picture is a face photo or consider to set enforce_detection param to False.\n"
     ]
    },
    {
     "name": "stderr",
     "output_type": "stream",
     "text": [
      "100%|██████████| 49/49 [00:15<00:00,  3.20it/s]\n",
      "0it [00:00, ?it/s]\n",
      "0it [00:00, ?it/s]\n",
      " 69%|██████▉   | 33/48 [00:11<00:04,  3.34it/s]"
     ]
    },
    {
     "name": "stdout",
     "output_type": "stream",
     "text": [
      "Error processing faces/frame_36_face_0.jpg: Face could not be detected in faces/frame_36_face_0.jpg.Please confirm that the picture is a face photo or consider to set enforce_detection param to False.\n"
     ]
    },
    {
     "name": "stderr",
     "output_type": "stream",
     "text": [
      "100%|██████████| 48/48 [00:15<00:00,  3.19it/s]\n"
     ]
    },
    {
     "name": "stdout",
     "output_type": "stream",
     "text": [
      "Error processing faces/frame_50_face_0.jpg: Face could not be detected in faces/frame_50_face_0.jpg.Please confirm that the picture is a face photo or consider to set enforce_detection param to False.\n"
     ]
    },
    {
     "name": "stderr",
     "output_type": "stream",
     "text": [
      "0it [00:00, ?it/s]\n",
      " 69%|██████▉   | 33/48 [00:10<00:04,  3.31it/s]"
     ]
    },
    {
     "name": "stdout",
     "output_type": "stream",
     "text": [
      "Error processing faces/frame_36_face_0.jpg: Face could not be detected in faces/frame_36_face_0.jpg.Please confirm that the picture is a face photo or consider to set enforce_detection param to False.\n"
     ]
    },
    {
     "name": "stderr",
     "output_type": "stream",
     "text": [
      "100%|██████████| 48/48 [00:14<00:00,  3.27it/s]\n"
     ]
    },
    {
     "name": "stdout",
     "output_type": "stream",
     "text": [
      "Error processing faces/frame_50_face_0.jpg: Face could not be detected in faces/frame_50_face_0.jpg.Please confirm that the picture is a face photo or consider to set enforce_detection param to False.\n"
     ]
    },
    {
     "name": "stderr",
     "output_type": "stream",
     "text": [
      "0it [00:00, ?it/s]\n",
      "0it [00:00, ?it/s]\n",
      " 69%|██████▉   | 33/48 [00:10<00:04,  3.37it/s]"
     ]
    },
    {
     "name": "stdout",
     "output_type": "stream",
     "text": [
      "Error processing faces/frame_36_face_0.jpg: Face could not be detected in faces/frame_36_face_0.jpg.Please confirm that the picture is a face photo or consider to set enforce_detection param to False.\n"
     ]
    },
    {
     "name": "stderr",
     "output_type": "stream",
     "text": [
      "100%|██████████| 48/48 [00:15<00:00,  3.18it/s]\n"
     ]
    },
    {
     "name": "stdout",
     "output_type": "stream",
     "text": [
      "Error processing faces/frame_50_face_0.jpg: Face could not be detected in faces/frame_50_face_0.jpg.Please confirm that the picture is a face photo or consider to set enforce_detection param to False.\n"
     ]
    },
    {
     "name": "stderr",
     "output_type": "stream",
     "text": [
      " 69%|██████▉   | 33/48 [00:10<00:04,  3.41it/s]"
     ]
    },
    {
     "name": "stdout",
     "output_type": "stream",
     "text": [
      "Error processing faces/frame_36_face_0.jpg: Face could not be detected in faces/frame_36_face_0.jpg.Please confirm that the picture is a face photo or consider to set enforce_detection param to False.\n"
     ]
    },
    {
     "name": "stderr",
     "output_type": "stream",
     "text": [
      "100%|██████████| 48/48 [00:14<00:00,  3.26it/s]\n"
     ]
    },
    {
     "name": "stdout",
     "output_type": "stream",
     "text": [
      "Error processing faces/frame_50_face_0.jpg: Face could not be detected in faces/frame_50_face_0.jpg.Please confirm that the picture is a face photo or consider to set enforce_detection param to False.\n"
     ]
    },
    {
     "name": "stderr",
     "output_type": "stream",
     "text": [
      " 88%|████████▊ | 43/49 [00:13<00:01,  3.44it/s]"
     ]
    },
    {
     "name": "stdout",
     "output_type": "stream",
     "text": [
      "Error processing faces/frame_45_face_1.jpg: Face could not be detected in faces/frame_45_face_1.jpg.Please confirm that the picture is a face photo or consider to set enforce_detection param to False.\n"
     ]
    },
    {
     "name": "stderr",
     "output_type": "stream",
     "text": [
      "100%|██████████| 49/49 [00:15<00:00,  3.17it/s]\n",
      " 88%|████████▊ | 43/49 [00:14<00:01,  3.40it/s]"
     ]
    },
    {
     "name": "stdout",
     "output_type": "stream",
     "text": [
      "Error processing faces/frame_45_face_1.jpg: Face could not be detected in faces/frame_45_face_1.jpg.Please confirm that the picture is a face photo or consider to set enforce_detection param to False.\n"
     ]
    },
    {
     "name": "stderr",
     "output_type": "stream",
     "text": [
      "100%|██████████| 49/49 [00:15<00:00,  3.06it/s]\n",
      "0it [00:00, ?it/s]\n",
      "  2%|▏         | 1/56 [00:00<00:17,  3.20it/s]"
     ]
    },
    {
     "name": "stdout",
     "output_type": "stream",
     "text": [
      "Error processing faces/frame_1_face_0.jpg: Face could not be detected in faces/frame_1_face_0.jpg.Please confirm that the picture is a face photo or consider to set enforce_detection param to False.\n"
     ]
    },
    {
     "name": "stderr",
     "output_type": "stream",
     "text": [
      " 11%|█         | 6/56 [00:01<00:13,  3.63it/s]"
     ]
    },
    {
     "name": "stdout",
     "output_type": "stream",
     "text": [
      "Error processing faces/frame_4_face_1.jpg: Face could not be detected in faces/frame_4_face_1.jpg.Please confirm that the picture is a face photo or consider to set enforce_detection param to False.\n"
     ]
    },
    {
     "name": "stderr",
     "output_type": "stream",
     "text": [
      " 27%|██▋       | 15/56 [00:04<00:12,  3.24it/s]"
     ]
    },
    {
     "name": "stdout",
     "output_type": "stream",
     "text": [
      "Error processing faces/frame_12_face_1.jpg: Face could not be detected in faces/frame_12_face_1.jpg.Please confirm that the picture is a face photo or consider to set enforce_detection param to False.\n"
     ]
    },
    {
     "name": "stderr",
     "output_type": "stream",
     "text": [
      " 32%|███▏      | 18/56 [00:04<00:10,  3.80it/s]"
     ]
    },
    {
     "name": "stdout",
     "output_type": "stream",
     "text": [
      "Error processing faces/frame_14_face_1.jpg: Face could not be detected in faces/frame_14_face_1.jpg.Please confirm that the picture is a face photo or consider to set enforce_detection param to False.\n"
     ]
    },
    {
     "name": "stderr",
     "output_type": "stream",
     "text": [
      " 38%|███▊      | 21/56 [00:05<00:08,  4.08it/s]"
     ]
    },
    {
     "name": "stdout",
     "output_type": "stream",
     "text": [
      "Error processing faces/frame_16_face_1.jpg: Face could not be detected in faces/frame_16_face_1.jpg.Please confirm that the picture is a face photo or consider to set enforce_detection param to False.\n"
     ]
    },
    {
     "name": "stderr",
     "output_type": "stream",
     "text": [
      "\r 41%|████      | 23/56 [00:05<00:07,  4.70it/s]"
     ]
    },
    {
     "name": "stdout",
     "output_type": "stream",
     "text": [
      "Error processing faces/frame_17_face_1.jpg: Face could not be detected in faces/frame_17_face_1.jpg.Please confirm that the picture is a face photo or consider to set enforce_detection param to False.\n"
     ]
    },
    {
     "name": "stderr",
     "output_type": "stream",
     "text": [
      " 52%|█████▏    | 29/56 [00:07<00:08,  3.36it/s]"
     ]
    },
    {
     "name": "stdout",
     "output_type": "stream",
     "text": [
      "Error processing faces/frame_22_face_1.jpg: Face could not be detected in faces/frame_22_face_1.jpg.Please confirm that the picture is a face photo or consider to set enforce_detection param to False.\n",
      "Error processing faces/frame_22_face_2.jpg: Face could not be detected in faces/frame_22_face_2.jpg.Please confirm that the picture is a face photo or consider to set enforce_detection param to False.\n"
     ]
    },
    {
     "name": "stderr",
     "output_type": "stream",
     "text": [
      " 59%|█████▉    | 33/56 [00:08<00:05,  4.24it/s]"
     ]
    },
    {
     "name": "stdout",
     "output_type": "stream",
     "text": [
      "Error processing faces/frame_24_face_1.jpg: Face could not be detected in faces/frame_24_face_1.jpg.Please confirm that the picture is a face photo or consider to set enforce_detection param to False.\n"
     ]
    },
    {
     "name": "stderr",
     "output_type": "stream",
     "text": [
      " 66%|██████▌   | 37/56 [00:09<00:05,  3.77it/s]"
     ]
    },
    {
     "name": "stdout",
     "output_type": "stream",
     "text": [
      "Error processing faces/frame_27_face_1.jpg: Face could not be detected in faces/frame_27_face_1.jpg.Please confirm that the picture is a face photo or consider to set enforce_detection param to False.\n"
     ]
    },
    {
     "name": "stderr",
     "output_type": "stream",
     "text": [
      "\r 70%|██████▉   | 39/56 [00:09<00:03,  4.33it/s]"
     ]
    },
    {
     "name": "stdout",
     "output_type": "stream",
     "text": [
      "Error processing faces/frame_28_face_1.jpg: Face could not be detected in faces/frame_28_face_1.jpg.Please confirm that the picture is a face photo or consider to set enforce_detection param to False.\n",
      "Error processing faces/frame_28_face_2.jpg: Face could not be detected in faces/frame_28_face_2.jpg.Please confirm that the picture is a face photo or consider to set enforce_detection param to False.\n"
     ]
    },
    {
     "name": "stderr",
     "output_type": "stream",
     "text": [
      " 88%|████████▊ | 49/56 [00:13<00:03,  2.28it/s]"
     ]
    },
    {
     "name": "stdout",
     "output_type": "stream",
     "text": [
      "Error processing faces/frame_36_face_1.jpg: Face could not be detected in faces/frame_36_face_1.jpg.Please confirm that the picture is a face photo or consider to set enforce_detection param to False.\n"
     ]
    },
    {
     "name": "stderr",
     "output_type": "stream",
     "text": [
      " 93%|█████████▎| 52/56 [00:14<00:01,  3.06it/s]"
     ]
    },
    {
     "name": "stdout",
     "output_type": "stream",
     "text": [
      "Error processing faces/frame_38_face_1.jpg: Face could not be detected in faces/frame_38_face_1.jpg.Please confirm that the picture is a face photo or consider to set enforce_detection param to False.\n"
     ]
    },
    {
     "name": "stderr",
     "output_type": "stream",
     "text": [
      "100%|██████████| 56/56 [00:14<00:00,  3.89it/s]\n"
     ]
    },
    {
     "name": "stdout",
     "output_type": "stream",
     "text": [
      "Error processing faces/frame_39_face_1.jpg: Face could not be detected in faces/frame_39_face_1.jpg.Please confirm that the picture is a face photo or consider to set enforce_detection param to False.\n",
      "Error processing faces/frame_39_face_2.jpg: Face could not be detected in faces/frame_39_face_2.jpg.Please confirm that the picture is a face photo or consider to set enforce_detection param to False.\n"
     ]
    },
    {
     "name": "stderr",
     "output_type": "stream",
     "text": [
      "0it [00:00, ?it/s]\n",
      "100%|██████████| 3/3 [00:00<00:00, 111.75it/s]\n"
     ]
    },
    {
     "name": "stdout",
     "output_type": "stream",
     "text": [
      "Error processing faces/frame_13_face_0.jpg: Face could not be detected in faces/frame_13_face_0.jpg.Please confirm that the picture is a face photo or consider to set enforce_detection param to False.\n",
      "Error processing faces/frame_13_face_1.jpg: Face could not be detected in faces/frame_13_face_1.jpg.Please confirm that the picture is a face photo or consider to set enforce_detection param to False.\n",
      "Error processing faces/frame_45_face_0.jpg: Face could not be detected in faces/frame_45_face_0.jpg.Please confirm that the picture is a face photo or consider to set enforce_detection param to False.\n"
     ]
    },
    {
     "name": "stderr",
     "output_type": "stream",
     "text": [
      "0it [00:00, ?it/s]\n",
      " 88%|████████▊ | 43/49 [00:14<00:01,  3.05it/s]"
     ]
    },
    {
     "name": "stdout",
     "output_type": "stream",
     "text": [
      "Error processing faces/frame_45_face_1.jpg: Face could not be detected in faces/frame_45_face_1.jpg.Please confirm that the picture is a face photo or consider to set enforce_detection param to False.\n"
     ]
    },
    {
     "name": "stderr",
     "output_type": "stream",
     "text": [
      "100%|██████████| 49/49 [00:15<00:00,  3.14it/s]\n",
      " 69%|██████▉   | 33/48 [00:10<00:04,  3.30it/s]"
     ]
    },
    {
     "name": "stdout",
     "output_type": "stream",
     "text": [
      "Error processing faces/frame_36_face_0.jpg: Face could not be detected in faces/frame_36_face_0.jpg.Please confirm that the picture is a face photo or consider to set enforce_detection param to False.\n"
     ]
    },
    {
     "name": "stderr",
     "output_type": "stream",
     "text": [
      "100%|██████████| 48/48 [00:16<00:00,  2.88it/s]\n"
     ]
    },
    {
     "name": "stdout",
     "output_type": "stream",
     "text": [
      "Error processing faces/frame_50_face_0.jpg: Face could not be detected in faces/frame_50_face_0.jpg.Please confirm that the picture is a face photo or consider to set enforce_detection param to False.\n"
     ]
    },
    {
     "name": "stderr",
     "output_type": "stream",
     "text": [
      "0it [00:00, ?it/s]\n",
      "0it [00:00, ?it/s]\n",
      "0it [00:00, ?it/s]\n",
      " 69%|██████▉   | 33/48 [00:10<00:04,  3.37it/s]"
     ]
    },
    {
     "name": "stdout",
     "output_type": "stream",
     "text": [
      "Error processing faces/frame_36_face_0.jpg: Face could not be detected in faces/frame_36_face_0.jpg.Please confirm that the picture is a face photo or consider to set enforce_detection param to False.\n"
     ]
    },
    {
     "name": "stderr",
     "output_type": "stream",
     "text": [
      "100%|██████████| 48/48 [00:14<00:00,  3.25it/s]\n"
     ]
    },
    {
     "name": "stdout",
     "output_type": "stream",
     "text": [
      "Error processing faces/frame_50_face_0.jpg: Face could not be detected in faces/frame_50_face_0.jpg.Please confirm that the picture is a face photo or consider to set enforce_detection param to False.\n"
     ]
    },
    {
     "name": "stderr",
     "output_type": "stream",
     "text": [
      "0it [00:00, ?it/s]\n",
      "  0%|          | 0/7 [00:00<?, ?it/s]"
     ]
    },
    {
     "name": "stdout",
     "output_type": "stream",
     "text": [
      "Error processing faces/frame_9_face_0.jpg: Face could not be detected in faces/frame_9_face_0.jpg.Please confirm that the picture is a face photo or consider to set enforce_detection param to False.\n",
      "Error processing faces/frame_17_face_0.jpg: Face could not be detected in faces/frame_17_face_0.jpg.Please confirm that the picture is a face photo or consider to set enforce_detection param to False.\n",
      "Error processing faces/frame_19_face_0.jpg: Face could not be detected in faces/frame_19_face_0.jpg.Please confirm that the picture is a face photo or consider to set enforce_detection param to False.\n",
      "Error processing faces/frame_21_face_0.jpg: Face could not be detected in faces/frame_21_face_0.jpg.Please confirm that the picture is a face photo or consider to set enforce_detection param to False.\n"
     ]
    },
    {
     "name": "stderr",
     "output_type": "stream",
     "text": [
      "\r 71%|███████▏  | 5/7 [00:00<00:00, 15.61it/s]"
     ]
    },
    {
     "name": "stdout",
     "output_type": "stream",
     "text": [
      "Error processing faces/frame_22_face_0.jpg: Face could not be detected in faces/frame_22_face_0.jpg.Please confirm that the picture is a face photo or consider to set enforce_detection param to False.\n"
     ]
    },
    {
     "name": "stderr",
     "output_type": "stream",
     "text": [
      "100%|██████████| 7/7 [00:00<00:00, 10.22it/s]"
     ]
    },
    {
     "name": "stdout",
     "output_type": "stream",
     "text": [
      "Error processing faces/frame_27_face_0.jpg: Face could not be detected in faces/frame_27_face_0.jpg.Please confirm that the picture is a face photo or consider to set enforce_detection param to False.\n",
      "Error processing faces/frame_43_face_0.jpg: Face could not be detected in faces/frame_43_face_0.jpg.Please confirm that the picture is a face photo or consider to set enforce_detection param to False.\n"
     ]
    },
    {
     "name": "stderr",
     "output_type": "stream",
     "text": [
      "\n",
      "0it [00:00, ?it/s]\n",
      "0it [00:00, ?it/s]\n",
      "0it [00:00, ?it/s]\n",
      "  0%|          | 0/15 [00:00<?, ?it/s]"
     ]
    },
    {
     "name": "stdout",
     "output_type": "stream",
     "text": [
      "Error processing faces/frame_23_face_0.jpg: Face could not be detected in faces/frame_23_face_0.jpg.Please confirm that the picture is a face photo or consider to set enforce_detection param to False.\n",
      "Error processing faces/frame_24_face_0.jpg: Face could not be detected in faces/frame_24_face_0.jpg.Please confirm that the picture is a face photo or consider to set enforce_detection param to False.\n"
     ]
    },
    {
     "name": "stderr",
     "output_type": "stream",
     "text": [
      " 53%|█████▎    | 8/15 [00:01<00:01,  4.51it/s]"
     ]
    },
    {
     "name": "stdout",
     "output_type": "stream",
     "text": [
      "Error processing faces/frame_34_face_0.jpg: Face could not be detected in faces/frame_34_face_0.jpg.Please confirm that the picture is a face photo or consider to set enforce_detection param to False.\n"
     ]
    },
    {
     "name": "stderr",
     "output_type": "stream",
     "text": [
      " 73%|███████▎  | 11/15 [00:02<00:00,  5.16it/s]"
     ]
    },
    {
     "name": "stdout",
     "output_type": "stream",
     "text": [
      "Error processing faces/frame_45_face_0.jpg: Face could not be detected in faces/frame_45_face_0.jpg.Please confirm that the picture is a face photo or consider to set enforce_detection param to False.\n"
     ]
    },
    {
     "name": "stderr",
     "output_type": "stream",
     "text": [
      "100%|██████████| 15/15 [00:02<00:00,  5.70it/s]\n"
     ]
    },
    {
     "name": "stdout",
     "output_type": "stream",
     "text": [
      "Error processing faces/frame_49_face_0.jpg: Face could not be detected in faces/frame_49_face_0.jpg.Please confirm that the picture is a face photo or consider to set enforce_detection param to False.\n"
     ]
    },
    {
     "name": "stderr",
     "output_type": "stream",
     "text": [
      " 40%|████      | 2/5 [00:00<00:00,  5.20it/s]"
     ]
    },
    {
     "name": "stdout",
     "output_type": "stream",
     "text": [
      "Error processing faces/frame_37_face_0.jpg: Face could not be detected in faces/frame_37_face_0.jpg.Please confirm that the picture is a face photo or consider to set enforce_detection param to False.\n"
     ]
    },
    {
     "name": "stderr",
     "output_type": "stream",
     "text": [
      "\r 60%|██████    | 3/5 [00:00<00:00,  3.02it/s]"
     ]
    },
    {
     "name": "stdout",
     "output_type": "stream",
     "text": [
      "Error processing faces/frame_39_face_0.jpg: Face could not be detected in faces/frame_39_face_0.jpg.Please confirm that the picture is a face photo or consider to set enforce_detection param to False.\n"
     ]
    },
    {
     "name": "stderr",
     "output_type": "stream",
     "text": [
      "100%|██████████| 5/5 [00:01<00:00,  4.07it/s]\n",
      "  9%|▉         | 3/33 [00:00<00:08,  3.38it/s]"
     ]
    },
    {
     "name": "stdout",
     "output_type": "stream",
     "text": [
      "Error processing faces/frame_2_face_1.jpg: Face could not be detected in faces/frame_2_face_1.jpg.Please confirm that the picture is a face photo or consider to set enforce_detection param to False.\n"
     ]
    },
    {
     "name": "stderr",
     "output_type": "stream",
     "text": [
      " 18%|█▊        | 6/33 [00:01<00:06,  4.06it/s]"
     ]
    },
    {
     "name": "stdout",
     "output_type": "stream",
     "text": [
      "Error processing faces/frame_6_face_1.jpg: Face could not be detected in faces/frame_6_face_1.jpg.Please confirm that the picture is a face photo or consider to set enforce_detection param to False.\n",
      "Error processing faces/frame_7_face_0.jpg: Face could not be detected in faces/frame_7_face_0.jpg.Please confirm that the picture is a face photo or consider to set enforce_detection param to False.\n",
      "Error processing faces/frame_7_face_1.jpg: Face could not be detected in faces/frame_7_face_1.jpg.Please confirm that the picture is a face photo or consider to set enforce_detection param to False.\n"
     ]
    },
    {
     "name": "stderr",
     "output_type": "stream",
     "text": [
      " 33%|███▎      | 11/33 [00:02<00:03,  5.61it/s]"
     ]
    },
    {
     "name": "stdout",
     "output_type": "stream",
     "text": [
      "Error processing faces/frame_10_face_0.jpg: Face could not be detected in faces/frame_10_face_0.jpg.Please confirm that the picture is a face photo or consider to set enforce_detection param to False.\n",
      "Error processing faces/frame_13_face_0.jpg: Face could not be detected in faces/frame_13_face_0.jpg.Please confirm that the picture is a face photo or consider to set enforce_detection param to False.\n"
     ]
    },
    {
     "name": "stderr",
     "output_type": "stream",
     "text": [
      " 48%|████▊     | 16/33 [00:03<00:03,  5.52it/s]"
     ]
    },
    {
     "name": "stdout",
     "output_type": "stream",
     "text": [
      "Error processing faces/frame_18_face_0.jpg: Face could not be detected in faces/frame_18_face_0.jpg.Please confirm that the picture is a face photo or consider to set enforce_detection param to False.\n"
     ]
    },
    {
     "name": "stderr",
     "output_type": "stream",
     "text": [
      "\r 55%|█████▍    | 18/33 [00:03<00:02,  6.33it/s]"
     ]
    },
    {
     "name": "stdout",
     "output_type": "stream",
     "text": [
      "Error processing faces/frame_24_face_0.jpg: Face could not be detected in faces/frame_24_face_0.jpg.Please confirm that the picture is a face photo or consider to set enforce_detection param to False.\n",
      "Error processing faces/frame_25_face_0.jpg: Face could not be detected in faces/frame_25_face_0.jpg.Please confirm that the picture is a face photo or consider to set enforce_detection param to False.\n",
      "Error processing faces/frame_26_face_0.jpg: Face could not be detected in faces/frame_26_face_0.jpg.Please confirm that the picture is a face photo or consider to set enforce_detection param to False.\n"
     ]
    },
    {
     "name": "stderr",
     "output_type": "stream",
     "text": [
      "\r 67%|██████▋   | 22/33 [00:03<00:01,  9.08it/s]"
     ]
    },
    {
     "name": "stdout",
     "output_type": "stream",
     "text": [
      "Error processing faces/frame_31_face_0.jpg: Face could not be detected in faces/frame_31_face_0.jpg.Please confirm that the picture is a face photo or consider to set enforce_detection param to False.\n"
     ]
    },
    {
     "name": "stderr",
     "output_type": "stream",
     "text": [
      " 82%|████████▏ | 27/33 [00:04<00:00,  6.22it/s]"
     ]
    },
    {
     "name": "stdout",
     "output_type": "stream",
     "text": [
      "Error processing faces/frame_35_face_1.jpg: Face could not be detected in faces/frame_35_face_1.jpg.Please confirm that the picture is a face photo or consider to set enforce_detection param to False.\n"
     ]
    },
    {
     "name": "stderr",
     "output_type": "stream",
     "text": [
      " 91%|█████████ | 30/33 [00:04<00:00,  6.22it/s]"
     ]
    },
    {
     "name": "stdout",
     "output_type": "stream",
     "text": [
      "Error processing faces/frame_38_face_0.jpg: Face could not be detected in faces/frame_38_face_0.jpg.Please confirm that the picture is a face photo or consider to set enforce_detection param to False.\n",
      "Error processing faces/frame_39_face_0.jpg: Face could not be detected in faces/frame_39_face_0.jpg.Please confirm that the picture is a face photo or consider to set enforce_detection param to False.\n"
     ]
    },
    {
     "name": "stderr",
     "output_type": "stream",
     "text": [
      "100%|██████████| 33/33 [00:05<00:00,  6.44it/s]\n",
      "0it [00:00, ?it/s]\n",
      "  6%|▌         | 7/117 [00:01<00:25,  4.29it/s]"
     ]
    },
    {
     "name": "stdout",
     "output_type": "stream",
     "text": [
      "Error processing faces/frame_3_face_1.jpg: Face could not be detected in faces/frame_3_face_1.jpg.Please confirm that the picture is a face photo or consider to set enforce_detection param to False.\n"
     ]
    },
    {
     "name": "stderr",
     "output_type": "stream",
     "text": [
      " 11%|█         | 13/117 [00:02<00:22,  4.70it/s]"
     ]
    },
    {
     "name": "stdout",
     "output_type": "stream",
     "text": [
      "Error processing faces/frame_6_face_1.jpg: Face could not be detected in faces/frame_6_face_1.jpg.Please confirm that the picture is a face photo or consider to set enforce_detection param to False.\n"
     ]
    },
    {
     "name": "stderr",
     "output_type": "stream",
     "text": [
      " 16%|█▌        | 19/117 [00:04<00:20,  4.77it/s]"
     ]
    },
    {
     "name": "stdout",
     "output_type": "stream",
     "text": [
      "Error processing faces/frame_8_face_1.jpg: Face could not be detected in faces/frame_8_face_1.jpg.Please confirm that the picture is a face photo or consider to set enforce_detection param to False.\n"
     ]
    },
    {
     "name": "stderr",
     "output_type": "stream",
     "text": [
      " 19%|█▉        | 22/117 [00:04<00:17,  5.45it/s]"
     ]
    },
    {
     "name": "stdout",
     "output_type": "stream",
     "text": [
      "Error processing faces/frame_9_face_1.jpg: Face could not be detected in faces/frame_9_face_1.jpg.Please confirm that the picture is a face photo or consider to set enforce_detection param to False.\n",
      "Error processing faces/frame_9_face_2.jpg: Face could not be detected in faces/frame_9_face_2.jpg.Please confirm that the picture is a face photo or consider to set enforce_detection param to False.\n"
     ]
    },
    {
     "name": "stderr",
     "output_type": "stream",
     "text": [
      " 22%|██▏       | 26/117 [00:04<00:13,  6.67it/s]"
     ]
    },
    {
     "name": "stdout",
     "output_type": "stream",
     "text": [
      "Error processing faces/frame_11_face_0.jpg: Face could not be detected in faces/frame_11_face_0.jpg.Please confirm that the picture is a face photo or consider to set enforce_detection param to False.\n"
     ]
    },
    {
     "name": "stderr",
     "output_type": "stream",
     "text": [
      "\r 24%|██▍       | 28/117 [00:05<00:12,  6.90it/s]"
     ]
    },
    {
     "name": "stdout",
     "output_type": "stream",
     "text": [
      "Error processing faces/frame_11_face_2.jpg: Face could not be detected in faces/frame_11_face_2.jpg.Please confirm that the picture is a face photo or consider to set enforce_detection param to False.\n",
      "Error processing faces/frame_11_face_3.jpg: Face could not be detected in faces/frame_11_face_3.jpg.Please confirm that the picture is a face photo or consider to set enforce_detection param to False.\n"
     ]
    },
    {
     "name": "stderr",
     "output_type": "stream",
     "text": [
      "\r 26%|██▋       | 31/117 [00:05<00:10,  8.36it/s]"
     ]
    },
    {
     "name": "stdout",
     "output_type": "stream",
     "text": [
      "Error processing faces/frame_12_face_1.jpg: Face could not be detected in faces/frame_12_face_1.jpg.Please confirm that the picture is a face photo or consider to set enforce_detection param to False.\n",
      "Error processing faces/frame_12_face_2.jpg: Face could not be detected in faces/frame_12_face_2.jpg.Please confirm that the picture is a face photo or consider to set enforce_detection param to False.\n"
     ]
    },
    {
     "name": "stderr",
     "output_type": "stream",
     "text": [
      "\r 29%|██▉       | 34/117 [00:05<00:08,  9.50it/s]"
     ]
    },
    {
     "name": "stdout",
     "output_type": "stream",
     "text": [
      "Error processing faces/frame_13_face_1.jpg: Face could not be detected in faces/frame_13_face_1.jpg.Please confirm that the picture is a face photo or consider to set enforce_detection param to False.\n",
      "Error processing faces/frame_13_face_2.jpg: Face could not be detected in faces/frame_13_face_2.jpg.Please confirm that the picture is a face photo or consider to set enforce_detection param to False.\n"
     ]
    },
    {
     "name": "stderr",
     "output_type": "stream",
     "text": [
      " 33%|███▎      | 39/117 [00:06<00:07,  9.91it/s]"
     ]
    },
    {
     "name": "stdout",
     "output_type": "stream",
     "text": [
      "Error processing faces/frame_14_face_2.jpg: Face could not be detected in faces/frame_14_face_2.jpg.Please confirm that the picture is a face photo or consider to set enforce_detection param to False.\n",
      "Error processing faces/frame_15_face_0.jpg: Face could not be detected in faces/frame_15_face_0.jpg.Please confirm that the picture is a face photo or consider to set enforce_detection param to False.\n"
     ]
    },
    {
     "name": "stderr",
     "output_type": "stream",
     "text": [
      " 38%|███▊      | 44/117 [00:07<00:11,  6.20it/s]"
     ]
    },
    {
     "name": "stdout",
     "output_type": "stream",
     "text": [
      "Error processing faces/frame_16_face_1.jpg: Face could not be detected in faces/frame_16_face_1.jpg.Please confirm that the picture is a face photo or consider to set enforce_detection param to False.\n"
     ]
    },
    {
     "name": "stderr",
     "output_type": "stream",
     "text": [
      " 40%|████      | 47/117 [00:07<00:11,  6.01it/s]"
     ]
    },
    {
     "name": "stdout",
     "output_type": "stream",
     "text": [
      "Error processing faces/frame_17_face_1.jpg: Face could not be detected in faces/frame_17_face_1.jpg.Please confirm that the picture is a face photo or consider to set enforce_detection param to False.\n"
     ]
    },
    {
     "name": "stderr",
     "output_type": "stream",
     "text": [
      " 44%|████▎     | 51/117 [00:08<00:12,  5.43it/s]"
     ]
    },
    {
     "name": "stdout",
     "output_type": "stream",
     "text": [
      "Error processing faces/frame_18_face_1.jpg: Face could not be detected in faces/frame_18_face_1.jpg.Please confirm that the picture is a face photo or consider to set enforce_detection param to False.\n"
     ]
    },
    {
     "name": "stderr",
     "output_type": "stream",
     "text": [
      " 54%|█████▍    | 63/117 [00:10<00:13,  3.95it/s]"
     ]
    },
    {
     "name": "stdout",
     "output_type": "stream",
     "text": [
      "Error processing faces/frame_23_face_1.jpg: Face could not be detected in faces/frame_23_face_1.jpg.Please confirm that the picture is a face photo or consider to set enforce_detection param to False.\n",
      "Error processing faces/frame_23_face_2.jpg: Face could not be detected in faces/frame_23_face_2.jpg.Please confirm that the picture is a face photo or consider to set enforce_detection param to False.\n"
     ]
    },
    {
     "name": "stderr",
     "output_type": "stream",
     "text": [
      "\r 56%|█████▋    | 66/117 [00:11<00:08,  5.67it/s]"
     ]
    },
    {
     "name": "stdout",
     "output_type": "stream",
     "text": [
      "Error processing faces/frame_24_face_1.jpg: Face could not be detected in faces/frame_24_face_1.jpg.Please confirm that the picture is a face photo or consider to set enforce_detection param to False.\n",
      "Error processing faces/frame_24_face_2.jpg: Face could not be detected in faces/frame_24_face_2.jpg.Please confirm that the picture is a face photo or consider to set enforce_detection param to False.\n",
      "Error processing faces/frame_24_face_3.jpg: Face could not be detected in faces/frame_24_face_3.jpg.Please confirm that the picture is a face photo or consider to set enforce_detection param to False.\n"
     ]
    },
    {
     "name": "stderr",
     "output_type": "stream",
     "text": [
      "\r 60%|█████▉    | 70/117 [00:11<00:06,  7.57it/s]"
     ]
    },
    {
     "name": "stdout",
     "output_type": "stream",
     "text": [
      "Error processing faces/frame_25_face_1.jpg: Face could not be detected in faces/frame_25_face_1.jpg.Please confirm that the picture is a face photo or consider to set enforce_detection param to False.\n"
     ]
    },
    {
     "name": "stderr",
     "output_type": "stream",
     "text": [
      "\r 62%|██████▏   | 72/117 [00:11<00:06,  7.09it/s]"
     ]
    },
    {
     "name": "stdout",
     "output_type": "stream",
     "text": [
      "Error processing faces/frame_26_face_1.jpg: Face could not be detected in faces/frame_26_face_1.jpg.Please confirm that the picture is a face photo or consider to set enforce_detection param to False.\n"
     ]
    },
    {
     "name": "stderr",
     "output_type": "stream",
     "text": [
      " 67%|██████▋   | 78/117 [00:13<00:08,  4.40it/s]"
     ]
    },
    {
     "name": "stdout",
     "output_type": "stream",
     "text": [
      "Error processing faces/frame_29_face_1.jpg: Face could not be detected in faces/frame_29_face_1.jpg.Please confirm that the picture is a face photo or consider to set enforce_detection param to False.\n",
      "Error processing faces/frame_29_face_2.jpg: Face could not be detected in faces/frame_29_face_2.jpg.Please confirm that the picture is a face photo or consider to set enforce_detection param to False.\n"
     ]
    },
    {
     "name": "stderr",
     "output_type": "stream",
     "text": [
      "\r 69%|██████▉   | 81/117 [00:13<00:05,  6.28it/s]"
     ]
    },
    {
     "name": "stdout",
     "output_type": "stream",
     "text": [
      "Error processing faces/frame_30_face_1.jpg: Face could not be detected in faces/frame_30_face_1.jpg.Please confirm that the picture is a face photo or consider to set enforce_detection param to False.\n"
     ]
    },
    {
     "name": "stderr",
     "output_type": "stream",
     "text": [
      " 72%|███████▏  | 84/117 [00:14<00:05,  6.11it/s]"
     ]
    },
    {
     "name": "stdout",
     "output_type": "stream",
     "text": [
      "Error processing faces/frame_31_face_1.jpg: Face could not be detected in faces/frame_31_face_1.jpg.Please confirm that the picture is a face photo or consider to set enforce_detection param to False.\n",
      "Error processing faces/frame_31_face_2.jpg: Face could not be detected in faces/frame_31_face_2.jpg.Please confirm that the picture is a face photo or consider to set enforce_detection param to False.\n"
     ]
    },
    {
     "name": "stderr",
     "output_type": "stream",
     "text": [
      " 77%|███████▋  | 90/117 [00:15<00:04,  5.78it/s]"
     ]
    },
    {
     "name": "stdout",
     "output_type": "stream",
     "text": [
      "Error processing faces/frame_33_face_1.jpg: Face could not be detected in faces/frame_33_face_1.jpg.Please confirm that the picture is a face photo or consider to set enforce_detection param to False.\n"
     ]
    },
    {
     "name": "stderr",
     "output_type": "stream",
     "text": [
      "\r 79%|███████▊  | 92/117 [00:15<00:03,  6.52it/s]"
     ]
    },
    {
     "name": "stdout",
     "output_type": "stream",
     "text": [
      "Error processing faces/frame_34_face_1.jpg: Face could not be detected in faces/frame_34_face_1.jpg.Please confirm that the picture is a face photo or consider to set enforce_detection param to False.\n"
     ]
    },
    {
     "name": "stderr",
     "output_type": "stream",
     "text": [
      "\r 80%|████████  | 94/117 [00:15<00:03,  7.06it/s]"
     ]
    },
    {
     "name": "stdout",
     "output_type": "stream",
     "text": [
      "Error processing faces/frame_35_face_1.jpg: Face could not be detected in faces/frame_35_face_1.jpg.Please confirm that the picture is a face photo or consider to set enforce_detection param to False.\n",
      "Error processing faces/frame_35_face_2.jpg: Face could not be detected in faces/frame_35_face_2.jpg.Please confirm that the picture is a face photo or consider to set enforce_detection param to False.\n",
      "Error processing faces/frame_35_face_3.jpg: Face could not be detected in faces/frame_35_face_3.jpg.Please confirm that the picture is a face photo or consider to set enforce_detection param to False.\n"
     ]
    },
    {
     "name": "stderr",
     "output_type": "stream",
     "text": [
      " 89%|████████▉ | 104/117 [00:17<00:02,  5.09it/s]"
     ]
    },
    {
     "name": "stdout",
     "output_type": "stream",
     "text": [
      "Error processing faces/frame_39_face_1.jpg: Face could not be detected in faces/frame_39_face_1.jpg.Please confirm that the picture is a face photo or consider to set enforce_detection param to False.\n"
     ]
    },
    {
     "name": "stderr",
     "output_type": "stream",
     "text": [
      " 91%|█████████▏| 107/117 [00:17<00:01,  5.60it/s]"
     ]
    },
    {
     "name": "stdout",
     "output_type": "stream",
     "text": [
      "Error processing faces/frame_40_face_1.jpg: Face could not be detected in faces/frame_40_face_1.jpg.Please confirm that the picture is a face photo or consider to set enforce_detection param to False.\n"
     ]
    },
    {
     "name": "stderr",
     "output_type": "stream",
     "text": [
      "100%|██████████| 117/117 [00:19<00:00,  5.96it/s]\n"
     ]
    },
    {
     "name": "stdout",
     "output_type": "stream",
     "text": [
      "Error processing faces/frame_50_face_0.jpg: Face could not be detected in faces/frame_50_face_0.jpg.Please confirm that the picture is a face photo or consider to set enforce_detection param to False.\n"
     ]
    },
    {
     "name": "stderr",
     "output_type": "stream",
     "text": [
      " 88%|████████▊ | 43/49 [00:14<00:01,  3.51it/s]"
     ]
    },
    {
     "name": "stdout",
     "output_type": "stream",
     "text": [
      "Error processing faces/frame_45_face_1.jpg: Face could not be detected in faces/frame_45_face_1.jpg.Please confirm that the picture is a face photo or consider to set enforce_detection param to False.\n"
     ]
    },
    {
     "name": "stderr",
     "output_type": "stream",
     "text": [
      "100%|██████████| 49/49 [00:15<00:00,  3.16it/s]\n",
      "0it [00:00, ?it/s]\n",
      "0it [00:00, ?it/s]\n",
      "0it [00:00, ?it/s]\n",
      "0it [00:00, ?it/s]\n",
      "0it [00:00, ?it/s]\n",
      " 20%|██        | 1/5 [00:00<00:00,  4.51it/s]"
     ]
    },
    {
     "name": "stdout",
     "output_type": "stream",
     "text": [
      "Error processing faces/frame_37_face_0.jpg: Face could not be detected in faces/frame_37_face_0.jpg.Please confirm that the picture is a face photo or consider to set enforce_detection param to False.\n"
     ]
    },
    {
     "name": "stderr",
     "output_type": "stream",
     "text": [
      "\r 60%|██████    | 3/5 [00:00<00:00,  5.19it/s]"
     ]
    },
    {
     "name": "stdout",
     "output_type": "stream",
     "text": [
      "Error processing faces/frame_39_face_0.jpg: Face could not be detected in faces/frame_39_face_0.jpg.Please confirm that the picture is a face photo or consider to set enforce_detection param to False.\n"
     ]
    },
    {
     "name": "stderr",
     "output_type": "stream",
     "text": [
      "100%|██████████| 5/5 [00:00<00:00,  5.81it/s]\n",
      " 69%|██████▉   | 33/48 [00:11<00:05,  2.64it/s]"
     ]
    },
    {
     "name": "stdout",
     "output_type": "stream",
     "text": [
      "Error processing faces/frame_36_face_0.jpg: Face could not be detected in faces/frame_36_face_0.jpg.Please confirm that the picture is a face photo or consider to set enforce_detection param to False.\n"
     ]
    },
    {
     "name": "stderr",
     "output_type": "stream",
     "text": [
      "100%|██████████| 48/48 [00:14<00:00,  3.23it/s]\n"
     ]
    },
    {
     "name": "stdout",
     "output_type": "stream",
     "text": [
      "Error processing faces/frame_50_face_0.jpg: Face could not be detected in faces/frame_50_face_0.jpg.Please confirm that the picture is a face photo or consider to set enforce_detection param to False.\n"
     ]
    },
    {
     "name": "stderr",
     "output_type": "stream",
     "text": [
      "0it [00:00, ?it/s]\n",
      " 69%|██████▉   | 33/48 [00:11<00:04,  3.38it/s]"
     ]
    },
    {
     "name": "stdout",
     "output_type": "stream",
     "text": [
      "Error processing faces/frame_36_face_0.jpg: Face could not be detected in faces/frame_36_face_0.jpg.Please confirm that the picture is a face photo or consider to set enforce_detection param to False.\n"
     ]
    },
    {
     "name": "stderr",
     "output_type": "stream",
     "text": [
      "100%|██████████| 48/48 [00:14<00:00,  3.22it/s]\n"
     ]
    },
    {
     "name": "stdout",
     "output_type": "stream",
     "text": [
      "Error processing faces/frame_50_face_0.jpg: Face could not be detected in faces/frame_50_face_0.jpg.Please confirm that the picture is a face photo or consider to set enforce_detection param to False.\n"
     ]
    },
    {
     "name": "stderr",
     "output_type": "stream",
     "text": [
      "0it [00:00, ?it/s]\n",
      " 69%|██████▉   | 33/48 [00:10<00:05,  2.84it/s]"
     ]
    },
    {
     "name": "stdout",
     "output_type": "stream",
     "text": [
      "Error processing faces/frame_36_face_0.jpg: Face could not be detected in faces/frame_36_face_0.jpg.Please confirm that the picture is a face photo or consider to set enforce_detection param to False.\n"
     ]
    },
    {
     "name": "stderr",
     "output_type": "stream",
     "text": [
      "100%|██████████| 48/48 [00:14<00:00,  3.25it/s]\n"
     ]
    },
    {
     "name": "stdout",
     "output_type": "stream",
     "text": [
      "Error processing faces/frame_50_face_0.jpg: Face could not be detected in faces/frame_50_face_0.jpg.Please confirm that the picture is a face photo or consider to set enforce_detection param to False.\n"
     ]
    },
    {
     "name": "stderr",
     "output_type": "stream",
     "text": [
      "0it [00:00, ?it/s]\n",
      " 88%|████████▊ | 43/49 [00:14<00:02,  2.80it/s]"
     ]
    },
    {
     "name": "stdout",
     "output_type": "stream",
     "text": [
      "Error processing faces/frame_45_face_1.jpg: Face could not be detected in faces/frame_45_face_1.jpg.Please confirm that the picture is a face photo or consider to set enforce_detection param to False.\n"
     ]
    },
    {
     "name": "stderr",
     "output_type": "stream",
     "text": [
      "100%|██████████| 49/49 [00:16<00:00,  3.00it/s]\n",
      "0it [00:00, ?it/s]\n",
      " 69%|██████▉   | 33/48 [00:11<00:04,  3.36it/s]"
     ]
    },
    {
     "name": "stdout",
     "output_type": "stream",
     "text": [
      "Error processing faces/frame_36_face_0.jpg: Face could not be detected in faces/frame_36_face_0.jpg.Please confirm that the picture is a face photo or consider to set enforce_detection param to False.\n"
     ]
    },
    {
     "name": "stderr",
     "output_type": "stream",
     "text": [
      "100%|██████████| 48/48 [00:15<00:00,  3.17it/s]\n"
     ]
    },
    {
     "name": "stdout",
     "output_type": "stream",
     "text": [
      "Error processing faces/frame_50_face_0.jpg: Face could not be detected in faces/frame_50_face_0.jpg.Please confirm that the picture is a face photo or consider to set enforce_detection param to False.\n"
     ]
    },
    {
     "name": "stderr",
     "output_type": "stream",
     "text": [
      " 88%|████████▊ | 43/49 [00:14<00:01,  3.20it/s]"
     ]
    },
    {
     "name": "stdout",
     "output_type": "stream",
     "text": [
      "Error processing faces/frame_45_face_1.jpg: Face could not be detected in faces/frame_45_face_1.jpg.Please confirm that the picture is a face photo or consider to set enforce_detection param to False.\n"
     ]
    },
    {
     "name": "stderr",
     "output_type": "stream",
     "text": [
      "100%|██████████| 49/49 [00:16<00:00,  3.06it/s]\n",
      "0it [00:00, ?it/s]\n",
      "0it [00:00, ?it/s]\n",
      "100%|██████████| 2/2 [00:00<00:00, 131.44it/s]\n"
     ]
    },
    {
     "name": "stdout",
     "output_type": "stream",
     "text": [
      "Error processing faces/frame_26_face_0.jpg: Face could not be detected in faces/frame_26_face_0.jpg.Please confirm that the picture is a face photo or consider to set enforce_detection param to False.\n",
      "Error processing faces/frame_27_face_0.jpg: Face could not be detected in faces/frame_27_face_0.jpg.Please confirm that the picture is a face photo or consider to set enforce_detection param to False.\n"
     ]
    },
    {
     "name": "stderr",
     "output_type": "stream",
     "text": [
      "0it [00:00, ?it/s]\n",
      "0it [00:00, ?it/s]\n",
      "0it [00:00, ?it/s]\n",
      "0it [00:00, ?it/s]\n",
      "0it [00:00, ?it/s]\n",
      "0it [00:00, ?it/s]\n",
      " 69%|██████▉   | 33/48 [00:10<00:05,  2.65it/s]"
     ]
    },
    {
     "name": "stdout",
     "output_type": "stream",
     "text": [
      "Error processing faces/frame_36_face_0.jpg: Face could not be detected in faces/frame_36_face_0.jpg.Please confirm that the picture is a face photo or consider to set enforce_detection param to False.\n"
     ]
    },
    {
     "name": "stderr",
     "output_type": "stream",
     "text": [
      "100%|██████████| 48/48 [00:15<00:00,  3.19it/s]\n"
     ]
    },
    {
     "name": "stdout",
     "output_type": "stream",
     "text": [
      "Error processing faces/frame_50_face_0.jpg: Face could not be detected in faces/frame_50_face_0.jpg.Please confirm that the picture is a face photo or consider to set enforce_detection param to False.\n"
     ]
    },
    {
     "name": "stderr",
     "output_type": "stream",
     "text": [
      "0it [00:00, ?it/s]\n",
      "0it [00:00, ?it/s]\n",
      "0it [00:00, ?it/s]\n",
      " 88%|████████▊ | 43/49 [00:14<00:01,  3.36it/s]"
     ]
    },
    {
     "name": "stdout",
     "output_type": "stream",
     "text": [
      "Error processing faces/frame_45_face_1.jpg: Face could not be detected in faces/frame_45_face_1.jpg.Please confirm that the picture is a face photo or consider to set enforce_detection param to False.\n"
     ]
    },
    {
     "name": "stderr",
     "output_type": "stream",
     "text": [
      "100%|██████████| 49/49 [00:15<00:00,  3.16it/s]\n",
      "0it [00:00, ?it/s]\n",
      " 69%|██████▉   | 33/48 [00:11<00:04,  3.28it/s]"
     ]
    },
    {
     "name": "stdout",
     "output_type": "stream",
     "text": [
      "Error processing faces/frame_36_face_0.jpg: Face could not be detected in faces/frame_36_face_0.jpg.Please confirm that the picture is a face photo or consider to set enforce_detection param to False.\n"
     ]
    },
    {
     "name": "stderr",
     "output_type": "stream",
     "text": [
      "100%|██████████| 48/48 [00:14<00:00,  3.21it/s]\n"
     ]
    },
    {
     "name": "stdout",
     "output_type": "stream",
     "text": [
      "Error processing faces/frame_50_face_0.jpg: Face could not be detected in faces/frame_50_face_0.jpg.Please confirm that the picture is a face photo or consider to set enforce_detection param to False.\n"
     ]
    },
    {
     "name": "stderr",
     "output_type": "stream",
     "text": [
      " 69%|██████▉   | 33/48 [00:11<00:05,  2.95it/s]"
     ]
    },
    {
     "name": "stdout",
     "output_type": "stream",
     "text": [
      "Error processing faces/frame_36_face_0.jpg: Face could not be detected in faces/frame_36_face_0.jpg.Please confirm that the picture is a face photo or consider to set enforce_detection param to False.\n"
     ]
    },
    {
     "name": "stderr",
     "output_type": "stream",
     "text": [
      "100%|██████████| 48/48 [00:15<00:00,  3.17it/s]\n"
     ]
    },
    {
     "name": "stdout",
     "output_type": "stream",
     "text": [
      "Error processing faces/frame_50_face_0.jpg: Face could not be detected in faces/frame_50_face_0.jpg.Please confirm that the picture is a face photo or consider to set enforce_detection param to False.\n"
     ]
    },
    {
     "name": "stderr",
     "output_type": "stream",
     "text": [
      "\r  0%|          | 0/3 [00:00<?, ?it/s]"
     ]
    },
    {
     "name": "stdout",
     "output_type": "stream",
     "text": [
      "Error processing faces/frame_11_face_0.jpg: Face could not be detected in faces/frame_11_face_0.jpg.Please confirm that the picture is a face photo or consider to set enforce_detection param to False.\n",
      "Error processing faces/frame_26_face_0.jpg: Face could not be detected in faces/frame_26_face_0.jpg.Please confirm that the picture is a face photo or consider to set enforce_detection param to False.\n"
     ]
    },
    {
     "name": "stderr",
     "output_type": "stream",
     "text": [
      "100%|██████████| 3/3 [00:00<00:00,  7.10it/s]\n",
      "  0%|          | 0/25 [00:00<?, ?it/s]"
     ]
    },
    {
     "name": "stdout",
     "output_type": "stream",
     "text": [
      "Error processing faces/frame_0_face_0.jpg: Face could not be detected in faces/frame_0_face_0.jpg.Please confirm that the picture is a face photo or consider to set enforce_detection param to False.\n",
      "Error processing faces/frame_1_face_0.jpg: Face could not be detected in faces/frame_1_face_0.jpg.Please confirm that the picture is a face photo or consider to set enforce_detection param to False.\n",
      "Error processing faces/frame_2_face_0.jpg: Face could not be detected in faces/frame_2_face_0.jpg.Please confirm that the picture is a face photo or consider to set enforce_detection param to False.\n",
      "Error processing faces/frame_3_face_0.jpg: Face could not be detected in faces/frame_3_face_0.jpg.Please confirm that the picture is a face photo or consider to set enforce_detection param to False.\n",
      "Error processing faces/frame_4_face_0.jpg: Face could not be detected in faces/frame_4_face_0.jpg.Please confirm that the picture is a face photo or consider to set enforce_detection param to False.\n",
      "Error processing faces/frame_5_face_0.jpg: Face could not be detected in faces/frame_5_face_0.jpg.Please confirm that the picture is a face photo or consider to set enforce_detection param to False.\n"
     ]
    },
    {
     "name": "stderr",
     "output_type": "stream",
     "text": [
      " 40%|████      | 10/25 [00:00<00:00, 19.47it/s]"
     ]
    },
    {
     "name": "stdout",
     "output_type": "stream",
     "text": [
      "Error processing faces/frame_12_face_0.jpg: Face could not be detected in faces/frame_12_face_0.jpg.Please confirm that the picture is a face photo or consider to set enforce_detection param to False.\n",
      "Error processing faces/frame_18_face_0.jpg: Face could not be detected in faces/frame_18_face_0.jpg.Please confirm that the picture is a face photo or consider to set enforce_detection param to False.\n",
      "Error processing faces/frame_19_face_0.jpg: Face could not be detected in faces/frame_19_face_0.jpg.Please confirm that the picture is a face photo or consider to set enforce_detection param to False.\n"
     ]
    },
    {
     "name": "stderr",
     "output_type": "stream",
     "text": [
      "\r 48%|████▊     | 12/25 [00:00<00:00, 14.14it/s]"
     ]
    },
    {
     "name": "stdout",
     "output_type": "stream",
     "text": [
      "Error processing faces/frame_20_face_0.jpg: Face could not be detected in faces/frame_20_face_0.jpg.Please confirm that the picture is a face photo or consider to set enforce_detection param to False.\n"
     ]
    },
    {
     "name": "stderr",
     "output_type": "stream",
     "text": [
      " 68%|██████▊   | 17/25 [00:01<00:01,  6.73it/s]"
     ]
    },
    {
     "name": "stdout",
     "output_type": "stream",
     "text": [
      "Error processing faces/frame_25_face_0.jpg: Face could not be detected in faces/frame_25_face_0.jpg.Please confirm that the picture is a face photo or consider to set enforce_detection param to False.\n"
     ]
    },
    {
     "name": "stderr",
     "output_type": "stream",
     "text": [
      "\r 76%|███████▌  | 19/25 [00:01<00:00,  7.09it/s]"
     ]
    },
    {
     "name": "stdout",
     "output_type": "stream",
     "text": [
      "Error processing faces/frame_28_face_0.jpg: Face could not be detected in faces/frame_28_face_0.jpg.Please confirm that the picture is a face photo or consider to set enforce_detection param to False.\n"
     ]
    },
    {
     "name": "stderr",
     "output_type": "stream",
     "text": [
      "100%|██████████| 25/25 [00:02<00:00, 11.01it/s]\n"
     ]
    },
    {
     "name": "stdout",
     "output_type": "stream",
     "text": [
      "Error processing faces/frame_31_face_0.jpg: Face could not be detected in faces/frame_31_face_0.jpg.Please confirm that the picture is a face photo or consider to set enforce_detection param to False.\n",
      "Error processing faces/frame_31_face_1.jpg: Face could not be detected in faces/frame_31_face_1.jpg.Please confirm that the picture is a face photo or consider to set enforce_detection param to False.\n",
      "Error processing faces/frame_32_face_0.jpg: Face could not be detected in faces/frame_32_face_0.jpg.Please confirm that the picture is a face photo or consider to set enforce_detection param to False.\n",
      "Error processing faces/frame_39_face_0.jpg: Face could not be detected in faces/frame_39_face_0.jpg.Please confirm that the picture is a face photo or consider to set enforce_detection param to False.\n"
     ]
    },
    {
     "name": "stderr",
     "output_type": "stream",
     "text": [
      "\r  0%|          | 0/28 [00:00<?, ?it/s]"
     ]
    },
    {
     "name": "stdout",
     "output_type": "stream",
     "text": [
      "Error processing faces/frame_9_face_0.jpg: Face could not be detected in faces/frame_9_face_0.jpg.Please confirm that the picture is a face photo or consider to set enforce_detection param to False.\n",
      "Error processing faces/frame_9_face_1.jpg: Face could not be detected in faces/frame_9_face_1.jpg.Please confirm that the picture is a face photo or consider to set enforce_detection param to False.\n",
      "Error processing faces/frame_12_face_0.jpg: Face could not be detected in faces/frame_12_face_0.jpg.Please confirm that the picture is a face photo or consider to set enforce_detection param to False.\n",
      "Error processing faces/frame_13_face_0.jpg: Face could not be detected in faces/frame_13_face_0.jpg.Please confirm that the picture is a face photo or consider to set enforce_detection param to False.\n",
      "Error processing faces/frame_13_face_1.jpg: Face could not be detected in faces/frame_13_face_1.jpg.Please confirm that the picture is a face photo or consider to set enforce_detection param to False.\n"
     ]
    },
    {
     "name": "stderr",
     "output_type": "stream",
     "text": [
      "\r 21%|██▏       | 6/28 [00:00<00:00, 23.13it/s]"
     ]
    },
    {
     "name": "stdout",
     "output_type": "stream",
     "text": [
      "Error processing faces/frame_15_face_0.jpg: Face could not be detected in faces/frame_15_face_0.jpg.Please confirm that the picture is a face photo or consider to set enforce_detection param to False.\n",
      "Error processing faces/frame_22_face_0.jpg: Face could not be detected in faces/frame_22_face_0.jpg.Please confirm that the picture is a face photo or consider to set enforce_detection param to False.\n"
     ]
    },
    {
     "name": "stderr",
     "output_type": "stream",
     "text": [
      "\r 32%|███▏      | 9/28 [00:00<00:01, 16.67it/s]"
     ]
    },
    {
     "name": "stdout",
     "output_type": "stream",
     "text": [
      "Error processing faces/frame_24_face_1.jpg: Face could not be detected in faces/frame_24_face_1.jpg.Please confirm that the picture is a face photo or consider to set enforce_detection param to False.\n",
      "Error processing faces/frame_25_face_0.jpg: Face could not be detected in faces/frame_25_face_0.jpg.Please confirm that the picture is a face photo or consider to set enforce_detection param to False.\n",
      "Error processing faces/frame_25_face_1.jpg: Face could not be detected in faces/frame_25_face_1.jpg.Please confirm that the picture is a face photo or consider to set enforce_detection param to False.\n"
     ]
    },
    {
     "name": "stderr",
     "output_type": "stream",
     "text": [
      "\r 46%|████▋     | 13/28 [00:00<00:00, 16.16it/s]"
     ]
    },
    {
     "name": "stdout",
     "output_type": "stream",
     "text": [
      "Error processing faces/frame_27_face_0.jpg: Face could not be detected in faces/frame_27_face_0.jpg.Please confirm that the picture is a face photo or consider to set enforce_detection param to False.\n",
      "Error processing faces/frame_28_face_0.jpg: Face could not be detected in faces/frame_28_face_0.jpg.Please confirm that the picture is a face photo or consider to set enforce_detection param to False.\n",
      "Error processing faces/frame_29_face_0.jpg: Face could not be detected in faces/frame_29_face_0.jpg.Please confirm that the picture is a face photo or consider to set enforce_detection param to False.\n",
      "Error processing faces/frame_30_face_0.jpg: Face could not be detected in faces/frame_30_face_0.jpg.Please confirm that the picture is a face photo or consider to set enforce_detection param to False.\n",
      "Error processing faces/frame_35_face_0.jpg: Face could not be detected in faces/frame_35_face_0.jpg.Please confirm that the picture is a face photo or consider to set enforce_detection param to False.\n",
      "Error processing faces/frame_40_face_0.jpg: Face could not be detected in faces/frame_40_face_0.jpg.Please confirm that the picture is a face photo or consider to set enforce_detection param to False.\n",
      "Error processing faces/frame_41_face_0.jpg: Face could not be detected in faces/frame_41_face_0.jpg.Please confirm that the picture is a face photo or consider to set enforce_detection param to False.\n"
     ]
    },
    {
     "name": "stderr",
     "output_type": "stream",
     "text": [
      "100%|██████████| 28/28 [00:01<00:00, 23.01it/s]\n"
     ]
    },
    {
     "name": "stdout",
     "output_type": "stream",
     "text": [
      "Error processing faces/frame_41_face_2.jpg: Face could not be detected in faces/frame_41_face_2.jpg.Please confirm that the picture is a face photo or consider to set enforce_detection param to False.\n",
      "Error processing faces/frame_42_face_0.jpg: Face could not be detected in faces/frame_42_face_0.jpg.Please confirm that the picture is a face photo or consider to set enforce_detection param to False.\n",
      "Error processing faces/frame_42_face_1.jpg: Face could not be detected in faces/frame_42_face_1.jpg.Please confirm that the picture is a face photo or consider to set enforce_detection param to False.\n",
      "Error processing faces/frame_42_face_2.jpg: Face could not be detected in faces/frame_42_face_2.jpg.Please confirm that the picture is a face photo or consider to set enforce_detection param to False.\n",
      "Error processing faces/frame_43_face_0.jpg: Face could not be detected in faces/frame_43_face_0.jpg.Please confirm that the picture is a face photo or consider to set enforce_detection param to False.\n",
      "Error processing faces/frame_44_face_0.jpg: Face could not be detected in faces/frame_44_face_0.jpg.Please confirm that the picture is a face photo or consider to set enforce_detection param to False.\n",
      "Error processing faces/frame_45_face_0.jpg: Face could not be detected in faces/frame_45_face_0.jpg.Please confirm that the picture is a face photo or consider to set enforce_detection param to False.\n"
     ]
    },
    {
     "name": "stderr",
     "output_type": "stream",
     "text": [
      " 88%|████████▊ | 43/49 [00:14<00:01,  3.44it/s]"
     ]
    },
    {
     "name": "stdout",
     "output_type": "stream",
     "text": [
      "Error processing faces/frame_45_face_1.jpg: Face could not be detected in faces/frame_45_face_1.jpg.Please confirm that the picture is a face photo or consider to set enforce_detection param to False.\n"
     ]
    },
    {
     "name": "stderr",
     "output_type": "stream",
     "text": [
      "100%|██████████| 49/49 [00:16<00:00,  3.04it/s]\n",
      "  0%|          | 0/66 [00:00<?, ?it/s]"
     ]
    },
    {
     "name": "stdout",
     "output_type": "stream",
     "text": [
      "Error processing faces/frame_0_face_0.jpg: Face could not be detected in faces/frame_0_face_0.jpg.Please confirm that the picture is a face photo or consider to set enforce_detection param to False.\n",
      "Error processing faces/frame_0_face_1.jpg: Face could not be detected in faces/frame_0_face_1.jpg.Please confirm that the picture is a face photo or consider to set enforce_detection param to False.\n",
      "Error processing faces/frame_0_face_2.jpg: Face could not be detected in faces/frame_0_face_2.jpg.Please confirm that the picture is a face photo or consider to set enforce_detection param to False.\n",
      "Error processing faces/frame_1_face_0.jpg: Face could not be detected in faces/frame_1_face_0.jpg.Please confirm that the picture is a face photo or consider to set enforce_detection param to False.\n",
      "Error processing faces/frame_1_face_1.jpg: Face could not be detected in faces/frame_1_face_1.jpg.Please confirm that the picture is a face photo or consider to set enforce_detection param to False.\n",
      "Error processing faces/frame_3_face_0.jpg: Face could not be detected in faces/frame_3_face_0.jpg.Please confirm that the picture is a face photo or consider to set enforce_detection param to False.\n",
      "Error processing faces/frame_4_face_0.jpg: Face could not be detected in faces/frame_4_face_0.jpg.Please confirm that the picture is a face photo or consider to set enforce_detection param to False.\n",
      "Error processing faces/frame_5_face_0.jpg: Face could not be detected in faces/frame_5_face_0.jpg.Please confirm that the picture is a face photo or consider to set enforce_detection param to False.\n"
     ]
    },
    {
     "name": "stderr",
     "output_type": "stream",
     "text": [
      "\r 14%|█▎        | 9/66 [00:00<00:01, 34.27it/s]"
     ]
    },
    {
     "name": "stdout",
     "output_type": "stream",
     "text": [
      "Error processing faces/frame_6_face_0.jpg: Face could not be detected in faces/frame_6_face_0.jpg.Please confirm that the picture is a face photo or consider to set enforce_detection param to False.\n",
      "Error processing faces/frame_7_face_0.jpg: Face could not be detected in faces/frame_7_face_0.jpg.Please confirm that the picture is a face photo or consider to set enforce_detection param to False.\n"
     ]
    },
    {
     "name": "stderr",
     "output_type": "stream",
     "text": [
      "\r 20%|█▉        | 13/66 [00:00<00:03, 15.47it/s]"
     ]
    },
    {
     "name": "stdout",
     "output_type": "stream",
     "text": [
      "Error processing faces/frame_8_face_0.jpg: Face could not be detected in faces/frame_8_face_0.jpg.Please confirm that the picture is a face photo or consider to set enforce_detection param to False.\n",
      "Error processing faces/frame_8_face_1.jpg: Face could not be detected in faces/frame_8_face_1.jpg.Please confirm that the picture is a face photo or consider to set enforce_detection param to False.\n"
     ]
    },
    {
     "name": "stderr",
     "output_type": "stream",
     "text": [
      " 58%|█████▊    | 38/66 [00:01<00:00, 42.42it/s]"
     ]
    },
    {
     "name": "stdout",
     "output_type": "stream",
     "text": [
      "Error processing faces/frame_9_face_0.jpg: Face could not be detected in faces/frame_9_face_0.jpg.Please confirm that the picture is a face photo or consider to set enforce_detection param to False.\n",
      "Error processing faces/frame_10_face_0.jpg: Face could not be detected in faces/frame_10_face_0.jpg.Please confirm that the picture is a face photo or consider to set enforce_detection param to False.\n",
      "Error processing faces/frame_10_face_1.jpg: Face could not be detected in faces/frame_10_face_1.jpg.Please confirm that the picture is a face photo or consider to set enforce_detection param to False.\n",
      "Error processing faces/frame_11_face_0.jpg: Face could not be detected in faces/frame_11_face_0.jpg.Please confirm that the picture is a face photo or consider to set enforce_detection param to False.\n",
      "Error processing faces/frame_11_face_1.jpg: Face could not be detected in faces/frame_11_face_1.jpg.Please confirm that the picture is a face photo or consider to set enforce_detection param to False.\n",
      "Error processing faces/frame_12_face_0.jpg: Face could not be detected in faces/frame_12_face_0.jpg.Please confirm that the picture is a face photo or consider to set enforce_detection param to False.\n",
      "Error processing faces/frame_13_face_0.jpg: Face could not be detected in faces/frame_13_face_0.jpg.Please confirm that the picture is a face photo or consider to set enforce_detection param to False.\n",
      "Error processing faces/frame_14_face_0.jpg: Face could not be detected in faces/frame_14_face_0.jpg.Please confirm that the picture is a face photo or consider to set enforce_detection param to False.\n",
      "Error processing faces/frame_14_face_1.jpg: Face could not be detected in faces/frame_14_face_1.jpg.Please confirm that the picture is a face photo or consider to set enforce_detection param to False.\n",
      "Error processing faces/frame_15_face_0.jpg: Face could not be detected in faces/frame_15_face_0.jpg.Please confirm that the picture is a face photo or consider to set enforce_detection param to False.\n",
      "Error processing faces/frame_16_face_0.jpg: Face could not be detected in faces/frame_16_face_0.jpg.Please confirm that the picture is a face photo or consider to set enforce_detection param to False.\n",
      "Error processing faces/frame_16_face_1.jpg: Face could not be detected in faces/frame_16_face_1.jpg.Please confirm that the picture is a face photo or consider to set enforce_detection param to False.\n",
      "Error processing faces/frame_16_face_2.jpg: Face could not be detected in faces/frame_16_face_2.jpg.Please confirm that the picture is a face photo or consider to set enforce_detection param to False.\n",
      "Error processing faces/frame_17_face_0.jpg: Face could not be detected in faces/frame_17_face_0.jpg.Please confirm that the picture is a face photo or consider to set enforce_detection param to False.\n",
      "Error processing faces/frame_18_face_0.jpg: Face could not be detected in faces/frame_18_face_0.jpg.Please confirm that the picture is a face photo or consider to set enforce_detection param to False.\n",
      "Error processing faces/frame_18_face_1.jpg: Face could not be detected in faces/frame_18_face_1.jpg.Please confirm that the picture is a face photo or consider to set enforce_detection param to False.\n",
      "Error processing faces/frame_19_face_0.jpg: Face could not be detected in faces/frame_19_face_0.jpg.Please confirm that the picture is a face photo or consider to set enforce_detection param to False.\n",
      "Error processing faces/frame_20_face_0.jpg: Face could not be detected in faces/frame_20_face_0.jpg.Please confirm that the picture is a face photo or consider to set enforce_detection param to False.\n",
      "Error processing faces/frame_21_face_0.jpg: Face could not be detected in faces/frame_21_face_0.jpg.Please confirm that the picture is a face photo or consider to set enforce_detection param to False.\n",
      "Error processing faces/frame_21_face_1.jpg: Face could not be detected in faces/frame_21_face_1.jpg.Please confirm that the picture is a face photo or consider to set enforce_detection param to False.\n",
      "Error processing faces/frame_22_face_0.jpg: Face could not be detected in faces/frame_22_face_0.jpg.Please confirm that the picture is a face photo or consider to set enforce_detection param to False.\n",
      "Error processing faces/frame_23_face_0.jpg: Face could not be detected in faces/frame_23_face_0.jpg.Please confirm that the picture is a face photo or consider to set enforce_detection param to False.\n"
     ]
    },
    {
     "name": "stderr",
     "output_type": "stream",
     "text": [
      " 98%|█████████▊| 65/66 [00:01<00:00, 77.42it/s]"
     ]
    },
    {
     "name": "stdout",
     "output_type": "stream",
     "text": [
      "Error processing faces/frame_24_face_0.jpg: Face could not be detected in faces/frame_24_face_0.jpg.Please confirm that the picture is a face photo or consider to set enforce_detection param to False.\n",
      "Error processing faces/frame_25_face_0.jpg: Face could not be detected in faces/frame_25_face_0.jpg.Please confirm that the picture is a face photo or consider to set enforce_detection param to False.\n",
      "Error processing faces/frame_26_face_0.jpg: Face could not be detected in faces/frame_26_face_0.jpg.Please confirm that the picture is a face photo or consider to set enforce_detection param to False.\n",
      "Error processing faces/frame_27_face_0.jpg: Face could not be detected in faces/frame_27_face_0.jpg.Please confirm that the picture is a face photo or consider to set enforce_detection param to False.\n",
      "Error processing faces/frame_28_face_0.jpg: Face could not be detected in faces/frame_28_face_0.jpg.Please confirm that the picture is a face photo or consider to set enforce_detection param to False.\n",
      "Error processing faces/frame_29_face_0.jpg: Face could not be detected in faces/frame_29_face_0.jpg.Please confirm that the picture is a face photo or consider to set enforce_detection param to False.\n",
      "Error processing faces/frame_30_face_0.jpg: Face could not be detected in faces/frame_30_face_0.jpg.Please confirm that the picture is a face photo or consider to set enforce_detection param to False.\n",
      "Error processing faces/frame_31_face_0.jpg: Face could not be detected in faces/frame_31_face_0.jpg.Please confirm that the picture is a face photo or consider to set enforce_detection param to False.\n",
      "Error processing faces/frame_32_face_0.jpg: Face could not be detected in faces/frame_32_face_0.jpg.Please confirm that the picture is a face photo or consider to set enforce_detection param to False.\n",
      "Error processing faces/frame_33_face_0.jpg: Face could not be detected in faces/frame_33_face_0.jpg.Please confirm that the picture is a face photo or consider to set enforce_detection param to False.\n",
      "Error processing faces/frame_34_face_0.jpg: Face could not be detected in faces/frame_34_face_0.jpg.Please confirm that the picture is a face photo or consider to set enforce_detection param to False.\n",
      "Error processing faces/frame_35_face_0.jpg: Face could not be detected in faces/frame_35_face_0.jpg.Please confirm that the picture is a face photo or consider to set enforce_detection param to False.\n",
      "Error processing faces/frame_36_face_0.jpg: Face could not be detected in faces/frame_36_face_0.jpg.Please confirm that the picture is a face photo or consider to set enforce_detection param to False.\n",
      "Error processing faces/frame_37_face_0.jpg: Face could not be detected in faces/frame_37_face_0.jpg.Please confirm that the picture is a face photo or consider to set enforce_detection param to False.\n",
      "Error processing faces/frame_38_face_0.jpg: Face could not be detected in faces/frame_38_face_0.jpg.Please confirm that the picture is a face photo or consider to set enforce_detection param to False.\n",
      "Error processing faces/frame_39_face_0.jpg: Face could not be detected in faces/frame_39_face_0.jpg.Please confirm that the picture is a face photo or consider to set enforce_detection param to False.\n",
      "Error processing faces/frame_40_face_0.jpg: Face could not be detected in faces/frame_40_face_0.jpg.Please confirm that the picture is a face photo or consider to set enforce_detection param to False.\n",
      "Error processing faces/frame_40_face_1.jpg: Face could not be detected in faces/frame_40_face_1.jpg.Please confirm that the picture is a face photo or consider to set enforce_detection param to False.\n",
      "Error processing faces/frame_41_face_0.jpg: Face could not be detected in faces/frame_41_face_0.jpg.Please confirm that the picture is a face photo or consider to set enforce_detection param to False.\n",
      "Error processing faces/frame_42_face_0.jpg: Face could not be detected in faces/frame_42_face_0.jpg.Please confirm that the picture is a face photo or consider to set enforce_detection param to False.\n",
      "Error processing faces/frame_43_face_0.jpg: Face could not be detected in faces/frame_43_face_0.jpg.Please confirm that the picture is a face photo or consider to set enforce_detection param to False.\n",
      "Error processing faces/frame_44_face_0.jpg: Face could not be detected in faces/frame_44_face_0.jpg.Please confirm that the picture is a face photo or consider to set enforce_detection param to False.\n",
      "Error processing faces/frame_44_face_1.jpg: Face could not be detected in faces/frame_44_face_1.jpg.Please confirm that the picture is a face photo or consider to set enforce_detection param to False.\n",
      "Error processing faces/frame_45_face_0.jpg: Face could not be detected in faces/frame_45_face_0.jpg.Please confirm that the picture is a face photo or consider to set enforce_detection param to False.\n",
      "Error processing faces/frame_46_face_0.jpg: Face could not be detected in faces/frame_46_face_0.jpg.Please confirm that the picture is a face photo or consider to set enforce_detection param to False.\n",
      "Error processing faces/frame_48_face_0.jpg: Face could not be detected in faces/frame_48_face_0.jpg.Please confirm that the picture is a face photo or consider to set enforce_detection param to False.\n",
      "Error processing faces/frame_49_face_0.jpg: Face could not be detected in faces/frame_49_face_0.jpg.Please confirm that the picture is a face photo or consider to set enforce_detection param to False.\n",
      "Error processing faces/frame_50_face_0.jpg: Face could not be detected in faces/frame_50_face_0.jpg.Please confirm that the picture is a face photo or consider to set enforce_detection param to False.\n"
     ]
    },
    {
     "name": "stderr",
     "output_type": "stream",
     "text": [
      "100%|██████████| 66/66 [00:01<00:00, 44.43it/s]\n",
      "100%|██████████| 3/3 [00:00<00:00, 65.74it/s]\n"
     ]
    },
    {
     "name": "stdout",
     "output_type": "stream",
     "text": [
      "Error processing faces/frame_13_face_0.jpg: Face could not be detected in faces/frame_13_face_0.jpg.Please confirm that the picture is a face photo or consider to set enforce_detection param to False.\n",
      "Error processing faces/frame_13_face_1.jpg: Face could not be detected in faces/frame_13_face_1.jpg.Please confirm that the picture is a face photo or consider to set enforce_detection param to False.\n",
      "Error processing faces/frame_45_face_0.jpg: Face could not be detected in faces/frame_45_face_0.jpg.Please confirm that the picture is a face photo or consider to set enforce_detection param to False.\n"
     ]
    },
    {
     "name": "stderr",
     "output_type": "stream",
     "text": [
      " 88%|████████▊ | 43/49 [00:14<00:02,  2.71it/s]"
     ]
    },
    {
     "name": "stdout",
     "output_type": "stream",
     "text": [
      "Error processing faces/frame_45_face_1.jpg: Face could not be detected in faces/frame_45_face_1.jpg.Please confirm that the picture is a face photo or consider to set enforce_detection param to False.\n"
     ]
    },
    {
     "name": "stderr",
     "output_type": "stream",
     "text": [
      "100%|██████████| 49/49 [00:16<00:00,  2.97it/s]\n",
      "0it [00:00, ?it/s]\n",
      "0it [00:00, ?it/s]\n",
      "0it [00:00, ?it/s]\n",
      " 78%|███████▊  | 43/55 [00:11<00:03,  3.87it/s]"
     ]
    },
    {
     "name": "stdout",
     "output_type": "stream",
     "text": [
      "Error processing faces/frame_43_face_0.jpg: Face could not be detected in faces/frame_43_face_0.jpg.Please confirm that the picture is a face photo or consider to set enforce_detection param to False.\n"
     ]
    },
    {
     "name": "stderr",
     "output_type": "stream",
     "text": [
      " 85%|████████▌ | 47/55 [00:12<00:01,  4.21it/s]"
     ]
    },
    {
     "name": "stdout",
     "output_type": "stream",
     "text": [
      "Error processing faces/frame_45_face_0.jpg: Face could not be detected in faces/frame_45_face_0.jpg.Please confirm that the picture is a face photo or consider to set enforce_detection param to False.\n"
     ]
    },
    {
     "name": "stderr",
     "output_type": "stream",
     "text": [
      " 91%|█████████ | 50/55 [00:12<00:01,  4.73it/s]"
     ]
    },
    {
     "name": "stdout",
     "output_type": "stream",
     "text": [
      "Error processing faces/frame_47_face_0.jpg: Face could not be detected in faces/frame_47_face_0.jpg.Please confirm that the picture is a face photo or consider to set enforce_detection param to False.\n"
     ]
    },
    {
     "name": "stderr",
     "output_type": "stream",
     "text": [
      "100%|██████████| 55/55 [00:14<00:00,  3.92it/s]\n",
      " 88%|████████▊ | 43/49 [00:14<00:01,  3.45it/s]"
     ]
    },
    {
     "name": "stdout",
     "output_type": "stream",
     "text": [
      "Error processing faces/frame_45_face_1.jpg: Face could not be detected in faces/frame_45_face_1.jpg.Please confirm that the picture is a face photo or consider to set enforce_detection param to False.\n"
     ]
    },
    {
     "name": "stderr",
     "output_type": "stream",
     "text": [
      "100%|██████████| 49/49 [00:15<00:00,  3.16it/s]\n",
      "0it [00:00, ?it/s]\n",
      " 88%|████████▊ | 43/49 [00:14<00:01,  3.17it/s]"
     ]
    },
    {
     "name": "stdout",
     "output_type": "stream",
     "text": [
      "Error processing faces/frame_45_face_1.jpg: Face could not be detected in faces/frame_45_face_1.jpg.Please confirm that the picture is a face photo or consider to set enforce_detection param to False.\n"
     ]
    },
    {
     "name": "stderr",
     "output_type": "stream",
     "text": [
      "100%|██████████| 49/49 [00:15<00:00,  3.14it/s]\n",
      "0it [00:00, ?it/s]\n",
      "  5%|▍         | 1/21 [00:00<00:05,  3.77it/s]"
     ]
    },
    {
     "name": "stdout",
     "output_type": "stream",
     "text": [
      "Error processing faces/frame_1_face_1.jpg: Face could not be detected in faces/frame_1_face_1.jpg.Please confirm that the picture is a face photo or consider to set enforce_detection param to False.\n"
     ]
    },
    {
     "name": "stderr",
     "output_type": "stream",
     "text": [
      " 62%|██████▏   | 13/21 [00:03<00:01,  4.07it/s]"
     ]
    },
    {
     "name": "stdout",
     "output_type": "stream",
     "text": [
      "Error processing faces/frame_14_face_0.jpg: Face could not be detected in faces/frame_14_face_0.jpg.Please confirm that the picture is a face photo or consider to set enforce_detection param to False.\n",
      "Error processing faces/frame_15_face_0.jpg: Face could not be detected in faces/frame_15_face_0.jpg.Please confirm that the picture is a face photo or consider to set enforce_detection param to False.\n",
      "Error processing faces/frame_16_face_0.jpg: Face could not be detected in faces/frame_16_face_0.jpg.Please confirm that the picture is a face photo or consider to set enforce_detection param to False.\n"
     ]
    },
    {
     "name": "stderr",
     "output_type": "stream",
     "text": [
      "100%|██████████| 21/21 [00:03<00:00,  5.69it/s]\n"
     ]
    },
    {
     "name": "stdout",
     "output_type": "stream",
     "text": [
      "Error processing faces/frame_21_face_1.jpg: Face could not be detected in faces/frame_21_face_1.jpg.Please confirm that the picture is a face photo or consider to set enforce_detection param to False.\n",
      "Error processing faces/frame_23_face_0.jpg: Face could not be detected in faces/frame_23_face_0.jpg.Please confirm that the picture is a face photo or consider to set enforce_detection param to False.\n",
      "Error processing faces/frame_37_face_0.jpg: Face could not be detected in faces/frame_37_face_0.jpg.Please confirm that the picture is a face photo or consider to set enforce_detection param to False.\n",
      "Error processing faces/frame_41_face_0.jpg: Face could not be detected in faces/frame_41_face_0.jpg.Please confirm that the picture is a face photo or consider to set enforce_detection param to False.\n"
     ]
    },
    {
     "name": "stderr",
     "output_type": "stream",
     "text": [
      "0it [00:00, ?it/s]\n",
      " 88%|████████▊ | 43/49 [00:14<00:02,  2.60it/s]"
     ]
    },
    {
     "name": "stdout",
     "output_type": "stream",
     "text": [
      "Error processing faces/frame_45_face_1.jpg: Face could not be detected in faces/frame_45_face_1.jpg.Please confirm that the picture is a face photo or consider to set enforce_detection param to False.\n"
     ]
    },
    {
     "name": "stderr",
     "output_type": "stream",
     "text": [
      "100%|██████████| 49/49 [00:16<00:00,  2.99it/s]\n",
      "100%|██████████| 51/51 [00:13<00:00,  3.85it/s]\n",
      "  0%|          | 0/25 [00:00<?, ?it/s]"
     ]
    },
    {
     "name": "stdout",
     "output_type": "stream",
     "text": [
      "Error processing faces/frame_0_face_0.jpg: Face could not be detected in faces/frame_0_face_0.jpg.Please confirm that the picture is a face photo or consider to set enforce_detection param to False.\n",
      "Error processing faces/frame_1_face_0.jpg: Face could not be detected in faces/frame_1_face_0.jpg.Please confirm that the picture is a face photo or consider to set enforce_detection param to False.\n",
      "Error processing faces/frame_2_face_0.jpg: Face could not be detected in faces/frame_2_face_0.jpg.Please confirm that the picture is a face photo or consider to set enforce_detection param to False.\n",
      "Error processing faces/frame_3_face_0.jpg: Face could not be detected in faces/frame_3_face_0.jpg.Please confirm that the picture is a face photo or consider to set enforce_detection param to False.\n",
      "Error processing faces/frame_4_face_0.jpg: Face could not be detected in faces/frame_4_face_0.jpg.Please confirm that the picture is a face photo or consider to set enforce_detection param to False.\n",
      "Error processing faces/frame_5_face_0.jpg: Face could not be detected in faces/frame_5_face_0.jpg.Please confirm that the picture is a face photo or consider to set enforce_detection param to False.\n"
     ]
    },
    {
     "name": "stderr",
     "output_type": "stream",
     "text": [
      " 40%|████      | 10/25 [00:00<00:00, 18.12it/s]"
     ]
    },
    {
     "name": "stdout",
     "output_type": "stream",
     "text": [
      "Error processing faces/frame_12_face_0.jpg: Face could not be detected in faces/frame_12_face_0.jpg.Please confirm that the picture is a face photo or consider to set enforce_detection param to False.\n",
      "Error processing faces/frame_18_face_0.jpg: Face could not be detected in faces/frame_18_face_0.jpg.Please confirm that the picture is a face photo or consider to set enforce_detection param to False.\n",
      "Error processing faces/frame_19_face_0.jpg: Face could not be detected in faces/frame_19_face_0.jpg.Please confirm that the picture is a face photo or consider to set enforce_detection param to False.\n"
     ]
    },
    {
     "name": "stderr",
     "output_type": "stream",
     "text": [
      "\r 48%|████▊     | 12/25 [00:00<00:00, 13.41it/s]"
     ]
    },
    {
     "name": "stdout",
     "output_type": "stream",
     "text": [
      "Error processing faces/frame_20_face_0.jpg: Face could not be detected in faces/frame_20_face_0.jpg.Please confirm that the picture is a face photo or consider to set enforce_detection param to False.\n"
     ]
    },
    {
     "name": "stderr",
     "output_type": "stream",
     "text": [
      " 68%|██████▊   | 17/25 [00:01<00:01,  6.62it/s]"
     ]
    },
    {
     "name": "stdout",
     "output_type": "stream",
     "text": [
      "Error processing faces/frame_25_face_0.jpg: Face could not be detected in faces/frame_25_face_0.jpg.Please confirm that the picture is a face photo or consider to set enforce_detection param to False.\n"
     ]
    },
    {
     "name": "stderr",
     "output_type": "stream",
     "text": [
      "\r 76%|███████▌  | 19/25 [00:02<00:00,  7.04it/s]"
     ]
    },
    {
     "name": "stdout",
     "output_type": "stream",
     "text": [
      "Error processing faces/frame_28_face_0.jpg: Face could not be detected in faces/frame_28_face_0.jpg.Please confirm that the picture is a face photo or consider to set enforce_detection param to False.\n"
     ]
    },
    {
     "name": "stderr",
     "output_type": "stream",
     "text": [
      "100%|██████████| 25/25 [00:02<00:00, 10.85it/s]\n"
     ]
    },
    {
     "name": "stdout",
     "output_type": "stream",
     "text": [
      "Error processing faces/frame_31_face_0.jpg: Face could not be detected in faces/frame_31_face_0.jpg.Please confirm that the picture is a face photo or consider to set enforce_detection param to False.\n",
      "Error processing faces/frame_31_face_1.jpg: Face could not be detected in faces/frame_31_face_1.jpg.Please confirm that the picture is a face photo or consider to set enforce_detection param to False.\n",
      "Error processing faces/frame_32_face_0.jpg: Face could not be detected in faces/frame_32_face_0.jpg.Please confirm that the picture is a face photo or consider to set enforce_detection param to False.\n",
      "Error processing faces/frame_39_face_0.jpg: Face could not be detected in faces/frame_39_face_0.jpg.Please confirm that the picture is a face photo or consider to set enforce_detection param to False.\n"
     ]
    },
    {
     "name": "stderr",
     "output_type": "stream",
     "text": [
      "0it [00:00, ?it/s]\n",
      "100%|██████████| 5/5 [00:01<00:00,  3.25it/s]\n",
      "  0%|          | 0/87 [00:00<?, ?it/s]"
     ]
    },
    {
     "name": "stdout",
     "output_type": "stream",
     "text": [
      "Error processing faces/frame_0_face_0.jpg: Face could not be detected in faces/frame_0_face_0.jpg.Please confirm that the picture is a face photo or consider to set enforce_detection param to False.\n"
     ]
    },
    {
     "name": "stderr",
     "output_type": "stream",
     "text": [
      "  3%|▎         | 3/87 [00:00<00:13,  6.19it/s]"
     ]
    },
    {
     "name": "stdout",
     "output_type": "stream",
     "text": [
      "Error processing faces/frame_1_face_1.jpg: Face could not be detected in faces/frame_1_face_1.jpg.Please confirm that the picture is a face photo or consider to set enforce_detection param to False.\n"
     ]
    },
    {
     "name": "stderr",
     "output_type": "stream",
     "text": [
      "\r  6%|▌         | 5/87 [00:00<00:11,  7.25it/s]"
     ]
    },
    {
     "name": "stdout",
     "output_type": "stream",
     "text": [
      "Error processing faces/frame_2_face_1.jpg: Face could not be detected in faces/frame_2_face_1.jpg.Please confirm that the picture is a face photo or consider to set enforce_detection param to False.\n"
     ]
    },
    {
     "name": "stderr",
     "output_type": "stream",
     "text": [
      "  9%|▉         | 8/87 [00:01<00:12,  6.48it/s]"
     ]
    },
    {
     "name": "stdout",
     "output_type": "stream",
     "text": [
      "Error processing faces/frame_4_face_0.jpg: Face could not be detected in faces/frame_4_face_0.jpg.Please confirm that the picture is a face photo or consider to set enforce_detection param to False.\n",
      "Error processing faces/frame_4_face_1.jpg: Face could not be detected in faces/frame_4_face_1.jpg.Please confirm that the picture is a face photo or consider to set enforce_detection param to False.\n",
      "Error processing faces/frame_5_face_0.jpg: Face could not be detected in faces/frame_5_face_0.jpg.Please confirm that the picture is a face photo or consider to set enforce_detection param to False.\n"
     ]
    },
    {
     "name": "stderr",
     "output_type": "stream",
     "text": [
      "\r 14%|█▍        | 12/87 [00:01<00:07,  9.82it/s]"
     ]
    },
    {
     "name": "stdout",
     "output_type": "stream",
     "text": [
      "Error processing faces/frame_6_face_1.jpg: Face could not be detected in faces/frame_6_face_1.jpg.Please confirm that the picture is a face photo or consider to set enforce_detection param to False.\n",
      "Error processing faces/frame_7_face_0.jpg: Face could not be detected in faces/frame_7_face_0.jpg.Please confirm that the picture is a face photo or consider to set enforce_detection param to False.\n",
      "Error processing faces/frame_7_face_1.jpg: Face could not be detected in faces/frame_7_face_1.jpg.Please confirm that the picture is a face photo or consider to set enforce_detection param to False.\n",
      "Error processing faces/frame_8_face_0.jpg: Face could not be detected in faces/frame_8_face_0.jpg.Please confirm that the picture is a face photo or consider to set enforce_detection param to False.\n",
      "Error processing faces/frame_8_face_1.jpg: Face could not be detected in faces/frame_8_face_1.jpg.Please confirm that the picture is a face photo or consider to set enforce_detection param to False.\n"
     ]
    },
    {
     "name": "stderr",
     "output_type": "stream",
     "text": [
      " 23%|██▎       | 20/87 [00:01<00:05, 12.45it/s]"
     ]
    },
    {
     "name": "stdout",
     "output_type": "stream",
     "text": [
      "Error processing faces/frame_10_face_1.jpg: Face could not be detected in faces/frame_10_face_1.jpg.Please confirm that the picture is a face photo or consider to set enforce_detection param to False.\n"
     ]
    },
    {
     "name": "stderr",
     "output_type": "stream",
     "text": [
      "\r 25%|██▌       | 22/87 [00:02<00:07,  8.89it/s]"
     ]
    },
    {
     "name": "stdout",
     "output_type": "stream",
     "text": [
      "Error processing faces/frame_12_face_1.jpg: Face could not be detected in faces/frame_12_face_1.jpg.Please confirm that the picture is a face photo or consider to set enforce_detection param to False.\n"
     ]
    },
    {
     "name": "stderr",
     "output_type": "stream",
     "text": [
      "\r 28%|██▊       | 24/87 [00:02<00:07,  8.77it/s]"
     ]
    },
    {
     "name": "stdout",
     "output_type": "stream",
     "text": [
      "Error processing faces/frame_13_face_1.jpg: Face could not be detected in faces/frame_13_face_1.jpg.Please confirm that the picture is a face photo or consider to set enforce_detection param to False.\n"
     ]
    },
    {
     "name": "stderr",
     "output_type": "stream",
     "text": [
      "\r 30%|██▉       | 26/87 [00:02<00:07,  8.69it/s]"
     ]
    },
    {
     "name": "stdout",
     "output_type": "stream",
     "text": [
      "Error processing faces/frame_14_face_1.jpg: Face could not be detected in faces/frame_14_face_1.jpg.Please confirm that the picture is a face photo or consider to set enforce_detection param to False.\n",
      "Error processing faces/frame_15_face_0.jpg: Face could not be detected in faces/frame_15_face_0.jpg.Please confirm that the picture is a face photo or consider to set enforce_detection param to False.\n"
     ]
    },
    {
     "name": "stderr",
     "output_type": "stream",
     "text": [
      "\r 33%|███▎      | 29/87 [00:03<00:06,  9.55it/s]"
     ]
    },
    {
     "name": "stdout",
     "output_type": "stream",
     "text": [
      "Error processing faces/frame_16_face_1.jpg: Face could not be detected in faces/frame_16_face_1.jpg.Please confirm that the picture is a face photo or consider to set enforce_detection param to False.\n"
     ]
    },
    {
     "name": "stderr",
     "output_type": "stream",
     "text": [
      "\r 36%|███▌      | 31/87 [00:03<00:06,  9.18it/s]"
     ]
    },
    {
     "name": "stdout",
     "output_type": "stream",
     "text": [
      "Error processing faces/frame_17_face_1.jpg: Face could not be detected in faces/frame_17_face_1.jpg.Please confirm that the picture is a face photo or consider to set enforce_detection param to False.\n"
     ]
    },
    {
     "name": "stderr",
     "output_type": "stream",
     "text": [
      " 39%|███▉      | 34/87 [00:03<00:07,  7.51it/s]"
     ]
    },
    {
     "name": "stdout",
     "output_type": "stream",
     "text": [
      "Error processing faces/frame_19_face_0.jpg: Face could not be detected in faces/frame_19_face_0.jpg.Please confirm that the picture is a face photo or consider to set enforce_detection param to False.\n",
      "Error processing faces/frame_20_face_0.jpg: Face could not be detected in faces/frame_20_face_0.jpg.Please confirm that the picture is a face photo or consider to set enforce_detection param to False.\n",
      "Error processing faces/frame_20_face_1.jpg: Face could not be detected in faces/frame_20_face_1.jpg.Please confirm that the picture is a face photo or consider to set enforce_detection param to False.\n"
     ]
    },
    {
     "name": "stderr",
     "output_type": "stream",
     "text": [
      " 47%|████▋     | 41/87 [00:04<00:07,  6.39it/s]"
     ]
    },
    {
     "name": "stdout",
     "output_type": "stream",
     "text": [
      "Error processing faces/frame_22_face_1.jpg: Face could not be detected in faces/frame_22_face_1.jpg.Please confirm that the picture is a face photo or consider to set enforce_detection param to False.\n"
     ]
    },
    {
     "name": "stderr",
     "output_type": "stream",
     "text": [
      " 51%|█████     | 44/87 [00:05<00:07,  6.02it/s]"
     ]
    },
    {
     "name": "stdout",
     "output_type": "stream",
     "text": [
      "Error processing faces/frame_23_face_2.jpg: Face could not be detected in faces/frame_23_face_2.jpg.Please confirm that the picture is a face photo or consider to set enforce_detection param to False.\n"
     ]
    },
    {
     "name": "stderr",
     "output_type": "stream",
     "text": [
      "\r 53%|█████▎    | 46/87 [00:05<00:06,  6.79it/s]"
     ]
    },
    {
     "name": "stdout",
     "output_type": "stream",
     "text": [
      "Error processing faces/frame_24_face_1.jpg: Face could not be detected in faces/frame_24_face_1.jpg.Please confirm that the picture is a face photo or consider to set enforce_detection param to False.\n",
      "Error processing faces/frame_24_face_2.jpg: Face could not be detected in faces/frame_24_face_2.jpg.Please confirm that the picture is a face photo or consider to set enforce_detection param to False.\n"
     ]
    },
    {
     "name": "stderr",
     "output_type": "stream",
     "text": [
      "\r 56%|█████▋    | 49/87 [00:05<00:04,  7.99it/s]"
     ]
    },
    {
     "name": "stdout",
     "output_type": "stream",
     "text": [
      "Error processing faces/frame_25_face_1.jpg: Face could not be detected in faces/frame_25_face_1.jpg.Please confirm that the picture is a face photo or consider to set enforce_detection param to False.\n",
      "Error processing faces/frame_26_face_0.jpg: Face could not be detected in faces/frame_26_face_0.jpg.Please confirm that the picture is a face photo or consider to set enforce_detection param to False.\n"
     ]
    },
    {
     "name": "stderr",
     "output_type": "stream",
     "text": [
      "\r 60%|█████▉    | 52/87 [00:06<00:03,  9.07it/s]"
     ]
    },
    {
     "name": "stdout",
     "output_type": "stream",
     "text": [
      "Error processing faces/frame_28_face_0.jpg: Face could not be detected in faces/frame_28_face_0.jpg.Please confirm that the picture is a face photo or consider to set enforce_detection param to False.\n",
      "Error processing faces/frame_28_face_1.jpg: Face could not be detected in faces/frame_28_face_1.jpg.Please confirm that the picture is a face photo or consider to set enforce_detection param to False.\n"
     ]
    },
    {
     "name": "stderr",
     "output_type": "stream",
     "text": [
      "\r 63%|██████▎   | 55/87 [00:06<00:03,  9.82it/s]"
     ]
    },
    {
     "name": "stdout",
     "output_type": "stream",
     "text": [
      "Error processing faces/frame_30_face_0.jpg: Face could not be detected in faces/frame_30_face_0.jpg.Please confirm that the picture is a face photo or consider to set enforce_detection param to False.\n"
     ]
    },
    {
     "name": "stderr",
     "output_type": "stream",
     "text": [
      "\r 66%|██████▌   | 57/87 [00:06<00:03,  9.48it/s]"
     ]
    },
    {
     "name": "stdout",
     "output_type": "stream",
     "text": [
      "Error processing faces/frame_31_face_1.jpg: Face could not be detected in faces/frame_31_face_1.jpg.Please confirm that the picture is a face photo or consider to set enforce_detection param to False.\n"
     ]
    },
    {
     "name": "stderr",
     "output_type": "stream",
     "text": [
      " 69%|██████▉   | 60/87 [00:07<00:03,  7.65it/s]"
     ]
    },
    {
     "name": "stdout",
     "output_type": "stream",
     "text": [
      "Error processing faces/frame_34_face_0.jpg: Face could not be detected in faces/frame_34_face_0.jpg.Please confirm that the picture is a face photo or consider to set enforce_detection param to False.\n",
      "Error processing faces/frame_34_face_1.jpg: Face could not be detected in faces/frame_34_face_1.jpg.Please confirm that the picture is a face photo or consider to set enforce_detection param to False.\n",
      "Error processing faces/frame_35_face_0.jpg: Face could not be detected in faces/frame_35_face_0.jpg.Please confirm that the picture is a face photo or consider to set enforce_detection param to False.\n",
      "Error processing faces/frame_35_face_1.jpg: Face could not be detected in faces/frame_35_face_1.jpg.Please confirm that the picture is a face photo or consider to set enforce_detection param to False.\n"
     ]
    },
    {
     "name": "stderr",
     "output_type": "stream",
     "text": [
      "\r 75%|███████▍  | 65/87 [00:07<00:01, 11.23it/s]"
     ]
    },
    {
     "name": "stdout",
     "output_type": "stream",
     "text": [
      "Error processing faces/frame_36_face_1.jpg: Face could not be detected in faces/frame_36_face_1.jpg.Please confirm that the picture is a face photo or consider to set enforce_detection param to False.\n"
     ]
    },
    {
     "name": "stderr",
     "output_type": "stream",
     "text": [
      "\r 77%|███████▋  | 67/87 [00:07<00:01, 10.51it/s]"
     ]
    },
    {
     "name": "stdout",
     "output_type": "stream",
     "text": [
      "Error processing faces/frame_37_face_1.jpg: Face could not be detected in faces/frame_37_face_1.jpg.Please confirm that the picture is a face photo or consider to set enforce_detection param to False.\n"
     ]
    },
    {
     "name": "stderr",
     "output_type": "stream",
     "text": [
      "\r 79%|███████▉  | 69/87 [00:07<00:01,  9.75it/s]"
     ]
    },
    {
     "name": "stdout",
     "output_type": "stream",
     "text": [
      "Error processing faces/frame_38_face_1.jpg: Face could not be detected in faces/frame_38_face_1.jpg.Please confirm that the picture is a face photo or consider to set enforce_detection param to False.\n"
     ]
    },
    {
     "name": "stderr",
     "output_type": "stream",
     "text": [
      "\r 82%|████████▏ | 71/87 [00:08<00:01,  9.47it/s]"
     ]
    },
    {
     "name": "stdout",
     "output_type": "stream",
     "text": [
      "Error processing faces/frame_39_face_1.jpg: Face could not be detected in faces/frame_39_face_1.jpg.Please confirm that the picture is a face photo or consider to set enforce_detection param to False.\n"
     ]
    },
    {
     "name": "stderr",
     "output_type": "stream",
     "text": [
      "\r 84%|████████▍ | 73/87 [00:08<00:01,  9.04it/s]"
     ]
    },
    {
     "name": "stdout",
     "output_type": "stream",
     "text": [
      "Error processing faces/frame_41_face_0.jpg: Face could not be detected in faces/frame_41_face_0.jpg.Please confirm that the picture is a face photo or consider to set enforce_detection param to False.\n"
     ]
    },
    {
     "name": "stderr",
     "output_type": "stream",
     "text": [
      "\r 86%|████████▌ | 75/87 [00:08<00:01,  8.89it/s]"
     ]
    },
    {
     "name": "stdout",
     "output_type": "stream",
     "text": [
      "Error processing faces/frame_43_face_0.jpg: Face could not be detected in faces/frame_43_face_0.jpg.Please confirm that the picture is a face photo or consider to set enforce_detection param to False.\n"
     ]
    },
    {
     "name": "stderr",
     "output_type": "stream",
     "text": [
      "\r 89%|████████▊ | 77/87 [00:08<00:01,  8.69it/s]"
     ]
    },
    {
     "name": "stdout",
     "output_type": "stream",
     "text": [
      "Error processing faces/frame_44_face_1.jpg: Face could not be detected in faces/frame_44_face_1.jpg.Please confirm that the picture is a face photo or consider to set enforce_detection param to False.\n"
     ]
    },
    {
     "name": "stderr",
     "output_type": "stream",
     "text": [
      "100%|██████████| 87/87 [00:11<00:00,  7.86it/s]\n"
     ]
    },
    {
     "name": "stdout",
     "output_type": "stream",
     "text": [
      "Error processing faces/frame_50_face_1.jpg: Face could not be detected in faces/frame_50_face_1.jpg.Please confirm that the picture is a face photo or consider to set enforce_detection param to False.\n"
     ]
    },
    {
     "name": "stderr",
     "output_type": "stream",
     "text": [
      "0it [00:00, ?it/s]\n",
      "0it [00:00, ?it/s]\n",
      "0it [00:00, ?it/s]\n",
      "0it [00:00, ?it/s]\n",
      "0it [00:00, ?it/s]\n",
      "0it [00:00, ?it/s]\n",
      "0it [00:00, ?it/s]\n",
      "0it [00:00, ?it/s]\n",
      "  0%|          | 0/5 [00:00<?, ?it/s]"
     ]
    },
    {
     "name": "stdout",
     "output_type": "stream",
     "text": [
      "Error processing faces/frame_1_face_0.jpg: Face could not be detected in faces/frame_1_face_0.jpg.Please confirm that the picture is a face photo or consider to set enforce_detection param to False.\n",
      "Error processing faces/frame_2_face_0.jpg: Face could not be detected in faces/frame_2_face_0.jpg.Please confirm that the picture is a face photo or consider to set enforce_detection param to False.\n",
      "Error processing faces/frame_3_face_0.jpg: Face could not be detected in faces/frame_3_face_0.jpg.Please confirm that the picture is a face photo or consider to set enforce_detection param to False.\n"
     ]
    },
    {
     "name": "stderr",
     "output_type": "stream",
     "text": [
      "100%|██████████| 5/5 [00:00<00:00, 10.14it/s]\n",
      "  0%|          | 0/20 [00:00<?, ?it/s]"
     ]
    },
    {
     "name": "stdout",
     "output_type": "stream",
     "text": [
      "Error processing faces/frame_0_face_0.jpg: Face could not be detected in faces/frame_0_face_0.jpg.Please confirm that the picture is a face photo or consider to set enforce_detection param to False.\n",
      "Error processing faces/frame_9_face_0.jpg: Face could not be detected in faces/frame_9_face_0.jpg.Please confirm that the picture is a face photo or consider to set enforce_detection param to False.\n",
      "Error processing faces/frame_12_face_0.jpg: Face could not be detected in faces/frame_12_face_0.jpg.Please confirm that the picture is a face photo or consider to set enforce_detection param to False.\n",
      "Error processing faces/frame_13_face_0.jpg: Face could not be detected in faces/frame_13_face_0.jpg.Please confirm that the picture is a face photo or consider to set enforce_detection param to False.\n",
      "Error processing faces/frame_14_face_0.jpg: Face could not be detected in faces/frame_14_face_0.jpg.Please confirm that the picture is a face photo or consider to set enforce_detection param to False.\n"
     ]
    },
    {
     "name": "stderr",
     "output_type": "stream",
     "text": [
      "\r 30%|███       | 6/20 [00:00<00:00, 22.37it/s]"
     ]
    },
    {
     "name": "stdout",
     "output_type": "stream",
     "text": [
      "Error processing faces/frame_16_face_0.jpg: Face could not be detected in faces/frame_16_face_0.jpg.Please confirm that the picture is a face photo or consider to set enforce_detection param to False.\n",
      "Error processing faces/frame_23_face_0.jpg: Face could not be detected in faces/frame_23_face_0.jpg.Please confirm that the picture is a face photo or consider to set enforce_detection param to False.\n"
     ]
    },
    {
     "name": "stderr",
     "output_type": "stream",
     "text": [
      " 55%|█████▌    | 11/20 [00:00<00:00, 12.69it/s]"
     ]
    },
    {
     "name": "stdout",
     "output_type": "stream",
     "text": [
      "Error processing faces/frame_25_face_0.jpg: Face could not be detected in faces/frame_25_face_0.jpg.Please confirm that the picture is a face photo or consider to set enforce_detection param to False.\n"
     ]
    },
    {
     "name": "stderr",
     "output_type": "stream",
     "text": [
      "100%|██████████| 20/20 [00:01<00:00, 15.51it/s]\n"
     ]
    },
    {
     "name": "stdout",
     "output_type": "stream",
     "text": [
      "Error processing faces/frame_37_face_0.jpg: Face could not be detected in faces/frame_37_face_0.jpg.Please confirm that the picture is a face photo or consider to set enforce_detection param to False.\n",
      "Error processing faces/frame_40_face_0.jpg: Face could not be detected in faces/frame_40_face_0.jpg.Please confirm that the picture is a face photo or consider to set enforce_detection param to False.\n",
      "Error processing faces/frame_41_face_0.jpg: Face could not be detected in faces/frame_41_face_0.jpg.Please confirm that the picture is a face photo or consider to set enforce_detection param to False.\n",
      "Error processing faces/frame_42_face_0.jpg: Face could not be detected in faces/frame_42_face_0.jpg.Please confirm that the picture is a face photo or consider to set enforce_detection param to False.\n",
      "Error processing faces/frame_42_face_1.jpg: Face could not be detected in faces/frame_42_face_1.jpg.Please confirm that the picture is a face photo or consider to set enforce_detection param to False.\n",
      "Error processing faces/frame_44_face_0.jpg: Face could not be detected in faces/frame_44_face_0.jpg.Please confirm that the picture is a face photo or consider to set enforce_detection param to False.\n",
      "Error processing faces/frame_49_face_0.jpg: Face could not be detected in faces/frame_49_face_0.jpg.Please confirm that the picture is a face photo or consider to set enforce_detection param to False.\n"
     ]
    },
    {
     "name": "stderr",
     "output_type": "stream",
     "text": [
      "0it [00:00, ?it/s]\n",
      " 50%|█████     | 17/34 [00:09<00:08,  2.06it/s]"
     ]
    },
    {
     "name": "stdout",
     "output_type": "stream",
     "text": [
      "Error processing faces/frame_28_face_1.jpg: Face could not be detected in faces/frame_28_face_1.jpg.Please confirm that the picture is a face photo or consider to set enforce_detection param to False.\n"
     ]
    },
    {
     "name": "stderr",
     "output_type": "stream",
     "text": [
      "100%|██████████| 34/34 [00:15<00:00,  2.17it/s]\n",
      "0it [00:00, ?it/s]\n",
      "100%|██████████| 51/51 [00:12<00:00,  4.17it/s]\n",
      " 20%|██        | 1/5 [00:00<00:00,  4.19it/s]"
     ]
    },
    {
     "name": "stdout",
     "output_type": "stream",
     "text": [
      "Error processing faces/frame_37_face_0.jpg: Face could not be detected in faces/frame_37_face_0.jpg.Please confirm that the picture is a face photo or consider to set enforce_detection param to False.\n"
     ]
    },
    {
     "name": "stderr",
     "output_type": "stream",
     "text": [
      "\r 60%|██████    | 3/5 [00:00<00:00,  4.91it/s]"
     ]
    },
    {
     "name": "stdout",
     "output_type": "stream",
     "text": [
      "Error processing faces/frame_39_face_0.jpg: Face could not be detected in faces/frame_39_face_0.jpg.Please confirm that the picture is a face photo or consider to set enforce_detection param to False.\n"
     ]
    },
    {
     "name": "stderr",
     "output_type": "stream",
     "text": [
      "100%|██████████| 5/5 [00:00<00:00,  5.38it/s]\n",
      "  0%|          | 0/87 [00:00<?, ?it/s]"
     ]
    },
    {
     "name": "stdout",
     "output_type": "stream",
     "text": [
      "Error processing faces/frame_0_face_0.jpg: Face could not be detected in faces/frame_0_face_0.jpg.Please confirm that the picture is a face photo or consider to set enforce_detection param to False.\n"
     ]
    },
    {
     "name": "stderr",
     "output_type": "stream",
     "text": [
      "  3%|▎         | 3/87 [00:00<00:13,  6.06it/s]"
     ]
    },
    {
     "name": "stdout",
     "output_type": "stream",
     "text": [
      "Error processing faces/frame_1_face_1.jpg: Face could not be detected in faces/frame_1_face_1.jpg.Please confirm that the picture is a face photo or consider to set enforce_detection param to False.\n"
     ]
    },
    {
     "name": "stderr",
     "output_type": "stream",
     "text": [
      "\r  6%|▌         | 5/87 [00:00<00:11,  7.20it/s]"
     ]
    },
    {
     "name": "stdout",
     "output_type": "stream",
     "text": [
      "Error processing faces/frame_2_face_1.jpg: Face could not be detected in faces/frame_2_face_1.jpg.Please confirm that the picture is a face photo or consider to set enforce_detection param to False.\n"
     ]
    },
    {
     "name": "stderr",
     "output_type": "stream",
     "text": [
      "  9%|▉         | 8/87 [00:01<00:13,  6.06it/s]"
     ]
    },
    {
     "name": "stdout",
     "output_type": "stream",
     "text": [
      "Error processing faces/frame_4_face_0.jpg: Face could not be detected in faces/frame_4_face_0.jpg.Please confirm that the picture is a face photo or consider to set enforce_detection param to False.\n",
      "Error processing faces/frame_4_face_1.jpg: Face could not be detected in faces/frame_4_face_1.jpg.Please confirm that the picture is a face photo or consider to set enforce_detection param to False.\n",
      "Error processing faces/frame_5_face_0.jpg: Face could not be detected in faces/frame_5_face_0.jpg.Please confirm that the picture is a face photo or consider to set enforce_detection param to False.\n"
     ]
    },
    {
     "name": "stderr",
     "output_type": "stream",
     "text": [
      "\r 14%|█▍        | 12/87 [00:01<00:07,  9.42it/s]"
     ]
    },
    {
     "name": "stdout",
     "output_type": "stream",
     "text": [
      "Error processing faces/frame_6_face_1.jpg: Face could not be detected in faces/frame_6_face_1.jpg.Please confirm that the picture is a face photo or consider to set enforce_detection param to False.\n",
      "Error processing faces/frame_7_face_0.jpg: Face could not be detected in faces/frame_7_face_0.jpg.Please confirm that the picture is a face photo or consider to set enforce_detection param to False.\n",
      "Error processing faces/frame_7_face_1.jpg: Face could not be detected in faces/frame_7_face_1.jpg.Please confirm that the picture is a face photo or consider to set enforce_detection param to False.\n",
      "Error processing faces/frame_8_face_0.jpg: Face could not be detected in faces/frame_8_face_0.jpg.Please confirm that the picture is a face photo or consider to set enforce_detection param to False.\n",
      "Error processing faces/frame_8_face_1.jpg: Face could not be detected in faces/frame_8_face_1.jpg.Please confirm that the picture is a face photo or consider to set enforce_detection param to False.\n"
     ]
    },
    {
     "name": "stderr",
     "output_type": "stream",
     "text": [
      " 23%|██▎       | 20/87 [00:01<00:05, 12.22it/s]"
     ]
    },
    {
     "name": "stdout",
     "output_type": "stream",
     "text": [
      "Error processing faces/frame_10_face_1.jpg: Face could not be detected in faces/frame_10_face_1.jpg.Please confirm that the picture is a face photo or consider to set enforce_detection param to False.\n"
     ]
    },
    {
     "name": "stderr",
     "output_type": "stream",
     "text": [
      "\r 25%|██▌       | 22/87 [00:02<00:07,  8.66it/s]"
     ]
    },
    {
     "name": "stdout",
     "output_type": "stream",
     "text": [
      "Error processing faces/frame_12_face_1.jpg: Face could not be detected in faces/frame_12_face_1.jpg.Please confirm that the picture is a face photo or consider to set enforce_detection param to False.\n"
     ]
    },
    {
     "name": "stderr",
     "output_type": "stream",
     "text": [
      "\r 28%|██▊       | 24/87 [00:02<00:07,  8.61it/s]"
     ]
    },
    {
     "name": "stdout",
     "output_type": "stream",
     "text": [
      "Error processing faces/frame_13_face_1.jpg: Face could not be detected in faces/frame_13_face_1.jpg.Please confirm that the picture is a face photo or consider to set enforce_detection param to False.\n"
     ]
    },
    {
     "name": "stderr",
     "output_type": "stream",
     "text": [
      "\r 30%|██▉       | 26/87 [00:02<00:07,  8.45it/s]"
     ]
    },
    {
     "name": "stdout",
     "output_type": "stream",
     "text": [
      "Error processing faces/frame_14_face_1.jpg: Face could not be detected in faces/frame_14_face_1.jpg.Please confirm that the picture is a face photo or consider to set enforce_detection param to False.\n",
      "Error processing faces/frame_15_face_0.jpg: Face could not be detected in faces/frame_15_face_0.jpg.Please confirm that the picture is a face photo or consider to set enforce_detection param to False.\n"
     ]
    },
    {
     "name": "stderr",
     "output_type": "stream",
     "text": [
      "\r 33%|███▎      | 29/87 [00:03<00:06,  9.16it/s]"
     ]
    },
    {
     "name": "stdout",
     "output_type": "stream",
     "text": [
      "Error processing faces/frame_16_face_1.jpg: Face could not be detected in faces/frame_16_face_1.jpg.Please confirm that the picture is a face photo or consider to set enforce_detection param to False.\n"
     ]
    },
    {
     "name": "stderr",
     "output_type": "stream",
     "text": [
      "\r 36%|███▌      | 31/87 [00:03<00:06,  8.03it/s]"
     ]
    },
    {
     "name": "stdout",
     "output_type": "stream",
     "text": [
      "Error processing faces/frame_17_face_1.jpg: Face could not be detected in faces/frame_17_face_1.jpg.Please confirm that the picture is a face photo or consider to set enforce_detection param to False.\n"
     ]
    },
    {
     "name": "stderr",
     "output_type": "stream",
     "text": [
      " 39%|███▉      | 34/87 [00:04<00:08,  6.09it/s]"
     ]
    },
    {
     "name": "stdout",
     "output_type": "stream",
     "text": [
      "Error processing faces/frame_19_face_0.jpg: Face could not be detected in faces/frame_19_face_0.jpg.Please confirm that the picture is a face photo or consider to set enforce_detection param to False.\n",
      "Error processing faces/frame_20_face_0.jpg: Face could not be detected in faces/frame_20_face_0.jpg.Please confirm that the picture is a face photo or consider to set enforce_detection param to False.\n",
      "Error processing faces/frame_20_face_1.jpg: Face could not be detected in faces/frame_20_face_1.jpg.Please confirm that the picture is a face photo or consider to set enforce_detection param to False.\n"
     ]
    },
    {
     "name": "stderr",
     "output_type": "stream",
     "text": [
      " 47%|████▋     | 41/87 [00:05<00:09,  4.68it/s]"
     ]
    },
    {
     "name": "stdout",
     "output_type": "stream",
     "text": [
      "Error processing faces/frame_22_face_1.jpg: Face could not be detected in faces/frame_22_face_1.jpg.Please confirm that the picture is a face photo or consider to set enforce_detection param to False.\n"
     ]
    },
    {
     "name": "stderr",
     "output_type": "stream",
     "text": [
      " 51%|█████     | 44/87 [00:06<00:09,  4.44it/s]"
     ]
    },
    {
     "name": "stdout",
     "output_type": "stream",
     "text": [
      "Error processing faces/frame_23_face_2.jpg: Face could not be detected in faces/frame_23_face_2.jpg.Please confirm that the picture is a face photo or consider to set enforce_detection param to False.\n"
     ]
    },
    {
     "name": "stderr",
     "output_type": "stream",
     "text": [
      "\r 53%|█████▎    | 46/87 [00:06<00:08,  4.97it/s]"
     ]
    },
    {
     "name": "stdout",
     "output_type": "stream",
     "text": [
      "Error processing faces/frame_24_face_1.jpg: Face could not be detected in faces/frame_24_face_1.jpg.Please confirm that the picture is a face photo or consider to set enforce_detection param to False.\n",
      "Error processing faces/frame_24_face_2.jpg: Face could not be detected in faces/frame_24_face_2.jpg.Please confirm that the picture is a face photo or consider to set enforce_detection param to False.\n"
     ]
    },
    {
     "name": "stderr",
     "output_type": "stream",
     "text": [
      "\r 56%|█████▋    | 49/87 [00:06<00:05,  6.56it/s]"
     ]
    },
    {
     "name": "stdout",
     "output_type": "stream",
     "text": [
      "Error processing faces/frame_25_face_1.jpg: Face could not be detected in faces/frame_25_face_1.jpg.Please confirm that the picture is a face photo or consider to set enforce_detection param to False.\n",
      "Error processing faces/frame_26_face_0.jpg: Face could not be detected in faces/frame_26_face_0.jpg.Please confirm that the picture is a face photo or consider to set enforce_detection param to False.\n"
     ]
    },
    {
     "name": "stderr",
     "output_type": "stream",
     "text": [
      "\r 60%|█████▉    | 52/87 [00:07<00:04,  7.89it/s]"
     ]
    },
    {
     "name": "stdout",
     "output_type": "stream",
     "text": [
      "Error processing faces/frame_28_face_0.jpg: Face could not be detected in faces/frame_28_face_0.jpg.Please confirm that the picture is a face photo or consider to set enforce_detection param to False.\n",
      "Error processing faces/frame_28_face_1.jpg: Face could not be detected in faces/frame_28_face_1.jpg.Please confirm that the picture is a face photo or consider to set enforce_detection param to False.\n"
     ]
    },
    {
     "name": "stderr",
     "output_type": "stream",
     "text": [
      "\r 63%|██████▎   | 55/87 [00:07<00:03,  8.91it/s]"
     ]
    },
    {
     "name": "stdout",
     "output_type": "stream",
     "text": [
      "Error processing faces/frame_30_face_0.jpg: Face could not be detected in faces/frame_30_face_0.jpg.Please confirm that the picture is a face photo or consider to set enforce_detection param to False.\n"
     ]
    },
    {
     "name": "stderr",
     "output_type": "stream",
     "text": [
      "\r 66%|██████▌   | 57/87 [00:07<00:03,  8.73it/s]"
     ]
    },
    {
     "name": "stdout",
     "output_type": "stream",
     "text": [
      "Error processing faces/frame_31_face_1.jpg: Face could not be detected in faces/frame_31_face_1.jpg.Please confirm that the picture is a face photo or consider to set enforce_detection param to False.\n"
     ]
    },
    {
     "name": "stderr",
     "output_type": "stream",
     "text": [
      " 69%|██████▉   | 60/87 [00:08<00:03,  7.41it/s]"
     ]
    },
    {
     "name": "stdout",
     "output_type": "stream",
     "text": [
      "Error processing faces/frame_34_face_0.jpg: Face could not be detected in faces/frame_34_face_0.jpg.Please confirm that the picture is a face photo or consider to set enforce_detection param to False.\n",
      "Error processing faces/frame_34_face_1.jpg: Face could not be detected in faces/frame_34_face_1.jpg.Please confirm that the picture is a face photo or consider to set enforce_detection param to False.\n",
      "Error processing faces/frame_35_face_0.jpg: Face could not be detected in faces/frame_35_face_0.jpg.Please confirm that the picture is a face photo or consider to set enforce_detection param to False.\n",
      "Error processing faces/frame_35_face_1.jpg: Face could not be detected in faces/frame_35_face_1.jpg.Please confirm that the picture is a face photo or consider to set enforce_detection param to False.\n"
     ]
    },
    {
     "name": "stderr",
     "output_type": "stream",
     "text": [
      "\r 75%|███████▍  | 65/87 [00:08<00:02, 10.97it/s]"
     ]
    },
    {
     "name": "stdout",
     "output_type": "stream",
     "text": [
      "Error processing faces/frame_36_face_1.jpg: Face could not be detected in faces/frame_36_face_1.jpg.Please confirm that the picture is a face photo or consider to set enforce_detection param to False.\n"
     ]
    },
    {
     "name": "stderr",
     "output_type": "stream",
     "text": [
      "\r 77%|███████▋  | 67/87 [00:08<00:01, 10.16it/s]"
     ]
    },
    {
     "name": "stdout",
     "output_type": "stream",
     "text": [
      "Error processing faces/frame_37_face_1.jpg: Face could not be detected in faces/frame_37_face_1.jpg.Please confirm that the picture is a face photo or consider to set enforce_detection param to False.\n"
     ]
    },
    {
     "name": "stderr",
     "output_type": "stream",
     "text": [
      "\r 79%|███████▉  | 69/87 [00:08<00:01,  9.66it/s]"
     ]
    },
    {
     "name": "stdout",
     "output_type": "stream",
     "text": [
      "Error processing faces/frame_38_face_1.jpg: Face could not be detected in faces/frame_38_face_1.jpg.Please confirm that the picture is a face photo or consider to set enforce_detection param to False.\n"
     ]
    },
    {
     "name": "stderr",
     "output_type": "stream",
     "text": [
      "\r 82%|████████▏ | 71/87 [00:09<00:01,  9.21it/s]"
     ]
    },
    {
     "name": "stdout",
     "output_type": "stream",
     "text": [
      "Error processing faces/frame_39_face_1.jpg: Face could not be detected in faces/frame_39_face_1.jpg.Please confirm that the picture is a face photo or consider to set enforce_detection param to False.\n"
     ]
    },
    {
     "name": "stderr",
     "output_type": "stream",
     "text": [
      "\r 84%|████████▍ | 73/87 [00:09<00:01,  8.97it/s]"
     ]
    },
    {
     "name": "stdout",
     "output_type": "stream",
     "text": [
      "Error processing faces/frame_41_face_0.jpg: Face could not be detected in faces/frame_41_face_0.jpg.Please confirm that the picture is a face photo or consider to set enforce_detection param to False.\n"
     ]
    },
    {
     "name": "stderr",
     "output_type": "stream",
     "text": [
      "\r 86%|████████▌ | 75/87 [00:09<00:01,  8.74it/s]"
     ]
    },
    {
     "name": "stdout",
     "output_type": "stream",
     "text": [
      "Error processing faces/frame_43_face_0.jpg: Face could not be detected in faces/frame_43_face_0.jpg.Please confirm that the picture is a face photo or consider to set enforce_detection param to False.\n"
     ]
    },
    {
     "name": "stderr",
     "output_type": "stream",
     "text": [
      "\r 89%|████████▊ | 77/87 [00:09<00:01,  8.79it/s]"
     ]
    },
    {
     "name": "stdout",
     "output_type": "stream",
     "text": [
      "Error processing faces/frame_44_face_1.jpg: Face could not be detected in faces/frame_44_face_1.jpg.Please confirm that the picture is a face photo or consider to set enforce_detection param to False.\n"
     ]
    },
    {
     "name": "stderr",
     "output_type": "stream",
     "text": [
      "100%|██████████| 87/87 [00:11<00:00,  7.51it/s]\n"
     ]
    },
    {
     "name": "stdout",
     "output_type": "stream",
     "text": [
      "Error processing faces/frame_50_face_1.jpg: Face could not be detected in faces/frame_50_face_1.jpg.Please confirm that the picture is a face photo or consider to set enforce_detection param to False.\n"
     ]
    },
    {
     "name": "stderr",
     "output_type": "stream",
     "text": [
      "0it [00:00, ?it/s]\n",
      "  0%|          | 0/20 [00:00<?, ?it/s]"
     ]
    },
    {
     "name": "stdout",
     "output_type": "stream",
     "text": [
      "Error processing faces/frame_0_face_0.jpg: Face could not be detected in faces/frame_0_face_0.jpg.Please confirm that the picture is a face photo or consider to set enforce_detection param to False.\n",
      "Error processing faces/frame_9_face_0.jpg: Face could not be detected in faces/frame_9_face_0.jpg.Please confirm that the picture is a face photo or consider to set enforce_detection param to False.\n",
      "Error processing faces/frame_12_face_0.jpg: Face could not be detected in faces/frame_12_face_0.jpg.Please confirm that the picture is a face photo or consider to set enforce_detection param to False.\n",
      "Error processing faces/frame_13_face_0.jpg: Face could not be detected in faces/frame_13_face_0.jpg.Please confirm that the picture is a face photo or consider to set enforce_detection param to False.\n",
      "Error processing faces/frame_14_face_0.jpg: Face could not be detected in faces/frame_14_face_0.jpg.Please confirm that the picture is a face photo or consider to set enforce_detection param to False.\n"
     ]
    },
    {
     "name": "stderr",
     "output_type": "stream",
     "text": [
      "\r 30%|███       | 6/20 [00:00<00:00, 22.42it/s]"
     ]
    },
    {
     "name": "stdout",
     "output_type": "stream",
     "text": [
      "Error processing faces/frame_16_face_0.jpg: Face could not be detected in faces/frame_16_face_0.jpg.Please confirm that the picture is a face photo or consider to set enforce_detection param to False.\n",
      "Error processing faces/frame_23_face_0.jpg: Face could not be detected in faces/frame_23_face_0.jpg.Please confirm that the picture is a face photo or consider to set enforce_detection param to False.\n"
     ]
    },
    {
     "name": "stderr",
     "output_type": "stream",
     "text": [
      " 55%|█████▌    | 11/20 [00:00<00:00, 12.38it/s]"
     ]
    },
    {
     "name": "stdout",
     "output_type": "stream",
     "text": [
      "Error processing faces/frame_25_face_0.jpg: Face could not be detected in faces/frame_25_face_0.jpg.Please confirm that the picture is a face photo or consider to set enforce_detection param to False.\n"
     ]
    },
    {
     "name": "stderr",
     "output_type": "stream",
     "text": [
      "100%|██████████| 20/20 [00:01<00:00, 15.14it/s]\n"
     ]
    },
    {
     "name": "stdout",
     "output_type": "stream",
     "text": [
      "Error processing faces/frame_37_face_0.jpg: Face could not be detected in faces/frame_37_face_0.jpg.Please confirm that the picture is a face photo or consider to set enforce_detection param to False.\n",
      "Error processing faces/frame_40_face_0.jpg: Face could not be detected in faces/frame_40_face_0.jpg.Please confirm that the picture is a face photo or consider to set enforce_detection param to False.\n",
      "Error processing faces/frame_41_face_0.jpg: Face could not be detected in faces/frame_41_face_0.jpg.Please confirm that the picture is a face photo or consider to set enforce_detection param to False.\n",
      "Error processing faces/frame_42_face_0.jpg: Face could not be detected in faces/frame_42_face_0.jpg.Please confirm that the picture is a face photo or consider to set enforce_detection param to False.\n",
      "Error processing faces/frame_42_face_1.jpg: Face could not be detected in faces/frame_42_face_1.jpg.Please confirm that the picture is a face photo or consider to set enforce_detection param to False.\n",
      "Error processing faces/frame_44_face_0.jpg: Face could not be detected in faces/frame_44_face_0.jpg.Please confirm that the picture is a face photo or consider to set enforce_detection param to False.\n",
      "Error processing faces/frame_49_face_0.jpg: Face could not be detected in faces/frame_49_face_0.jpg.Please confirm that the picture is a face photo or consider to set enforce_detection param to False.\n"
     ]
    },
    {
     "name": "stderr",
     "output_type": "stream",
     "text": [
      "0it [00:00, ?it/s]\n",
      "0it [00:00, ?it/s]\n",
      "0it [00:00, ?it/s]\n",
      "0it [00:00, ?it/s]\n",
      " 69%|██████▉   | 33/48 [00:11<00:04,  3.16it/s]"
     ]
    },
    {
     "name": "stdout",
     "output_type": "stream",
     "text": [
      "Error processing faces/frame_36_face_0.jpg: Face could not be detected in faces/frame_36_face_0.jpg.Please confirm that the picture is a face photo or consider to set enforce_detection param to False.\n"
     ]
    },
    {
     "name": "stderr",
     "output_type": "stream",
     "text": [
      "100%|██████████| 48/48 [00:15<00:00,  3.15it/s]\n"
     ]
    },
    {
     "name": "stdout",
     "output_type": "stream",
     "text": [
      "Error processing faces/frame_50_face_0.jpg: Face could not be detected in faces/frame_50_face_0.jpg.Please confirm that the picture is a face photo or consider to set enforce_detection param to False.\n"
     ]
    },
    {
     "name": "stderr",
     "output_type": "stream",
     "text": [
      "  1%|          | 1/101 [00:00<00:22,  4.47it/s]"
     ]
    },
    {
     "name": "stdout",
     "output_type": "stream",
     "text": [
      "Error processing faces/frame_5_face_0.jpg: Face could not be detected in faces/frame_5_face_0.jpg.Please confirm that the picture is a face photo or consider to set enforce_detection param to False.\n",
      "Error processing faces/frame_6_face_0.jpg: Face could not be detected in faces/frame_6_face_0.jpg.Please confirm that the picture is a face photo or consider to set enforce_detection param to False.\n"
     ]
    },
    {
     "name": "stderr",
     "output_type": "stream",
     "text": [
      "\r  4%|▍         | 4/101 [00:00<00:10,  9.14it/s]"
     ]
    },
    {
     "name": "stdout",
     "output_type": "stream",
     "text": [
      "Error processing faces/frame_8_face_0.jpg: Face could not be detected in faces/frame_8_face_0.jpg.Please confirm that the picture is a face photo or consider to set enforce_detection param to False.\n",
      "Error processing faces/frame_10_face_0.jpg: Face could not be detected in faces/frame_10_face_0.jpg.Please confirm that the picture is a face photo or consider to set enforce_detection param to False.\n"
     ]
    },
    {
     "name": "stderr",
     "output_type": "stream",
     "text": [
      "  9%|▉         | 9/101 [00:01<00:12,  7.22it/s]"
     ]
    },
    {
     "name": "stdout",
     "output_type": "stream",
     "text": [
      "Error processing faces/frame_12_face_1.jpg: Face could not be detected in faces/frame_12_face_1.jpg.Please confirm that the picture is a face photo or consider to set enforce_detection param to False.\n"
     ]
    },
    {
     "name": "stderr",
     "output_type": "stream",
     "text": [
      "\r 11%|█         | 11/101 [00:01<00:11,  7.64it/s]"
     ]
    },
    {
     "name": "stdout",
     "output_type": "stream",
     "text": [
      "Error processing faces/frame_13_face_1.jpg: Face could not be detected in faces/frame_13_face_1.jpg.Please confirm that the picture is a face photo or consider to set enforce_detection param to False.\n",
      "Error processing faces/frame_14_face_0.jpg: Face could not be detected in faces/frame_14_face_0.jpg.Please confirm that the picture is a face photo or consider to set enforce_detection param to False.\n"
     ]
    },
    {
     "name": "stderr",
     "output_type": "stream",
     "text": [
      "\r 14%|█▍        | 14/101 [00:01<00:09,  8.87it/s]"
     ]
    },
    {
     "name": "stdout",
     "output_type": "stream",
     "text": [
      "Error processing faces/frame_14_face_2.jpg: Face could not be detected in faces/frame_14_face_2.jpg.Please confirm that the picture is a face photo or consider to set enforce_detection param to False.\n",
      "Error processing faces/frame_15_face_0.jpg: Face could not be detected in faces/frame_15_face_0.jpg.Please confirm that the picture is a face photo or consider to set enforce_detection param to False.\n"
     ]
    },
    {
     "name": "stderr",
     "output_type": "stream",
     "text": [
      " 19%|█▉        | 19/101 [00:02<00:08,  9.35it/s]"
     ]
    },
    {
     "name": "stdout",
     "output_type": "stream",
     "text": [
      "Error processing faces/frame_16_face_0.jpg: Face could not be detected in faces/frame_16_face_0.jpg.Please confirm that the picture is a face photo or consider to set enforce_detection param to False.\n",
      "Error processing faces/frame_16_face_1.jpg: Face could not be detected in faces/frame_16_face_1.jpg.Please confirm that the picture is a face photo or consider to set enforce_detection param to False.\n"
     ]
    },
    {
     "name": "stderr",
     "output_type": "stream",
     "text": [
      "\r 21%|██        | 21/101 [00:02<00:08,  9.18it/s]"
     ]
    },
    {
     "name": "stdout",
     "output_type": "stream",
     "text": [
      "Error processing faces/frame_16_face_3.jpg: Face could not be detected in faces/frame_16_face_3.jpg.Please confirm that the picture is a face photo or consider to set enforce_detection param to False.\n",
      "Error processing faces/frame_17_face_0.jpg: Face could not be detected in faces/frame_17_face_0.jpg.Please confirm that the picture is a face photo or consider to set enforce_detection param to False.\n",
      "Error processing faces/frame_17_face_1.jpg: Face could not be detected in faces/frame_17_face_1.jpg.Please confirm that the picture is a face photo or consider to set enforce_detection param to False.\n"
     ]
    },
    {
     "name": "stderr",
     "output_type": "stream",
     "text": [
      "\r 25%|██▍       | 25/101 [00:02<00:06, 11.22it/s]"
     ]
    },
    {
     "name": "stdout",
     "output_type": "stream",
     "text": [
      "Error processing faces/frame_17_face_3.jpg: Face could not be detected in faces/frame_17_face_3.jpg.Please confirm that the picture is a face photo or consider to set enforce_detection param to False.\n"
     ]
    },
    {
     "name": "stderr",
     "output_type": "stream",
     "text": [
      " 29%|██▊       | 29/101 [00:03<00:07, 10.13it/s]"
     ]
    },
    {
     "name": "stdout",
     "output_type": "stream",
     "text": [
      "Error processing faces/frame_18_face_2.jpg: Face could not be detected in faces/frame_18_face_2.jpg.Please confirm that the picture is a face photo or consider to set enforce_detection param to False.\n"
     ]
    },
    {
     "name": "stderr",
     "output_type": "stream",
     "text": [
      "\r 31%|███       | 31/101 [00:03<00:07,  9.00it/s]"
     ]
    },
    {
     "name": "stdout",
     "output_type": "stream",
     "text": [
      "Error processing faces/frame_18_face_4.jpg: Face could not be detected in faces/frame_18_face_4.jpg.Please confirm that the picture is a face photo or consider to set enforce_detection param to False.\n"
     ]
    },
    {
     "name": "stderr",
     "output_type": "stream",
     "text": [
      " 34%|███▎      | 34/101 [00:04<00:13,  5.03it/s]"
     ]
    },
    {
     "name": "stdout",
     "output_type": "stream",
     "text": [
      "Error processing faces/frame_19_face_3.jpg: Face could not be detected in faces/frame_19_face_3.jpg.Please confirm that the picture is a face photo or consider to set enforce_detection param to False.\n",
      "Error processing faces/frame_19_face_4.jpg: Face could not be detected in faces/frame_19_face_4.jpg.Please confirm that the picture is a face photo or consider to set enforce_detection param to False.\n",
      "Error processing faces/frame_20_face_0.jpg: Face could not be detected in faces/frame_20_face_0.jpg.Please confirm that the picture is a face photo or consider to set enforce_detection param to False.\n",
      "Error processing faces/frame_20_face_1.jpg: Face could not be detected in faces/frame_20_face_1.jpg.Please confirm that the picture is a face photo or consider to set enforce_detection param to False.\n"
     ]
    },
    {
     "name": "stderr",
     "output_type": "stream",
     "text": [
      "\r 39%|███▊      | 39/101 [00:04<00:07,  8.10it/s]"
     ]
    },
    {
     "name": "stdout",
     "output_type": "stream",
     "text": [
      "Error processing faces/frame_20_face_3.jpg: Face could not be detected in faces/frame_20_face_3.jpg.Please confirm that the picture is a face photo or consider to set enforce_detection param to False.\n",
      "Error processing faces/frame_21_face_0.jpg: Face could not be detected in faces/frame_21_face_0.jpg.Please confirm that the picture is a face photo or consider to set enforce_detection param to False.\n"
     ]
    },
    {
     "name": "stderr",
     "output_type": "stream",
     "text": [
      " 44%|████▎     | 44/101 [00:05<00:10,  5.51it/s]"
     ]
    },
    {
     "name": "stdout",
     "output_type": "stream",
     "text": [
      "Error processing faces/frame_22_face_1.jpg: Face could not be detected in faces/frame_22_face_1.jpg.Please confirm that the picture is a face photo or consider to set enforce_detection param to False.\n"
     ]
    },
    {
     "name": "stderr",
     "output_type": "stream",
     "text": [
      "\r 46%|████▌     | 46/101 [00:05<00:09,  5.91it/s]"
     ]
    },
    {
     "name": "stdout",
     "output_type": "stream",
     "text": [
      "Error processing faces/frame_22_face_3.jpg: Face could not be detected in faces/frame_22_face_3.jpg.Please confirm that the picture is a face photo or consider to set enforce_detection param to False.\n",
      "Error processing faces/frame_22_face_4.jpg: Face could not be detected in faces/frame_22_face_4.jpg.Please confirm that the picture is a face photo or consider to set enforce_detection param to False.\n"
     ]
    },
    {
     "name": "stderr",
     "output_type": "stream",
     "text": [
      " 50%|█████     | 51/101 [00:06<00:08,  6.22it/s]"
     ]
    },
    {
     "name": "stdout",
     "output_type": "stream",
     "text": [
      "Error processing faces/frame_23_face_3.jpg: Face could not be detected in faces/frame_23_face_3.jpg.Please confirm that the picture is a face photo or consider to set enforce_detection param to False.\n",
      "Error processing faces/frame_23_face_4.jpg: Face could not be detected in faces/frame_23_face_4.jpg.Please confirm that the picture is a face photo or consider to set enforce_detection param to False.\n"
     ]
    },
    {
     "name": "stderr",
     "output_type": "stream",
     "text": [
      " 54%|█████▍    | 55/101 [00:07<00:06,  6.91it/s]"
     ]
    },
    {
     "name": "stdout",
     "output_type": "stream",
     "text": [
      "Error processing faces/frame_24_face_2.jpg: Face could not be detected in faces/frame_24_face_2.jpg.Please confirm that the picture is a face photo or consider to set enforce_detection param to False.\n"
     ]
    },
    {
     "name": "stderr",
     "output_type": "stream",
     "text": [
      " 58%|█████▊    | 59/101 [00:07<00:06,  6.05it/s]"
     ]
    },
    {
     "name": "stdout",
     "output_type": "stream",
     "text": [
      "Error processing faces/frame_25_face_2.jpg: Face could not be detected in faces/frame_25_face_2.jpg.Please confirm that the picture is a face photo or consider to set enforce_detection param to False.\n"
     ]
    },
    {
     "name": "stderr",
     "output_type": "stream",
     "text": [
      "\r 60%|██████    | 61/101 [00:08<00:05,  6.75it/s]"
     ]
    },
    {
     "name": "stdout",
     "output_type": "stream",
     "text": [
      "Error processing faces/frame_25_face_4.jpg: Face could not be detected in faces/frame_25_face_4.jpg.Please confirm that the picture is a face photo or consider to set enforce_detection param to False.\n",
      "Error processing faces/frame_25_face_5.jpg: Face could not be detected in faces/frame_25_face_5.jpg.Please confirm that the picture is a face photo or consider to set enforce_detection param to False.\n"
     ]
    },
    {
     "name": "stderr",
     "output_type": "stream",
     "text": [
      " 65%|██████▌   | 66/101 [00:08<00:05,  6.62it/s]"
     ]
    },
    {
     "name": "stdout",
     "output_type": "stream",
     "text": [
      "Error processing faces/frame_26_face_3.jpg: Face could not be detected in faces/frame_26_face_3.jpg.Please confirm that the picture is a face photo or consider to set enforce_detection param to False.\n"
     ]
    },
    {
     "name": "stderr",
     "output_type": "stream",
     "text": [
      " 70%|███████   | 71/101 [00:09<00:05,  5.43it/s]"
     ]
    },
    {
     "name": "stdout",
     "output_type": "stream",
     "text": [
      "Error processing faces/frame_27_face_3.jpg: Face could not be detected in faces/frame_27_face_3.jpg.Please confirm that the picture is a face photo or consider to set enforce_detection param to False.\n",
      "Error processing faces/frame_27_face_4.jpg: Face could not be detected in faces/frame_27_face_4.jpg.Please confirm that the picture is a face photo or consider to set enforce_detection param to False.\n"
     ]
    },
    {
     "name": "stderr",
     "output_type": "stream",
     "text": [
      " 74%|███████▍  | 75/101 [00:10<00:03,  6.66it/s]"
     ]
    },
    {
     "name": "stdout",
     "output_type": "stream",
     "text": [
      "Error processing faces/frame_28_face_2.jpg: Face could not be detected in faces/frame_28_face_2.jpg.Please confirm that the picture is a face photo or consider to set enforce_detection param to False.\n"
     ]
    },
    {
     "name": "stderr",
     "output_type": "stream",
     "text": [
      " 78%|███████▊  | 79/101 [00:10<00:03,  5.86it/s]"
     ]
    },
    {
     "name": "stdout",
     "output_type": "stream",
     "text": [
      "Error processing faces/frame_29_face_2.jpg: Face could not be detected in faces/frame_29_face_2.jpg.Please confirm that the picture is a face photo or consider to set enforce_detection param to False.\n",
      "Error processing faces/frame_29_face_3.jpg: Face could not be detected in faces/frame_29_face_3.jpg.Please confirm that the picture is a face photo or consider to set enforce_detection param to False.\n",
      "Error processing faces/frame_29_face_4.jpg: Face could not be detected in faces/frame_29_face_4.jpg.Please confirm that the picture is a face photo or consider to set enforce_detection param to False.\n"
     ]
    },
    {
     "name": "stderr",
     "output_type": "stream",
     "text": [
      " 84%|████████▍ | 85/101 [00:11<00:02,  6.76it/s]"
     ]
    },
    {
     "name": "stdout",
     "output_type": "stream",
     "text": [
      "Error processing faces/frame_30_face_3.jpg: Face could not be detected in faces/frame_30_face_3.jpg.Please confirm that the picture is a face photo or consider to set enforce_detection param to False.\n"
     ]
    },
    {
     "name": "stderr",
     "output_type": "stream",
     "text": [
      " 88%|████████▊ | 89/101 [00:12<00:02,  5.70it/s]"
     ]
    },
    {
     "name": "stdout",
     "output_type": "stream",
     "text": [
      "Error processing faces/frame_31_face_3.jpg: Face could not be detected in faces/frame_31_face_3.jpg.Please confirm that the picture is a face photo or consider to set enforce_detection param to False.\n",
      "Error processing faces/frame_31_face_4.jpg: Face could not be detected in faces/frame_31_face_4.jpg.Please confirm that the picture is a face photo or consider to set enforce_detection param to False.\n"
     ]
    },
    {
     "name": "stderr",
     "output_type": "stream",
     "text": [
      "\r 91%|█████████ | 92/101 [00:12<00:01,  7.64it/s]"
     ]
    },
    {
     "name": "stdout",
     "output_type": "stream",
     "text": [
      "Error processing faces/frame_32_face_1.jpg: Face could not be detected in faces/frame_32_face_1.jpg.Please confirm that the picture is a face photo or consider to set enforce_detection param to False.\n"
     ]
    },
    {
     "name": "stderr",
     "output_type": "stream",
     "text": [
      "\r 93%|█████████▎| 94/101 [00:12<00:00,  7.89it/s]"
     ]
    },
    {
     "name": "stdout",
     "output_type": "stream",
     "text": [
      "Error processing faces/frame_33_face_1.jpg: Face could not be detected in faces/frame_33_face_1.jpg.Please confirm that the picture is a face photo or consider to set enforce_detection param to False.\n"
     ]
    },
    {
     "name": "stderr",
     "output_type": "stream",
     "text": [
      "\r 95%|█████████▌| 96/101 [00:12<00:00,  8.06it/s]"
     ]
    },
    {
     "name": "stdout",
     "output_type": "stream",
     "text": [
      "Error processing faces/frame_34_face_1.jpg: Face could not be detected in faces/frame_34_face_1.jpg.Please confirm that the picture is a face photo or consider to set enforce_detection param to False.\n"
     ]
    },
    {
     "name": "stderr",
     "output_type": "stream",
     "text": [
      "100%|██████████| 101/101 [00:13<00:00,  7.64it/s]\n"
     ]
    },
    {
     "name": "stdout",
     "output_type": "stream",
     "text": [
      "Error processing faces/frame_35_face_1.jpg: Face could not be detected in faces/frame_35_face_1.jpg.Please confirm that the picture is a face photo or consider to set enforce_detection param to False.\n",
      "Error processing faces/frame_37_face_0.jpg: Face could not be detected in faces/frame_37_face_0.jpg.Please confirm that the picture is a face photo or consider to set enforce_detection param to False.\n",
      "Error processing faces/frame_38_face_0.jpg: Face could not be detected in faces/frame_38_face_0.jpg.Please confirm that the picture is a face photo or consider to set enforce_detection param to False.\n"
     ]
    },
    {
     "name": "stderr",
     "output_type": "stream",
     "text": [
      "0it [00:00, ?it/s]\n",
      "0it [00:00, ?it/s]\n",
      "0it [00:00, ?it/s]\n",
      " 69%|██████▉   | 33/48 [00:11<00:04,  3.27it/s]"
     ]
    },
    {
     "name": "stdout",
     "output_type": "stream",
     "text": [
      "Error processing faces/frame_36_face_0.jpg: Face could not be detected in faces/frame_36_face_0.jpg.Please confirm that the picture is a face photo or consider to set enforce_detection param to False.\n"
     ]
    },
    {
     "name": "stderr",
     "output_type": "stream",
     "text": [
      "100%|██████████| 48/48 [00:14<00:00,  3.22it/s]\n"
     ]
    },
    {
     "name": "stdout",
     "output_type": "stream",
     "text": [
      "Error processing faces/frame_50_face_0.jpg: Face could not be detected in faces/frame_50_face_0.jpg.Please confirm that the picture is a face photo or consider to set enforce_detection param to False.\n"
     ]
    },
    {
     "name": "stderr",
     "output_type": "stream",
     "text": [
      " 69%|██████▉   | 33/48 [00:11<00:05,  2.91it/s]"
     ]
    },
    {
     "name": "stdout",
     "output_type": "stream",
     "text": [
      "Error processing faces/frame_36_face_0.jpg: Face could not be detected in faces/frame_36_face_0.jpg.Please confirm that the picture is a face photo or consider to set enforce_detection param to False.\n"
     ]
    },
    {
     "name": "stderr",
     "output_type": "stream",
     "text": [
      "100%|██████████| 48/48 [00:15<00:00,  3.20it/s]\n"
     ]
    },
    {
     "name": "stdout",
     "output_type": "stream",
     "text": [
      "Error processing faces/frame_50_face_0.jpg: Face could not be detected in faces/frame_50_face_0.jpg.Please confirm that the picture is a face photo or consider to set enforce_detection param to False.\n"
     ]
    },
    {
     "name": "stderr",
     "output_type": "stream",
     "text": [
      "100%|██████████| 3/3 [00:00<00:00, 95.94it/s]\n"
     ]
    },
    {
     "name": "stdout",
     "output_type": "stream",
     "text": [
      "Error processing faces/frame_13_face_0.jpg: Face could not be detected in faces/frame_13_face_0.jpg.Please confirm that the picture is a face photo or consider to set enforce_detection param to False.\n",
      "Error processing faces/frame_13_face_1.jpg: Face could not be detected in faces/frame_13_face_1.jpg.Please confirm that the picture is a face photo or consider to set enforce_detection param to False.\n",
      "Error processing faces/frame_45_face_0.jpg: Face could not be detected in faces/frame_45_face_0.jpg.Please confirm that the picture is a face photo or consider to set enforce_detection param to False.\n"
     ]
    },
    {
     "name": "stderr",
     "output_type": "stream",
     "text": [
      "0it [00:00, ?it/s]\n",
      "0it [00:00, ?it/s]\n",
      " 69%|██████▉   | 33/48 [00:11<00:05,  2.63it/s]"
     ]
    },
    {
     "name": "stdout",
     "output_type": "stream",
     "text": [
      "Error processing faces/frame_36_face_0.jpg: Face could not be detected in faces/frame_36_face_0.jpg.Please confirm that the picture is a face photo or consider to set enforce_detection param to False.\n"
     ]
    },
    {
     "name": "stderr",
     "output_type": "stream",
     "text": [
      "100%|██████████| 48/48 [00:15<00:00,  3.03it/s]\n"
     ]
    },
    {
     "name": "stdout",
     "output_type": "stream",
     "text": [
      "Error processing faces/frame_50_face_0.jpg: Face could not be detected in faces/frame_50_face_0.jpg.Please confirm that the picture is a face photo or consider to set enforce_detection param to False.\n"
     ]
    },
    {
     "name": "stderr",
     "output_type": "stream",
     "text": [
      "0it [00:00, ?it/s]\n",
      "  0%|          | 0/66 [00:00<?, ?it/s]"
     ]
    },
    {
     "name": "stdout",
     "output_type": "stream",
     "text": [
      "Error processing faces/frame_0_face_0.jpg: Face could not be detected in faces/frame_0_face_0.jpg.Please confirm that the picture is a face photo or consider to set enforce_detection param to False.\n",
      "Error processing faces/frame_0_face_1.jpg: Face could not be detected in faces/frame_0_face_1.jpg.Please confirm that the picture is a face photo or consider to set enforce_detection param to False.\n",
      "Error processing faces/frame_0_face_2.jpg: Face could not be detected in faces/frame_0_face_2.jpg.Please confirm that the picture is a face photo or consider to set enforce_detection param to False.\n",
      "Error processing faces/frame_1_face_0.jpg: Face could not be detected in faces/frame_1_face_0.jpg.Please confirm that the picture is a face photo or consider to set enforce_detection param to False.\n",
      "Error processing faces/frame_1_face_1.jpg: Face could not be detected in faces/frame_1_face_1.jpg.Please confirm that the picture is a face photo or consider to set enforce_detection param to False.\n",
      "Error processing faces/frame_3_face_0.jpg: Face could not be detected in faces/frame_3_face_0.jpg.Please confirm that the picture is a face photo or consider to set enforce_detection param to False.\n",
      "Error processing faces/frame_4_face_0.jpg: Face could not be detected in faces/frame_4_face_0.jpg.Please confirm that the picture is a face photo or consider to set enforce_detection param to False.\n",
      "Error processing faces/frame_5_face_0.jpg: Face could not be detected in faces/frame_5_face_0.jpg.Please confirm that the picture is a face photo or consider to set enforce_detection param to False.\n"
     ]
    },
    {
     "name": "stderr",
     "output_type": "stream",
     "text": [
      "\r 14%|█▎        | 9/66 [00:00<00:01, 35.09it/s]"
     ]
    },
    {
     "name": "stdout",
     "output_type": "stream",
     "text": [
      "Error processing faces/frame_6_face_0.jpg: Face could not be detected in faces/frame_6_face_0.jpg.Please confirm that the picture is a face photo or consider to set enforce_detection param to False.\n",
      "Error processing faces/frame_7_face_0.jpg: Face could not be detected in faces/frame_7_face_0.jpg.Please confirm that the picture is a face photo or consider to set enforce_detection param to False.\n"
     ]
    },
    {
     "name": "stderr",
     "output_type": "stream",
     "text": [
      "\r 20%|█▉        | 13/66 [00:00<00:03, 16.16it/s]"
     ]
    },
    {
     "name": "stdout",
     "output_type": "stream",
     "text": [
      "Error processing faces/frame_8_face_0.jpg: Face could not be detected in faces/frame_8_face_0.jpg.Please confirm that the picture is a face photo or consider to set enforce_detection param to False.\n",
      "Error processing faces/frame_8_face_1.jpg: Face could not be detected in faces/frame_8_face_1.jpg.Please confirm that the picture is a face photo or consider to set enforce_detection param to False.\n"
     ]
    },
    {
     "name": "stderr",
     "output_type": "stream",
     "text": [
      " 85%|████████▍ | 56/66 [00:01<00:00, 76.93it/s]"
     ]
    },
    {
     "name": "stdout",
     "output_type": "stream",
     "text": [
      "Error processing faces/frame_9_face_0.jpg: Face could not be detected in faces/frame_9_face_0.jpg.Please confirm that the picture is a face photo or consider to set enforce_detection param to False.\n",
      "Error processing faces/frame_10_face_0.jpg: Face could not be detected in faces/frame_10_face_0.jpg.Please confirm that the picture is a face photo or consider to set enforce_detection param to False.\n",
      "Error processing faces/frame_10_face_1.jpg: Face could not be detected in faces/frame_10_face_1.jpg.Please confirm that the picture is a face photo or consider to set enforce_detection param to False.\n",
      "Error processing faces/frame_11_face_0.jpg: Face could not be detected in faces/frame_11_face_0.jpg.Please confirm that the picture is a face photo or consider to set enforce_detection param to False.\n",
      "Error processing faces/frame_11_face_1.jpg: Face could not be detected in faces/frame_11_face_1.jpg.Please confirm that the picture is a face photo or consider to set enforce_detection param to False.\n",
      "Error processing faces/frame_12_face_0.jpg: Face could not be detected in faces/frame_12_face_0.jpg.Please confirm that the picture is a face photo or consider to set enforce_detection param to False.\n",
      "Error processing faces/frame_13_face_0.jpg: Face could not be detected in faces/frame_13_face_0.jpg.Please confirm that the picture is a face photo or consider to set enforce_detection param to False.\n",
      "Error processing faces/frame_14_face_0.jpg: Face could not be detected in faces/frame_14_face_0.jpg.Please confirm that the picture is a face photo or consider to set enforce_detection param to False.\n",
      "Error processing faces/frame_14_face_1.jpg: Face could not be detected in faces/frame_14_face_1.jpg.Please confirm that the picture is a face photo or consider to set enforce_detection param to False.\n",
      "Error processing faces/frame_15_face_0.jpg: Face could not be detected in faces/frame_15_face_0.jpg.Please confirm that the picture is a face photo or consider to set enforce_detection param to False.\n",
      "Error processing faces/frame_16_face_0.jpg: Face could not be detected in faces/frame_16_face_0.jpg.Please confirm that the picture is a face photo or consider to set enforce_detection param to False.\n",
      "Error processing faces/frame_16_face_1.jpg: Face could not be detected in faces/frame_16_face_1.jpg.Please confirm that the picture is a face photo or consider to set enforce_detection param to False.\n",
      "Error processing faces/frame_16_face_2.jpg: Face could not be detected in faces/frame_16_face_2.jpg.Please confirm that the picture is a face photo or consider to set enforce_detection param to False.\n",
      "Error processing faces/frame_17_face_0.jpg: Face could not be detected in faces/frame_17_face_0.jpg.Please confirm that the picture is a face photo or consider to set enforce_detection param to False.\n",
      "Error processing faces/frame_18_face_0.jpg: Face could not be detected in faces/frame_18_face_0.jpg.Please confirm that the picture is a face photo or consider to set enforce_detection param to False.\n",
      "Error processing faces/frame_18_face_1.jpg: Face could not be detected in faces/frame_18_face_1.jpg.Please confirm that the picture is a face photo or consider to set enforce_detection param to False.\n",
      "Error processing faces/frame_19_face_0.jpg: Face could not be detected in faces/frame_19_face_0.jpg.Please confirm that the picture is a face photo or consider to set enforce_detection param to False.\n",
      "Error processing faces/frame_20_face_0.jpg: Face could not be detected in faces/frame_20_face_0.jpg.Please confirm that the picture is a face photo or consider to set enforce_detection param to False.\n",
      "Error processing faces/frame_21_face_0.jpg: Face could not be detected in faces/frame_21_face_0.jpg.Please confirm that the picture is a face photo or consider to set enforce_detection param to False.\n",
      "Error processing faces/frame_21_face_1.jpg: Face could not be detected in faces/frame_21_face_1.jpg.Please confirm that the picture is a face photo or consider to set enforce_detection param to False.\n",
      "Error processing faces/frame_22_face_0.jpg: Face could not be detected in faces/frame_22_face_0.jpg.Please confirm that the picture is a face photo or consider to set enforce_detection param to False.\n",
      "Error processing faces/frame_23_face_0.jpg: Face could not be detected in faces/frame_23_face_0.jpg.Please confirm that the picture is a face photo or consider to set enforce_detection param to False.\n",
      "Error processing faces/frame_24_face_0.jpg: Face could not be detected in faces/frame_24_face_0.jpg.Please confirm that the picture is a face photo or consider to set enforce_detection param to False.\n",
      "Error processing faces/frame_25_face_0.jpg: Face could not be detected in faces/frame_25_face_0.jpg.Please confirm that the picture is a face photo or consider to set enforce_detection param to False.\n",
      "Error processing faces/frame_26_face_0.jpg: Face could not be detected in faces/frame_26_face_0.jpg.Please confirm that the picture is a face photo or consider to set enforce_detection param to False.\n",
      "Error processing faces/frame_27_face_0.jpg: Face could not be detected in faces/frame_27_face_0.jpg.Please confirm that the picture is a face photo or consider to set enforce_detection param to False.\n",
      "Error processing faces/frame_28_face_0.jpg: Face could not be detected in faces/frame_28_face_0.jpg.Please confirm that the picture is a face photo or consider to set enforce_detection param to False.\n",
      "Error processing faces/frame_29_face_0.jpg: Face could not be detected in faces/frame_29_face_0.jpg.Please confirm that the picture is a face photo or consider to set enforce_detection param to False.\n",
      "Error processing faces/frame_30_face_0.jpg: Face could not be detected in faces/frame_30_face_0.jpg.Please confirm that the picture is a face photo or consider to set enforce_detection param to False.\n",
      "Error processing faces/frame_31_face_0.jpg: Face could not be detected in faces/frame_31_face_0.jpg.Please confirm that the picture is a face photo or consider to set enforce_detection param to False.\n",
      "Error processing faces/frame_32_face_0.jpg: Face could not be detected in faces/frame_32_face_0.jpg.Please confirm that the picture is a face photo or consider to set enforce_detection param to False.\n",
      "Error processing faces/frame_33_face_0.jpg: Face could not be detected in faces/frame_33_face_0.jpg.Please confirm that the picture is a face photo or consider to set enforce_detection param to False.\n",
      "Error processing faces/frame_34_face_0.jpg: Face could not be detected in faces/frame_34_face_0.jpg.Please confirm that the picture is a face photo or consider to set enforce_detection param to False.\n",
      "Error processing faces/frame_35_face_0.jpg: Face could not be detected in faces/frame_35_face_0.jpg.Please confirm that the picture is a face photo or consider to set enforce_detection param to False.\n",
      "Error processing faces/frame_36_face_0.jpg: Face could not be detected in faces/frame_36_face_0.jpg.Please confirm that the picture is a face photo or consider to set enforce_detection param to False.\n",
      "Error processing faces/frame_37_face_0.jpg: Face could not be detected in faces/frame_37_face_0.jpg.Please confirm that the picture is a face photo or consider to set enforce_detection param to False.\n",
      "Error processing faces/frame_38_face_0.jpg: Face could not be detected in faces/frame_38_face_0.jpg.Please confirm that the picture is a face photo or consider to set enforce_detection param to False.\n",
      "Error processing faces/frame_39_face_0.jpg: Face could not be detected in faces/frame_39_face_0.jpg.Please confirm that the picture is a face photo or consider to set enforce_detection param to False.\n",
      "Error processing faces/frame_40_face_0.jpg: Face could not be detected in faces/frame_40_face_0.jpg.Please confirm that the picture is a face photo or consider to set enforce_detection param to False.\n",
      "Error processing faces/frame_40_face_1.jpg: Face could not be detected in faces/frame_40_face_1.jpg.Please confirm that the picture is a face photo or consider to set enforce_detection param to False.\n"
     ]
    },
    {
     "name": "stderr",
     "output_type": "stream",
     "text": [
      "\r100%|██████████| 66/66 [00:01<00:00, 54.18it/s]\n"
     ]
    },
    {
     "name": "stdout",
     "output_type": "stream",
     "text": [
      "Error processing faces/frame_41_face_0.jpg: Face could not be detected in faces/frame_41_face_0.jpg.Please confirm that the picture is a face photo or consider to set enforce_detection param to False.\n",
      "Error processing faces/frame_42_face_0.jpg: Face could not be detected in faces/frame_42_face_0.jpg.Please confirm that the picture is a face photo or consider to set enforce_detection param to False.\n",
      "Error processing faces/frame_43_face_0.jpg: Face could not be detected in faces/frame_43_face_0.jpg.Please confirm that the picture is a face photo or consider to set enforce_detection param to False.\n",
      "Error processing faces/frame_44_face_0.jpg: Face could not be detected in faces/frame_44_face_0.jpg.Please confirm that the picture is a face photo or consider to set enforce_detection param to False.\n",
      "Error processing faces/frame_44_face_1.jpg: Face could not be detected in faces/frame_44_face_1.jpg.Please confirm that the picture is a face photo or consider to set enforce_detection param to False.\n",
      "Error processing faces/frame_45_face_0.jpg: Face could not be detected in faces/frame_45_face_0.jpg.Please confirm that the picture is a face photo or consider to set enforce_detection param to False.\n",
      "Error processing faces/frame_46_face_0.jpg: Face could not be detected in faces/frame_46_face_0.jpg.Please confirm that the picture is a face photo or consider to set enforce_detection param to False.\n",
      "Error processing faces/frame_48_face_0.jpg: Face could not be detected in faces/frame_48_face_0.jpg.Please confirm that the picture is a face photo or consider to set enforce_detection param to False.\n",
      "Error processing faces/frame_49_face_0.jpg: Face could not be detected in faces/frame_49_face_0.jpg.Please confirm that the picture is a face photo or consider to set enforce_detection param to False.\n",
      "Error processing faces/frame_50_face_0.jpg: Face could not be detected in faces/frame_50_face_0.jpg.Please confirm that the picture is a face photo or consider to set enforce_detection param to False.\n"
     ]
    },
    {
     "name": "stderr",
     "output_type": "stream",
     "text": [
      "0it [00:00, ?it/s]\n",
      "  0%|          | 0/13 [00:00<?, ?it/s]"
     ]
    },
    {
     "name": "stdout",
     "output_type": "stream",
     "text": [
      "Error processing faces/frame_16_face_0.jpg: Face could not be detected in faces/frame_16_face_0.jpg.Please confirm that the picture is a face photo or consider to set enforce_detection param to False.\n"
     ]
    },
    {
     "name": "stderr",
     "output_type": "stream",
     "text": [
      "100%|██████████| 13/13 [00:03<00:00,  4.16it/s]\n",
      " 31%|███       | 4/13 [00:00<00:00, 37.64it/s]"
     ]
    },
    {
     "name": "stdout",
     "output_type": "stream",
     "text": [
      "Error processing faces/frame_8_face_0.jpg: Face could not be detected in faces/frame_8_face_0.jpg.Please confirm that the picture is a face photo or consider to set enforce_detection param to False.\n",
      "Error processing faces/frame_9_face_0.jpg: Face could not be detected in faces/frame_9_face_0.jpg.Please confirm that the picture is a face photo or consider to set enforce_detection param to False.\n",
      "Error processing faces/frame_13_face_0.jpg: Face could not be detected in faces/frame_13_face_0.jpg.Please confirm that the picture is a face photo or consider to set enforce_detection param to False.\n",
      "Error processing faces/frame_23_face_0.jpg: Face could not be detected in faces/frame_23_face_0.jpg.Please confirm that the picture is a face photo or consider to set enforce_detection param to False.\n",
      "Error processing faces/frame_24_face_0.jpg: Face could not be detected in faces/frame_24_face_0.jpg.Please confirm that the picture is a face photo or consider to set enforce_detection param to False.\n",
      "Error processing faces/frame_25_face_0.jpg: Face could not be detected in faces/frame_25_face_0.jpg.Please confirm that the picture is a face photo or consider to set enforce_detection param to False.\n"
     ]
    },
    {
     "name": "stderr",
     "output_type": "stream",
     "text": [
      "100%|██████████| 13/13 [00:00<00:00, 41.20it/s]"
     ]
    },
    {
     "name": "stdout",
     "output_type": "stream",
     "text": [
      "Error processing faces/frame_26_face_0.jpg: Face could not be detected in faces/frame_26_face_0.jpg.Please confirm that the picture is a face photo or consider to set enforce_detection param to False.\n",
      "Error processing faces/frame_27_face_0.jpg: Face could not be detected in faces/frame_27_face_0.jpg.Please confirm that the picture is a face photo or consider to set enforce_detection param to False.\n",
      "Error processing faces/frame_35_face_0.jpg: Face could not be detected in faces/frame_35_face_0.jpg.Please confirm that the picture is a face photo or consider to set enforce_detection param to False.\n",
      "Error processing faces/frame_38_face_0.jpg: Face could not be detected in faces/frame_38_face_0.jpg.Please confirm that the picture is a face photo or consider to set enforce_detection param to False.\n",
      "Error processing faces/frame_45_face_0.jpg: Face could not be detected in faces/frame_45_face_0.jpg.Please confirm that the picture is a face photo or consider to set enforce_detection param to False.\n",
      "Error processing faces/frame_46_face_0.jpg: Face could not be detected in faces/frame_46_face_0.jpg.Please confirm that the picture is a face photo or consider to set enforce_detection param to False.\n",
      "Error processing faces/frame_50_face_0.jpg: Face could not be detected in faces/frame_50_face_0.jpg.Please confirm that the picture is a face photo or consider to set enforce_detection param to False.\n"
     ]
    },
    {
     "name": "stderr",
     "output_type": "stream",
     "text": [
      "\n",
      "100%|██████████| 3/3 [00:00<00:00, 74.83it/s]\n"
     ]
    },
    {
     "name": "stdout",
     "output_type": "stream",
     "text": [
      "Error processing faces/frame_13_face_0.jpg: Face could not be detected in faces/frame_13_face_0.jpg.Please confirm that the picture is a face photo or consider to set enforce_detection param to False.\n",
      "Error processing faces/frame_13_face_1.jpg: Face could not be detected in faces/frame_13_face_1.jpg.Please confirm that the picture is a face photo or consider to set enforce_detection param to False.\n",
      "Error processing faces/frame_45_face_0.jpg: Face could not be detected in faces/frame_45_face_0.jpg.Please confirm that the picture is a face photo or consider to set enforce_detection param to False.\n"
     ]
    },
    {
     "name": "stderr",
     "output_type": "stream",
     "text": [
      "100%|██████████| 7/7 [00:00<00:00, 109.14it/s]\n"
     ]
    },
    {
     "name": "stdout",
     "output_type": "stream",
     "text": [
      "Error processing faces/frame_9_face_0.jpg: Face could not be detected in faces/frame_9_face_0.jpg.Please confirm that the picture is a face photo or consider to set enforce_detection param to False.\n",
      "Error processing faces/frame_14_face_0.jpg: Face could not be detected in faces/frame_14_face_0.jpg.Please confirm that the picture is a face photo or consider to set enforce_detection param to False.\n",
      "Error processing faces/frame_16_face_0.jpg: Face could not be detected in faces/frame_16_face_0.jpg.Please confirm that the picture is a face photo or consider to set enforce_detection param to False.\n",
      "Error processing faces/frame_17_face_0.jpg: Face could not be detected in faces/frame_17_face_0.jpg.Please confirm that the picture is a face photo or consider to set enforce_detection param to False.\n",
      "Error processing faces/frame_31_face_0.jpg: Face could not be detected in faces/frame_31_face_0.jpg.Please confirm that the picture is a face photo or consider to set enforce_detection param to False.\n",
      "Error processing faces/frame_32_face_0.jpg: Face could not be detected in faces/frame_32_face_0.jpg.Please confirm that the picture is a face photo or consider to set enforce_detection param to False.\n",
      "Error processing faces/frame_45_face_0.jpg: Face could not be detected in faces/frame_45_face_0.jpg.Please confirm that the picture is a face photo or consider to set enforce_detection param to False.\n"
     ]
    },
    {
     "name": "stderr",
     "output_type": "stream",
     "text": [
      " 69%|██████▉   | 33/48 [00:11<00:06,  2.47it/s]"
     ]
    },
    {
     "name": "stdout",
     "output_type": "stream",
     "text": [
      "Error processing faces/frame_36_face_0.jpg: Face could not be detected in faces/frame_36_face_0.jpg.Please confirm that the picture is a face photo or consider to set enforce_detection param to False.\n"
     ]
    },
    {
     "name": "stderr",
     "output_type": "stream",
     "text": [
      "100%|██████████| 48/48 [00:15<00:00,  3.19it/s]\n"
     ]
    },
    {
     "name": "stdout",
     "output_type": "stream",
     "text": [
      "Error processing faces/frame_50_face_0.jpg: Face could not be detected in faces/frame_50_face_0.jpg.Please confirm that the picture is a face photo or consider to set enforce_detection param to False.\n"
     ]
    },
    {
     "name": "stderr",
     "output_type": "stream",
     "text": [
      "0it [00:00, ?it/s]\n",
      "  0%|          | 0/43 [00:00<?, ?it/s]"
     ]
    },
    {
     "name": "stdout",
     "output_type": "stream",
     "text": [
      "Error processing faces/frame_0_face_0.jpg: Face could not be detected in faces/frame_0_face_0.jpg.Please confirm that the picture is a face photo or consider to set enforce_detection param to False.\n",
      "Error processing faces/frame_1_face_0.jpg: Face could not be detected in faces/frame_1_face_0.jpg.Please confirm that the picture is a face photo or consider to set enforce_detection param to False.\n",
      "Error processing faces/frame_10_face_0.jpg: Face could not be detected in faces/frame_10_face_0.jpg.Please confirm that the picture is a face photo or consider to set enforce_detection param to False.\n",
      "Error processing faces/frame_11_face_0.jpg: Face could not be detected in faces/frame_11_face_0.jpg.Please confirm that the picture is a face photo or consider to set enforce_detection param to False.\n"
     ]
    },
    {
     "name": "stderr",
     "output_type": "stream",
     "text": [
      "\r 12%|█▏        | 5/43 [00:00<00:02, 16.34it/s]"
     ]
    },
    {
     "name": "stdout",
     "output_type": "stream",
     "text": [
      "Error processing faces/frame_14_face_0.jpg: Face could not be detected in faces/frame_14_face_0.jpg.Please confirm that the picture is a face photo or consider to set enforce_detection param to False.\n",
      "Error processing faces/frame_15_face_0.jpg: Face could not be detected in faces/frame_15_face_0.jpg.Please confirm that the picture is a face photo or consider to set enforce_detection param to False.\n",
      "Error processing faces/frame_16_face_0.jpg: Face could not be detected in faces/frame_16_face_0.jpg.Please confirm that the picture is a face photo or consider to set enforce_detection param to False.\n"
     ]
    },
    {
     "name": "stderr",
     "output_type": "stream",
     "text": [
      " 95%|█████████▌| 41/43 [00:08<00:00,  4.05it/s]"
     ]
    },
    {
     "name": "stdout",
     "output_type": "stream",
     "text": [
      "Error processing faces/frame_50_face_0.jpg: Face could not be detected in faces/frame_50_face_0.jpg.Please confirm that the picture is a face photo or consider to set enforce_detection param to False.\n"
     ]
    },
    {
     "name": "stderr",
     "output_type": "stream",
     "text": [
      "100%|██████████| 43/43 [00:09<00:00,  4.72it/s]\n",
      " 15%|█▍        | 8/55 [00:00<00:00, 77.27it/s]"
     ]
    },
    {
     "name": "stdout",
     "output_type": "stream",
     "text": [
      "Error processing faces/frame_0_face_0.jpg: Face could not be detected in faces/frame_0_face_0.jpg.Please confirm that the picture is a face photo or consider to set enforce_detection param to False.\n",
      "Error processing faces/frame_1_face_0.jpg: Face could not be detected in faces/frame_1_face_0.jpg.Please confirm that the picture is a face photo or consider to set enforce_detection param to False.\n",
      "Error processing faces/frame_2_face_0.jpg: Face could not be detected in faces/frame_2_face_0.jpg.Please confirm that the picture is a face photo or consider to set enforce_detection param to False.\n",
      "Error processing faces/frame_3_face_0.jpg: Face could not be detected in faces/frame_3_face_0.jpg.Please confirm that the picture is a face photo or consider to set enforce_detection param to False.\n",
      "Error processing faces/frame_4_face_0.jpg: Face could not be detected in faces/frame_4_face_0.jpg.Please confirm that the picture is a face photo or consider to set enforce_detection param to False.\n",
      "Error processing faces/frame_5_face_0.jpg: Face could not be detected in faces/frame_5_face_0.jpg.Please confirm that the picture is a face photo or consider to set enforce_detection param to False.\n",
      "Error processing faces/frame_6_face_0.jpg: Face could not be detected in faces/frame_6_face_0.jpg.Please confirm that the picture is a face photo or consider to set enforce_detection param to False.\n",
      "Error processing faces/frame_7_face_0.jpg: Face could not be detected in faces/frame_7_face_0.jpg.Please confirm that the picture is a face photo or consider to set enforce_detection param to False.\n",
      "Error processing faces/frame_8_face_0.jpg: Face could not be detected in faces/frame_8_face_0.jpg.Please confirm that the picture is a face photo or consider to set enforce_detection param to False.\n",
      "Error processing faces/frame_9_face_0.jpg: Face could not be detected in faces/frame_9_face_0.jpg.Please confirm that the picture is a face photo or consider to set enforce_detection param to False.\n",
      "Error processing faces/frame_10_face_0.jpg: Face could not be detected in faces/frame_10_face_0.jpg.Please confirm that the picture is a face photo or consider to set enforce_detection param to False.\n",
      "Error processing faces/frame_10_face_1.jpg: Face could not be detected in faces/frame_10_face_1.jpg.Please confirm that the picture is a face photo or consider to set enforce_detection param to False.\n",
      "Error processing faces/frame_11_face_1.jpg: Face could not be detected in faces/frame_11_face_1.jpg.Please confirm that the picture is a face photo or consider to set enforce_detection param to False.\n",
      "Error processing faces/frame_12_face_0.jpg: Face could not be detected in faces/frame_12_face_0.jpg.Please confirm that the picture is a face photo or consider to set enforce_detection param to False.\n"
     ]
    },
    {
     "name": "stderr",
     "output_type": "stream",
     "text": [
      "\r 29%|██▉       | 16/55 [00:00<00:01, 23.52it/s]"
     ]
    },
    {
     "name": "stdout",
     "output_type": "stream",
     "text": [
      "Error processing faces/frame_12_face_2.jpg: Face could not be detected in faces/frame_12_face_2.jpg.Please confirm that the picture is a face photo or consider to set enforce_detection param to False.\n",
      "Error processing faces/frame_13_face_1.jpg: Face could not be detected in faces/frame_13_face_1.jpg.Please confirm that the picture is a face photo or consider to set enforce_detection param to False.\n"
     ]
    },
    {
     "name": "stderr",
     "output_type": "stream",
     "text": [
      "\r 38%|███▊      | 21/55 [00:01<00:02, 16.01it/s]"
     ]
    },
    {
     "name": "stdout",
     "output_type": "stream",
     "text": [
      "Error processing faces/frame_14_face_1.jpg: Face could not be detected in faces/frame_14_face_1.jpg.Please confirm that the picture is a face photo or consider to set enforce_detection param to False.\n",
      "Error processing faces/frame_15_face_0.jpg: Face could not be detected in faces/frame_15_face_0.jpg.Please confirm that the picture is a face photo or consider to set enforce_detection param to False.\n",
      "Error processing faces/frame_15_face_1.jpg: Face could not be detected in faces/frame_15_face_1.jpg.Please confirm that the picture is a face photo or consider to set enforce_detection param to False.\n",
      "Error processing faces/frame_16_face_0.jpg: Face could not be detected in faces/frame_16_face_0.jpg.Please confirm that the picture is a face photo or consider to set enforce_detection param to False.\n",
      "Error processing faces/frame_17_face_0.jpg: Face could not be detected in faces/frame_17_face_0.jpg.Please confirm that the picture is a face photo or consider to set enforce_detection param to False.\n"
     ]
    },
    {
     "name": "stderr",
     "output_type": "stream",
     "text": [
      " 64%|██████▎   | 35/55 [00:01<00:00, 26.49it/s]"
     ]
    },
    {
     "name": "stdout",
     "output_type": "stream",
     "text": [
      "Error processing faces/frame_19_face_0.jpg: Face could not be detected in faces/frame_19_face_0.jpg.Please confirm that the picture is a face photo or consider to set enforce_detection param to False.\n",
      "Error processing faces/frame_20_face_0.jpg: Face could not be detected in faces/frame_20_face_0.jpg.Please confirm that the picture is a face photo or consider to set enforce_detection param to False.\n",
      "Error processing faces/frame_21_face_0.jpg: Face could not be detected in faces/frame_21_face_0.jpg.Please confirm that the picture is a face photo or consider to set enforce_detection param to False.\n",
      "Error processing faces/frame_22_face_0.jpg: Face could not be detected in faces/frame_22_face_0.jpg.Please confirm that the picture is a face photo or consider to set enforce_detection param to False.\n",
      "Error processing faces/frame_23_face_0.jpg: Face could not be detected in faces/frame_23_face_0.jpg.Please confirm that the picture is a face photo or consider to set enforce_detection param to False.\n",
      "Error processing faces/frame_24_face_0.jpg: Face could not be detected in faces/frame_24_face_0.jpg.Please confirm that the picture is a face photo or consider to set enforce_detection param to False.\n",
      "Error processing faces/frame_25_face_0.jpg: Face could not be detected in faces/frame_25_face_0.jpg.Please confirm that the picture is a face photo or consider to set enforce_detection param to False.\n",
      "Error processing faces/frame_26_face_0.jpg: Face could not be detected in faces/frame_26_face_0.jpg.Please confirm that the picture is a face photo or consider to set enforce_detection param to False.\n",
      "Error processing faces/frame_27_face_0.jpg: Face could not be detected in faces/frame_27_face_0.jpg.Please confirm that the picture is a face photo or consider to set enforce_detection param to False.\n",
      "Error processing faces/frame_28_face_0.jpg: Face could not be detected in faces/frame_28_face_0.jpg.Please confirm that the picture is a face photo or consider to set enforce_detection param to False.\n",
      "Error processing faces/frame_29_face_0.jpg: Face could not be detected in faces/frame_29_face_0.jpg.Please confirm that the picture is a face photo or consider to set enforce_detection param to False.\n",
      "Error processing faces/frame_30_face_0.jpg: Face could not be detected in faces/frame_30_face_0.jpg.Please confirm that the picture is a face photo or consider to set enforce_detection param to False.\n",
      "Error processing faces/frame_31_face_0.jpg: Face could not be detected in faces/frame_31_face_0.jpg.Please confirm that the picture is a face photo or consider to set enforce_detection param to False.\n",
      "Error processing faces/frame_32_face_0.jpg: Face could not be detected in faces/frame_32_face_0.jpg.Please confirm that the picture is a face photo or consider to set enforce_detection param to False.\n",
      "Error processing faces/frame_33_face_0.jpg: Face could not be detected in faces/frame_33_face_0.jpg.Please confirm that the picture is a face photo or consider to set enforce_detection param to False.\n",
      "Error processing faces/frame_34_face_0.jpg: Face could not be detected in faces/frame_34_face_0.jpg.Please confirm that the picture is a face photo or consider to set enforce_detection param to False.\n",
      "Error processing faces/frame_35_face_0.jpg: Face could not be detected in faces/frame_35_face_0.jpg.Please confirm that the picture is a face photo or consider to set enforce_detection param to False.\n",
      "Error processing faces/frame_36_face_0.jpg: Face could not be detected in faces/frame_36_face_0.jpg.Please confirm that the picture is a face photo or consider to set enforce_detection param to False.\n"
     ]
    },
    {
     "name": "stderr",
     "output_type": "stream",
     "text": [
      " 93%|█████████▎| 51/55 [00:01<00:00, 41.94it/s]"
     ]
    },
    {
     "name": "stdout",
     "output_type": "stream",
     "text": [
      "Error processing faces/frame_37_face_0.jpg: Face could not be detected in faces/frame_37_face_0.jpg.Please confirm that the picture is a face photo or consider to set enforce_detection param to False.\n",
      "Error processing faces/frame_38_face_0.jpg: Face could not be detected in faces/frame_38_face_0.jpg.Please confirm that the picture is a face photo or consider to set enforce_detection param to False.\n",
      "Error processing faces/frame_39_face_0.jpg: Face could not be detected in faces/frame_39_face_0.jpg.Please confirm that the picture is a face photo or consider to set enforce_detection param to False.\n",
      "Error processing faces/frame_40_face_0.jpg: Face could not be detected in faces/frame_40_face_0.jpg.Please confirm that the picture is a face photo or consider to set enforce_detection param to False.\n",
      "Error processing faces/frame_41_face_0.jpg: Face could not be detected in faces/frame_41_face_0.jpg.Please confirm that the picture is a face photo or consider to set enforce_detection param to False.\n",
      "Error processing faces/frame_42_face_0.jpg: Face could not be detected in faces/frame_42_face_0.jpg.Please confirm that the picture is a face photo or consider to set enforce_detection param to False.\n",
      "Error processing faces/frame_43_face_0.jpg: Face could not be detected in faces/frame_43_face_0.jpg.Please confirm that the picture is a face photo or consider to set enforce_detection param to False.\n"
     ]
    },
    {
     "name": "stderr",
     "output_type": "stream",
     "text": [
      "\r100%|██████████| 55/55 [00:01<00:00, 27.54it/s]"
     ]
    },
    {
     "name": "stdout",
     "output_type": "stream",
     "text": [
      "Error processing faces/frame_44_face_1.jpg: Face could not be detected in faces/frame_44_face_1.jpg.Please confirm that the picture is a face photo or consider to set enforce_detection param to False.\n",
      "Error processing faces/frame_46_face_0.jpg: Face could not be detected in faces/frame_46_face_0.jpg.Please confirm that the picture is a face photo or consider to set enforce_detection param to False.\n",
      "Error processing faces/frame_47_face_0.jpg: Face could not be detected in faces/frame_47_face_0.jpg.Please confirm that the picture is a face photo or consider to set enforce_detection param to False.\n"
     ]
    },
    {
     "name": "stderr",
     "output_type": "stream",
     "text": [
      "\n",
      " 11%|█         | 6/55 [00:01<00:14,  3.45it/s]"
     ]
    },
    {
     "name": "stdout",
     "output_type": "stream",
     "text": [
      "Error processing faces/frame_22_face_1.jpg: Face could not be detected in faces/frame_22_face_1.jpg.Please confirm that the picture is a face photo or consider to set enforce_detection param to False.\n"
     ]
    },
    {
     "name": "stderr",
     "output_type": "stream",
     "text": [
      " 16%|█▋        | 9/55 [00:02<00:11,  4.01it/s]"
     ]
    },
    {
     "name": "stdout",
     "output_type": "stream",
     "text": [
      "Error processing faces/frame_23_face_1.jpg: Face could not be detected in faces/frame_23_face_1.jpg.Please confirm that the picture is a face photo or consider to set enforce_detection param to False.\n"
     ]
    },
    {
     "name": "stderr",
     "output_type": "stream",
     "text": [
      " 22%|██▏       | 12/55 [00:02<00:09,  4.31it/s]"
     ]
    },
    {
     "name": "stdout",
     "output_type": "stream",
     "text": [
      "Error processing faces/frame_24_face_1.jpg: Face could not be detected in faces/frame_24_face_1.jpg.Please confirm that the picture is a face photo or consider to set enforce_detection param to False.\n"
     ]
    },
    {
     "name": "stderr",
     "output_type": "stream",
     "text": [
      " 51%|█████     | 28/55 [00:06<00:05,  4.57it/s]"
     ]
    },
    {
     "name": "stdout",
     "output_type": "stream",
     "text": [
      "Error processing faces/frame_29_face_2.jpg: Face could not be detected in faces/frame_29_face_2.jpg.Please confirm that the picture is a face photo or consider to set enforce_detection param to False.\n"
     ]
    },
    {
     "name": "stderr",
     "output_type": "stream",
     "text": [
      " 65%|██████▌   | 36/55 [00:07<00:04,  4.69it/s]"
     ]
    },
    {
     "name": "stdout",
     "output_type": "stream",
     "text": [
      "Error processing faces/frame_32_face_0.jpg: Face could not be detected in faces/frame_32_face_0.jpg.Please confirm that the picture is a face photo or consider to set enforce_detection param to False.\n",
      "Error processing faces/frame_32_face_1.jpg: Face could not be detected in faces/frame_32_face_1.jpg.Please confirm that the picture is a face photo or consider to set enforce_detection param to False.\n"
     ]
    },
    {
     "name": "stderr",
     "output_type": "stream",
     "text": [
      " 82%|████████▏ | 45/55 [00:09<00:02,  4.85it/s]"
     ]
    },
    {
     "name": "stdout",
     "output_type": "stream",
     "text": [
      "Error processing faces/frame_35_face_0.jpg: Face could not be detected in faces/frame_35_face_0.jpg.Please confirm that the picture is a face photo or consider to set enforce_detection param to False.\n",
      "Error processing faces/frame_35_face_1.jpg: Face could not be detected in faces/frame_35_face_1.jpg.Please confirm that the picture is a face photo or consider to set enforce_detection param to False.\n"
     ]
    },
    {
     "name": "stderr",
     "output_type": "stream",
     "text": [
      " 93%|█████████▎| 51/55 [00:10<00:00,  5.42it/s]"
     ]
    },
    {
     "name": "stdout",
     "output_type": "stream",
     "text": [
      "Error processing faces/frame_38_face_0.jpg: Face could not be detected in faces/frame_38_face_0.jpg.Please confirm that the picture is a face photo or consider to set enforce_detection param to False.\n"
     ]
    },
    {
     "name": "stderr",
     "output_type": "stream",
     "text": [
      "100%|██████████| 55/55 [00:10<00:00,  5.05it/s]\n"
     ]
    },
    {
     "name": "stdout",
     "output_type": "stream",
     "text": [
      "Error processing faces/frame_46_face_0.jpg: Face could not be detected in faces/frame_46_face_0.jpg.Please confirm that the picture is a face photo or consider to set enforce_detection param to False.\n"
     ]
    },
    {
     "name": "stderr",
     "output_type": "stream",
     "text": [
      "0it [00:00, ?it/s]\n",
      "  0%|          | 0/43 [00:00<?, ?it/s]"
     ]
    },
    {
     "name": "stdout",
     "output_type": "stream",
     "text": [
      "Error processing faces/frame_0_face_0.jpg: Face could not be detected in faces/frame_0_face_0.jpg.Please confirm that the picture is a face photo or consider to set enforce_detection param to False.\n"
     ]
    },
    {
     "name": "stderr",
     "output_type": "stream",
     "text": [
      "\r  5%|▍         | 2/43 [00:00<00:05,  6.85it/s]"
     ]
    },
    {
     "name": "stdout",
     "output_type": "stream",
     "text": [
      "Error processing faces/frame_1_face_1.jpg: Face could not be detected in faces/frame_1_face_1.jpg.Please confirm that the picture is a face photo or consider to set enforce_detection param to False.\n"
     ]
    },
    {
     "name": "stderr",
     "output_type": "stream",
     "text": [
      "\r  9%|▉         | 4/43 [00:00<00:05,  7.12it/s]"
     ]
    },
    {
     "name": "stdout",
     "output_type": "stream",
     "text": [
      "Error processing faces/frame_2_face_1.jpg: Face could not be detected in faces/frame_2_face_1.jpg.Please confirm that the picture is a face photo or consider to set enforce_detection param to False.\n",
      "Error processing faces/frame_3_face_0.jpg: Face could not be detected in faces/frame_3_face_0.jpg.Please confirm that the picture is a face photo or consider to set enforce_detection param to False.\n"
     ]
    },
    {
     "name": "stderr",
     "output_type": "stream",
     "text": [
      "\r 16%|█▋        | 7/43 [00:00<00:04,  8.76it/s]"
     ]
    },
    {
     "name": "stdout",
     "output_type": "stream",
     "text": [
      "Error processing faces/frame_4_face_1.jpg: Face could not be detected in faces/frame_4_face_1.jpg.Please confirm that the picture is a face photo or consider to set enforce_detection param to False.\n",
      "Error processing faces/frame_5_face_0.jpg: Face could not be detected in faces/frame_5_face_0.jpg.Please confirm that the picture is a face photo or consider to set enforce_detection param to False.\n"
     ]
    },
    {
     "name": "stderr",
     "output_type": "stream",
     "text": [
      "\r 23%|██▎       | 10/43 [00:01<00:03,  9.62it/s]"
     ]
    },
    {
     "name": "stdout",
     "output_type": "stream",
     "text": [
      "Error processing faces/frame_6_face_1.jpg: Face could not be detected in faces/frame_6_face_1.jpg.Please confirm that the picture is a face photo or consider to set enforce_detection param to False.\n",
      "Error processing faces/frame_7_face_0.jpg: Face could not be detected in faces/frame_7_face_0.jpg.Please confirm that the picture is a face photo or consider to set enforce_detection param to False.\n",
      "Error processing faces/frame_8_face_0.jpg: Face could not be detected in faces/frame_8_face_0.jpg.Please confirm that the picture is a face photo or consider to set enforce_detection param to False.\n",
      "Error processing faces/frame_9_face_0.jpg: Face could not be detected in faces/frame_9_face_0.jpg.Please confirm that the picture is a face photo or consider to set enforce_detection param to False.\n"
     ]
    },
    {
     "name": "stderr",
     "output_type": "stream",
     "text": [
      "\r 35%|███▍      | 15/43 [00:01<00:02, 11.80it/s]"
     ]
    },
    {
     "name": "stdout",
     "output_type": "stream",
     "text": [
      "Error processing faces/frame_10_face_1.jpg: Face could not be detected in faces/frame_10_face_1.jpg.Please confirm that the picture is a face photo or consider to set enforce_detection param to False.\n"
     ]
    },
    {
     "name": "stderr",
     "output_type": "stream",
     "text": [
      "\r 40%|███▉      | 17/43 [00:01<00:02, 10.38it/s]"
     ]
    },
    {
     "name": "stdout",
     "output_type": "stream",
     "text": [
      "Error processing faces/frame_12_face_0.jpg: Face could not be detected in faces/frame_12_face_0.jpg.Please confirm that the picture is a face photo or consider to set enforce_detection param to False.\n",
      "Error processing faces/frame_13_face_0.jpg: Face could not be detected in faces/frame_13_face_0.jpg.Please confirm that the picture is a face photo or consider to set enforce_detection param to False.\n",
      "Error processing faces/frame_14_face_0.jpg: Face could not be detected in faces/frame_14_face_0.jpg.Please confirm that the picture is a face photo or consider to set enforce_detection param to False.\n"
     ]
    },
    {
     "name": "stderr",
     "output_type": "stream",
     "text": [
      "\r 49%|████▉     | 21/43 [00:02<00:01, 11.34it/s]"
     ]
    },
    {
     "name": "stdout",
     "output_type": "stream",
     "text": [
      "Error processing faces/frame_15_face_1.jpg: Face could not be detected in faces/frame_15_face_1.jpg.Please confirm that the picture is a face photo or consider to set enforce_detection param to False.\n"
     ]
    },
    {
     "name": "stderr",
     "output_type": "stream",
     "text": [
      " 67%|██████▋   | 29/43 [00:02<00:01, 11.68it/s]"
     ]
    },
    {
     "name": "stdout",
     "output_type": "stream",
     "text": [
      "Error processing faces/frame_20_face_1.jpg: Face could not be detected in faces/frame_20_face_1.jpg.Please confirm that the picture is a face photo or consider to set enforce_detection param to False.\n",
      "Error processing faces/frame_22_face_0.jpg: Face could not be detected in faces/frame_22_face_0.jpg.Please confirm that the picture is a face photo or consider to set enforce_detection param to False.\n",
      "Error processing faces/frame_23_face_0.jpg: Face could not be detected in faces/frame_23_face_0.jpg.Please confirm that the picture is a face photo or consider to set enforce_detection param to False.\n",
      "Error processing faces/frame_24_face_0.jpg: Face could not be detected in faces/frame_24_face_0.jpg.Please confirm that the picture is a face photo or consider to set enforce_detection param to False.\n"
     ]
    },
    {
     "name": "stderr",
     "output_type": "stream",
     "text": [
      "100%|██████████| 43/43 [00:05<00:00,  7.27it/s]\n",
      " 43%|████▎     | 6/14 [00:00<00:00, 57.26it/s]"
     ]
    },
    {
     "name": "stdout",
     "output_type": "stream",
     "text": [
      "Error processing faces/frame_8_face_0.jpg: Face could not be detected in faces/frame_8_face_0.jpg.Please confirm that the picture is a face photo or consider to set enforce_detection param to False.\n",
      "Error processing faces/frame_9_face_0.jpg: Face could not be detected in faces/frame_9_face_0.jpg.Please confirm that the picture is a face photo or consider to set enforce_detection param to False.\n",
      "Error processing faces/frame_10_face_0.jpg: Face could not be detected in faces/frame_10_face_0.jpg.Please confirm that the picture is a face photo or consider to set enforce_detection param to False.\n",
      "Error processing faces/frame_23_face_0.jpg: Face could not be detected in faces/frame_23_face_0.jpg.Please confirm that the picture is a face photo or consider to set enforce_detection param to False.\n",
      "Error processing faces/frame_24_face_0.jpg: Face could not be detected in faces/frame_24_face_0.jpg.Please confirm that the picture is a face photo or consider to set enforce_detection param to False.\n",
      "Error processing faces/frame_25_face_0.jpg: Face could not be detected in faces/frame_25_face_0.jpg.Please confirm that the picture is a face photo or consider to set enforce_detection param to False.\n",
      "Error processing faces/frame_32_face_0.jpg: Face could not be detected in faces/frame_32_face_0.jpg.Please confirm that the picture is a face photo or consider to set enforce_detection param to False.\n",
      "Error processing faces/frame_32_face_1.jpg: Face could not be detected in faces/frame_32_face_1.jpg.Please confirm that the picture is a face photo or consider to set enforce_detection param to False.\n",
      "Error processing faces/frame_38_face_0.jpg: Face could not be detected in faces/frame_38_face_0.jpg.Please confirm that the picture is a face photo or consider to set enforce_detection param to False.\n"
     ]
    },
    {
     "name": "stderr",
     "output_type": "stream",
     "text": [
      "100%|██████████| 14/14 [00:00<00:00, 23.06it/s]"
     ]
    },
    {
     "name": "stdout",
     "output_type": "stream",
     "text": [
      "Error processing faces/frame_45_face_0.jpg: Face could not be detected in faces/frame_45_face_0.jpg.Please confirm that the picture is a face photo or consider to set enforce_detection param to False.\n",
      "Error processing faces/frame_46_face_0.jpg: Face could not be detected in faces/frame_46_face_0.jpg.Please confirm that the picture is a face photo or consider to set enforce_detection param to False.\n",
      "Error processing faces/frame_50_face_0.jpg: Face could not be detected in faces/frame_50_face_0.jpg.Please confirm that the picture is a face photo or consider to set enforce_detection param to False.\n"
     ]
    },
    {
     "name": "stderr",
     "output_type": "stream",
     "text": [
      "\n",
      "100%|██████████| 51/51 [00:12<00:00,  4.05it/s]\n",
      "0it [00:00, ?it/s]\n",
      "  1%|          | 1/84 [00:00<00:24,  3.38it/s]"
     ]
    },
    {
     "name": "stdout",
     "output_type": "stream",
     "text": [
      "Error processing faces/frame_1_face_0.jpg: Face could not be detected in faces/frame_1_face_0.jpg.Please confirm that the picture is a face photo or consider to set enforce_detection param to False.\n",
      "Error processing faces/frame_6_face_0.jpg: Face could not be detected in faces/frame_6_face_0.jpg.Please confirm that the picture is a face photo or consider to set enforce_detection param to False.\n",
      "Error processing faces/frame_12_face_0.jpg: Face could not be detected in faces/frame_12_face_0.jpg.Please confirm that the picture is a face photo or consider to set enforce_detection param to False.\n"
     ]
    },
    {
     "name": "stderr",
     "output_type": "stream",
     "text": [
      "\r  6%|▌         | 5/84 [00:00<00:09,  8.21it/s]"
     ]
    },
    {
     "name": "stdout",
     "output_type": "stream",
     "text": [
      "Error processing faces/frame_13_face_0.jpg: Face could not be detected in faces/frame_13_face_0.jpg.Please confirm that the picture is a face photo or consider to set enforce_detection param to False.\n",
      "Error processing faces/frame_14_face_0.jpg: Face could not be detected in faces/frame_14_face_0.jpg.Please confirm that the picture is a face photo or consider to set enforce_detection param to False.\n",
      "Error processing faces/frame_14_face_1.jpg: Face could not be detected in faces/frame_14_face_1.jpg.Please confirm that the picture is a face photo or consider to set enforce_detection param to False.\n",
      "Error processing faces/frame_15_face_0.jpg: Face could not be detected in faces/frame_15_face_0.jpg.Please confirm that the picture is a face photo or consider to set enforce_detection param to False.\n"
     ]
    },
    {
     "name": "stderr",
     "output_type": "stream",
     "text": [
      "\r 12%|█▏        | 10/84 [00:01<00:07, 10.42it/s]"
     ]
    },
    {
     "name": "stdout",
     "output_type": "stream",
     "text": [
      "Error processing faces/frame_16_face_1.jpg: Face could not be detected in faces/frame_16_face_1.jpg.Please confirm that the picture is a face photo or consider to set enforce_detection param to False.\n"
     ]
    },
    {
     "name": "stderr",
     "output_type": "stream",
     "text": [
      "\r 14%|█▍        | 12/84 [00:01<00:07,  9.05it/s]"
     ]
    },
    {
     "name": "stdout",
     "output_type": "stream",
     "text": [
      "Error processing faces/frame_17_face_0.jpg: Face could not be detected in faces/frame_17_face_0.jpg.Please confirm that the picture is a face photo or consider to set enforce_detection param to False.\n",
      "Error processing faces/frame_17_face_1.jpg: Face could not be detected in faces/frame_17_face_1.jpg.Please confirm that the picture is a face photo or consider to set enforce_detection param to False.\n"
     ]
    },
    {
     "name": "stderr",
     "output_type": "stream",
     "text": [
      " 19%|█▉        | 16/84 [00:01<00:08,  8.42it/s]"
     ]
    },
    {
     "name": "stdout",
     "output_type": "stream",
     "text": [
      "Error processing faces/frame_18_face_0.jpg: Face could not be detected in faces/frame_18_face_0.jpg.Please confirm that the picture is a face photo or consider to set enforce_detection param to False.\n",
      "Error processing faces/frame_18_face_1.jpg: Face could not be detected in faces/frame_18_face_1.jpg.Please confirm that the picture is a face photo or consider to set enforce_detection param to False.\n"
     ]
    },
    {
     "name": "stderr",
     "output_type": "stream",
     "text": [
      " 25%|██▌       | 21/84 [00:02<00:08,  7.08it/s]"
     ]
    },
    {
     "name": "stdout",
     "output_type": "stream",
     "text": [
      "Error processing faces/frame_20_face_1.jpg: Face could not be detected in faces/frame_20_face_1.jpg.Please confirm that the picture is a face photo or consider to set enforce_detection param to False.\n"
     ]
    },
    {
     "name": "stderr",
     "output_type": "stream",
     "text": [
      " 31%|███       | 26/84 [00:03<00:10,  5.54it/s]"
     ]
    },
    {
     "name": "stdout",
     "output_type": "stream",
     "text": [
      "Error processing faces/frame_22_face_1.jpg: Face could not be detected in faces/frame_22_face_1.jpg.Please confirm that the picture is a face photo or consider to set enforce_detection param to False.\n"
     ]
    },
    {
     "name": "stderr",
     "output_type": "stream",
     "text": [
      "\r 33%|███▎      | 28/84 [00:03<00:08,  6.34it/s]"
     ]
    },
    {
     "name": "stdout",
     "output_type": "stream",
     "text": [
      "Error processing faces/frame_23_face_0.jpg: Face could not be detected in faces/frame_23_face_0.jpg.Please confirm that the picture is a face photo or consider to set enforce_detection param to False.\n"
     ]
    },
    {
     "name": "stderr",
     "output_type": "stream",
     "text": [
      " 37%|███▋      | 31/84 [00:04<00:08,  6.09it/s]"
     ]
    },
    {
     "name": "stdout",
     "output_type": "stream",
     "text": [
      "Error processing faces/frame_24_face_0.jpg: Face could not be detected in faces/frame_24_face_0.jpg.Please confirm that the picture is a face photo or consider to set enforce_detection param to False.\n",
      "Error processing faces/frame_24_face_1.jpg: Face could not be detected in faces/frame_24_face_1.jpg.Please confirm that the picture is a face photo or consider to set enforce_detection param to False.\n"
     ]
    },
    {
     "name": "stderr",
     "output_type": "stream",
     "text": [
      " 42%|████▏     | 35/84 [00:04<00:07,  6.78it/s]"
     ]
    },
    {
     "name": "stdout",
     "output_type": "stream",
     "text": [
      "Error processing faces/frame_25_face_0.jpg: Face could not be detected in faces/frame_25_face_0.jpg.Please confirm that the picture is a face photo or consider to set enforce_detection param to False.\n"
     ]
    },
    {
     "name": "stderr",
     "output_type": "stream",
     "text": [
      "\r 44%|████▍     | 37/84 [00:04<00:06,  7.10it/s]"
     ]
    },
    {
     "name": "stdout",
     "output_type": "stream",
     "text": [
      "Error processing faces/frame_25_face_2.jpg: Face could not be detected in faces/frame_25_face_2.jpg.Please confirm that the picture is a face photo or consider to set enforce_detection param to False.\n",
      "Error processing faces/frame_26_face_0.jpg: Face could not be detected in faces/frame_26_face_0.jpg.Please confirm that the picture is a face photo or consider to set enforce_detection param to False.\n"
     ]
    },
    {
     "name": "stderr",
     "output_type": "stream",
     "text": [
      " 51%|█████     | 43/84 [00:05<00:07,  5.67it/s]"
     ]
    },
    {
     "name": "stdout",
     "output_type": "stream",
     "text": [
      "Error processing faces/frame_28_face_1.jpg: Face could not be detected in faces/frame_28_face_1.jpg.Please confirm that the picture is a face photo or consider to set enforce_detection param to False.\n"
     ]
    },
    {
     "name": "stderr",
     "output_type": "stream",
     "text": [
      " 58%|█████▊    | 49/84 [00:07<00:07,  4.67it/s]"
     ]
    },
    {
     "name": "stdout",
     "output_type": "stream",
     "text": [
      "Error processing faces/frame_35_face_0.jpg: Face could not be detected in faces/frame_35_face_0.jpg.Please confirm that the picture is a face photo or consider to set enforce_detection param to False.\n"
     ]
    },
    {
     "name": "stderr",
     "output_type": "stream",
     "text": [
      " 62%|██████▏   | 52/84 [00:07<00:06,  5.24it/s]"
     ]
    },
    {
     "name": "stdout",
     "output_type": "stream",
     "text": [
      "Error processing faces/frame_37_face_0.jpg: Face could not be detected in faces/frame_37_face_0.jpg.Please confirm that the picture is a face photo or consider to set enforce_detection param to False.\n"
     ]
    },
    {
     "name": "stderr",
     "output_type": "stream",
     "text": [
      " 68%|██████▊   | 57/84 [00:08<00:05,  4.82it/s]"
     ]
    },
    {
     "name": "stdout",
     "output_type": "stream",
     "text": [
      "Error processing faces/frame_39_face_0.jpg: Face could not be detected in faces/frame_39_face_0.jpg.Please confirm that the picture is a face photo or consider to set enforce_detection param to False.\n"
     ]
    },
    {
     "name": "stderr",
     "output_type": "stream",
     "text": [
      "\r 70%|███████   | 59/84 [00:08<00:04,  5.48it/s]"
     ]
    },
    {
     "name": "stdout",
     "output_type": "stream",
     "text": [
      "Error processing faces/frame_40_face_0.jpg: Face could not be detected in faces/frame_40_face_0.jpg.Please confirm that the picture is a face photo or consider to set enforce_detection param to False.\n",
      "Error processing faces/frame_40_face_1.jpg: Face could not be detected in faces/frame_40_face_1.jpg.Please confirm that the picture is a face photo or consider to set enforce_detection param to False.\n"
     ]
    },
    {
     "name": "stderr",
     "output_type": "stream",
     "text": [
      "\r 74%|███████▍  | 62/84 [00:09<00:03,  6.99it/s]"
     ]
    },
    {
     "name": "stdout",
     "output_type": "stream",
     "text": [
      "Error processing faces/frame_41_face_0.jpg: Face could not be detected in faces/frame_41_face_0.jpg.Please confirm that the picture is a face photo or consider to set enforce_detection param to False.\n"
     ]
    },
    {
     "name": "stderr",
     "output_type": "stream",
     "text": [
      "\r 76%|███████▌  | 64/84 [00:09<00:02,  7.03it/s]"
     ]
    },
    {
     "name": "stdout",
     "output_type": "stream",
     "text": [
      "Error processing faces/frame_41_face_2.jpg: Face could not be detected in faces/frame_41_face_2.jpg.Please confirm that the picture is a face photo or consider to set enforce_detection param to False.\n"
     ]
    },
    {
     "name": "stderr",
     "output_type": "stream",
     "text": [
      " 82%|████████▏ | 69/84 [00:10<00:02,  5.24it/s]"
     ]
    },
    {
     "name": "stdout",
     "output_type": "stream",
     "text": [
      "Error processing faces/frame_44_face_0.jpg: Face could not be detected in faces/frame_44_face_0.jpg.Please confirm that the picture is a face photo or consider to set enforce_detection param to False.\n"
     ]
    },
    {
     "name": "stderr",
     "output_type": "stream",
     "text": [
      " 88%|████████▊ | 74/84 [00:11<00:02,  4.27it/s]"
     ]
    },
    {
     "name": "stdout",
     "output_type": "stream",
     "text": [
      "Error processing faces/frame_47_face_0.jpg: Face could not be detected in faces/frame_47_face_0.jpg.Please confirm that the picture is a face photo or consider to set enforce_detection param to False.\n",
      "Error processing faces/frame_47_face_1.jpg: Face could not be detected in faces/frame_47_face_1.jpg.Please confirm that the picture is a face photo or consider to set enforce_detection param to False.\n"
     ]
    },
    {
     "name": "stderr",
     "output_type": "stream",
     "text": [
      "\r 92%|█████████▏| 77/84 [00:11<00:01,  5.77it/s]"
     ]
    },
    {
     "name": "stdout",
     "output_type": "stream",
     "text": [
      "Error processing faces/frame_48_face_0.jpg: Face could not be detected in faces/frame_48_face_0.jpg.Please confirm that the picture is a face photo or consider to set enforce_detection param to False.\n"
     ]
    },
    {
     "name": "stderr",
     "output_type": "stream",
     "text": [
      "\r 94%|█████████▍| 79/84 [00:12<00:00,  5.80it/s]"
     ]
    },
    {
     "name": "stdout",
     "output_type": "stream",
     "text": [
      "Error processing faces/frame_49_face_0.jpg: Face could not be detected in faces/frame_49_face_0.jpg.Please confirm that the picture is a face photo or consider to set enforce_detection param to False.\n"
     ]
    },
    {
     "name": "stderr",
     "output_type": "stream",
     "text": [
      "100%|██████████| 84/84 [00:13<00:00,  6.29it/s]\n"
     ]
    },
    {
     "name": "stdout",
     "output_type": "stream",
     "text": [
      "Error processing faces/frame_50_face_2.jpg: Face could not be detected in faces/frame_50_face_2.jpg.Please confirm that the picture is a face photo or consider to set enforce_detection param to False.\n"
     ]
    },
    {
     "name": "stderr",
     "output_type": "stream",
     "text": [
      "0it [00:00, ?it/s]\n",
      "0it [00:00, ?it/s]\n",
      "  1%|          | 1/84 [00:00<00:17,  4.61it/s]"
     ]
    },
    {
     "name": "stdout",
     "output_type": "stream",
     "text": [
      "Error processing faces/frame_1_face_0.jpg: Face could not be detected in faces/frame_1_face_0.jpg.Please confirm that the picture is a face photo or consider to set enforce_detection param to False.\n",
      "Error processing faces/frame_6_face_0.jpg: Face could not be detected in faces/frame_6_face_0.jpg.Please confirm that the picture is a face photo or consider to set enforce_detection param to False.\n",
      "Error processing faces/frame_12_face_0.jpg: Face could not be detected in faces/frame_12_face_0.jpg.Please confirm that the picture is a face photo or consider to set enforce_detection param to False.\n"
     ]
    },
    {
     "name": "stderr",
     "output_type": "stream",
     "text": [
      "\r  6%|▌         | 5/84 [00:00<00:06, 11.51it/s]"
     ]
    },
    {
     "name": "stdout",
     "output_type": "stream",
     "text": [
      "Error processing faces/frame_13_face_0.jpg: Face could not be detected in faces/frame_13_face_0.jpg.Please confirm that the picture is a face photo or consider to set enforce_detection param to False.\n",
      "Error processing faces/frame_14_face_0.jpg: Face could not be detected in faces/frame_14_face_0.jpg.Please confirm that the picture is a face photo or consider to set enforce_detection param to False.\n",
      "Error processing faces/frame_14_face_1.jpg: Face could not be detected in faces/frame_14_face_1.jpg.Please confirm that the picture is a face photo or consider to set enforce_detection param to False.\n",
      "Error processing faces/frame_15_face_0.jpg: Face could not be detected in faces/frame_15_face_0.jpg.Please confirm that the picture is a face photo or consider to set enforce_detection param to False.\n"
     ]
    },
    {
     "name": "stderr",
     "output_type": "stream",
     "text": [
      "\r 12%|█▏        | 10/84 [00:00<00:04, 15.43it/s]"
     ]
    },
    {
     "name": "stdout",
     "output_type": "stream",
     "text": [
      "Error processing faces/frame_16_face_1.jpg: Face could not be detected in faces/frame_16_face_1.jpg.Please confirm that the picture is a face photo or consider to set enforce_detection param to False.\n"
     ]
    },
    {
     "name": "stderr",
     "output_type": "stream",
     "text": [
      "\r 14%|█▍        | 12/84 [00:00<00:05, 12.60it/s]"
     ]
    },
    {
     "name": "stdout",
     "output_type": "stream",
     "text": [
      "Error processing faces/frame_17_face_0.jpg: Face could not be detected in faces/frame_17_face_0.jpg.Please confirm that the picture is a face photo or consider to set enforce_detection param to False.\n",
      "Error processing faces/frame_17_face_1.jpg: Face could not be detected in faces/frame_17_face_1.jpg.Please confirm that the picture is a face photo or consider to set enforce_detection param to False.\n"
     ]
    },
    {
     "name": "stderr",
     "output_type": "stream",
     "text": [
      " 20%|██        | 17/84 [00:01<00:05, 11.32it/s]"
     ]
    },
    {
     "name": "stdout",
     "output_type": "stream",
     "text": [
      "Error processing faces/frame_18_face_0.jpg: Face could not be detected in faces/frame_18_face_0.jpg.Please confirm that the picture is a face photo or consider to set enforce_detection param to False.\n",
      "Error processing faces/frame_18_face_1.jpg: Face could not be detected in faces/frame_18_face_1.jpg.Please confirm that the picture is a face photo or consider to set enforce_detection param to False.\n"
     ]
    },
    {
     "name": "stderr",
     "output_type": "stream",
     "text": [
      " 25%|██▌       | 21/84 [00:02<00:09,  6.60it/s]"
     ]
    },
    {
     "name": "stdout",
     "output_type": "stream",
     "text": [
      "Error processing faces/frame_20_face_1.jpg: Face could not be detected in faces/frame_20_face_1.jpg.Please confirm that the picture is a face photo or consider to set enforce_detection param to False.\n"
     ]
    },
    {
     "name": "stderr",
     "output_type": "stream",
     "text": [
      " 31%|███       | 26/84 [00:03<00:14,  4.13it/s]"
     ]
    },
    {
     "name": "stdout",
     "output_type": "stream",
     "text": [
      "Error processing faces/frame_22_face_1.jpg: Face could not be detected in faces/frame_22_face_1.jpg.Please confirm that the picture is a face photo or consider to set enforce_detection param to False.\n"
     ]
    },
    {
     "name": "stderr",
     "output_type": "stream",
     "text": [
      "\r 33%|███▎      | 28/84 [00:03<00:12,  4.61it/s]"
     ]
    },
    {
     "name": "stdout",
     "output_type": "stream",
     "text": [
      "Error processing faces/frame_23_face_0.jpg: Face could not be detected in faces/frame_23_face_0.jpg.Please confirm that the picture is a face photo or consider to set enforce_detection param to False.\n"
     ]
    },
    {
     "name": "stderr",
     "output_type": "stream",
     "text": [
      " 37%|███▋      | 31/84 [00:04<00:11,  4.48it/s]"
     ]
    },
    {
     "name": "stdout",
     "output_type": "stream",
     "text": [
      "Error processing faces/frame_24_face_0.jpg: Face could not be detected in faces/frame_24_face_0.jpg.Please confirm that the picture is a face photo or consider to set enforce_detection param to False.\n",
      "Error processing faces/frame_24_face_1.jpg: Face could not be detected in faces/frame_24_face_1.jpg.Please confirm that the picture is a face photo or consider to set enforce_detection param to False.\n"
     ]
    },
    {
     "name": "stderr",
     "output_type": "stream",
     "text": [
      " 42%|████▏     | 35/84 [00:05<00:08,  5.58it/s]"
     ]
    },
    {
     "name": "stdout",
     "output_type": "stream",
     "text": [
      "Error processing faces/frame_25_face_0.jpg: Face could not be detected in faces/frame_25_face_0.jpg.Please confirm that the picture is a face photo or consider to set enforce_detection param to False.\n"
     ]
    },
    {
     "name": "stderr",
     "output_type": "stream",
     "text": [
      "\r 44%|████▍     | 37/84 [00:05<00:07,  6.20it/s]"
     ]
    },
    {
     "name": "stdout",
     "output_type": "stream",
     "text": [
      "Error processing faces/frame_25_face_2.jpg: Face could not be detected in faces/frame_25_face_2.jpg.Please confirm that the picture is a face photo or consider to set enforce_detection param to False.\n",
      "Error processing faces/frame_26_face_0.jpg: Face could not be detected in faces/frame_26_face_0.jpg.Please confirm that the picture is a face photo or consider to set enforce_detection param to False.\n"
     ]
    },
    {
     "name": "stderr",
     "output_type": "stream",
     "text": [
      " 51%|█████     | 43/84 [00:06<00:07,  5.56it/s]"
     ]
    },
    {
     "name": "stdout",
     "output_type": "stream",
     "text": [
      "Error processing faces/frame_28_face_1.jpg: Face could not be detected in faces/frame_28_face_1.jpg.Please confirm that the picture is a face photo or consider to set enforce_detection param to False.\n"
     ]
    },
    {
     "name": "stderr",
     "output_type": "stream",
     "text": [
      " 58%|█████▊    | 49/84 [00:07<00:07,  4.67it/s]"
     ]
    },
    {
     "name": "stdout",
     "output_type": "stream",
     "text": [
      "Error processing faces/frame_35_face_0.jpg: Face could not be detected in faces/frame_35_face_0.jpg.Please confirm that the picture is a face photo or consider to set enforce_detection param to False.\n"
     ]
    },
    {
     "name": "stderr",
     "output_type": "stream",
     "text": [
      " 62%|██████▏   | 52/84 [00:08<00:06,  5.21it/s]"
     ]
    },
    {
     "name": "stdout",
     "output_type": "stream",
     "text": [
      "Error processing faces/frame_37_face_0.jpg: Face could not be detected in faces/frame_37_face_0.jpg.Please confirm that the picture is a face photo or consider to set enforce_detection param to False.\n"
     ]
    },
    {
     "name": "stderr",
     "output_type": "stream",
     "text": [
      " 68%|██████▊   | 57/84 [00:09<00:05,  4.85it/s]"
     ]
    },
    {
     "name": "stdout",
     "output_type": "stream",
     "text": [
      "Error processing faces/frame_39_face_0.jpg: Face could not be detected in faces/frame_39_face_0.jpg.Please confirm that the picture is a face photo or consider to set enforce_detection param to False.\n"
     ]
    },
    {
     "name": "stderr",
     "output_type": "stream",
     "text": [
      "\r 70%|███████   | 59/84 [00:09<00:04,  5.61it/s]"
     ]
    },
    {
     "name": "stdout",
     "output_type": "stream",
     "text": [
      "Error processing faces/frame_40_face_0.jpg: Face could not be detected in faces/frame_40_face_0.jpg.Please confirm that the picture is a face photo or consider to set enforce_detection param to False.\n",
      "Error processing faces/frame_40_face_1.jpg: Face could not be detected in faces/frame_40_face_1.jpg.Please confirm that the picture is a face photo or consider to set enforce_detection param to False.\n"
     ]
    },
    {
     "name": "stderr",
     "output_type": "stream",
     "text": [
      "\r 74%|███████▍  | 62/84 [00:09<00:03,  7.19it/s]"
     ]
    },
    {
     "name": "stdout",
     "output_type": "stream",
     "text": [
      "Error processing faces/frame_41_face_0.jpg: Face could not be detected in faces/frame_41_face_0.jpg.Please confirm that the picture is a face photo or consider to set enforce_detection param to False.\n",
      "Error processing faces/frame_41_face_1.jpg: Face could not be detected in faces/frame_41_face_1.jpg.Please confirm that the picture is a face photo or consider to set enforce_detection param to False.\n"
     ]
    },
    {
     "name": "stderr",
     "output_type": "stream",
     "text": [
      " 82%|████████▏ | 69/84 [00:10<00:02,  5.09it/s]"
     ]
    },
    {
     "name": "stdout",
     "output_type": "stream",
     "text": [
      "Error processing faces/frame_44_face_0.jpg: Face could not be detected in faces/frame_44_face_0.jpg.Please confirm that the picture is a face photo or consider to set enforce_detection param to False.\n"
     ]
    },
    {
     "name": "stderr",
     "output_type": "stream",
     "text": [
      " 88%|████████▊ | 74/84 [00:11<00:02,  4.67it/s]"
     ]
    },
    {
     "name": "stdout",
     "output_type": "stream",
     "text": [
      "Error processing faces/frame_47_face_0.jpg: Face could not be detected in faces/frame_47_face_0.jpg.Please confirm that the picture is a face photo or consider to set enforce_detection param to False.\n",
      "Error processing faces/frame_47_face_1.jpg: Face could not be detected in faces/frame_47_face_1.jpg.Please confirm that the picture is a face photo or consider to set enforce_detection param to False.\n"
     ]
    },
    {
     "name": "stderr",
     "output_type": "stream",
     "text": [
      "\r 92%|█████████▏| 77/84 [00:12<00:01,  6.87it/s]"
     ]
    },
    {
     "name": "stdout",
     "output_type": "stream",
     "text": [
      "Error processing faces/frame_48_face_0.jpg: Face could not be detected in faces/frame_48_face_0.jpg.Please confirm that the picture is a face photo or consider to set enforce_detection param to False.\n"
     ]
    },
    {
     "name": "stderr",
     "output_type": "stream",
     "text": [
      "\r 94%|█████████▍| 79/84 [00:12<00:00,  7.18it/s]"
     ]
    },
    {
     "name": "stdout",
     "output_type": "stream",
     "text": [
      "Error processing faces/frame_49_face_0.jpg: Face could not be detected in faces/frame_49_face_0.jpg.Please confirm that the picture is a face photo or consider to set enforce_detection param to False.\n"
     ]
    },
    {
     "name": "stderr",
     "output_type": "stream",
     "text": [
      "100%|██████████| 84/84 [00:13<00:00,  6.36it/s]\n"
     ]
    },
    {
     "name": "stdout",
     "output_type": "stream",
     "text": [
      "Error processing faces/frame_50_face_2.jpg: Face could not be detected in faces/frame_50_face_2.jpg.Please confirm that the picture is a face photo or consider to set enforce_detection param to False.\n"
     ]
    },
    {
     "name": "stderr",
     "output_type": "stream",
     "text": [
      "100%|██████████| 1/1 [00:00<00:00,  4.71it/s]\n",
      "100%|██████████| 2/2 [00:00<00:00, 87.30it/s]\n"
     ]
    },
    {
     "name": "stdout",
     "output_type": "stream",
     "text": [
      "Error processing faces/frame_13_face_0.jpg: Face could not be detected in faces/frame_13_face_0.jpg.Please confirm that the picture is a face photo or consider to set enforce_detection param to False.\n",
      "Error processing faces/frame_18_face_0.jpg: Face could not be detected in faces/frame_18_face_0.jpg.Please confirm that the picture is a face photo or consider to set enforce_detection param to False.\n"
     ]
    },
    {
     "name": "stderr",
     "output_type": "stream",
     "text": [
      "  3%|▎         | 4/157 [00:00<00:36,  4.24it/s]"
     ]
    },
    {
     "name": "stdout",
     "output_type": "stream",
     "text": [
      "Error processing faces/frame_0_face_4.jpg: Face could not be detected in faces/frame_0_face_4.jpg.Please confirm that the picture is a face photo or consider to set enforce_detection param to False.\n"
     ]
    },
    {
     "name": "stderr",
     "output_type": "stream",
     "text": [
      "  4%|▍         | 7/157 [00:01<00:28,  5.22it/s]"
     ]
    },
    {
     "name": "stdout",
     "output_type": "stream",
     "text": [
      "Error processing faces/frame_1_face_2.jpg: Face could not be detected in faces/frame_1_face_2.jpg.Please confirm that the picture is a face photo or consider to set enforce_detection param to False.\n"
     ]
    },
    {
     "name": "stderr",
     "output_type": "stream",
     "text": [
      "\r  6%|▌         | 9/157 [00:01<00:24,  6.16it/s]"
     ]
    },
    {
     "name": "stdout",
     "output_type": "stream",
     "text": [
      "Error processing faces/frame_1_face_4.jpg: Face could not be detected in faces/frame_1_face_4.jpg.Please confirm that the picture is a face photo or consider to set enforce_detection param to False.\n"
     ]
    },
    {
     "name": "stderr",
     "output_type": "stream",
     "text": [
      "  8%|▊         | 13/157 [00:02<00:25,  5.65it/s]"
     ]
    },
    {
     "name": "stdout",
     "output_type": "stream",
     "text": [
      "Error processing faces/frame_2_face_3.jpg: Face could not be detected in faces/frame_2_face_3.jpg.Please confirm that the picture is a face photo or consider to set enforce_detection param to False.\n"
     ]
    },
    {
     "name": "stderr",
     "output_type": "stream",
     "text": [
      " 11%|█         | 17/157 [00:03<00:26,  5.32it/s]"
     ]
    },
    {
     "name": "stdout",
     "output_type": "stream",
     "text": [
      "Error processing faces/frame_3_face_3.jpg: Face could not be detected in faces/frame_3_face_3.jpg.Please confirm that the picture is a face photo or consider to set enforce_detection param to False.\n"
     ]
    },
    {
     "name": "stderr",
     "output_type": "stream",
     "text": [
      " 17%|█▋        | 27/157 [00:05<00:29,  4.39it/s]"
     ]
    },
    {
     "name": "stdout",
     "output_type": "stream",
     "text": [
      "Error processing faces/frame_6_face_2.jpg: Face could not be detected in faces/frame_6_face_2.jpg.Please confirm that the picture is a face photo or consider to set enforce_detection param to False.\n"
     ]
    },
    {
     "name": "stderr",
     "output_type": "stream",
     "text": [
      " 19%|█▉        | 30/157 [00:05<00:24,  5.09it/s]"
     ]
    },
    {
     "name": "stdout",
     "output_type": "stream",
     "text": [
      "Error processing faces/frame_7_face_2.jpg: Face could not be detected in faces/frame_7_face_2.jpg.Please confirm that the picture is a face photo or consider to set enforce_detection param to False.\n"
     ]
    },
    {
     "name": "stderr",
     "output_type": "stream",
     "text": [
      " 21%|██        | 33/157 [00:06<00:22,  5.41it/s]"
     ]
    },
    {
     "name": "stdout",
     "output_type": "stream",
     "text": [
      "Error processing faces/frame_8_face_2.jpg: Face could not be detected in faces/frame_8_face_2.jpg.Please confirm that the picture is a face photo or consider to set enforce_detection param to False.\n"
     ]
    },
    {
     "name": "stderr",
     "output_type": "stream",
     "text": [
      " 24%|██▎       | 37/157 [00:06<00:23,  5.05it/s]"
     ]
    },
    {
     "name": "stdout",
     "output_type": "stream",
     "text": [
      "Error processing faces/frame_9_face_3.jpg: Face could not be detected in faces/frame_9_face_3.jpg.Please confirm that the picture is a face photo or consider to set enforce_detection param to False.\n"
     ]
    },
    {
     "name": "stderr",
     "output_type": "stream",
     "text": [
      " 36%|███▋      | 57/157 [00:12<00:31,  3.14it/s]"
     ]
    },
    {
     "name": "stdout",
     "output_type": "stream",
     "text": [
      "Error processing faces/frame_18_face_2.jpg: Face could not be detected in faces/frame_18_face_2.jpg.Please confirm that the picture is a face photo or consider to set enforce_detection param to False.\n"
     ]
    },
    {
     "name": "stderr",
     "output_type": "stream",
     "text": [
      " 38%|███▊      | 60/157 [00:12<00:23,  4.06it/s]"
     ]
    },
    {
     "name": "stdout",
     "output_type": "stream",
     "text": [
      "Error processing faces/frame_19_face_2.jpg: Face could not be detected in faces/frame_19_face_2.jpg.Please confirm that the picture is a face photo or consider to set enforce_detection param to False.\n"
     ]
    },
    {
     "name": "stderr",
     "output_type": "stream",
     "text": [
      " 40%|████      | 63/157 [00:13<00:19,  4.85it/s]"
     ]
    },
    {
     "name": "stdout",
     "output_type": "stream",
     "text": [
      "Error processing faces/frame_20_face_2.jpg: Face could not be detected in faces/frame_20_face_2.jpg.Please confirm that the picture is a face photo or consider to set enforce_detection param to False.\n"
     ]
    },
    {
     "name": "stderr",
     "output_type": "stream",
     "text": [
      " 43%|████▎     | 68/157 [00:14<00:18,  4.86it/s]"
     ]
    },
    {
     "name": "stdout",
     "output_type": "stream",
     "text": [
      "Error processing faces/frame_22_face_2.jpg: Face could not be detected in faces/frame_22_face_2.jpg.Please confirm that the picture is a face photo or consider to set enforce_detection param to False.\n",
      "Error processing faces/frame_22_face_3.jpg: Face could not be detected in faces/frame_22_face_3.jpg.Please confirm that the picture is a face photo or consider to set enforce_detection param to False.\n"
     ]
    },
    {
     "name": "stderr",
     "output_type": "stream",
     "text": [
      " 46%|████▌     | 72/157 [00:14<00:13,  6.20it/s]"
     ]
    },
    {
     "name": "stdout",
     "output_type": "stream",
     "text": [
      "Error processing faces/frame_23_face_2.jpg: Face could not be detected in faces/frame_23_face_2.jpg.Please confirm that the picture is a face photo or consider to set enforce_detection param to False.\n"
     ]
    },
    {
     "name": "stderr",
     "output_type": "stream",
     "text": [
      " 51%|█████     | 80/157 [00:16<00:16,  4.57it/s]"
     ]
    },
    {
     "name": "stdout",
     "output_type": "stream",
     "text": [
      "Error processing faces/frame_26_face_2.jpg: Face could not be detected in faces/frame_26_face_2.jpg.Please confirm that the picture is a face photo or consider to set enforce_detection param to False.\n",
      "Error processing faces/frame_26_face_3.jpg: Face could not be detected in faces/frame_26_face_3.jpg.Please confirm that the picture is a face photo or consider to set enforce_detection param to False.\n"
     ]
    },
    {
     "name": "stderr",
     "output_type": "stream",
     "text": [
      " 55%|█████▌    | 87/157 [00:17<00:14,  4.88it/s]"
     ]
    },
    {
     "name": "stdout",
     "output_type": "stream",
     "text": [
      "Error processing faces/frame_28_face_2.jpg: Face could not be detected in faces/frame_28_face_2.jpg.Please confirm that the picture is a face photo or consider to set enforce_detection param to False.\n"
     ]
    },
    {
     "name": "stderr",
     "output_type": "stream",
     "text": [
      " 59%|█████▉    | 93/157 [00:18<00:13,  4.65it/s]"
     ]
    },
    {
     "name": "stdout",
     "output_type": "stream",
     "text": [
      "Error processing faces/frame_30_face_2.jpg: Face could not be detected in faces/frame_30_face_2.jpg.Please confirm that the picture is a face photo or consider to set enforce_detection param to False.\n"
     ]
    },
    {
     "name": "stderr",
     "output_type": "stream",
     "text": [
      "\r 61%|██████    | 95/157 [00:18<00:10,  5.75it/s]"
     ]
    },
    {
     "name": "stdout",
     "output_type": "stream",
     "text": [
      "Error processing faces/frame_30_face_4.jpg: Face could not be detected in faces/frame_30_face_4.jpg.Please confirm that the picture is a face photo or consider to set enforce_detection param to False.\n"
     ]
    },
    {
     "name": "stderr",
     "output_type": "stream",
     "text": [
      " 65%|██████▍   | 102/157 [00:20<00:11,  4.75it/s]"
     ]
    },
    {
     "name": "stdout",
     "output_type": "stream",
     "text": [
      "Error processing faces/frame_32_face_2.jpg: Face could not be detected in faces/frame_32_face_2.jpg.Please confirm that the picture is a face photo or consider to set enforce_detection param to False.\n"
     ]
    },
    {
     "name": "stderr",
     "output_type": "stream",
     "text": [
      " 68%|██████▊   | 106/157 [00:20<00:10,  5.08it/s]"
     ]
    },
    {
     "name": "stdout",
     "output_type": "stream",
     "text": [
      "Error processing faces/frame_33_face_2.jpg: Face could not be detected in faces/frame_33_face_2.jpg.Please confirm that the picture is a face photo or consider to set enforce_detection param to False.\n"
     ]
    },
    {
     "name": "stderr",
     "output_type": "stream",
     "text": [
      " 70%|███████   | 110/157 [00:21<00:09,  5.17it/s]"
     ]
    },
    {
     "name": "stdout",
     "output_type": "stream",
     "text": [
      "Error processing faces/frame_34_face_3.jpg: Face could not be detected in faces/frame_34_face_3.jpg.Please confirm that the picture is a face photo or consider to set enforce_detection param to False.\n"
     ]
    },
    {
     "name": "stderr",
     "output_type": "stream",
     "text": [
      " 72%|███████▏  | 113/157 [00:22<00:07,  5.56it/s]"
     ]
    },
    {
     "name": "stdout",
     "output_type": "stream",
     "text": [
      "Error processing faces/frame_35_face_2.jpg: Face could not be detected in faces/frame_35_face_2.jpg.Please confirm that the picture is a face photo or consider to set enforce_detection param to False.\n"
     ]
    },
    {
     "name": "stderr",
     "output_type": "stream",
     "text": [
      " 75%|███████▌  | 118/157 [00:23<00:09,  4.01it/s]"
     ]
    },
    {
     "name": "stdout",
     "output_type": "stream",
     "text": [
      "Error processing faces/frame_36_face_3.jpg: Face could not be detected in faces/frame_36_face_3.jpg.Please confirm that the picture is a face photo or consider to set enforce_detection param to False.\n"
     ]
    },
    {
     "name": "stderr",
     "output_type": "stream",
     "text": [
      " 82%|████████▏ | 129/157 [00:26<00:06,  4.06it/s]"
     ]
    },
    {
     "name": "stdout",
     "output_type": "stream",
     "text": [
      "Error processing faces/frame_41_face_2.jpg: Face could not be detected in faces/frame_41_face_2.jpg.Please confirm that the picture is a face photo or consider to set enforce_detection param to False.\n"
     ]
    },
    {
     "name": "stderr",
     "output_type": "stream",
     "text": [
      " 84%|████████▍ | 132/157 [00:26<00:05,  4.86it/s]"
     ]
    },
    {
     "name": "stdout",
     "output_type": "stream",
     "text": [
      "Error processing faces/frame_42_face_2.jpg: Face could not be detected in faces/frame_42_face_2.jpg.Please confirm that the picture is a face photo or consider to set enforce_detection param to False.\n"
     ]
    },
    {
     "name": "stderr",
     "output_type": "stream",
     "text": [
      " 96%|█████████▌| 151/157 [00:30<00:01,  4.24it/s]"
     ]
    },
    {
     "name": "stdout",
     "output_type": "stream",
     "text": [
      "Error processing faces/frame_49_face_2.jpg: Face could not be detected in faces/frame_49_face_2.jpg.Please confirm that the picture is a face photo or consider to set enforce_detection param to False.\n"
     ]
    },
    {
     "name": "stderr",
     "output_type": "stream",
     "text": [
      " 99%|█████████▊| 155/157 [00:31<00:00,  4.88it/s]"
     ]
    },
    {
     "name": "stdout",
     "output_type": "stream",
     "text": [
      "Error processing faces/frame_50_face_2.jpg: Face could not be detected in faces/frame_50_face_2.jpg.Please confirm that the picture is a face photo or consider to set enforce_detection param to False.\n"
     ]
    },
    {
     "name": "stderr",
     "output_type": "stream",
     "text": [
      "100%|██████████| 157/157 [00:31<00:00,  4.93it/s]\n",
      " 88%|████████▊ | 43/49 [00:14<00:01,  3.43it/s]"
     ]
    },
    {
     "name": "stdout",
     "output_type": "stream",
     "text": [
      "Error processing faces/frame_45_face_1.jpg: Face could not be detected in faces/frame_45_face_1.jpg.Please confirm that the picture is a face photo or consider to set enforce_detection param to False.\n"
     ]
    },
    {
     "name": "stderr",
     "output_type": "stream",
     "text": [
      "100%|██████████| 49/49 [00:15<00:00,  3.13it/s]\n",
      "  0%|          | 0/87 [00:00<?, ?it/s]"
     ]
    },
    {
     "name": "stdout",
     "output_type": "stream",
     "text": [
      "Error processing faces/frame_0_face_0.jpg: Face could not be detected in faces/frame_0_face_0.jpg.Please confirm that the picture is a face photo or consider to set enforce_detection param to False.\n"
     ]
    },
    {
     "name": "stderr",
     "output_type": "stream",
     "text": [
      "  3%|▎         | 3/87 [00:00<00:14,  5.70it/s]"
     ]
    },
    {
     "name": "stdout",
     "output_type": "stream",
     "text": [
      "Error processing faces/frame_0_face_3.jpg: Face could not be detected in faces/frame_0_face_3.jpg.Please confirm that the picture is a face photo or consider to set enforce_detection param to False.\n"
     ]
    },
    {
     "name": "stderr",
     "output_type": "stream",
     "text": [
      "  7%|▋         | 6/87 [00:00<00:13,  5.85it/s]"
     ]
    },
    {
     "name": "stdout",
     "output_type": "stream",
     "text": [
      "Error processing faces/frame_0_face_6.jpg: Face could not be detected in faces/frame_0_face_6.jpg.Please confirm that the picture is a face photo or consider to set enforce_detection param to False.\n"
     ]
    },
    {
     "name": "stderr",
     "output_type": "stream",
     "text": [
      " 11%|█▏        | 10/87 [00:01<00:16,  4.68it/s]"
     ]
    },
    {
     "name": "stdout",
     "output_type": "stream",
     "text": [
      "Error processing faces/frame_1_face_3.jpg: Face could not be detected in faces/frame_1_face_3.jpg.Please confirm that the picture is a face photo or consider to set enforce_detection param to False.\n"
     ]
    },
    {
     "name": "stderr",
     "output_type": "stream",
     "text": [
      " 17%|█▋        | 15/87 [00:03<00:18,  3.88it/s]"
     ]
    },
    {
     "name": "stdout",
     "output_type": "stream",
     "text": [
      "Error processing faces/frame_2_face_2.jpg: Face could not be detected in faces/frame_2_face_2.jpg.Please confirm that the picture is a face photo or consider to set enforce_detection param to False.\n",
      "Error processing faces/frame_2_face_3.jpg: Face could not be detected in faces/frame_2_face_3.jpg.Please confirm that the picture is a face photo or consider to set enforce_detection param to False.\n",
      "Error processing faces/frame_2_face_4.jpg: Face could not be detected in faces/frame_2_face_4.jpg.Please confirm that the picture is a face photo or consider to set enforce_detection param to False.\n"
     ]
    },
    {
     "name": "stderr",
     "output_type": "stream",
     "text": [
      "\r 22%|██▏       | 19/87 [00:03<00:11,  6.04it/s]"
     ]
    },
    {
     "name": "stdout",
     "output_type": "stream",
     "text": [
      "Error processing faces/frame_3_face_0.jpg: Face could not be detected in faces/frame_3_face_0.jpg.Please confirm that the picture is a face photo or consider to set enforce_detection param to False.\n"
     ]
    },
    {
     "name": "stderr",
     "output_type": "stream",
     "text": [
      " 28%|██▊       | 24/87 [00:04<00:13,  4.50it/s]"
     ]
    },
    {
     "name": "stdout",
     "output_type": "stream",
     "text": [
      "Error processing faces/frame_4_face_0.jpg: Face could not be detected in faces/frame_4_face_0.jpg.Please confirm that the picture is a face photo or consider to set enforce_detection param to False.\n"
     ]
    },
    {
     "name": "stderr",
     "output_type": "stream",
     "text": [
      " 34%|███▍      | 30/87 [00:05<00:12,  4.58it/s]"
     ]
    },
    {
     "name": "stdout",
     "output_type": "stream",
     "text": [
      "Error processing faces/frame_5_face_2.jpg: Face could not be detected in faces/frame_5_face_2.jpg.Please confirm that the picture is a face photo or consider to set enforce_detection param to False.\n"
     ]
    },
    {
     "name": "stderr",
     "output_type": "stream",
     "text": [
      " 38%|███▊      | 33/87 [00:06<00:10,  5.05it/s]"
     ]
    },
    {
     "name": "stdout",
     "output_type": "stream",
     "text": [
      "Error processing faces/frame_7_face_0.jpg: Face could not be detected in faces/frame_7_face_0.jpg.Please confirm that the picture is a face photo or consider to set enforce_detection param to False.\n"
     ]
    },
    {
     "name": "stderr",
     "output_type": "stream",
     "text": [
      " 41%|████▏     | 36/87 [00:06<00:09,  5.43it/s]"
     ]
    },
    {
     "name": "stdout",
     "output_type": "stream",
     "text": [
      "Error processing faces/frame_8_face_1.jpg: Face could not be detected in faces/frame_8_face_1.jpg.Please confirm that the picture is a face photo or consider to set enforce_detection param to False.\n",
      "Error processing faces/frame_9_face_0.jpg: Face could not be detected in faces/frame_9_face_0.jpg.Please confirm that the picture is a face photo or consider to set enforce_detection param to False.\n"
     ]
    },
    {
     "name": "stderr",
     "output_type": "stream",
     "text": [
      "\r 45%|████▍     | 39/87 [00:07<00:06,  7.19it/s]"
     ]
    },
    {
     "name": "stdout",
     "output_type": "stream",
     "text": [
      "Error processing faces/frame_10_face_0.jpg: Face could not be detected in faces/frame_10_face_0.jpg.Please confirm that the picture is a face photo or consider to set enforce_detection param to False.\n",
      "Error processing faces/frame_10_face_1.jpg: Face could not be detected in faces/frame_10_face_1.jpg.Please confirm that the picture is a face photo or consider to set enforce_detection param to False.\n",
      "Error processing faces/frame_11_face_0.jpg: Face could not be detected in faces/frame_11_face_0.jpg.Please confirm that the picture is a face photo or consider to set enforce_detection param to False.\n"
     ]
    },
    {
     "name": "stderr",
     "output_type": "stream",
     "text": [
      "\r 49%|████▉     | 43/87 [00:07<00:04,  9.31it/s]"
     ]
    },
    {
     "name": "stdout",
     "output_type": "stream",
     "text": [
      "Error processing faces/frame_12_face_0.jpg: Face could not be detected in faces/frame_12_face_0.jpg.Please confirm that the picture is a face photo or consider to set enforce_detection param to False.\n"
     ]
    },
    {
     "name": "stderr",
     "output_type": "stream",
     "text": [
      "\r 52%|█████▏    | 45/87 [00:07<00:04,  8.72it/s]"
     ]
    },
    {
     "name": "stdout",
     "output_type": "stream",
     "text": [
      "Error processing faces/frame_13_face_0.jpg: Face could not be detected in faces/frame_13_face_0.jpg.Please confirm that the picture is a face photo or consider to set enforce_detection param to False.\n"
     ]
    },
    {
     "name": "stderr",
     "output_type": "stream",
     "text": [
      " 60%|█████▉    | 52/87 [00:09<00:07,  4.87it/s]"
     ]
    },
    {
     "name": "stdout",
     "output_type": "stream",
     "text": [
      "Error processing faces/frame_16_face_0.jpg: Face could not be detected in faces/frame_16_face_0.jpg.Please confirm that the picture is a face photo or consider to set enforce_detection param to False.\n"
     ]
    },
    {
     "name": "stderr",
     "output_type": "stream",
     "text": [
      " 66%|██████▌   | 57/87 [00:10<00:06,  4.65it/s]"
     ]
    },
    {
     "name": "stdout",
     "output_type": "stream",
     "text": [
      "Error processing faces/frame_18_face_0.jpg: Face could not be detected in faces/frame_18_face_0.jpg.Please confirm that the picture is a face photo or consider to set enforce_detection param to False.\n"
     ]
    },
    {
     "name": "stderr",
     "output_type": "stream",
     "text": [
      " 69%|██████▉   | 60/87 [00:10<00:05,  5.04it/s]"
     ]
    },
    {
     "name": "stdout",
     "output_type": "stream",
     "text": [
      "Error processing faces/frame_19_face_0.jpg: Face could not be detected in faces/frame_19_face_0.jpg.Please confirm that the picture is a face photo or consider to set enforce_detection param to False.\n"
     ]
    },
    {
     "name": "stderr",
     "output_type": "stream",
     "text": [
      " 92%|█████████▏| 80/87 [00:15<00:02,  2.98it/s]"
     ]
    },
    {
     "name": "stdout",
     "output_type": "stream",
     "text": [
      "Error processing faces/frame_27_face_0.jpg: Face could not be detected in faces/frame_27_face_0.jpg.Please confirm that the picture is a face photo or consider to set enforce_detection param to False.\n"
     ]
    },
    {
     "name": "stderr",
     "output_type": "stream",
     "text": [
      " 97%|█████████▋| 84/87 [00:17<00:00,  3.05it/s]"
     ]
    },
    {
     "name": "stdout",
     "output_type": "stream",
     "text": [
      "Error processing faces/frame_31_face_0.jpg: Face could not be detected in faces/frame_31_face_0.jpg.Please confirm that the picture is a face photo or consider to set enforce_detection param to False.\n"
     ]
    },
    {
     "name": "stderr",
     "output_type": "stream",
     "text": [
      "100%|██████████| 87/87 [00:17<00:00,  4.87it/s]\n",
      "  1%|          | 1/84 [00:00<00:19,  4.35it/s]"
     ]
    },
    {
     "name": "stdout",
     "output_type": "stream",
     "text": [
      "Error processing faces/frame_1_face_0.jpg: Face could not be detected in faces/frame_1_face_0.jpg.Please confirm that the picture is a face photo or consider to set enforce_detection param to False.\n",
      "Error processing faces/frame_6_face_0.jpg: Face could not be detected in faces/frame_6_face_0.jpg.Please confirm that the picture is a face photo or consider to set enforce_detection param to False.\n",
      "Error processing faces/frame_12_face_0.jpg: Face could not be detected in faces/frame_12_face_0.jpg.Please confirm that the picture is a face photo or consider to set enforce_detection param to False.\n"
     ]
    },
    {
     "name": "stderr",
     "output_type": "stream",
     "text": [
      "\r  6%|▌         | 5/84 [00:00<00:06, 11.48it/s]"
     ]
    },
    {
     "name": "stdout",
     "output_type": "stream",
     "text": [
      "Error processing faces/frame_13_face_0.jpg: Face could not be detected in faces/frame_13_face_0.jpg.Please confirm that the picture is a face photo or consider to set enforce_detection param to False.\n",
      "Error processing faces/frame_14_face_0.jpg: Face could not be detected in faces/frame_14_face_0.jpg.Please confirm that the picture is a face photo or consider to set enforce_detection param to False.\n",
      "Error processing faces/frame_14_face_1.jpg: Face could not be detected in faces/frame_14_face_1.jpg.Please confirm that the picture is a face photo or consider to set enforce_detection param to False.\n",
      "Error processing faces/frame_15_face_0.jpg: Face could not be detected in faces/frame_15_face_0.jpg.Please confirm that the picture is a face photo or consider to set enforce_detection param to False.\n"
     ]
    },
    {
     "name": "stderr",
     "output_type": "stream",
     "text": [
      "\r 12%|█▏        | 10/84 [00:00<00:04, 15.09it/s]"
     ]
    },
    {
     "name": "stdout",
     "output_type": "stream",
     "text": [
      "Error processing faces/frame_16_face_1.jpg: Face could not be detected in faces/frame_16_face_1.jpg.Please confirm that the picture is a face photo or consider to set enforce_detection param to False.\n"
     ]
    },
    {
     "name": "stderr",
     "output_type": "stream",
     "text": [
      "\r 14%|█▍        | 12/84 [00:00<00:05, 12.62it/s]"
     ]
    },
    {
     "name": "stdout",
     "output_type": "stream",
     "text": [
      "Error processing faces/frame_17_face_0.jpg: Face could not be detected in faces/frame_17_face_0.jpg.Please confirm that the picture is a face photo or consider to set enforce_detection param to False.\n",
      "Error processing faces/frame_17_face_1.jpg: Face could not be detected in faces/frame_17_face_1.jpg.Please confirm that the picture is a face photo or consider to set enforce_detection param to False.\n"
     ]
    },
    {
     "name": "stderr",
     "output_type": "stream",
     "text": [
      " 20%|██        | 17/84 [00:01<00:05, 11.19it/s]"
     ]
    },
    {
     "name": "stdout",
     "output_type": "stream",
     "text": [
      "Error processing faces/frame_18_face_0.jpg: Face could not be detected in faces/frame_18_face_0.jpg.Please confirm that the picture is a face photo or consider to set enforce_detection param to False.\n",
      "Error processing faces/frame_18_face_1.jpg: Face could not be detected in faces/frame_18_face_1.jpg.Please confirm that the picture is a face photo or consider to set enforce_detection param to False.\n"
     ]
    },
    {
     "name": "stderr",
     "output_type": "stream",
     "text": [
      " 25%|██▌       | 21/84 [00:02<00:08,  7.61it/s]"
     ]
    },
    {
     "name": "stdout",
     "output_type": "stream",
     "text": [
      "Error processing faces/frame_20_face_1.jpg: Face could not be detected in faces/frame_20_face_1.jpg.Please confirm that the picture is a face photo or consider to set enforce_detection param to False.\n"
     ]
    },
    {
     "name": "stderr",
     "output_type": "stream",
     "text": [
      " 31%|███       | 26/84 [00:03<00:10,  5.68it/s]"
     ]
    },
    {
     "name": "stdout",
     "output_type": "stream",
     "text": [
      "Error processing faces/frame_22_face_1.jpg: Face could not be detected in faces/frame_22_face_1.jpg.Please confirm that the picture is a face photo or consider to set enforce_detection param to False.\n"
     ]
    },
    {
     "name": "stderr",
     "output_type": "stream",
     "text": [
      "\r 33%|███▎      | 28/84 [00:03<00:08,  6.41it/s]"
     ]
    },
    {
     "name": "stdout",
     "output_type": "stream",
     "text": [
      "Error processing faces/frame_23_face_0.jpg: Face could not be detected in faces/frame_23_face_0.jpg.Please confirm that the picture is a face photo or consider to set enforce_detection param to False.\n"
     ]
    },
    {
     "name": "stderr",
     "output_type": "stream",
     "text": [
      " 37%|███▋      | 31/84 [00:03<00:08,  6.20it/s]"
     ]
    },
    {
     "name": "stdout",
     "output_type": "stream",
     "text": [
      "Error processing faces/frame_24_face_0.jpg: Face could not be detected in faces/frame_24_face_0.jpg.Please confirm that the picture is a face photo or consider to set enforce_detection param to False.\n",
      "Error processing faces/frame_24_face_1.jpg: Face could not be detected in faces/frame_24_face_1.jpg.Please confirm that the picture is a face photo or consider to set enforce_detection param to False.\n"
     ]
    },
    {
     "name": "stderr",
     "output_type": "stream",
     "text": [
      " 42%|████▏     | 35/84 [00:04<00:07,  6.93it/s]"
     ]
    },
    {
     "name": "stdout",
     "output_type": "stream",
     "text": [
      "Error processing faces/frame_25_face_0.jpg: Face could not be detected in faces/frame_25_face_0.jpg.Please confirm that the picture is a face photo or consider to set enforce_detection param to False.\n"
     ]
    },
    {
     "name": "stderr",
     "output_type": "stream",
     "text": [
      "\r 44%|████▍     | 37/84 [00:04<00:06,  7.28it/s]"
     ]
    },
    {
     "name": "stdout",
     "output_type": "stream",
     "text": [
      "Error processing faces/frame_25_face_2.jpg: Face could not be detected in faces/frame_25_face_2.jpg.Please confirm that the picture is a face photo or consider to set enforce_detection param to False.\n",
      "Error processing faces/frame_26_face_0.jpg: Face could not be detected in faces/frame_26_face_0.jpg.Please confirm that the picture is a face photo or consider to set enforce_detection param to False.\n"
     ]
    },
    {
     "name": "stderr",
     "output_type": "stream",
     "text": [
      " 51%|█████     | 43/84 [00:05<00:07,  5.80it/s]"
     ]
    },
    {
     "name": "stdout",
     "output_type": "stream",
     "text": [
      "Error processing faces/frame_28_face_1.jpg: Face could not be detected in faces/frame_28_face_1.jpg.Please confirm that the picture is a face photo or consider to set enforce_detection param to False.\n"
     ]
    },
    {
     "name": "stderr",
     "output_type": "stream",
     "text": [
      " 58%|█████▊    | 49/84 [00:06<00:07,  4.71it/s]"
     ]
    },
    {
     "name": "stdout",
     "output_type": "stream",
     "text": [
      "Error processing faces/frame_35_face_0.jpg: Face could not be detected in faces/frame_35_face_0.jpg.Please confirm that the picture is a face photo or consider to set enforce_detection param to False.\n"
     ]
    },
    {
     "name": "stderr",
     "output_type": "stream",
     "text": [
      " 62%|██████▏   | 52/84 [00:07<00:06,  5.33it/s]"
     ]
    },
    {
     "name": "stdout",
     "output_type": "stream",
     "text": [
      "Error processing faces/frame_37_face_0.jpg: Face could not be detected in faces/frame_37_face_0.jpg.Please confirm that the picture is a face photo or consider to set enforce_detection param to False.\n"
     ]
    },
    {
     "name": "stderr",
     "output_type": "stream",
     "text": [
      " 68%|██████▊   | 57/84 [00:08<00:05,  4.96it/s]"
     ]
    },
    {
     "name": "stdout",
     "output_type": "stream",
     "text": [
      "Error processing faces/frame_39_face_0.jpg: Face could not be detected in faces/frame_39_face_0.jpg.Please confirm that the picture is a face photo or consider to set enforce_detection param to False.\n"
     ]
    },
    {
     "name": "stderr",
     "output_type": "stream",
     "text": [
      "\r 70%|███████   | 59/84 [00:08<00:04,  5.14it/s]"
     ]
    },
    {
     "name": "stdout",
     "output_type": "stream",
     "text": [
      "Error processing faces/frame_40_face_0.jpg: Face could not be detected in faces/frame_40_face_0.jpg.Please confirm that the picture is a face photo or consider to set enforce_detection param to False.\n",
      "Error processing faces/frame_40_face_1.jpg: Face could not be detected in faces/frame_40_face_1.jpg.Please confirm that the picture is a face photo or consider to set enforce_detection param to False.\n"
     ]
    },
    {
     "name": "stderr",
     "output_type": "stream",
     "text": [
      "\r 74%|███████▍  | 62/84 [00:08<00:03,  6.00it/s]"
     ]
    },
    {
     "name": "stdout",
     "output_type": "stream",
     "text": [
      "Error processing faces/frame_41_face_0.jpg: Face could not be detected in faces/frame_41_face_0.jpg.Please confirm that the picture is a face photo or consider to set enforce_detection param to False.\n",
      "Error processing faces/frame_41_face_1.jpg: Face could not be detected in faces/frame_41_face_1.jpg.Please confirm that the picture is a face photo or consider to set enforce_detection param to False.\n"
     ]
    },
    {
     "name": "stderr",
     "output_type": "stream",
     "text": [
      " 82%|████████▏ | 69/84 [00:10<00:04,  3.72it/s]"
     ]
    },
    {
     "name": "stdout",
     "output_type": "stream",
     "text": [
      "Error processing faces/frame_44_face_0.jpg: Face could not be detected in faces/frame_44_face_0.jpg.Please confirm that the picture is a face photo or consider to set enforce_detection param to False.\n"
     ]
    },
    {
     "name": "stderr",
     "output_type": "stream",
     "text": [
      " 88%|████████▊ | 74/84 [00:11<00:02,  4.07it/s]"
     ]
    },
    {
     "name": "stdout",
     "output_type": "stream",
     "text": [
      "Error processing faces/frame_47_face_0.jpg: Face could not be detected in faces/frame_47_face_0.jpg.Please confirm that the picture is a face photo or consider to set enforce_detection param to False.\n",
      "Error processing faces/frame_47_face_1.jpg: Face could not be detected in faces/frame_47_face_1.jpg.Please confirm that the picture is a face photo or consider to set enforce_detection param to False.\n"
     ]
    },
    {
     "name": "stderr",
     "output_type": "stream",
     "text": [
      "\r 92%|█████████▏| 77/84 [00:12<00:01,  6.15it/s]"
     ]
    },
    {
     "name": "stdout",
     "output_type": "stream",
     "text": [
      "Error processing faces/frame_48_face_0.jpg: Face could not be detected in faces/frame_48_face_0.jpg.Please confirm that the picture is a face photo or consider to set enforce_detection param to False.\n"
     ]
    },
    {
     "name": "stderr",
     "output_type": "stream",
     "text": [
      "\r 94%|█████████▍| 79/84 [00:12<00:00,  6.65it/s]"
     ]
    },
    {
     "name": "stdout",
     "output_type": "stream",
     "text": [
      "Error processing faces/frame_49_face_0.jpg: Face could not be detected in faces/frame_49_face_0.jpg.Please confirm that the picture is a face photo or consider to set enforce_detection param to False.\n"
     ]
    },
    {
     "name": "stderr",
     "output_type": "stream",
     "text": [
      "100%|██████████| 84/84 [00:13<00:00,  6.39it/s]\n"
     ]
    },
    {
     "name": "stdout",
     "output_type": "stream",
     "text": [
      "Error processing faces/frame_50_face_2.jpg: Face could not be detected in faces/frame_50_face_2.jpg.Please confirm that the picture is a face photo or consider to set enforce_detection param to False.\n"
     ]
    },
    {
     "name": "stderr",
     "output_type": "stream",
     "text": [
      "100%|██████████| 3/3 [00:00<00:00, 90.80it/s]\n"
     ]
    },
    {
     "name": "stdout",
     "output_type": "stream",
     "text": [
      "Error processing faces/frame_13_face_0.jpg: Face could not be detected in faces/frame_13_face_0.jpg.Please confirm that the picture is a face photo or consider to set enforce_detection param to False.\n",
      "Error processing faces/frame_13_face_1.jpg: Face could not be detected in faces/frame_13_face_1.jpg.Please confirm that the picture is a face photo or consider to set enforce_detection param to False.\n",
      "Error processing faces/frame_45_face_0.jpg: Face could not be detected in faces/frame_45_face_0.jpg.Please confirm that the picture is a face photo or consider to set enforce_detection param to False.\n"
     ]
    },
    {
     "name": "stderr",
     "output_type": "stream",
     "text": [
      "100%|██████████| 5/5 [00:01<00:00,  4.00it/s]\n",
      " 88%|████████▊ | 43/49 [00:14<00:01,  3.44it/s]"
     ]
    },
    {
     "name": "stdout",
     "output_type": "stream",
     "text": [
      "Error processing faces/frame_45_face_1.jpg: Face could not be detected in faces/frame_45_face_1.jpg.Please confirm that the picture is a face photo or consider to set enforce_detection param to False.\n"
     ]
    },
    {
     "name": "stderr",
     "output_type": "stream",
     "text": [
      "100%|██████████| 49/49 [00:16<00:00,  3.06it/s]\n",
      "0it [00:00, ?it/s]\n",
      " 88%|████████▊ | 43/49 [00:14<00:01,  3.37it/s]"
     ]
    },
    {
     "name": "stdout",
     "output_type": "stream",
     "text": [
      "Error processing faces/frame_45_face_1.jpg: Face could not be detected in faces/frame_45_face_1.jpg.Please confirm that the picture is a face photo or consider to set enforce_detection param to False.\n"
     ]
    },
    {
     "name": "stderr",
     "output_type": "stream",
     "text": [
      "100%|██████████| 49/49 [00:15<00:00,  3.13it/s]\n",
      " 69%|██████▉   | 33/48 [00:11<00:04,  3.26it/s]"
     ]
    },
    {
     "name": "stdout",
     "output_type": "stream",
     "text": [
      "Error processing faces/frame_36_face_0.jpg: Face could not be detected in faces/frame_36_face_0.jpg.Please confirm that the picture is a face photo or consider to set enforce_detection param to False.\n"
     ]
    },
    {
     "name": "stderr",
     "output_type": "stream",
     "text": [
      "100%|██████████| 48/48 [00:14<00:00,  3.23it/s]\n"
     ]
    },
    {
     "name": "stdout",
     "output_type": "stream",
     "text": [
      "Error processing faces/frame_50_face_0.jpg: Face could not be detected in faces/frame_50_face_0.jpg.Please confirm that the picture is a face photo or consider to set enforce_detection param to False.\n"
     ]
    },
    {
     "name": "stderr",
     "output_type": "stream",
     "text": [
      "0it [00:00, ?it/s]\n",
      " 69%|██████▉   | 33/48 [00:10<00:04,  3.38it/s]"
     ]
    },
    {
     "name": "stdout",
     "output_type": "stream",
     "text": [
      "Error processing faces/frame_36_face_0.jpg: Face could not be detected in faces/frame_36_face_0.jpg.Please confirm that the picture is a face photo or consider to set enforce_detection param to False.\n"
     ]
    },
    {
     "name": "stderr",
     "output_type": "stream",
     "text": [
      "100%|██████████| 48/48 [00:15<00:00,  3.07it/s]\n"
     ]
    },
    {
     "name": "stdout",
     "output_type": "stream",
     "text": [
      "Error processing faces/frame_50_face_0.jpg: Face could not be detected in faces/frame_50_face_0.jpg.Please confirm that the picture is a face photo or consider to set enforce_detection param to False.\n"
     ]
    },
    {
     "name": "stderr",
     "output_type": "stream",
     "text": [
      " 69%|██████▉   | 33/48 [00:11<00:04,  3.36it/s]"
     ]
    },
    {
     "name": "stdout",
     "output_type": "stream",
     "text": [
      "Error processing faces/frame_36_face_0.jpg: Face could not be detected in faces/frame_36_face_0.jpg.Please confirm that the picture is a face photo or consider to set enforce_detection param to False.\n"
     ]
    },
    {
     "name": "stderr",
     "output_type": "stream",
     "text": [
      "100%|██████████| 48/48 [00:15<00:00,  3.10it/s]\n"
     ]
    },
    {
     "name": "stdout",
     "output_type": "stream",
     "text": [
      "Error processing faces/frame_50_face_0.jpg: Face could not be detected in faces/frame_50_face_0.jpg.Please confirm that the picture is a face photo or consider to set enforce_detection param to False.\n"
     ]
    },
    {
     "name": "stderr",
     "output_type": "stream",
     "text": [
      "0it [00:00, ?it/s]\n",
      " 88%|████████▊ | 43/49 [00:14<00:01,  3.44it/s]"
     ]
    },
    {
     "name": "stdout",
     "output_type": "stream",
     "text": [
      "Error processing faces/frame_45_face_1.jpg: Face could not be detected in faces/frame_45_face_1.jpg.Please confirm that the picture is a face photo or consider to set enforce_detection param to False.\n"
     ]
    },
    {
     "name": "stderr",
     "output_type": "stream",
     "text": [
      "100%|██████████| 49/49 [00:15<00:00,  3.15it/s]\n",
      " 69%|██████▉   | 33/48 [00:11<00:04,  3.12it/s]"
     ]
    },
    {
     "name": "stdout",
     "output_type": "stream",
     "text": [
      "Error processing faces/frame_36_face_0.jpg: Face could not be detected in faces/frame_36_face_0.jpg.Please confirm that the picture is a face photo or consider to set enforce_detection param to False.\n"
     ]
    },
    {
     "name": "stderr",
     "output_type": "stream",
     "text": [
      "100%|██████████| 48/48 [00:14<00:00,  3.21it/s]\n"
     ]
    },
    {
     "name": "stdout",
     "output_type": "stream",
     "text": [
      "Error processing faces/frame_50_face_0.jpg: Face could not be detected in faces/frame_50_face_0.jpg.Please confirm that the picture is a face photo or consider to set enforce_detection param to False.\n"
     ]
    },
    {
     "name": "stderr",
     "output_type": "stream",
     "text": [
      "0it [00:00, ?it/s]\n",
      " 88%|████████▊ | 43/49 [00:14<00:01,  3.37it/s]"
     ]
    },
    {
     "name": "stdout",
     "output_type": "stream",
     "text": [
      "Error processing faces/frame_45_face_1.jpg: Face could not be detected in faces/frame_45_face_1.jpg.Please confirm that the picture is a face photo or consider to set enforce_detection param to False.\n"
     ]
    },
    {
     "name": "stderr",
     "output_type": "stream",
     "text": [
      "100%|██████████| 49/49 [00:16<00:00,  2.99it/s]\n",
      "0it [00:00, ?it/s]\n",
      "0it [00:00, ?it/s]\n",
      " 88%|████████▊ | 43/49 [00:14<00:01,  3.37it/s]"
     ]
    },
    {
     "name": "stdout",
     "output_type": "stream",
     "text": [
      "Error processing faces/frame_45_face_1.jpg: Face could not be detected in faces/frame_45_face_1.jpg.Please confirm that the picture is a face photo or consider to set enforce_detection param to False.\n"
     ]
    },
    {
     "name": "stderr",
     "output_type": "stream",
     "text": [
      "100%|██████████| 49/49 [00:15<00:00,  3.13it/s]\n",
      "0it [00:00, ?it/s]\n",
      "0it [00:00, ?it/s]\n",
      " 69%|██████▉   | 33/48 [00:10<00:04,  3.35it/s]"
     ]
    },
    {
     "name": "stdout",
     "output_type": "stream",
     "text": [
      "Error processing faces/frame_36_face_0.jpg: Face could not be detected in faces/frame_36_face_0.jpg.Please confirm that the picture is a face photo or consider to set enforce_detection param to False.\n"
     ]
    },
    {
     "name": "stderr",
     "output_type": "stream",
     "text": [
      "100%|██████████| 48/48 [00:15<00:00,  3.14it/s]\n"
     ]
    },
    {
     "name": "stdout",
     "output_type": "stream",
     "text": [
      "Error processing faces/frame_50_face_0.jpg: Face could not be detected in faces/frame_50_face_0.jpg.Please confirm that the picture is a face photo or consider to set enforce_detection param to False.\n"
     ]
    },
    {
     "name": "stderr",
     "output_type": "stream",
     "text": [
      " 69%|██████▉   | 33/48 [00:11<00:04,  3.33it/s]"
     ]
    },
    {
     "name": "stdout",
     "output_type": "stream",
     "text": [
      "Error processing faces/frame_36_face_0.jpg: Face could not be detected in faces/frame_36_face_0.jpg.Please confirm that the picture is a face photo or consider to set enforce_detection param to False.\n"
     ]
    },
    {
     "name": "stderr",
     "output_type": "stream",
     "text": [
      "100%|██████████| 48/48 [00:15<00:00,  3.07it/s]\n"
     ]
    },
    {
     "name": "stdout",
     "output_type": "stream",
     "text": [
      "Error processing faces/frame_50_face_0.jpg: Face could not be detected in faces/frame_50_face_0.jpg.Please confirm that the picture is a face photo or consider to set enforce_detection param to False.\n"
     ]
    },
    {
     "name": "stderr",
     "output_type": "stream",
     "text": [
      "0it [00:00, ?it/s]\n",
      " 88%|████████▊ | 43/49 [00:14<00:01,  3.44it/s]"
     ]
    },
    {
     "name": "stdout",
     "output_type": "stream",
     "text": [
      "Error processing faces/frame_45_face_1.jpg: Face could not be detected in faces/frame_45_face_1.jpg.Please confirm that the picture is a face photo or consider to set enforce_detection param to False.\n"
     ]
    },
    {
     "name": "stderr",
     "output_type": "stream",
     "text": [
      "100%|██████████| 49/49 [00:15<00:00,  3.13it/s]\n",
      "0it [00:00, ?it/s]\n",
      "0it [00:00, ?it/s]\n",
      " 69%|██████▉   | 33/48 [00:11<00:04,  3.32it/s]"
     ]
    },
    {
     "name": "stdout",
     "output_type": "stream",
     "text": [
      "Error processing faces/frame_36_face_0.jpg: Face could not be detected in faces/frame_36_face_0.jpg.Please confirm that the picture is a face photo or consider to set enforce_detection param to False.\n"
     ]
    },
    {
     "name": "stderr",
     "output_type": "stream",
     "text": [
      "100%|██████████| 48/48 [00:15<00:00,  3.11it/s]\n"
     ]
    },
    {
     "name": "stdout",
     "output_type": "stream",
     "text": [
      "Error processing faces/frame_50_face_0.jpg: Face could not be detected in faces/frame_50_face_0.jpg.Please confirm that the picture is a face photo or consider to set enforce_detection param to False.\n"
     ]
    },
    {
     "name": "stderr",
     "output_type": "stream",
     "text": [
      " 88%|████████▊ | 43/49 [00:14<00:02,  2.67it/s]"
     ]
    },
    {
     "name": "stdout",
     "output_type": "stream",
     "text": [
      "Error processing faces/frame_45_face_1.jpg: Face could not be detected in faces/frame_45_face_1.jpg.Please confirm that the picture is a face photo or consider to set enforce_detection param to False.\n"
     ]
    },
    {
     "name": "stderr",
     "output_type": "stream",
     "text": [
      "100%|██████████| 49/49 [00:16<00:00,  2.98it/s]\n",
      "0it [00:00, ?it/s]\n",
      "0it [00:00, ?it/s]\n",
      " 88%|████████▊ | 43/49 [00:14<00:01,  3.41it/s]"
     ]
    },
    {
     "name": "stdout",
     "output_type": "stream",
     "text": [
      "Error processing faces/frame_45_face_1.jpg: Face could not be detected in faces/frame_45_face_1.jpg.Please confirm that the picture is a face photo or consider to set enforce_detection param to False.\n"
     ]
    },
    {
     "name": "stderr",
     "output_type": "stream",
     "text": [
      "100%|██████████| 49/49 [00:15<00:00,  3.16it/s]\n",
      "0it [00:00, ?it/s]\n",
      "0it [00:00, ?it/s]\n",
      "  2%|▏         | 3/178 [00:00<00:40,  4.35it/s]"
     ]
    },
    {
     "name": "stdout",
     "output_type": "stream",
     "text": [
      "Error processing faces/frame_0_face_3.jpg: Face could not be detected in faces/frame_0_face_3.jpg.Please confirm that the picture is a face photo or consider to set enforce_detection param to False.\n"
     ]
    },
    {
     "name": "stderr",
     "output_type": "stream",
     "text": [
      "  6%|▌         | 10/178 [00:02<00:36,  4.56it/s]"
     ]
    },
    {
     "name": "stdout",
     "output_type": "stream",
     "text": [
      "Error processing faces/frame_2_face_3.jpg: Face could not be detected in faces/frame_2_face_3.jpg.Please confirm that the picture is a face photo or consider to set enforce_detection param to False.\n"
     ]
    },
    {
     "name": "stderr",
     "output_type": "stream",
     "text": [
      "  8%|▊         | 14/178 [00:02<00:33,  4.93it/s]"
     ]
    },
    {
     "name": "stdout",
     "output_type": "stream",
     "text": [
      "Error processing faces/frame_4_face_0.jpg: Face could not be detected in faces/frame_4_face_0.jpg.Please confirm that the picture is a face photo or consider to set enforce_detection param to False.\n"
     ]
    },
    {
     "name": "stderr",
     "output_type": "stream",
     "text": [
      " 10%|▉         | 17/178 [00:03<00:30,  5.27it/s]"
     ]
    },
    {
     "name": "stdout",
     "output_type": "stream",
     "text": [
      "Error processing faces/frame_4_face_3.jpg: Face could not be detected in faces/frame_4_face_3.jpg.Please confirm that the picture is a face photo or consider to set enforce_detection param to False.\n",
      "Error processing faces/frame_5_face_0.jpg: Face could not be detected in faces/frame_5_face_0.jpg.Please confirm that the picture is a face photo or consider to set enforce_detection param to False.\n"
     ]
    },
    {
     "name": "stderr",
     "output_type": "stream",
     "text": [
      " 22%|██▏       | 39/178 [00:08<00:43,  3.18it/s]"
     ]
    },
    {
     "name": "stdout",
     "output_type": "stream",
     "text": [
      "Error processing faces/frame_10_face_3.jpg: Face could not be detected in faces/frame_10_face_3.jpg.Please confirm that the picture is a face photo or consider to set enforce_detection param to False.\n"
     ]
    },
    {
     "name": "stderr",
     "output_type": "stream",
     "text": [
      " 28%|██▊       | 49/178 [00:10<00:29,  4.36it/s]"
     ]
    },
    {
     "name": "stdout",
     "output_type": "stream",
     "text": [
      "Error processing faces/frame_13_face_3.jpg: Face could not be detected in faces/frame_13_face_3.jpg.Please confirm that the picture is a face photo or consider to set enforce_detection param to False.\n"
     ]
    },
    {
     "name": "stderr",
     "output_type": "stream",
     "text": [
      " 30%|██▉       | 53/178 [00:11<00:26,  4.80it/s]"
     ]
    },
    {
     "name": "stdout",
     "output_type": "stream",
     "text": [
      "Error processing faces/frame_14_face_3.jpg: Face could not be detected in faces/frame_14_face_3.jpg.Please confirm that the picture is a face photo or consider to set enforce_detection param to False.\n"
     ]
    },
    {
     "name": "stderr",
     "output_type": "stream",
     "text": [
      " 32%|███▏      | 57/178 [00:12<00:24,  5.00it/s]"
     ]
    },
    {
     "name": "stdout",
     "output_type": "stream",
     "text": [
      "Error processing faces/frame_15_face_3.jpg: Face could not be detected in faces/frame_15_face_3.jpg.Please confirm that the picture is a face photo or consider to set enforce_detection param to False.\n"
     ]
    },
    {
     "name": "stderr",
     "output_type": "stream",
     "text": [
      " 36%|███▌      | 64/178 [00:13<00:25,  4.46it/s]"
     ]
    },
    {
     "name": "stdout",
     "output_type": "stream",
     "text": [
      "Error processing faces/frame_17_face_3.jpg: Face could not be detected in faces/frame_17_face_3.jpg.Please confirm that the picture is a face photo or consider to set enforce_detection param to False.\n"
     ]
    },
    {
     "name": "stderr",
     "output_type": "stream",
     "text": [
      " 38%|███▊      | 68/178 [00:14<00:21,  5.01it/s]"
     ]
    },
    {
     "name": "stdout",
     "output_type": "stream",
     "text": [
      "Error processing faces/frame_18_face_3.jpg: Face could not be detected in faces/frame_18_face_3.jpg.Please confirm that the picture is a face photo or consider to set enforce_detection param to False.\n"
     ]
    },
    {
     "name": "stderr",
     "output_type": "stream",
     "text": [
      " 43%|████▎     | 76/178 [00:16<00:22,  4.48it/s]"
     ]
    },
    {
     "name": "stdout",
     "output_type": "stream",
     "text": [
      "Error processing faces/frame_20_face_3.jpg: Face could not be detected in faces/frame_20_face_3.jpg.Please confirm that the picture is a face photo or consider to set enforce_detection param to False.\n"
     ]
    },
    {
     "name": "stderr",
     "output_type": "stream",
     "text": [
      " 49%|████▉     | 88/178 [00:18<00:21,  4.22it/s]"
     ]
    },
    {
     "name": "stdout",
     "output_type": "stream",
     "text": [
      "Error processing faces/frame_23_face_3.jpg: Face could not be detected in faces/frame_23_face_3.jpg.Please confirm that the picture is a face photo or consider to set enforce_detection param to False.\n"
     ]
    },
    {
     "name": "stderr",
     "output_type": "stream",
     "text": [
      " 56%|█████▌    | 99/178 [00:21<00:22,  3.51it/s]"
     ]
    },
    {
     "name": "stdout",
     "output_type": "stream",
     "text": [
      "Error processing faces/frame_26_face_3.jpg: Face could not be detected in faces/frame_26_face_3.jpg.Please confirm that the picture is a face photo or consider to set enforce_detection param to False.\n"
     ]
    },
    {
     "name": "stderr",
     "output_type": "stream",
     "text": [
      " 58%|█████▊    | 103/178 [00:22<00:16,  4.53it/s]"
     ]
    },
    {
     "name": "stdout",
     "output_type": "stream",
     "text": [
      "Error processing faces/frame_27_face_3.jpg: Face could not be detected in faces/frame_27_face_3.jpg.Please confirm that the picture is a face photo or consider to set enforce_detection param to False.\n"
     ]
    },
    {
     "name": "stderr",
     "output_type": "stream",
     "text": [
      " 61%|██████    | 108/178 [00:23<00:14,  4.81it/s]"
     ]
    },
    {
     "name": "stdout",
     "output_type": "stream",
     "text": [
      "Error processing faces/frame_29_face_0.jpg: Face could not be detected in faces/frame_29_face_0.jpg.Please confirm that the picture is a face photo or consider to set enforce_detection param to False.\n"
     ]
    },
    {
     "name": "stderr",
     "output_type": "stream",
     "text": [
      " 65%|██████▌   | 116/178 [00:25<00:13,  4.54it/s]"
     ]
    },
    {
     "name": "stdout",
     "output_type": "stream",
     "text": [
      "Error processing faces/frame_30_face_3.jpg: Face could not be detected in faces/frame_30_face_3.jpg.Please confirm that the picture is a face photo or consider to set enforce_detection param to False.\n"
     ]
    },
    {
     "name": "stderr",
     "output_type": "stream",
     "text": [
      " 67%|██████▋   | 120/178 [00:25<00:11,  5.04it/s]"
     ]
    },
    {
     "name": "stdout",
     "output_type": "stream",
     "text": [
      "Error processing faces/frame_31_face_3.jpg: Face could not be detected in faces/frame_31_face_3.jpg.Please confirm that the picture is a face photo or consider to set enforce_detection param to False.\n"
     ]
    },
    {
     "name": "stderr",
     "output_type": "stream",
     "text": [
      "100%|██████████| 178/178 [00:41<00:00,  4.32it/s]\n",
      "0it [00:00, ?it/s]\n",
      "  5%|▍         | 3/65 [00:00<00:13,  4.53it/s]"
     ]
    },
    {
     "name": "stdout",
     "output_type": "stream",
     "text": [
      "Error processing faces/frame_3_face_0.jpg: Face could not be detected in faces/frame_3_face_0.jpg.Please confirm that the picture is a face photo or consider to set enforce_detection param to False.\n"
     ]
    },
    {
     "name": "stderr",
     "output_type": "stream",
     "text": [
      "\r  8%|▊         | 5/65 [00:00<00:09,  6.03it/s]"
     ]
    },
    {
     "name": "stdout",
     "output_type": "stream",
     "text": [
      "Error processing faces/frame_4_face_0.jpg: Face could not be detected in faces/frame_4_face_0.jpg.Please confirm that the picture is a face photo or consider to set enforce_detection param to False.\n"
     ]
    },
    {
     "name": "stderr",
     "output_type": "stream",
     "text": [
      " 28%|██▊       | 18/65 [00:03<00:11,  4.27it/s]"
     ]
    },
    {
     "name": "stdout",
     "output_type": "stream",
     "text": [
      "Error processing faces/frame_11_face_0.jpg: Face could not be detected in faces/frame_11_face_0.jpg.Please confirm that the picture is a face photo or consider to set enforce_detection param to False.\n"
     ]
    },
    {
     "name": "stderr",
     "output_type": "stream",
     "text": [
      "\r 31%|███       | 20/65 [00:03<00:08,  5.46it/s]"
     ]
    },
    {
     "name": "stdout",
     "output_type": "stream",
     "text": [
      "Error processing faces/frame_12_face_0.jpg: Face could not be detected in faces/frame_12_face_0.jpg.Please confirm that the picture is a face photo or consider to set enforce_detection param to False.\n"
     ]
    },
    {
     "name": "stderr",
     "output_type": "stream",
     "text": [
      " 52%|█████▏    | 34/65 [00:07<00:07,  4.26it/s]"
     ]
    },
    {
     "name": "stdout",
     "output_type": "stream",
     "text": [
      "Error processing faces/frame_22_face_0.jpg: Face could not be detected in faces/frame_22_face_0.jpg.Please confirm that the picture is a face photo or consider to set enforce_detection param to False.\n"
     ]
    },
    {
     "name": "stderr",
     "output_type": "stream",
     "text": [
      " 57%|█████▋    | 37/65 [00:07<00:05,  5.14it/s]"
     ]
    },
    {
     "name": "stdout",
     "output_type": "stream",
     "text": [
      "Error processing faces/frame_24_face_0.jpg: Face could not be detected in faces/frame_24_face_0.jpg.Please confirm that the picture is a face photo or consider to set enforce_detection param to False.\n"
     ]
    },
    {
     "name": "stderr",
     "output_type": "stream",
     "text": [
      "100%|██████████| 65/65 [00:14<00:00,  4.53it/s]\n",
      "0it [00:00, ?it/s]\n",
      "100%|██████████| 51/51 [00:13<00:00,  3.81it/s]\n",
      " 69%|██████▉   | 33/48 [00:10<00:05,  2.57it/s]"
     ]
    },
    {
     "name": "stdout",
     "output_type": "stream",
     "text": [
      "Error processing faces/frame_36_face_0.jpg: Face could not be detected in faces/frame_36_face_0.jpg.Please confirm that the picture is a face photo or consider to set enforce_detection param to False.\n"
     ]
    },
    {
     "name": "stderr",
     "output_type": "stream",
     "text": [
      "100%|██████████| 48/48 [00:14<00:00,  3.22it/s]\n"
     ]
    },
    {
     "name": "stdout",
     "output_type": "stream",
     "text": [
      "Error processing faces/frame_50_face_0.jpg: Face could not be detected in faces/frame_50_face_0.jpg.Please confirm that the picture is a face photo or consider to set enforce_detection param to False.\n"
     ]
    },
    {
     "name": "stderr",
     "output_type": "stream",
     "text": [
      " 88%|████████▊ | 43/49 [00:15<00:01,  3.38it/s]"
     ]
    },
    {
     "name": "stdout",
     "output_type": "stream",
     "text": [
      "Error processing faces/frame_45_face_1.jpg: Face could not be detected in faces/frame_45_face_1.jpg.Please confirm that the picture is a face photo or consider to set enforce_detection param to False.\n"
     ]
    },
    {
     "name": "stderr",
     "output_type": "stream",
     "text": [
      "100%|██████████| 49/49 [00:16<00:00,  2.95it/s]\n",
      "100%|██████████| 5/5 [00:00<00:00, 88.95it/s]\n"
     ]
    },
    {
     "name": "stdout",
     "output_type": "stream",
     "text": [
      "Error processing faces/frame_22_face_0.jpg: Face could not be detected in faces/frame_22_face_0.jpg.Please confirm that the picture is a face photo or consider to set enforce_detection param to False.\n",
      "Error processing faces/frame_24_face_0.jpg: Face could not be detected in faces/frame_24_face_0.jpg.Please confirm that the picture is a face photo or consider to set enforce_detection param to False.\n",
      "Error processing faces/frame_25_face_0.jpg: Face could not be detected in faces/frame_25_face_0.jpg.Please confirm that the picture is a face photo or consider to set enforce_detection param to False.\n",
      "Error processing faces/frame_42_face_0.jpg: Face could not be detected in faces/frame_42_face_0.jpg.Please confirm that the picture is a face photo or consider to set enforce_detection param to False.\n",
      "Error processing faces/frame_43_face_0.jpg: Face could not be detected in faces/frame_43_face_0.jpg.Please confirm that the picture is a face photo or consider to set enforce_detection param to False.\n"
     ]
    },
    {
     "name": "stderr",
     "output_type": "stream",
     "text": [
      "  1%|          | 1/84 [00:00<00:18,  4.40it/s]"
     ]
    },
    {
     "name": "stdout",
     "output_type": "stream",
     "text": [
      "Error processing faces/frame_1_face_0.jpg: Face could not be detected in faces/frame_1_face_0.jpg.Please confirm that the picture is a face photo or consider to set enforce_detection param to False.\n",
      "Error processing faces/frame_6_face_0.jpg: Face could not be detected in faces/frame_6_face_0.jpg.Please confirm that the picture is a face photo or consider to set enforce_detection param to False.\n",
      "Error processing faces/frame_12_face_0.jpg: Face could not be detected in faces/frame_12_face_0.jpg.Please confirm that the picture is a face photo or consider to set enforce_detection param to False.\n"
     ]
    },
    {
     "name": "stderr",
     "output_type": "stream",
     "text": [
      "\r  6%|▌         | 5/84 [00:00<00:06, 11.41it/s]"
     ]
    },
    {
     "name": "stdout",
     "output_type": "stream",
     "text": [
      "Error processing faces/frame_13_face_0.jpg: Face could not be detected in faces/frame_13_face_0.jpg.Please confirm that the picture is a face photo or consider to set enforce_detection param to False.\n",
      "Error processing faces/frame_14_face_0.jpg: Face could not be detected in faces/frame_14_face_0.jpg.Please confirm that the picture is a face photo or consider to set enforce_detection param to False.\n",
      "Error processing faces/frame_14_face_1.jpg: Face could not be detected in faces/frame_14_face_1.jpg.Please confirm that the picture is a face photo or consider to set enforce_detection param to False.\n",
      "Error processing faces/frame_15_face_0.jpg: Face could not be detected in faces/frame_15_face_0.jpg.Please confirm that the picture is a face photo or consider to set enforce_detection param to False.\n"
     ]
    },
    {
     "name": "stderr",
     "output_type": "stream",
     "text": [
      "\r 12%|█▏        | 10/84 [00:00<00:04, 15.10it/s]"
     ]
    },
    {
     "name": "stdout",
     "output_type": "stream",
     "text": [
      "Error processing faces/frame_16_face_1.jpg: Face could not be detected in faces/frame_16_face_1.jpg.Please confirm that the picture is a face photo or consider to set enforce_detection param to False.\n"
     ]
    },
    {
     "name": "stderr",
     "output_type": "stream",
     "text": [
      "\r 14%|█▍        | 12/84 [00:00<00:05, 12.50it/s]"
     ]
    },
    {
     "name": "stdout",
     "output_type": "stream",
     "text": [
      "Error processing faces/frame_17_face_0.jpg: Face could not be detected in faces/frame_17_face_0.jpg.Please confirm that the picture is a face photo or consider to set enforce_detection param to False.\n",
      "Error processing faces/frame_17_face_1.jpg: Face could not be detected in faces/frame_17_face_1.jpg.Please confirm that the picture is a face photo or consider to set enforce_detection param to False.\n"
     ]
    },
    {
     "name": "stderr",
     "output_type": "stream",
     "text": [
      " 20%|██        | 17/84 [00:01<00:05, 11.18it/s]"
     ]
    },
    {
     "name": "stdout",
     "output_type": "stream",
     "text": [
      "Error processing faces/frame_18_face_0.jpg: Face could not be detected in faces/frame_18_face_0.jpg.Please confirm that the picture is a face photo or consider to set enforce_detection param to False.\n",
      "Error processing faces/frame_18_face_1.jpg: Face could not be detected in faces/frame_18_face_1.jpg.Please confirm that the picture is a face photo or consider to set enforce_detection param to False.\n"
     ]
    },
    {
     "name": "stderr",
     "output_type": "stream",
     "text": [
      " 25%|██▌       | 21/84 [00:02<00:08,  7.56it/s]"
     ]
    },
    {
     "name": "stdout",
     "output_type": "stream",
     "text": [
      "Error processing faces/frame_20_face_1.jpg: Face could not be detected in faces/frame_20_face_1.jpg.Please confirm that the picture is a face photo or consider to set enforce_detection param to False.\n"
     ]
    },
    {
     "name": "stderr",
     "output_type": "stream",
     "text": [
      " 31%|███       | 26/84 [00:03<00:10,  5.65it/s]"
     ]
    },
    {
     "name": "stdout",
     "output_type": "stream",
     "text": [
      "Error processing faces/frame_22_face_1.jpg: Face could not be detected in faces/frame_22_face_1.jpg.Please confirm that the picture is a face photo or consider to set enforce_detection param to False.\n"
     ]
    },
    {
     "name": "stderr",
     "output_type": "stream",
     "text": [
      "\r 33%|███▎      | 28/84 [00:03<00:08,  6.35it/s]"
     ]
    },
    {
     "name": "stdout",
     "output_type": "stream",
     "text": [
      "Error processing faces/frame_23_face_0.jpg: Face could not be detected in faces/frame_23_face_0.jpg.Please confirm that the picture is a face photo or consider to set enforce_detection param to False.\n"
     ]
    },
    {
     "name": "stderr",
     "output_type": "stream",
     "text": [
      " 37%|███▋      | 31/84 [00:03<00:08,  5.92it/s]"
     ]
    },
    {
     "name": "stdout",
     "output_type": "stream",
     "text": [
      "Error processing faces/frame_24_face_0.jpg: Face could not be detected in faces/frame_24_face_0.jpg.Please confirm that the picture is a face photo or consider to set enforce_detection param to False.\n",
      "Error processing faces/frame_24_face_1.jpg: Face could not be detected in faces/frame_24_face_1.jpg.Please confirm that the picture is a face photo or consider to set enforce_detection param to False.\n"
     ]
    },
    {
     "name": "stderr",
     "output_type": "stream",
     "text": [
      " 42%|████▏     | 35/84 [00:04<00:07,  6.78it/s]"
     ]
    },
    {
     "name": "stdout",
     "output_type": "stream",
     "text": [
      "Error processing faces/frame_25_face_0.jpg: Face could not be detected in faces/frame_25_face_0.jpg.Please confirm that the picture is a face photo or consider to set enforce_detection param to False.\n"
     ]
    },
    {
     "name": "stderr",
     "output_type": "stream",
     "text": [
      "\r 44%|████▍     | 37/84 [00:04<00:06,  7.12it/s]"
     ]
    },
    {
     "name": "stdout",
     "output_type": "stream",
     "text": [
      "Error processing faces/frame_25_face_2.jpg: Face could not be detected in faces/frame_25_face_2.jpg.Please confirm that the picture is a face photo or consider to set enforce_detection param to False.\n",
      "Error processing faces/frame_26_face_0.jpg: Face could not be detected in faces/frame_26_face_0.jpg.Please confirm that the picture is a face photo or consider to set enforce_detection param to False.\n"
     ]
    },
    {
     "name": "stderr",
     "output_type": "stream",
     "text": [
      " 51%|█████     | 43/84 [00:05<00:07,  5.72it/s]"
     ]
    },
    {
     "name": "stdout",
     "output_type": "stream",
     "text": [
      "Error processing faces/frame_28_face_1.jpg: Face could not be detected in faces/frame_28_face_1.jpg.Please confirm that the picture is a face photo or consider to set enforce_detection param to False.\n"
     ]
    },
    {
     "name": "stderr",
     "output_type": "stream",
     "text": [
      " 58%|█████▊    | 49/84 [00:06<00:07,  4.64it/s]"
     ]
    },
    {
     "name": "stdout",
     "output_type": "stream",
     "text": [
      "Error processing faces/frame_35_face_0.jpg: Face could not be detected in faces/frame_35_face_0.jpg.Please confirm that the picture is a face photo or consider to set enforce_detection param to False.\n"
     ]
    },
    {
     "name": "stderr",
     "output_type": "stream",
     "text": [
      " 62%|██████▏   | 52/84 [00:07<00:06,  5.21it/s]"
     ]
    },
    {
     "name": "stdout",
     "output_type": "stream",
     "text": [
      "Error processing faces/frame_37_face_0.jpg: Face could not be detected in faces/frame_37_face_0.jpg.Please confirm that the picture is a face photo or consider to set enforce_detection param to False.\n"
     ]
    },
    {
     "name": "stderr",
     "output_type": "stream",
     "text": [
      " 68%|██████▊   | 57/84 [00:08<00:05,  4.85it/s]"
     ]
    },
    {
     "name": "stdout",
     "output_type": "stream",
     "text": [
      "Error processing faces/frame_39_face_0.jpg: Face could not be detected in faces/frame_39_face_0.jpg.Please confirm that the picture is a face photo or consider to set enforce_detection param to False.\n"
     ]
    },
    {
     "name": "stderr",
     "output_type": "stream",
     "text": [
      "\r 70%|███████   | 59/84 [00:08<00:04,  5.56it/s]"
     ]
    },
    {
     "name": "stdout",
     "output_type": "stream",
     "text": [
      "Error processing faces/frame_40_face_0.jpg: Face could not be detected in faces/frame_40_face_0.jpg.Please confirm that the picture is a face photo or consider to set enforce_detection param to False.\n",
      "Error processing faces/frame_40_face_1.jpg: Face could not be detected in faces/frame_40_face_1.jpg.Please confirm that the picture is a face photo or consider to set enforce_detection param to False.\n"
     ]
    },
    {
     "name": "stderr",
     "output_type": "stream",
     "text": [
      "\r 74%|███████▍  | 62/84 [00:08<00:03,  7.10it/s]"
     ]
    },
    {
     "name": "stdout",
     "output_type": "stream",
     "text": [
      "Error processing faces/frame_41_face_0.jpg: Face could not be detected in faces/frame_41_face_0.jpg.Please confirm that the picture is a face photo or consider to set enforce_detection param to False.\n"
     ]
    },
    {
     "name": "stderr",
     "output_type": "stream",
     "text": [
      "\r 76%|███████▌  | 64/84 [00:09<00:02,  7.12it/s]"
     ]
    },
    {
     "name": "stdout",
     "output_type": "stream",
     "text": [
      "Error processing faces/frame_41_face_2.jpg: Face could not be detected in faces/frame_41_face_2.jpg.Please confirm that the picture is a face photo or consider to set enforce_detection param to False.\n"
     ]
    },
    {
     "name": "stderr",
     "output_type": "stream",
     "text": [
      " 82%|████████▏ | 69/84 [00:10<00:03,  4.62it/s]"
     ]
    },
    {
     "name": "stdout",
     "output_type": "stream",
     "text": [
      "Error processing faces/frame_44_face_0.jpg: Face could not be detected in faces/frame_44_face_0.jpg.Please confirm that the picture is a face photo or consider to set enforce_detection param to False.\n"
     ]
    },
    {
     "name": "stderr",
     "output_type": "stream",
     "text": [
      " 88%|████████▊ | 74/84 [00:11<00:02,  3.55it/s]"
     ]
    },
    {
     "name": "stdout",
     "output_type": "stream",
     "text": [
      "Error processing faces/frame_47_face_0.jpg: Face could not be detected in faces/frame_47_face_0.jpg.Please confirm that the picture is a face photo or consider to set enforce_detection param to False.\n",
      "Error processing faces/frame_47_face_1.jpg: Face could not be detected in faces/frame_47_face_1.jpg.Please confirm that the picture is a face photo or consider to set enforce_detection param to False.\n"
     ]
    },
    {
     "name": "stderr",
     "output_type": "stream",
     "text": [
      "\r 92%|█████████▏| 77/84 [00:12<00:01,  4.97it/s]"
     ]
    },
    {
     "name": "stdout",
     "output_type": "stream",
     "text": [
      "Error processing faces/frame_48_face_0.jpg: Face could not be detected in faces/frame_48_face_0.jpg.Please confirm that the picture is a face photo or consider to set enforce_detection param to False.\n"
     ]
    },
    {
     "name": "stderr",
     "output_type": "stream",
     "text": [
      "\r 94%|█████████▍| 79/84 [00:12<00:00,  5.10it/s]"
     ]
    },
    {
     "name": "stdout",
     "output_type": "stream",
     "text": [
      "Error processing faces/frame_49_face_0.jpg: Face could not be detected in faces/frame_49_face_0.jpg.Please confirm that the picture is a face photo or consider to set enforce_detection param to False.\n"
     ]
    },
    {
     "name": "stderr",
     "output_type": "stream",
     "text": [
      "100%|██████████| 84/84 [00:13<00:00,  6.34it/s]\n"
     ]
    },
    {
     "name": "stdout",
     "output_type": "stream",
     "text": [
      "Error processing faces/frame_50_face_2.jpg: Face could not be detected in faces/frame_50_face_2.jpg.Please confirm that the picture is a face photo or consider to set enforce_detection param to False.\n"
     ]
    },
    {
     "name": "stderr",
     "output_type": "stream",
     "text": [
      "0it [00:00, ?it/s]\n"
     ]
    }
   ],
   "source": [
    "# Store the influencer's embeddings and performance tracking\n",
    "unique_faces = {}\n",
    "influencer_performance = {}\n",
    "influencer_videos = {}\n",
    "\n",
    "# Iterate through the dataset\n",
    "for index, row in data.iterrows():\n",
    "    video_url = row['Video URL']\n",
    "    faces_in_video = extract_faces_from_video(video_url)\n",
    "    embeddings = generate_embeddings(faces_in_video)\n",
    "\n",
    "    for face_path, embedding in embeddings.items():\n",
    "        assigned = False\n",
    "        for influencer_id, ref_embedding in unique_faces.items():\n",
    "            if cosine_similarity([embedding], [ref_embedding])[0][0] > 0.8:  # Threshold for similarity\n",
    "                # Associate this video with the influencer\n",
    "                if influencer_id not in influencer_videos:\n",
    "                    influencer_videos[influencer_id] = []\n",
    "                influencer_videos[influencer_id].append(video_url)\n",
    "\n",
    "                influencer_performance[influencer_id].append(row['Performance'])\n",
    "                assigned = True\n",
    "                break\n",
    "\n",
    "        if not assigned:\n",
    "            # Assign a new influencer ID\n",
    "            new_influencer_id = f\"influencer_{len(unique_faces) + 1}\"\n",
    "            unique_faces[new_influencer_id] = embedding\n",
    "            influencer_performance[new_influencer_id] = [row['Performance']]\n",
    "            influencer_videos[new_influencer_id] = [video_url]"
   ]
  },
  {
   "cell_type": "code",
   "execution_count": 8,
   "metadata": {
    "collapsed": true,
    "id": "y8ABLmM8yaTm"
   },
   "outputs": [],
   "source": [
    "\n",
    "# Calculate the average performance for each influencer\n",
    "average_performance = {influencer_id: np.mean(performance)\n",
    "                       for influencer_id, performance in influencer_performance.items()}\n"
   ]
  },
  {
   "cell_type": "code",
   "execution_count": 9,
   "metadata": {
    "id": "fPgQwBc8yaf7"
   },
   "outputs": [],
   "source": [
    "# Prepare the output DataFrame to include video associations\n",
    "output_data = []\n",
    "\n",
    "for influencer_id in average_performance:\n",
    "    videos = \", \".join(influencer_videos[influencer_id])  # Join video URLs\n",
    "    avg_performance = average_performance[influencer_id]\n",
    "    output_data.append([influencer_id, avg_performance, videos])\n"
   ]
  },
  {
   "cell_type": "code",
   "execution_count": 10,
   "metadata": {
    "colab": {
     "base_uri": "https://localhost:8080/"
    },
    "id": "2NRAI7aMyaqo",
    "outputId": "eaa647a7-2ac9-4835-d3c5-236fe4e93ca0"
   },
   "outputs": [
    {
     "name": "stdout",
     "output_type": "stream",
     "text": [
      "Output saved as influencer_performance_with_videos.csv\n"
     ]
    }
   ],
   "source": [
    "# Save the output to CSV\n",
    "output_df = pd.DataFrame(output_data, columns=[\"Influencer ID\", \"Average Performance\", \"Videos Appeared In\"])\n",
    "\n",
    "output_df.to_csv(\"influencer_performance_with_videos.csv\", index=False)\n",
    "print(\"Output saved as influencer_performance_with_videos.csv\")"
   ]
  },
  {
   "cell_type": "code",
   "execution_count": 11,
   "metadata": {
    "colab": {
     "base_uri": "https://localhost:8080/"
    },
    "id": "f4bI-NivQ0UG",
    "outputId": "6c3bb3fb-2a1b-4e9a-82bb-3530b92b04ab"
   },
   "outputs": [
    {
     "name": "stdout",
     "output_type": "stream",
     "text": [
      "  Influencer ID  Average Performance  \\\n",
      "0  influencer_1             0.961439   \n",
      "1  influencer_2             0.812070   \n",
      "2  influencer_3             0.947692   \n",
      "3  influencer_4             0.566381   \n",
      "4  influencer_5             0.938930   \n",
      "\n",
      "                                  Videos Appeared In  \n",
      "0  https://fgimagestorage.blob.core.windows.net/f...  \n",
      "1  https://fgimagestorage.blob.core.windows.net/f...  \n",
      "2  https://fgimagestorage.blob.core.windows.net/f...  \n",
      "3  https://fgimagestorage.blob.core.windows.net/f...  \n",
      "4  https://fgimagestorage.blob.core.windows.net/f...  \n"
     ]
    }
   ],
   "source": [
    "print(output_df.head())"
   ]
  },
  {
   "cell_type": "code",
   "execution_count": null,
   "metadata": {
    "id": "f6WMUYcrQ8M2"
   },
   "outputs": [],
   "source": [
    "from google.colab import drive\n",
    "drive.mount('/content/drive')"
   ]
  },
  {
   "cell_type": "code",
   "execution_count": 13,
   "metadata": {
    "colab": {
     "base_uri": "https://localhost:8080/",
     "height": 35
    },
    "id": "dx_I0P6XT9O-",
    "outputId": "d3e4473d-ccdc-4a96-e689-813e66451733"
   },
   "outputs": [
    {
     "data": {
      "application/vnd.google.colaboratory.intrinsic+json": {
       "type": "string"
      },
      "text/plain": [
       "'/content/faces.zip'"
      ]
     },
     "execution_count": 13,
     "metadata": {},
     "output_type": "execute_result"
    }
   ],
   "source": [
    "import shutil\n",
    "\n",
    "# Create a zip file\n",
    "shutil.make_archive('faces', 'zip', 'faces')"
   ]
  },
  {
   "cell_type": "code",
   "execution_count": 14,
   "metadata": {
    "colab": {
     "base_uri": "https://localhost:8080/",
     "height": 17
    },
    "id": "sFcOGvihUqNV",
    "outputId": "bb3ea537-fdf5-4233-e3e2-0ba524867634"
   },
   "outputs": [
    {
     "data": {
      "application/javascript": "\n    async function download(id, filename, size) {\n      if (!google.colab.kernel.accessAllowed) {\n        return;\n      }\n      const div = document.createElement('div');\n      const label = document.createElement('label');\n      label.textContent = `Downloading \"${filename}\": `;\n      div.appendChild(label);\n      const progress = document.createElement('progress');\n      progress.max = size;\n      div.appendChild(progress);\n      document.body.appendChild(div);\n\n      const buffers = [];\n      let downloaded = 0;\n\n      const channel = await google.colab.kernel.comms.open(id);\n      // Send a message to notify the kernel that we're ready.\n      channel.send({})\n\n      for await (const message of channel.messages) {\n        // Send a message to notify the kernel that we're ready.\n        channel.send({})\n        if (message.buffers) {\n          for (const buffer of message.buffers) {\n            buffers.push(buffer);\n            downloaded += buffer.byteLength;\n            progress.value = downloaded;\n          }\n        }\n      }\n      const blob = new Blob(buffers, {type: 'application/binary'});\n      const a = document.createElement('a');\n      a.href = window.URL.createObjectURL(blob);\n      a.download = filename;\n      div.appendChild(a);\n      a.click();\n      div.remove();\n    }\n  ",
      "text/plain": [
       "<IPython.core.display.Javascript object>"
      ]
     },
     "metadata": {},
     "output_type": "display_data"
    },
    {
     "data": {
      "application/javascript": "download(\"download_91952829-38c6-4d70-8a7f-e835d24da76f\", \"faces.zip\", 884692)",
      "text/plain": [
       "<IPython.core.display.Javascript object>"
      ]
     },
     "metadata": {},
     "output_type": "display_data"
    }
   ],
   "source": [
    "from google.colab import files\n",
    "\n",
    "# Download the zip file\n",
    "files.download('faces.zip')"
   ]
  }
 ],
 "metadata": {
  "accelerator": "GPU",
  "colab": {
   "gpuType": "T4",
   "provenance": []
  },
  "kernelspec": {
   "display_name": "Python 3",
   "name": "python3"
  },
  "language_info": {
   "name": "python"
  }
 },
 "nbformat": 4,
 "nbformat_minor": 0
}
